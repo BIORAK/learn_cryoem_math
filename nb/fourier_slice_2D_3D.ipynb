{
  "nbformat": 4,
  "nbformat_minor": 0,
  "metadata": {
    "colab": {
      "name": "fourier_slice_2D_3D.ipynb",
      "provenance": [],
      "collapsed_sections": [],
      "toc_visible": true,
      "authorship_tag": "ABX9TyPa+MHOQAnYMEDMPTC/Cl5D",
      "include_colab_link": true
    },
    "kernelspec": {
      "display_name": "Python 3",
      "name": "python3"
    }
  },
  "cells": [
    {
      "cell_type": "markdown",
      "metadata": {
        "id": "view-in-github",
        "colab_type": "text"
      },
      "source": [
        "<a href=\"https://colab.research.google.com/github/geoffwoollard/learn_cryoem_math/blob/master/nb/fourier_slice_2D_3D.ipynb\" target=\"_parent\"><img src=\"https://colab.research.google.com/assets/colab-badge.svg\" alt=\"Open In Colab\"/></a>"
      ]
    },
    {
      "cell_type": "markdown",
      "metadata": {
        "id": "7UcQt-kaBHN0"
      },
      "source": [
        "# Goal\n",
        "* implement Fourier slice theorem in 3D to 2D case\n"
      ]
    },
    {
      "cell_type": "markdown",
      "metadata": {
        "id": "0aeie_fCBFav"
      },
      "source": [
        "# Set Up"
      ]
    },
    {
      "cell_type": "code",
      "metadata": {
        "id": "S_IdpSWRAv_3"
      },
      "source": [
        "import numpy as np\n",
        "import pandas as pd\n",
        "from scipy import ndimage\n",
        "import scipy.ndimage.interpolation\n",
        "import matplotlib.pyplot as plt\n",
        "from scipy.interpolate import griddata\n",
        "\n",
        "def doplt(arr2d,cmap='gray',**kwargs):\n",
        "  plt.imshow(arr2d,cmap=cmap,**kwargs)\n",
        "def logabs(arr):\n",
        "  return(np.log(1+np.abs(arr)))"
      ],
      "execution_count": null,
      "outputs": []
    },
    {
      "cell_type": "code",
      "metadata": {
        "colab": {
          "base_uri": "https://localhost:8080/"
        },
        "id": "Vr_EGhWlA7ZY",
        "outputId": "026f33e1-7121-4bc0-ef42-6cf857c25a67"
      },
      "source": [
        "!pip install mrcfile\n",
        "import mrcfile"
      ],
      "execution_count": null,
      "outputs": [
        {
          "output_type": "stream",
          "text": [
            "Requirement already satisfied: mrcfile in /usr/local/lib/python3.6/dist-packages (1.1.2)\n",
            "Requirement already satisfied: numpy>=1.11.0 in /usr/local/lib/python3.6/dist-packages (from mrcfile) (1.18.5)\n"
          ],
          "name": "stdout"
        }
      ]
    },
    {
      "cell_type": "code",
      "metadata": {
        "colab": {
          "base_uri": "https://localhost:8080/"
        },
        "id": "6FsvrzlWA_SV",
        "outputId": "fe4f90dc-9857-49c3-c34f-d05bf001e841"
      },
      "source": [
        "!wget https://raw.githubusercontent.com/geoffwoollard/learn_cryoem_math/8dd2b07fedaafbebe8584e47315d2ffb2c0ff4e5/code/fourier.py\n",
        "!wget https://raw.githubusercontent.com/geoffwoollard/learn_cryoem_math/8dd2b07fedaafbebe8584e47315d2ffb2c0ff4e5/code/twod.py\n",
        "!wget https://raw.githubusercontent.com/asarnow/pyem/master/pyem/mrc.py\n",
        "!pip install pyfftw\n",
        "import fourier, twod"
      ],
      "execution_count": null,
      "outputs": [
        {
          "output_type": "stream",
          "text": [
            "--2020-11-27 22:59:58--  https://raw.githubusercontent.com/geoffwoollard/learn_cryoem_math/8dd2b07fedaafbebe8584e47315d2ffb2c0ff4e5/code/fourier.py\n",
            "Resolving raw.githubusercontent.com (raw.githubusercontent.com)... 151.101.0.133, 151.101.64.133, 151.101.128.133, ...\n",
            "Connecting to raw.githubusercontent.com (raw.githubusercontent.com)|151.101.0.133|:443... connected.\n",
            "HTTP request sent, awaiting response... 200 OK\n",
            "Length: 1051 (1.0K) [text/plain]\n",
            "Saving to: ‘fourier.py.2’\n",
            "\n",
            "fourier.py.2        100%[===================>]   1.03K  --.-KB/s    in 0s      \n",
            "\n",
            "2020-11-27 22:59:59 (38.9 MB/s) - ‘fourier.py.2’ saved [1051/1051]\n",
            "\n",
            "--2020-11-27 22:59:59--  https://raw.githubusercontent.com/geoffwoollard/learn_cryoem_math/8dd2b07fedaafbebe8584e47315d2ffb2c0ff4e5/code/twod.py\n",
            "Resolving raw.githubusercontent.com (raw.githubusercontent.com)... 151.101.0.133, 151.101.64.133, 151.101.128.133, ...\n",
            "Connecting to raw.githubusercontent.com (raw.githubusercontent.com)|151.101.0.133|:443... connected.\n",
            "HTTP request sent, awaiting response... 200 OK\n",
            "Length: 14698 (14K) [text/plain]\n",
            "Saving to: ‘twod.py.2’\n",
            "\n",
            "twod.py.2           100%[===================>]  14.35K  --.-KB/s    in 0s      \n",
            "\n",
            "2020-11-27 22:59:59 (71.4 MB/s) - ‘twod.py.2’ saved [14698/14698]\n",
            "\n",
            "--2020-11-27 22:59:59--  https://raw.githubusercontent.com/asarnow/pyem/master/pyem/mrc.py\n",
            "Resolving raw.githubusercontent.com (raw.githubusercontent.com)... 151.101.0.133, 151.101.64.133, 151.101.128.133, ...\n",
            "Connecting to raw.githubusercontent.com (raw.githubusercontent.com)|151.101.0.133|:443... connected.\n",
            "HTTP request sent, awaiting response... 200 OK\n",
            "Length: 13245 (13K) [text/plain]\n",
            "Saving to: ‘mrc.py.2’\n",
            "\n",
            "mrc.py.2            100%[===================>]  12.93K  --.-KB/s    in 0s      \n",
            "\n",
            "2020-11-27 22:59:59 (84.7 MB/s) - ‘mrc.py.2’ saved [13245/13245]\n",
            "\n",
            "Requirement already satisfied: pyfftw in /usr/local/lib/python3.6/dist-packages (0.12.0)\n",
            "Requirement already satisfied: numpy<2.0,>=1.10 in /usr/local/lib/python3.6/dist-packages (from pyfftw) (1.18.5)\n"
          ],
          "name": "stdout"
        }
      ]
    },
    {
      "cell_type": "code",
      "metadata": {
        "colab": {
          "base_uri": "https://localhost:8080/"
        },
        "id": "zdHmcLtcVP2A",
        "outputId": "3b843b04-802d-4797-d326-fa2d00ddee50"
      },
      "source": [
        "%ls"
      ],
      "execution_count": null,
      "outputs": [
        {
          "output_type": "stream",
          "text": [
            "emd_7978.map       fourier.py.1  mrc.py.1      \u001b[0m\u001b[01;34msample_data\u001b[0m/  twod.py.2\n",
            "emd_7978.map.gz.1  fourier.py.2  mrc.py.2      twod.py\n",
            "fourier.py         mrc.py        \u001b[01;34m__pycache__\u001b[0m/  twod.py.1\n"
          ],
          "name": "stdout"
        }
      ]
    },
    {
      "cell_type": "markdown",
      "metadata": {
        "id": "TNbGf4zNBA4U"
      },
      "source": [
        "# Data"
      ]
    },
    {
      "cell_type": "code",
      "metadata": {
        "colab": {
          "base_uri": "https://localhost:8080/"
        },
        "id": "SZyhPyeVBBlm",
        "outputId": "4c7475de-d70e-4ff5-ea55-6fd8f68f0b75"
      },
      "source": [
        "%%bash\n",
        "#wget ftp://ftp.wwpdb.org/pub/emdb/structures/EMD-7978/map/emd_7978.map.gz\n",
        "gunzip emd_7978.map.gz"
      ],
      "execution_count": null,
      "outputs": [
        {
          "output_type": "stream",
          "text": [
            "gzip: emd_7978.map.gz: No such file or directory\n"
          ],
          "name": "stderr"
        }
      ]
    },
    {
      "cell_type": "code",
      "metadata": {
        "id": "D2uOWfU-BC_c"
      },
      "source": [
        "f = mrcfile.open('emd_7978.map')\n",
        "map = f.data\n",
        "f.close()\n",
        "N = map.shape[0]"
      ],
      "execution_count": null,
      "outputs": []
    },
    {
      "cell_type": "code",
      "metadata": {
        "colab": {
          "base_uri": "https://localhost:8080/",
          "height": 269
        },
        "id": "TQcvpI34Ldne",
        "outputId": "8b17e37b-b58d-4120-de9f-f8d489fd91a9"
      },
      "source": [
        "doplt(map.sum(0))"
      ],
      "execution_count": null,
      "outputs": [
        {
          "output_type": "display_data",
          "data": {
            "image/png": "[encoded data removed]",
            "text/plain": [
              "<Figure size 432x288 with 1 Axes>"
            ]
          },
          "metadata": {
            "tags": []
          }
        }
      ]
    },
    {
      "cell_type": "markdown",
      "metadata": {
        "id": "PEcAuts8Bvk0"
      },
      "source": [
        "# Rotation matrix"
      ]
    },
    {
      "cell_type": "code",
      "metadata": {
        "id": "qsBappcKBw6N"
      },
      "source": [
        "def EA_to_R3 (phi, theta, psi=None):\n",
        "    \"\"\"\n",
        "    Makes a rotation matrix from Z-Y-Z Euler angles.\n",
        "    maps image coordinates (x,y,0) view coordinates\n",
        "    See Z_1 Y_2 Z_3 entry in the table \"Proper Euler angles\" at https://en.wikipedia.org/wiki/Euler_angles#Rotation_matrix\n",
        "    http://www.gregslabaugh.net/publications/euler.pdf\n",
        "    \"\"\"\n",
        "    R_z  = np.array([[ np.cos(phi), -np.sin(phi),  0],\n",
        "                    [ np.sin(phi),  np.cos(phi),  0],\n",
        "                    [          0,           0,  1]])\n",
        "    R_y  = np.array([[ np.cos(theta),  0,  np.sin(theta)],\n",
        "                    [0,              1,             0],\n",
        "                    [-np.sin(theta),  0,  np.cos(theta)]])\n",
        "    R = np.dot(R_z, R_y)\n",
        "    if psi is not None and psi != 0:\n",
        "        R_in = np.array([[ np.cos(psi), -np.sin(psi),  0],\n",
        "                        [ np.sin(psi),  np.cos(psi),  0],\n",
        "                        [          0,           0,  1]])\n",
        "    \n",
        "        R = np.dot(R, R_in);\n",
        "\n",
        "    return R\n",
        "\n",
        "def deg_to_rad(deg): return(deg*np.pi/180)"
      ],
      "execution_count": null,
      "outputs": []
    },
    {
      "cell_type": "code",
      "metadata": {
        "id": "wky3ntl6CE8d"
      },
      "source": [
        "phi = deg_to_rad(45)\n",
        "theta = phi\n",
        "psi = phi\n",
        "R = EA_to_R3(phi,theta,psi)\n"
      ],
      "execution_count": null,
      "outputs": []
    },
    {
      "cell_type": "code",
      "metadata": {
        "colab": {
          "base_uri": "https://localhost:8080/"
        },
        "id": "-ycR4mTUDc14",
        "outputId": "f1a80906-8de4-4283-9e5e-3db484417455"
      },
      "source": [
        "def coords_n_by_d(coords_1d=None,N=None,d=3):\n",
        "  if N is None: \n",
        "    assert coords_1d is not None\n",
        "  elif coords_1d is None:\n",
        "    assert N is not None\n",
        "    coords_1d = np.arange(-N//2,N//2)\n",
        "\n",
        "  # if d==3:\n",
        "  #   x,y,z = np.meshgrid(coords_1d,coords_1d,coords_1d)\n",
        "  #   coords = np.zeros((x.size,3))\n",
        "  #   coords[:,0] = x.flatten()\n",
        "  #   coords[:,1] = y.flatten()\n",
        "  #   coords[:,2] = z.flatten()\n",
        "  # elif d==2:\n",
        "  X = np.meshgrid(coords_1d,coords_1d,coords_1d)\n",
        "  coords = np.zeros((X[0].size,d))\n",
        "  for di in range(d):\n",
        "    coords[:,di] = X[di].flatten()\n",
        "\n",
        "  return(coords)\n",
        "coords = coords_n_by_d([0,1],d=3)\n",
        "coords"
      ],
      "execution_count": null,
      "outputs": [
        {
          "output_type": "execute_result",
          "data": {
            "text/plain": [
              "array([[0., 0., 0.],\n",
              "       [0., 0., 1.],\n",
              "       [1., 0., 0.],\n",
              "       [1., 0., 1.],\n",
              "       [0., 1., 0.],\n",
              "       [0., 1., 1.],\n",
              "       [1., 1., 0.],\n",
              "       [1., 1., 1.]])"
            ]
          },
          "metadata": {
            "tags": []
          },
          "execution_count": 10
        }
      ]
    },
    {
      "cell_type": "markdown",
      "metadata": {
        "id": "PYs63hAxEpDM"
      },
      "source": [
        "We apply a rotation matrix to coords and undo it as so:\n",
        "\n",
        "$$\n",
        "(\\hat r_{nx3} \\hat R_{3x3})\\hat R_{3x3}^T\n",
        "$$"
      ]
    },
    {
      "cell_type": "code",
      "metadata": {
        "colab": {
          "base_uri": "https://localhost:8080/"
        },
        "id": "Cx-CxqWTDqpn",
        "outputId": "ffb94b8b-4312-40a9-fa45-ef7734ac6c5f"
      },
      "source": [
        "np.allclose(np.dot(np.dot(coords,R), R.T), coords)"
      ],
      "execution_count": null,
      "outputs": [
        {
          "output_type": "execute_result",
          "data": {
            "text/plain": [
              "True"
            ]
          },
          "metadata": {
            "tags": []
          },
          "execution_count": 6
        }
      ]
    },
    {
      "cell_type": "markdown",
      "metadata": {
        "id": "8SN4DI2CHk28"
      },
      "source": [
        "# Interpolation"
      ]
    },
    {
      "cell_type": "markdown",
      "metadata": {
        "id": "OB8gZ0u7FHBj"
      },
      "source": [
        "So we can calculate a function at points, and then rotate the function by rotating the coordinates by $\\hat R$, keeping the values of the mapped coordinates, and interpolating "
      ]
    },
    {
      "cell_type": "code",
      "metadata": {
        "id": "eaCP-O0WFFv4"
      },
      "source": [
        "N=10\n",
        "coords = coords_n_by_d(N=N,d=3)\n",
        "mu = np.array([0,0,1])\n",
        "values = np.exp(-.1*np.square(coords-mu).sum(1))\n",
        "\n",
        "coords_rot = np.dot(coords,R)"
      ],
      "execution_count": null,
      "outputs": []
    },
    {
      "cell_type": "code",
      "metadata": {
        "id": "sUeqEH_nIbVS"
      },
      "source": [
        "coords_interpolate = coords_n_by_d(N=2*N,d=3)/2\n",
        "grid = griddata(points=coords_rot,values=values,xi=coords_interpolate)"
      ],
      "execution_count": null,
      "outputs": []
    },
    {
      "cell_type": "code",
      "metadata": {
        "colab": {
          "base_uri": "https://localhost:8080/"
        },
        "id": "-kq3P7xsJPk_",
        "outputId": "cb75e00f-b6b4-475b-cabc-d9d95f5ba656"
      },
      "source": [
        "grid.shape"
      ],
      "execution_count": null,
      "outputs": [
        {
          "output_type": "execute_result",
          "data": {
            "text/plain": [
              "(8000,)"
            ]
          },
          "metadata": {
            "tags": []
          },
          "execution_count": 12
        }
      ]
    },
    {
      "cell_type": "code",
      "metadata": {
        "colab": {
          "base_uri": "https://localhost:8080/",
          "height": 268
        },
        "id": "A5q3hRPaKYHx",
        "outputId": "2559ede0-da4b-4f7b-ab5b-a4daf2f821f8"
      },
      "source": [
        "def func(x, y):\n",
        "    return x*x+3*y*y\n",
        "#grid_x, grid_y = np.mgrid[0:1:100j, 0:1:200j]\n",
        "x = np.linspace(-1,1,100)\n",
        "grid_x,grid_y = np.meshgrid(x,x)\n",
        "points = 2*np.random.rand(1000, 2)-1\n",
        "values = func(points[:,0], points[:,1])\n",
        "grid = griddata(points, values, (grid_x, grid_y), method='linear')\n",
        "doplt(grid)"
      ],
      "execution_count": null,
      "outputs": [
        {
          "output_type": "display_data",
          "data": {
            "image/png": "[encoded data removed]",
            "text/plain": [
              "<Figure size 432x288 with 1 Axes>"
            ]
          },
          "metadata": {
            "tags": []
          }
        }
      ]
    },
    {
      "cell_type": "code",
      "metadata": {
        "colab": {
          "base_uri": "https://localhost:8080/",
          "height": 268
        },
        "id": "NcvTKJ86LXcN",
        "outputId": "da7b4f34-f6a7-4624-c868-b11ad5247320"
      },
      "source": [
        "R_2d = EA_to_R3(np.pi/4,0,0)[:2,:2]\n",
        "points_rot = np.dot(points,R_2d)\n",
        "grid_rot = griddata(points_rot, values, (grid_x, grid_y), method='linear')\n",
        "doplt(grid_rot)"
      ],
      "execution_count": null,
      "outputs": [
        {
          "output_type": "display_data",
          "data": {
            "image/png": "[encoded data removed]",
            "text/plain": [
              "<Figure size 432x288 with 1 Axes>"
            ]
          },
          "metadata": {
            "tags": []
          }
        }
      ]
    },
    {
      "cell_type": "markdown",
      "metadata": {
        "id": "iE2dorz_RzCC"
      },
      "source": [
        "This also works in 3D"
      ]
    },
    {
      "cell_type": "code",
      "metadata": {
        "id": "aVnnORo8KMw3"
      },
      "source": [
        "def func(x, y,z):\n",
        "    return np.exp(-(x*x+3*y*y+10*z*z)/.5)\n",
        "#grid_x, grid_y = np.mgrid[0:1:100j, 0:1:200j]\n",
        "x = np.linspace(-1,1,200)\n",
        "grid_x,grid_y,grid_z = np.meshgrid(x,x,x)\n",
        "points = 2*np.random.rand(1000, 3)-1\n",
        "values = func(points[:,0], points[:,1],points[:,2])\n",
        "interpolated_grid = griddata(points, values, (grid_x, grid_y,grid_z), method='linear')\n"
      ],
      "execution_count": null,
      "outputs": []
    },
    {
      "cell_type": "code",
      "metadata": {
        "colab": {
          "base_uri": "https://localhost:8080/"
        },
        "id": "JwTT0G88bbCC",
        "outputId": "e054ddda-7065-4ea1-999c-cfcbd81b1dd9"
      },
      "source": [
        "points.shape, grid_x.shape, values.shape"
      ],
      "execution_count": null,
      "outputs": [
        {
          "output_type": "execute_result",
          "data": {
            "text/plain": [
              "((1000, 3), (100, 100, 100), (1000,))"
            ]
          },
          "metadata": {
            "tags": []
          },
          "execution_count": 61
        }
      ]
    },
    {
      "cell_type": "code",
      "metadata": {
        "colab": {
          "base_uri": "https://localhost:8080/",
          "height": 269
        },
        "id": "gvu3iBoxSN8a",
        "outputId": "22001b1f-8d82-49d3-d1a0-e4bfa4c210d2"
      },
      "source": [
        "doplt(np.nansum(interpolated_grid,axis=2))"
      ],
      "execution_count": null,
      "outputs": [
        {
          "output_type": "display_data",
          "data": {
            "image/png": "[encoded data removed]",
            "text/plain": [
              "<Figure size 432x288 with 1 Axes>"
            ]
          },
          "metadata": {
            "tags": []
          }
        }
      ]
    },
    {
      "cell_type": "code",
      "metadata": {
        "id": "lIkATk8IbFNn"
      },
      "source": [
        "R_3d = EA_to_R3(np.pi/4,np.pi/4,np.pi/4)\n",
        "points_rot = np.dot(points,R_3d)\n",
        "interpolated_grid_rot = griddata(points_rot, values, (grid_x, grid_y,grid_z), method='linear')\n"
      ],
      "execution_count": null,
      "outputs": []
    },
    {
      "cell_type": "code",
      "metadata": {
        "colab": {
          "base_uri": "https://localhost:8080/",
          "height": 269
        },
        "id": "9Ik9sVKjcRv9",
        "outputId": "a1fc69c0-2f51-465e-fc8d-36b14d8d8f21"
      },
      "source": [
        "doplt(np.nansum(interpolated_grid_rot,axis=2))"
      ],
      "execution_count": null,
      "outputs": [
        {
          "output_type": "display_data",
          "data": {
            "image/png": "[encoded data removed]",
            "text/plain": [
              "<Figure size 432x288 with 1 Axes>"
            ]
          },
          "metadata": {
            "tags": []
          }
        }
      ]
    },
    {
      "cell_type": "markdown",
      "metadata": {
        "id": "yE7qM47rc5PE"
      },
      "source": [
        "The 3D interpolation works. There can be some issues wtih edge effects if the volume doesn't go to zero at the edges (not enough padding)."
      ]
    },
    {
      "cell_type": "markdown",
      "metadata": {
        "id": "bQYe6LzHdNi1"
      },
      "source": [
        "# 2D slice interpolation\n",
        "Let's do a warm up where we take 2D slices of an object (and know their coordinates), rotate each slice, and then interpolate the whole (rotated) object. The reconstructed object is a bunch of rotated slices, like a egg through an \"egg slicer\" from the kitchen."
      ]
    },
    {
      "cell_type": "code",
      "metadata": {
        "colab": {
          "base_uri": "https://localhost:8080/",
          "height": 147
        },
        "id": "e-5Kk_3mInIw",
        "outputId": "d8a4ae4b-0591-4ed7-9174-848ea47a953e"
      },
      "source": [
        "def gauss(x,y,z,std,cx=1,cy=3,cz=10):\n",
        "    return np.exp(-(cx*x*x+cy*y*y+cz*z*z)/(2*std))\n",
        "    \n",
        "N=16\n",
        "coords_1d = np.arange(-N//2,N//2)\n",
        "x,y,z = np.meshgrid(coords_1d,coords_1d,coords_1d)\n",
        "map = gauss(x,y,z,std=N//1.5,cx=1,cy=3,cz=10)\n",
        "\n",
        "fig,ax = plt.subplots(nrows=1,ncols=3)\n",
        "for idx in range(3):\n",
        "  ax[idx].imshow(map.sum(idx),cmap='gray')\n",
        "#np.arange(N*N*N).reshape(N,N,N)\n",
        "\n",
        "\n",
        "\n"
      ],
      "execution_count": null,
      "outputs": [
        {
          "output_type": "display_data",
          "data": {
            "image/png": "[encoded data removed]",
            "text/plain": [
              "<Figure size 432x288 with 3 Axes>"
            ]
          },
          "metadata": {
            "tags": []
          }
        }
      ]
    },
    {
      "cell_type": "code",
      "metadata": {
        "id": "22I5nUuEQ2ge"
      },
      "source": [
        "N=32\n",
        "slices = range(-N//2,N//2)\n",
        "coords = coords_n_by_d(N=N,d=3)\n",
        "R_3d = EA_to_R3(np.pi/4,np.pi/4,np.pi/4)\n",
        "values_i = gauss(coords[:,0], coords[:,1], coords[:,2],std=N//1.5,cx=1,cy=3,cz=10) #np.zeros((len(slices),)+map.shape[:-1])\n",
        "coords_slice_slice = (N*N,3)\n",
        "coords_rot = np.zeros((len(slices),)+coords_slice_slice) # dim of slice\n",
        "values_slice_shape = N*N\n",
        "values_f = np.zeros((len(slices),)+(values_slice_shape,))\n",
        "for idx_z,z in enumerate(slices):\n",
        "  idx_slice = coords[:,-1] == z\n",
        "  coords_slice = coords[idx_slice]\n",
        "  values_slice = values_i[idx_slice]\n",
        "  values_f[idx_z] = values_slice\n",
        "  #values[idx_z] = func(coords[:,0], coords[:,1], coords[:,2],std=N//1.5)\n",
        "  coords_rot[idx_z,:,:] = np.dot(coords_slice,R_3d)\n",
        "  #slice_2d = map[:,:,idx_z]\n",
        "  #values[idx_z] = slice_2d\n",
        "  "
      ],
      "execution_count": null,
      "outputs": []
    },
    {
      "cell_type": "code",
      "metadata": {
        "colab": {
          "base_uri": "https://localhost:8080/"
        },
        "id": "r_4zrMVvUL_j",
        "outputId": "f3380585-d7dd-4e71-acfb-2d75db7dff8d"
      },
      "source": [
        "coords_rot.shape  , values_f.shape"
      ],
      "execution_count": null,
      "outputs": [
        {
          "output_type": "execute_result",
          "data": {
            "text/plain": [
              "((8, 64, 3), (8, 64))"
            ]
          },
          "metadata": {
            "tags": []
          },
          "execution_count": 91
        }
      ]
    },
    {
      "cell_type": "code",
      "metadata": {
        "colab": {
          "base_uri": "https://localhost:8080/"
        },
        "id": "UB6wgkF3I1cv",
        "outputId": "ef2527ae-c39c-468c-e3fa-d67492a99f1f"
      },
      "source": [
        "x = np.arange(-N//2,N//2)\n",
        "grid_x,grid_y,grid_z = np.meshgrid(x,x,x)\n",
        "%time interpolated_map = griddata(coords_rot.reshape(-1,3), values_f.flatten(), (grid_x, grid_y,grid_z), method='linear')\n"
      ],
      "execution_count": null,
      "outputs": [
        {
          "output_type": "stream",
          "text": [
            "CPU times: user 2min 56s, sys: 1.26 s, total: 2min 58s\n",
            "Wall time: 2min 56s\n"
          ],
          "name": "stdout"
        }
      ]
    },
    {
      "cell_type": "code",
      "metadata": {
        "colab": {
          "base_uri": "https://localhost:8080/"
        },
        "id": "O-IsL5RUWr3r",
        "outputId": "244e1455-aa62-459c-a2e7-43e4c52063e1"
      },
      "source": [
        "values_f.flatten().shape, values_i.shape, coords_rot.size/3, coords.size/3"
      ],
      "execution_count": null,
      "outputs": [
        {
          "output_type": "execute_result",
          "data": {
            "text/plain": [
              "((32768,), (32768,), 32768.0, 32768.0)"
            ]
          },
          "metadata": {
            "tags": []
          },
          "execution_count": 31
        }
      ]
    },
    {
      "cell_type": "markdown",
      "metadata": {
        "id": "rWnsxDGLVgSc"
      },
      "source": [
        "## Run time benchmarking\n",
        "\n",
        "|$N$|$N^3$|`griddata` run time (m:s)|\n",
        "|-|-|-|\n",
        "|10|1000|0.2s|\n",
        "|16|4096|2s|\n",
        "|32|32768|2m:56s|\n"
      ]
    },
    {
      "cell_type": "code",
      "metadata": {
        "colab": {
          "base_uri": "https://localhost:8080/",
          "height": 267
        },
        "id": "zBXWLbBzTUVE",
        "outputId": "dfde0f9c-4845-40ba-e8fe-107046443c32"
      },
      "source": [
        "fig,ax = plt.subplots(nrows=2,ncols=3)\n",
        "for idx in range(3):\n",
        "  ax[0,idx].imshow(np.nansum(interpolated_map, axis=idx),cmap='gray')\n",
        "  ax[1,idx].imshow(interpolated_map.sum(idx),cmap='gray')\n"
      ],
      "execution_count": null,
      "outputs": [
        {
          "output_type": "display_data",
          "data": {
            "image/png": "[encoded data removed]",
            "text/plain": [
              "<Figure size 432x288 with 6 Axes>"
            ]
          },
          "metadata": {
            "tags": []
          }
        }
      ]
    },
    {
      "cell_type": "markdown",
      "metadata": {
        "id": "PXGWgdaHXFki"
      },
      "source": [
        "The interpolation blows up in run time fast with larger box sizes. Also the automatic interpolation leaves some large regions as undefined, so it's important to use `np.nansum` and not `.sum`. `.sum` will bring the whole sum to np.nan if there is a single np.nan in the summed values."
      ]
    },
    {
      "cell_type": "markdown",
      "metadata": {
        "id": "4ibW7wu3veM-"
      },
      "source": [
        "## Rotate 2D slices in real space"
      ]
    },
    {
      "cell_type": "markdown",
      "metadata": {
        "id": "6ZDlVagBX6GV"
      },
      "source": [
        "When we apply the fourier slice theorem, we are not taking egg slices, but slices through the origin that are rotated differently. This will require differnt book keeping. Let's stick with our same famiiar synthetic example and work out this book keeping before moving onto a cryoEM map.\n",
        "\n",
        "Pseudo code\n",
        "```\n",
        "# for random angels\n",
        "  # rotate\n",
        "  # take 2D slice in real space\n",
        "  # get coords of 2D slice (z value const)\n",
        "  # unrotate coords (z values varry)\n",
        "  # keep slice values and new unrot coords\n",
        "# interpolate\n",
        "```"
      ]
    },
    {
      "cell_type": "code",
      "metadata": {
        "id": "k7I8jdirjKEY"
      },
      "source": [
        "# how does map and coords flatten match"
      ],
      "execution_count": null,
      "outputs": []
    },
    {
      "cell_type": "code",
      "metadata": {
        "id": "ZzIj8LuzjMlJ"
      },
      "source": [
        "N=2\n",
        "map = np.arange(N*N*N).reshape(N,N,N)"
      ],
      "execution_count": null,
      "outputs": []
    },
    {
      "cell_type": "code",
      "metadata": {
        "colab": {
          "base_uri": "https://localhost:8080/"
        },
        "id": "GJ5iBj3Ejqm1",
        "outputId": "99115cc7-3bf9-425b-e777-f985c4f93161"
      },
      "source": [
        "map"
      ],
      "execution_count": null,
      "outputs": [
        {
          "output_type": "execute_result",
          "data": {
            "text/plain": [
              "array([[[0, 1],\n",
              "        [2, 3]],\n",
              "\n",
              "       [[4, 5],\n",
              "        [6, 7]]])"
            ]
          },
          "metadata": {
            "tags": []
          },
          "execution_count": 45
        }
      ]
    },
    {
      "cell_type": "code",
      "metadata": {
        "colab": {
          "base_uri": "https://localhost:8080/"
        },
        "id": "b0SRHUUvjtT4",
        "outputId": "935287fc-fdaa-416d-cc45-e7078eee07f0"
      },
      "source": [
        "map.flatten()"
      ],
      "execution_count": null,
      "outputs": [
        {
          "output_type": "execute_result",
          "data": {
            "text/plain": [
              "array([0, 1, 2, 3, 4, 5, 6, 7])"
            ]
          },
          "metadata": {
            "tags": []
          },
          "execution_count": 46
        }
      ]
    },
    {
      "cell_type": "markdown",
      "metadata": {
        "id": "zbhHV_G6j7WD"
      },
      "source": [
        "How does `.flatten()` work on an array with shape `(N,N,N)`? \n",
        "\n",
        "If 3D value (map) array $m$ is indexed by [x,y,z], with box length N, then it is stored as `m[x0]`=\n",
        "$$\n",
        "\\begin{bmatrix}\n",
        "m_{x_0,y_0,z_0} & m_{x_0,y_0,z_1} & ... &  m_{x_0,y_0,z_{N-1}} \\\\\n",
        "m_{x_0,y_1,z_0} & m_{x_0,y_1,z_1} & ... &  m_{x_0,y_1,z_{N-1}} \\\\\n",
        "... & ... & ... & ... \\\\\n",
        "m_{x_0,y_{N-1},z_0} & m_{x_0,y_{N-1},z_1} & ... &  m_{x_0,y_{N-1},z_{N-1}} \\\\\n",
        "\\end{bmatrix}\n",
        "$$\n",
        "\n",
        "This flattens to `m.flatten()= [m[x0].flatten(), ... , m[xN-1].flatten()]`, where `m[xi].flatten()`=$ m_{x_i,y_0,z_0},\\  m_{x_i,y_0,z_1},\\ ...,\\ m_{x_i,y_{N-1},z_{N-1}}$. In other words, `.flatten()` works from the first index, flattens this, then flattens each of these on the next index, etc, until there are just scalars and nothing left to be flattened.\n",
        "\n",
        "\n"
      ]
    },
    {
      "cell_type": "markdown",
      "metadata": {
        "id": "G_DGz1UdmA8H"
      },
      "source": [
        "Now, each value element in the flattend map array corresponds to three coordinates (e.g. in cartesian or spherical coordinates). \n",
        "\n",
        "The matching coordinates are therefore just the subscript indeces on $m$\n",
        "$$\n",
        "...,\\ (x_i,y_0,z_0),\\  (x_i,y_0,z_1),\\ ...,\\ (x_i,y_{N-1},z_{N-1}),\\ ...\n",
        "$$\n",
        "\n",
        "To get the coordinates to match this automatically, we can use `coords_n_by_d` (which doesn't need to be flattened and corresponds to yxz, due to how it does thing internally with `meshgrid`) and then swap the columns to match xyz."
      ]
    },
    {
      "cell_type": "code",
      "metadata": {
        "colab": {
          "base_uri": "https://localhost:8080/"
        },
        "id": "J29YwnITvXBd",
        "outputId": "418b9fda-0773-481f-a29b-18c19079e67a"
      },
      "source": [
        "coords = coords_n_by_d(N=N,d=3) # YXZ to XYZ\n",
        "coords"
      ],
      "execution_count": null,
      "outputs": [
        {
          "output_type": "execute_result",
          "data": {
            "text/plain": [
              "array([[-1., -1., -1.],\n",
              "       [-1., -1.,  0.],\n",
              "       [ 0., -1., -1.],\n",
              "       [ 0., -1.,  0.],\n",
              "       [-1.,  0., -1.],\n",
              "       [-1.,  0.,  0.],\n",
              "       [ 0.,  0., -1.],\n",
              "       [ 0.,  0.,  0.]])"
            ]
          },
          "metadata": {
            "tags": []
          },
          "execution_count": 60
        }
      ]
    },
    {
      "cell_type": "code",
      "metadata": {
        "colab": {
          "base_uri": "https://localhost:8080/"
        },
        "id": "9VMCf3BskMs-",
        "outputId": "cb4ecfd0-9093-45c3-e464-06130d260ece"
      },
      "source": [
        "coords[:,[0, 1]] = coords[:,[1, 0]]\n",
        "coords # no need for more flattening, each row is a coordinate that matches the corresponding element in the flattend value array"
      ],
      "execution_count": null,
      "outputs": [
        {
          "output_type": "execute_result",
          "data": {
            "text/plain": [
              "array([[-1., -1., -1.],\n",
              "       [-1., -1.,  0.],\n",
              "       [-1.,  0., -1.],\n",
              "       [-1.,  0.,  0.],\n",
              "       [ 0., -1., -1.],\n",
              "       [ 0., -1.,  0.],\n",
              "       [ 0.,  0., -1.],\n",
              "       [ 0.,  0.,  0.]])"
            ]
          },
          "metadata": {
            "tags": []
          },
          "execution_count": 58
        }
      ]
    },
    {
      "cell_type": "code",
      "metadata": {
        "id": "c9y3DhmKg2Gz"
      },
      "source": [
        "\n",
        "n_slices=1\n",
        "\n"
      ],
      "execution_count": null,
      "outputs": []
    },
    {
      "cell_type": "code",
      "metadata": {
        "id": "xmIhafrGwkx4"
      },
      "source": [
        "N=16\n",
        "n_slices = 1000\n",
        "values_for_interpol = np.zeros((n_slices,N*N))\n",
        "coords_for_interpol = np.zeros((n_slices,N*N,3))\n",
        "coords = coords_n_by_d(N=N,d=3)\n",
        "coords[:,[0, 1]] = coords[:,[1, 0]]\n",
        "coords_2d_slice_const = coords[coords[:,0] == 0]\n",
        "np.random.seed(0)\n",
        "\n",
        "for slice_idx in range(n_slices):\n",
        "  phi, theta, psi = np.random.uniform(low=-np.pi,high=np.pi,size=3)\n",
        "  R_3d = EA_to_R3(phi, theta, psi)\n",
        "  # rotate\n",
        "  coords_rot = np.dot(coords_2d_slice_const,R_3d)\n",
        "  slice_2d_values_flat = gauss(coords_rot[:,0],coords_rot[:,1],coords_rot[:,2],std=N//1.5,cx=1,cy=3,cz=10) \n",
        "  # slice in real space\n",
        "  #slice_2d_values = map_rot[N//2,:,:].flatten() # do .sum(0) to project through x-axis\n",
        "  # keep slice values and new rot coords\n",
        "  \n",
        "  values_for_interpol[slice_idx,:] = slice_2d_values_flat\n",
        "  coords_for_interpol[slice_idx,:,:] = np.dot(coords_2d_slice_const,R_3d)"
      ],
      "execution_count": null,
      "outputs": []
    },
    {
      "cell_type": "code",
      "metadata": {
        "colab": {
          "base_uri": "https://localhost:8080/"
        },
        "id": "-8kahaWB586X",
        "outputId": "4eff0a96-9606-4142-feeb-41fcf9ce7094"
      },
      "source": [
        "slice_2d_values_flat.shape"
      ],
      "execution_count": null,
      "outputs": [
        {
          "output_type": "execute_result",
          "data": {
            "text/plain": [
              "(256,)"
            ]
          },
          "metadata": {
            "tags": []
          },
          "execution_count": 38
        }
      ]
    },
    {
      "cell_type": "code",
      "metadata": {
        "colab": {
          "base_uri": "https://localhost:8080/"
        },
        "id": "acrDvHZ0BKdP",
        "outputId": "35c70fab-f490-4e86-dab1-acc45258cd79"
      },
      "source": [
        "values_for_interpol.shape, coords_for_interpol.shape"
      ],
      "execution_count": null,
      "outputs": [
        {
          "output_type": "execute_result",
          "data": {
            "text/plain": [
              "((10000, 64), (10000, 64, 3))"
            ]
          },
          "metadata": {
            "tags": []
          },
          "execution_count": 88
        }
      ]
    },
    {
      "cell_type": "code",
      "metadata": {
        "colab": {
          "base_uri": "https://localhost:8080/"
        },
        "id": "O6GBOVgeBDFO",
        "outputId": "1d42f60b-ec78-485d-ebfd-fd0185cea135"
      },
      "source": [
        "x = np.arange(-N//2,N//2)\n",
        "grid_x,grid_y,grid_z = np.meshgrid(x,x,x)\n",
        "noise = np.random.normal(loc=0,scale=0.01,size=values_for_interpol.size)\n",
        "%time interpolated_map = griddata(coords_for_interpol.reshape(-1,3), values_for_interpol.flatten() + noise, (grid_x, grid_y,grid_z), method='linear')\n"
      ],
      "execution_count": null,
      "outputs": [
        {
          "output_type": "stream",
          "text": [
            "CPU times: user 33.1 s, sys: 10.1 s, total: 43.2 s\n",
            "Wall time: 32.1 s\n"
          ],
          "name": "stdout"
        }
      ]
    },
    {
      "cell_type": "code",
      "metadata": {
        "id": "vCt-GZ-HDkAg"
      },
      "source": [
        "coords_1d = np.arange(-N//2,N//2)\n",
        "x,y,z = np.meshgrid(coords_1d,coords_1d,coords_1d)\n",
        "map_original = gauss(x,y,z,std=N//1.5,cx=1,cy=3,cz=10)"
      ],
      "execution_count": null,
      "outputs": []
    },
    {
      "cell_type": "markdown",
      "metadata": {
        "id": "ggBF0i6DCYCM"
      },
      "source": [
        "|N|n_slices|`griddata` runtime|\n",
        "|-|-|-|\n",
        "|8|100|0.5s|\n",
        "|16|100|2.8s|\n",
        "|16|300|8.1s|\n",
        "|16|1000|31.4s|\n"
      ]
    },
    {
      "cell_type": "code",
      "metadata": {
        "colab": {
          "base_uri": "https://localhost:8080/",
          "height": 266
        },
        "id": "AjAnq8y4CXaB",
        "outputId": "b780cc3a-0540-471b-ffd7-ea2874037e54"
      },
      "source": [
        "fig,ax = plt.subplots(nrows=2,ncols=3)\n",
        "for idx in range(3):\n",
        "  ax[0,idx].imshow(np.nansum(interpolated_map, axis=idx),cmap='gray')\n",
        "  ax[1,idx].imshow(np.nansum(map_original, axis=idx),cmap='gray')"
      ],
      "execution_count": null,
      "outputs": [
        {
          "output_type": "display_data",
          "data": {
            "image/png": "[encoded data removed]",
            "text/plain": [
              "<Figure size 432x288 with 6 Axes>"
            ]
          },
          "metadata": {
            "tags": []
          }
        }
      ]
    },
    {
      "cell_type": "markdown",
      "metadata": {
        "id": "yb3S0O2a7Ad0"
      },
      "source": [
        "By changing the noise (`np.random.normal(...,scale=,...)`), we can build some intuition about how many noisy particles it takes to get a good reconstruction, at different noise levels."
      ]
    },
    {
      "cell_type": "markdown",
      "metadata": {
        "id": "Q5b86P42c1ej"
      },
      "source": [
        "# 2D to 3D reconstruction in Fourier space\n",
        "\n",
        "Pseudo code\n",
        "```\n",
        "# for random angels\n",
        "  # rotate\n",
        "  # make 3D -> 2D projection in real space\n",
        "  # make 2D FFT of 2D real space projection\n",
        "  # get original coords of 2D slice (x value const)\n",
        "  # rotate coords (x values varry)\n",
        "  # keep slice values and new rot coords\n",
        "# interpolate in Fourie space (real and imag separately)\n",
        "# inverse FFT\n",
        "```"
      ]
    },
    {
      "cell_type": "code",
      "metadata": {
        "colab": {
          "background_save": true,
          "base_uri": "https://localhost:8080/"
        },
        "id": "O-Lb8m9Juo6x",
        "outputId": "d1f1a35e-9226-4ee2-cefc-00d4529e744a"
      },
      "source": [
        "%%time\n",
        "N=32\n",
        "coords_1d = np.arange(-N//2,N//2)\n",
        "grid_y, grid_x,grid_z = np.meshgrid(coords_1d,coords_1d,coords_1d) # swap x and y\n",
        "cx=1;cy=3;cz=10\n",
        "map_original = gauss(grid_x,grid_y,grid_z,std=N//1.5,cx=cx,cy=cy,cz=cz)\n",
        "n_slices = 100\n",
        "values_for_interpol = np.zeros((n_slices,N*N),dtype=np.complex64)\n",
        "coords_for_interpol = np.zeros((n_slices,N*N,3))\n",
        "coords = coords_n_by_d(N=N,d=3)\n",
        "coords[:,[0, 1]] = coords[:,[1, 0]]\n",
        "coords_2d_slice_const = coords[coords[:,0] == 0]\n",
        "\n",
        "radially_symetry=False\n",
        "if radially_symetry:\n",
        "  proj_2d = np.nansum(map_original,axis=0)\n",
        "  proj_2d_f = twod.do_fft(proj_2d,only_real=False)\n",
        "\n",
        "np.random.seed(0)\n",
        "for slice_idx in range(n_slices):\n",
        "  if slice_idx%(n_slices/10) == 0:\n",
        "    print(slice_idx,'%i%% complete'%int(slice_idx/n_slices*100))\n",
        "  phi, theta, psi = np.random.uniform(low=-np.pi,high=np.pi,size=3)\n",
        "  R_3d = EA_to_R3(phi, theta, psi)\n",
        "  # rotate\n",
        "  coords_rot = np.dot(coords,R_3d)\n",
        "  if radially_symetry == False:\n",
        "    values_flat = gauss(coords[:,0],coords[:,1],coords[:,2],std=N//1.5,cx=cx,cy=cy,cz=cz) # use unrot coord\n",
        "    interpolated_map_rot = griddata(coords_rot, values_flat, (grid_x, grid_y,grid_z), method='linear') # expensive step\n",
        "    \n",
        "    # make 3D -> 2D projection in real space\n",
        "    proj_2d = np.nansum(interpolated_map_rot,axis=0)\n",
        "    # make 2D FFT of 2D real space projection\n",
        "    proj_2d_f = twod.do_fft(proj_2d,only_real=False)\n",
        "\n",
        "  else:\n",
        "    pass\n",
        "  \n",
        "  # get original coords of 2D slice (x value const)\n",
        "  # coords_2d_slice_const # (precomputed)\n",
        "\n",
        "  # rotate coords (x values varry)\n",
        "  coords_2d_slice_rot = np.dot(coords_2d_slice_const,R_3d)\n",
        "\n",
        "  # keep slice values and new rot coords\n",
        "  values_for_interpol[slice_idx,:] = proj_2d_f.flatten()\n",
        "  coords_for_interpol[slice_idx,:,:] = coords_2d_slice_rot"
      ],
      "execution_count": null,
      "outputs": [
        {
          "output_type": "stream",
          "text": [
            "0 0% complete\n",
            "10 10% complete\n",
            "20 20% complete\n",
            "30 30% complete\n",
            "40 40% complete\n",
            "50 50% complete\n",
            "60 60% complete\n",
            "70 70% complete\n",
            "80 80% complete\n",
            "90 90% complete\n",
            "CPU times: user 4h 44min 59s, sys: 2min 18s, total: 4h 47min 18s\n",
            "Wall time: 4h 44min 59s\n"
          ],
          "name": "stdout"
        }
      ]
    },
    {
      "cell_type": "code",
      "metadata": {
        "colab": {
          "background_save": true
        },
        "id": "FfqcQRKU75i8",
        "outputId": "a2120f75-e6d9-4126-ce2d-466f9eeb14bc"
      },
      "source": [
        "#noise = np.random.normal(loc=0,scale=0.01,size=values_for_interpol.size)\n",
        "%time interpolated_map_f_nan = griddata(coords_for_interpol.reshape(-1,3), values_for_interpol.flatten() , (grid_x, grid_y,grid_z), method='linear')\n",
        "# can do interpolation of real and imag at same time\n"
      ],
      "execution_count": null,
      "outputs": [
        {
          "output_type": "stream",
          "text": [
            "CPU times: user 27.7 s, sys: 4.27 s, total: 32 s\n",
            "Wall time: 27.3 s\n"
          ],
          "name": "stdout"
        }
      ]
    },
    {
      "cell_type": "code",
      "metadata": {
        "colab": {
          "background_save": true
        },
        "id": "tRY9Ku--DWYo"
      },
      "source": [
        "interpolated_map_f_filled = np.nan_to_num(interpolated_map_f_nan) # here we just fill the nans to zero. there could be another type of interpolation\n",
        "map_recon = fourier.do_fft(interpolated_map_f_filled,only_real=False)"
      ],
      "execution_count": null,
      "outputs": []
    },
    {
      "cell_type": "code",
      "metadata": {
        "colab": {
          "background_save": true
        },
        "id": "JyA7yPrs_lB3",
        "outputId": "521d105a-94d6-4511-9fca-d174f2654462"
      },
      "source": [
        "fig,ax = plt.subplots(nrows=2,ncols=3)\n",
        "for idx in range(3):\n",
        "  ax[0,idx].imshow(np.nansum(map_recon.real, axis=idx),cmap='gray')\n",
        "  ax[1,idx].imshow(np.nansum(map_original, axis=idx),cmap='gray')"
      ],
      "execution_count": null,
      "outputs": [
        {
          "output_type": "display_data",
          "data": {
            "image/png": "[encoded data removed]",
            "text/plain": [
              "<Figure size 432x288 with 6 Axes>"
            ]
          },
          "metadata": {
            "tags": []
          }
        }
      ]
    },
    {
      "cell_type": "code",
      "metadata": {
        "colab": {
          "background_save": true
        },
        "id": "u2fK7nM9JOC5"
      },
      "source": [
        "mse = ((map_recon.real/map_recon.real.mean()-map_original/map_original.mean())**2).mean()*100"
      ],
      "execution_count": null,
      "outputs": []
    },
    {
      "cell_type": "code",
      "metadata": {
        "colab": {
          "background_save": true
        },
        "id": "V5GrbHq8JdxB",
        "outputId": "99d0c91b-a201-4ca4-aa00-08c3424b473c"
      },
      "source": [
        "'|'.join([str(x) for x in ['',N,n_slices,'%1.2f'%mse,'','','']])"
      ],
      "execution_count": null,
      "outputs": [
        {
          "output_type": "execute_result",
          "data": {
            "application/vnd.google.colaboratory.intrinsic+json": {
              "type": "string"
            },
            "text/plain": [
              "'|32|100|609.78|||'"
            ]
          },
          "metadata": {
            "tags": []
          },
          "execution_count": 0
        }
      ]
    },
    {
      "cell_type": "markdown",
      "metadata": {
        "id": "e7v0rvLpOQga"
      },
      "source": [
        "|N|n_slices|mse[r/r.mean,o/o.mean] (%)|map|runtime|\n",
        "|-|-|-|-|-|\n",
        "|16|3|15|symmetric sphere||\n",
        "|16|10|1.6|||\n",
        "|16|30|0.79|||\n",
        "|16|100| 0.23||seconds (because 2D projections all same and precomputed)|\n",
        "|16|10|143.35|gaussian streached differently in xyz|~1min|\n",
        "|16|100|217.90||~3.5min|\n",
        "|32|100|609.78||4.75hrs|"
      ]
    },
    {
      "cell_type": "markdown",
      "metadata": {
        "id": "yfIwQw1CHbz9"
      },
      "source": [
        "Simulating the images is the bottle neck. With a radially symetric object they are always be the same and can be precomputed. Perhaps there is a way to work out the line integrals purely analytically."
      ]
    }
  ]
}