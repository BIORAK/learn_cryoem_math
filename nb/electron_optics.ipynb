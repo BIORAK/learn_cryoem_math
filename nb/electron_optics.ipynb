{
  "nbformat": 4,
  "nbformat_minor": 0,
  "metadata": {
    "colab": {
      "name": "electron-optics.ipynb",
      "provenance": [],
      "collapsed_sections": [],
      "toc_visible": true,
      "authorship_tag": "ABX9TyOQ1Ut3v9SfKsmZZSHpDV3s",
      "include_colab_link": true
    },
    "kernelspec": {
      "name": "python3",
      "display_name": "Python 3"
    }
  },
  "cells": [
    {
      "cell_type": "markdown",
      "metadata": {
        "id": "view-in-github",
        "colab_type": "text"
      },
      "source": [
        "<a href=\"https://colab.research.google.com/github/geoffwoollard/learn_cryoem_math/blob/master/nb/electron_optics.ipynb\" target=\"_parent\"><img src=\"https://colab.research.google.com/assets/colab-badge.svg\" alt=\"Open In Colab\"/></a>"
      ]
    },
    {
      "cell_type": "markdown",
      "metadata": {
        "id": "vOruIrl1em8q",
        "colab_type": "text"
      },
      "source": [
        "# Goal\n",
        "Build intuition of around how the microscope works\n",
        "* speed of electron\n",
        "* wave function\n",
        "* phase contrast imaging\n",
        "* magnetic lenses\n",
        "\n"
      ]
    },
    {
      "cell_type": "markdown",
      "metadata": {
        "id": "_8TAg-l2Z8X9",
        "colab_type": "text"
      },
      "source": [
        "# Bibliography\n",
        "* [NCCAT SPA short course 2020, Lecture 4: Algorithms and foundational math Part I & 2, Fred Sigworth](https://youtu.be/tzv5c5K7MEk)\n",
        "  * See lecture notes under [Single Particle Short Course March 2-6, 2020. Day 3: Wednesday, March 4, 2020, 10:40 – 11:30 AM](https://nccat.nysbc.org/activities/courses/nccat-spa-short-course-2020/)\n",
        "* Glaeser, R. (2007). Electron Crystallography of Biological Macromolecules. Oxford University Press.\n",
        "  * Chapter 1. Introduction\n",
        "  * Chapter 2. Structure Determination as it has been Developed Through X-ray Crystallography\n",
        "  * Chapter 3. Fourier Optics and the Role of Diffraction in Image Formation\n",
        "  * Chapter 4. Theoretical Fondations Specific to Electron Crystallography\n",
        "* Thermo Fisher Scientific Brno s.r.o. (2016). How to make a microscope - FEI. [30 min youtube video](https://youtu.be/9W6J_f4yVVg)\n",
        "* FEI. (2010). [Introduction to electron microscopy.](https://www.fei.com/WorkArea/DownloadAsset.aspx?id=15032385923)\n",
        "* Reimer, L., & Kohl, H. (2008). Transmission Electron Microscopy Physics of Image Formation. Springer series in optical sciences (Vol. 51). http://doi.org/10.1007/978-0-387-34758-5"
      ]
    },
    {
      "cell_type": "markdown",
      "metadata": {
        "id": "_arzsptGe0J0",
        "colab_type": "text"
      },
      "source": [
        "# Setup"
      ]
    },
    {
      "cell_type": "code",
      "metadata": {
        "id": "WEsVM0DIezrU",
        "colab_type": "code",
        "colab": {}
      },
      "source": [
        "import numpy as np\n",
        "import pandas as pd\n",
        "import matplotlib.pyplot as plt"
      ],
      "execution_count": 1,
      "outputs": []
    },
    {
      "cell_type": "markdown",
      "metadata": {
        "id": "iS7lzkYkgM3f",
        "colab_type": "text"
      },
      "source": [
        "# Electron Beam (special relativity)\n",
        "* The electron is very light and can be accellerated to 70% the speed of light in the high potentials in transmission electron microscopes (100 000 - 300 000 V)\n",
        "* See p. 11 in FEI. (2010). [Introduction to electron microscopy.](https://www.fei.com/WorkArea/DownloadAsset.aspx?id=15032385923)\n",
        "* The wavelength ($\\lambda$) is related to Plank's constant ($h$) and the relativistic momentum of the electron ($p$) by\n",
        "$$ \\lambda = \\frac{f}{p}$$\n",
        "* Classical treatment\n",
        "  * The electron is accellerated across a potential to gain energy $eV$, where $e$ is the electron's charge and $V$ is the extremely large potential of the microscope. This large potential is an engineering feat, and much care is taken to maintain it, and to maintain it at a near constant voltage.\n",
        "  * After the electron has dropped through the potential, it has converted it to kinetic energy, so \n",
        "  $$eV = \\frac{m_0v^2}{2} = \\frac{p^2}{2m_0} \\text{ ; $m_0$ rest mass of the electron}$$\n",
        "  $$\\implies p = \\sqrt{2m_0eV}$$\n",
        "  * Substituting for $p=m_0v$ in $\\lambda=h/p$ gives\n",
        "  $$\\lambda = \\frac{h}{p} = \\frac{h}{vm_0} = \\frac{h}{\\sqrt{2m_0eV}}$$\n"
      ]
    },
    {
      "cell_type": "markdown",
      "metadata": {
        "id": "gAS_DgXLo-Jr",
        "colab_type": "text"
      },
      "source": [
        "Let's plot the speed as a function of voltage\n",
        "$$v = \\sqrt{2eV/m_0}$$\n",
        "* $m_0 = 9.11*10^{−31}$ kg\n",
        "* $e = 1.60*10^{-19}$ C"
      ]
    },
    {
      "cell_type": "code",
      "metadata": {
        "id": "6u_d7aYQgMYQ",
        "colab_type": "code",
        "colab": {
          "base_uri": "https://localhost:8080/",
          "height": 312
        },
        "outputId": "c3f08f03-b421-4475-f071-757807636e6e"
      },
      "source": [
        "e=1.60217662e-19\n",
        "m0=9.10938356e-31\n",
        "V=np.linspace(0,300000,100)\n",
        "v = np.sqrt(2*e*V/m0)\n",
        "sr = pd.Series(v)\n",
        "sr.index = V\n",
        "ax = sr.plot()\n",
        "ax.set_xlabel('Voltage (V)')\n",
        "ax.set_ylabel('Electron velocity (m/s)')\n",
        "ax.set_title('Classical treatment')"
      ],
      "execution_count": 13,
      "outputs": [
        {
          "output_type": "execute_result",
          "data": {
            "text/plain": [
              "Text(0.5, 1.0, 'Classical treatment')"
            ]
          },
          "metadata": {
            "tags": []
          },
          "execution_count": 13
        },
        {
          "output_type": "display_data",
          "data": {
            "image/png": "[encoded data removed]",
            "text/plain": [
              "<Figure size 432x288 with 1 Axes>"
            ]
          },
          "metadata": {
            "tags": [],
            "needs_background": "light"
          }
        }
      ]
    },
    {
      "cell_type": "markdown",
      "metadata": {
        "id": "f7SeputpqQvJ",
        "colab_type": "text"
      },
      "source": [
        "Here we see that the projected velocity reaches half the speed of light ($3*10^8$ m/s) at around 50 keV. In cryoEM we are using scopes at 120, 200, 300 keV! So we have to correct for relativisitic effects\n",
        "$$\\lambda = \\frac{h}{\\sqrt{2m_0eV(1+\\frac{eV}{2m_0c^2})}}$$\n",
        "* $h = 6.63 10^{-34}$ m$^2$kg/s\n",
        "\n"
      ]
    },
    {
      "cell_type": "code",
      "metadata": {
        "id": "tlhIXdpbtSn2",
        "colab_type": "code",
        "colab": {
          "base_uri": "https://localhost:8080/",
          "height": 312
        },
        "outputId": "b5701a58-7fe5-442b-c624-87a80dc7d528"
      },
      "source": [
        "c=2.99792458e8\n",
        "h=6.62607004e-34\n",
        "V=np.linspace(10000,300000,100) # start at 10keV otherwise scale at low kev obscures interesting behaviour at high kev\n",
        "Lambda = h/np.sqrt(2*m0*e*V*(1+e*V/(2*m0*c**2)))\n",
        "sr = pd.Series(Lambda*10**12) # pm)\n",
        "sr.index = V\n",
        "ax = sr.plot()\n",
        "ax.set_xlabel('Voltage (V)')\n",
        "ax.set_ylabel('Electron wavelength (pm)')\n",
        "ax.set_title('Relitivistic treatment')"
      ],
      "execution_count": 21,
      "outputs": [
        {
          "output_type": "execute_result",
          "data": {
            "text/plain": [
              "Text(0.5, 1.0, 'Relitivistic treatment')"
            ]
          },
          "metadata": {
            "tags": []
          },
          "execution_count": 21
        },
        {
          "output_type": "display_data",
          "data": {
            "image/png": "[encoded data removed]",
            "text/plain": [
              "<Figure size 432x288 with 1 Axes>"
            ]
          },
          "metadata": {
            "tags": [],
            "needs_background": "light"
          }
        }
      ]
    },
    {
      "cell_type": "markdown",
      "metadata": {
        "id": "I3xQSjTmvd4j",
        "colab_type": "text"
      },
      "source": [
        "We see that at 10s to 100s of keV, the electron is 10s to 1s of pm. There are 100 pm in 1 A, the characteristic length of atomic bond length in proteins (1-2 A), so we can use electrons to resolve features at these distances in principle."
      ]
    },
    {
      "cell_type": "markdown",
      "metadata": {
        "id": "UvKE8cBs0DDv",
        "colab_type": "text"
      },
      "source": [
        "Using the relativisitc equations in the table of Rimer (p. 19), we can calculate the veolcity, corrected for relativisitc effects\n",
        "$$v = c\\sqrt{(1 - \\frac{1}{1+\\frac{eV}{m_0c^2}})}$$\n",
        "\n",
        "Note that this will be useful when seeing how many electrons are in the microscope."
      ]
    },
    {
      "cell_type": "code",
      "metadata": {
        "id": "5g5IxhUGgKHS",
        "colab_type": "code",
        "colab": {
          "base_uri": "https://localhost:8080/",
          "height": 312
        },
        "outputId": "2ea9b36b-82eb-4321-cf72-6e8d8bc00a7b"
      },
      "source": [
        "c=3e8\n",
        "\n",
        "V=np.linspace(10000,300000,100)\n",
        "\n",
        "v = c*np.sqrt(1-1/(1+e*V/(m0*c**2)))\n",
        "sr = pd.Series(v/c*100)\n",
        "sr.index = V\n",
        "ax = sr.plot()\n",
        "ax.set_xlabel('Voltage (V)')\n",
        "ax.set_ylabel('Electron velocity (% c)')\n",
        "ax.set_title('Relativistic treatment')"
      ],
      "execution_count": 30,
      "outputs": [
        {
          "output_type": "execute_result",
          "data": {
            "text/plain": [
              "Text(0.5, 1.0, 'Relativistic treatment')"
            ]
          },
          "metadata": {
            "tags": []
          },
          "execution_count": 30
        },
        {
          "output_type": "display_data",
          "data": {
            "image/png": "[encoded data removed]",
            "text/plain": [
              "<Figure size 432x288 with 1 Axes>"
            ]
          },
          "metadata": {
            "tags": [],
            "needs_background": "light"
          }
        }
      ]
    },
    {
      "cell_type": "markdown",
      "metadata": {
        "id": "vUOHydck0sDz",
        "colab_type": "text"
      },
      "source": [
        "## How many electrons are in the column at once?\n",
        "Since the electrons are going to fast, and the column is so small, we can calculate how long it takes for an electron to pass through the column (of length \\~1 m). We see the electron move at the constant large (but relativistically corrected) velocities that range from \\~20-60% c. The time is simply the column length (\\~1 m) divided by the velocity.\n",
        "$$t = d/v$$"
      ]
    },
    {
      "cell_type": "code",
      "metadata": {
        "id": "KXmZemPvek2B",
        "colab_type": "code",
        "colab": {
          "base_uri": "https://localhost:8080/",
          "height": 312
        },
        "outputId": "db7f165c-93f3-4ec6-bdad-cb0042726372"
      },
      "source": [
        "d=1\n",
        "v = np.linspace(.2,.8,100)*c\n",
        "t = d/v\n",
        "sr = pd.Series(t*1e9)#ns\n",
        "sr.index = v\n",
        "ax = sr.plot()\n",
        "ax.set_xlabel('Velocity (v)')\n",
        "ax.set_ylabel('Time in column (ns)')\n",
        "ax.set_title('Time for electron to pass through column')"
      ],
      "execution_count": 33,
      "outputs": [
        {
          "output_type": "execute_result",
          "data": {
            "text/plain": [
              "Text(0.5, 1.0, 'Time for electron to pass through column')"
            ]
          },
          "metadata": {
            "tags": []
          },
          "execution_count": 33
        },
        {
          "output_type": "display_data",
          "data": {
            "image/png": "[encoded data removed]",
            "text/plain": [
              "<Figure size 432x288 with 1 Axes>"
            ]
          },
          "metadata": {
            "tags": [],
            "needs_background": "light"
          }
        }
      ]
    },
    {
      "cell_type": "markdown",
      "metadata": {
        "id": "wTYZ-cIa_kAP",
        "colab_type": "text"
      },
      "source": [
        "We see that this takes the electron 4-16 ns to pass through the column."
      ]
    },
    {
      "cell_type": "markdown",
      "metadata": {
        "id": "epyNEqHA2jCn",
        "colab_type": "text"
      },
      "source": [
        "If the electrons are passing through the column so quickly, how many are in the column at a time? \n",
        "\n",
        "We know the rate of electron emission from the current of the beam and the charge of the electron. \n",
        "\n",
        "Note that the current we are interested in is the dose, what the sample feels. The current after emission from the filament ([50 uA for a LaB6 and 10 uA for a cold FEG](https://www.azom.com/article.aspx?ArticleID=16146)) is blocked or filtered before interacting with the sample.\n",
        "\n",
        "* r_e is the electron emission rate (# electrons emitted / s)\n",
        "* $r_e=I/e$, where $I$ is the current\n",
        "\n",
        "\n"
      ]
    },
    {
      "cell_type": "code",
      "metadata": {
        "id": "dEi5vLXOGKPQ",
        "colab_type": "code",
        "colab": {
          "base_uri": "https://localhost:8080/",
          "height": 34
        },
        "outputId": "6e0db1b8-a3ec-4ffd-b801-94dbcfc92e2b"
      },
      "source": [
        "I = 1e-9\n",
        "re = I/e"
      ],
      "execution_count": 68,
      "outputs": [
        {
          "output_type": "execute_result",
          "data": {
            "text/plain": [
              "1.60217662e-10"
            ]
          },
          "metadata": {
            "tags": []
          },
          "execution_count": 68
        }
      ]
    },
    {
      "cell_type": "markdown",
      "metadata": {
        "id": "AgJyPl9zGJme",
        "colab_type": "text"
      },
      "source": [
        "The inverse of the emission rate is the time it takes in between electron detection events (on average). Note that there may be fluctuations in the emission rate, and we would have to have information on single detection events to calculate the variance. The emission current just averages very fast events together, but doens't tell us if there are fluctuations between these events.\n",
        "* t = e/I"
      ]
    },
    {
      "cell_type": "code",
      "metadata": {
        "id": "bXAJ6kpq27_Z",
        "colab_type": "code",
        "colab": {
          "base_uri": "https://localhost:8080/",
          "height": 34
        },
        "outputId": "9794692c-3873-44e9-ca33-52a82497d790"
      },
      "source": [
        "t = 10e-9 # 10 ns\n",
        "I = e/t ; I*1e9 # nA"
      ],
      "execution_count": 59,
      "outputs": [
        {
          "output_type": "execute_result",
          "data": {
            "text/plain": [
              "0.016021766200000002"
            ]
          },
          "metadata": {
            "tags": []
          },
          "execution_count": 59
        }
      ]
    },
    {
      "cell_type": "markdown",
      "metadata": {
        "id": "Fm68r5ty27WK",
        "colab_type": "text"
      },
      "source": [
        "So at about 0.02 nA there is a detection event every 10 ns. The ratio of this time to the time one electron spends in the column is the average number of electrons in the column."
      ]
    },
    {
      "cell_type": "markdown",
      "metadata": {
        "id": "wHiZPQspCRUt",
        "colab_type": "text"
      },
      "source": [
        "Apparently there is supposed to be a long pause between when one single electron passes through the column and interacts with the sample. Cf. Grant Jensen's video on [Amplitude and Phase Contrast](https://youtu.be/gmZ-vzB5lyI?t=1653). Our above analysis depends very much on the column current, so the current in the column should be in the 10s of pA.\n",
        "\n",
        "In cryo imaging the dose ranges 10-60 e/A2, which we can convert to a detection rate if we assume that the whole / majority of the beam is detected, and an imageing time (1 s)\n",
        "\n"
      ]
    },
    {
      "cell_type": "code",
      "metadata": {
        "id": "bB8p4e5n6Enk",
        "colab_type": "code",
        "colab": {
          "base_uri": "https://localhost:8080/",
          "height": 34
        },
        "outputId": "4e14e28b-d7ec-41aa-a1ee-48c61170bfdb"
      },
      "source": [
        "doserate_e_A2_s = 30\n",
        "image_length_A = 4000\n",
        "e_rate = doserate_e_A2_s*image_length_A**2\n",
        "1/e_rate"
      ],
      "execution_count": 64,
      "outputs": [
        {
          "output_type": "execute_result",
          "data": {
            "text/plain": [
              "2.0833333333333334e-09"
            ]
          },
          "metadata": {
            "tags": []
          },
          "execution_count": 64
        }
      ]
    },
    {
      "cell_type": "markdown",
      "metadata": {
        "id": "KyUay_ziFwmJ",
        "colab_type": "text"
      },
      "source": [
        "Here we see that there is a detection event every 2 ns"
      ]
    }
  ]
}