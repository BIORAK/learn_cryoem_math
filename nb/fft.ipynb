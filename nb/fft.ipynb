{
  "nbformat": 4,
  "nbformat_minor": 0,
  "metadata": {
    "colab": {
      "name": "fft.ipynb",
      "provenance": [],
      "collapsed_sections": [],
      "toc_visible": true,
      "authorship_tag": "ABX9TyNwBsaT5wHTTQNBLglW6XCO",
      "include_colab_link": true
    },
    "kernelspec": {
      "name": "python3",
      "display_name": "Python 3"
    }
  },
  "cells": [
    {
      "cell_type": "markdown",
      "metadata": {
        "id": "view-in-github",
        "colab_type": "text"
      },
      "source": [
        "<a href=\"https://colab.research.google.com/github/geoffwoollard/learn_cryoem_math/blob/master/nb/fft.ipynb\" target=\"_parent\"><img src=\"https://colab.research.google.com/assets/colab-badge.svg\" alt=\"Open In Colab\"/></a>"
      ]
    },
    {
      "cell_type": "markdown",
      "metadata": {
        "id": "2OFaQ7RJIWfD"
      },
      "source": [
        "# Goal\n",
        "- benchmark FFT vs naive DFT\n",
        "- to build intuition about indexing in `np.fft` (changed with `np.fft.fftshift`)"
      ]
    },
    {
      "cell_type": "markdown",
      "metadata": {
        "id": "s6Vs7Z7aIlAG"
      },
      "source": [
        "# Resources\n",
        "* https://towardsdatascience.com/fast-fourier-transform-937926e591cb\n",
        "* Ziegel, E., Press, W., Flannery, B., Teukolsky, S., & Vetterling, W. (1992). Numerical Recipes: The Art of Scientific Computing (2nd ed.). Cambridge University Press.\n",
        "  * Chapter 12: Fast Fourier Transform\n",
        "    * 12.2 Fast Fourier Transform (FFT)"
      ]
    },
    {
      "cell_type": "markdown",
      "metadata": {
        "id": "exrHMXQHInmy"
      },
      "source": [
        "# Setup"
      ]
    },
    {
      "cell_type": "code",
      "metadata": {
        "id": "sJh37MJpIVex"
      },
      "source": [
        "import numpy as np\n",
        "import pandas as pd\n",
        "import collections\n"
      ],
      "execution_count": 2,
      "outputs": []
    },
    {
      "cell_type": "markdown",
      "metadata": {
        "id": "4CKDjZgQJ3Vk"
      },
      "source": [
        "# DFT\n"
      ]
    },
    {
      "cell_type": "code",
      "metadata": {
        "id": "t6uTfYdXJ7v_"
      },
      "source": [
        "def dft_setup(N):\n",
        "  n = np.arange(N)\n",
        "  k = n.reshape((N,1))\n",
        "  W = np.exp(-2j*np.pi/N * n * k) # makes into NxN matrix becaue of shapes of n and k. see eq 12.2.1, 12.2.2 in Numerical Receipies in C\n",
        "  return(W)\n",
        "\n",
        "def make_gauss(n):\n",
        "\n",
        "  std = 1\n",
        "  x_dom = np.linspace(-30*std,30*std,2**n) # important that size is 2^n for recursive nature of divide and conquor\n",
        "  x = np.exp(-x_dom**2/(2*std**2))\n",
        "  return(x)\n",
        "\n",
        "x = make_gauss(n=10)\n",
        "N = x.shape[0]\n",
        "W = dft_setup(N)\n",
        "\n",
        "def do_dft(W,x):\n",
        "  return(np.dot(W,x))"
      ],
      "execution_count": 131,
      "outputs": []
    },
    {
      "cell_type": "code",
      "metadata": {
        "colab": {
          "base_uri": "https://localhost:8080/"
        },
        "id": "VzVGTZ9FL25h",
        "outputId": "a853efb7-0ff4-4bfb-f6eb-f86bd0f67c1e"
      },
      "source": [
        "np.allclose(do_dft(W,x), np.fft.fft(x))\n",
        "error = np.abs(do_dft(W,x) - np.fft.fft(x))\n",
        "(error**2).mean(), error.max()"
      ],
      "execution_count": 38,
      "outputs": [
        {
          "output_type": "execute_result",
          "data": {
            "text/plain": [
              "(5.214423304270279e-24, 3.269842392808019e-11)"
            ]
          },
          "metadata": {
            "tags": []
          },
          "execution_count": 38
        }
      ]
    },
    {
      "cell_type": "markdown",
      "metadata": {
        "id": "weZzx1tXMTQs"
      },
      "source": [
        "The error is very small"
      ]
    },
    {
      "cell_type": "code",
      "metadata": {
        "colab": {
          "base_uri": "https://localhost:8080/"
        },
        "id": "FERdEHZOOAyw",
        "outputId": "7ed4a205-9f51-4d78-e5cd-ba148933db74"
      },
      "source": [
        "%timeit dft_setup(N)\n",
        "%timeit do_dft(W,x)\n",
        "%timeit np.fft.fft(x)"
      ],
      "execution_count": 58,
      "outputs": [
        {
          "output_type": "stream",
          "text": [
            "10 loops, best of 3: 76.8 ms per loop\n",
            "1000 loops, best of 3: 631 µs per loop\n",
            "The slowest run took 4.49 times longer than the fastest. This could mean that an intermediate result is being cached.\n",
            "10000 loops, best of 3: 17.8 µs per loop\n"
          ],
          "name": "stdout"
        }
      ]
    },
    {
      "cell_type": "markdown",
      "metadata": {
        "id": "IKHJYI71OLDH"
      },
      "source": [
        "The runtime is faster for `np.fft.fft`, and the bottleneck for our `do_dft` is the data-independent (but `N` dependent) setup we need to run it."
      ]
    },
    {
      "cell_type": "markdown",
      "metadata": {
        "id": "v-NTslxRN6ug"
      },
      "source": [
        "The FT of a gaussian should be a gaussian, so we see below that the centering is shifted."
      ]
    },
    {
      "cell_type": "code",
      "metadata": {
        "colab": {
          "base_uri": "https://localhost:8080/",
          "height": 282
        },
        "id": "AGFTaE0tM2wL",
        "outputId": "20a42c65-b511-44e9-a514-4f999d9b24c9"
      },
      "source": [
        "pd.Series(x).plot() # origin assumed to be the centre"
      ],
      "execution_count": 56,
      "outputs": [
        {
          "output_type": "execute_result",
          "data": {
            "text/plain": [
              "<matplotlib.axes._subplots.AxesSubplot at 0x7f30f048f630>"
            ]
          },
          "metadata": {
            "tags": []
          },
          "execution_count": 56
        },
        {
          "output_type": "display_data",
          "data": {
            "image/png": "[encoded data removed]",
            "text/plain": [
              "<Figure size 432x288 with 1 Axes>"
            ]
          },
          "metadata": {
            "tags": [],
            "needs_background": "light"
          }
        }
      ]
    },
    {
      "cell_type": "code",
      "metadata": {
        "colab": {
          "base_uri": "https://localhost:8080/",
          "height": 282
        },
        "id": "YJUGdTJbNXSH",
        "outputId": "b027e843-c61e-4e21-90d0-0965beeabf56"
      },
      "source": [
        "pd.Series(do_dft(W,x).real).plot() # this computation assumed the origin was the first index"
      ],
      "execution_count": 57,
      "outputs": [
        {
          "output_type": "execute_result",
          "data": {
            "text/plain": [
              "<matplotlib.axes._subplots.AxesSubplot at 0x7f30f05417f0>"
            ]
          },
          "metadata": {
            "tags": []
          },
          "execution_count": 57
        },
        {
          "output_type": "display_data",
          "data": {
            "image/png": "[encoded data removed]",
            "text/plain": [
              "<Figure size 432x288 with 1 Axes>"
            ]
          },
          "metadata": {
            "tags": [],
            "needs_background": "light"
          }
        }
      ]
    },
    {
      "cell_type": "markdown",
      "metadata": {
        "id": "LTRB9Kg8PERQ"
      },
      "source": [
        "# Recursion\n",
        "the $N\\log(N)$ versus $N^2$ speedup of the FFT can be seen through considering the recursive way of splitting the sums into even and odd terms, which can be repeated. The $N=2^n$ size is important for the recursion to do all the way down."
      ]
    },
    {
      "cell_type": "code",
      "metadata": {
        "id": "NnqLa8PxPkFP"
      },
      "source": [
        "def recursive_fft(x):\n",
        "# https://towardsdatascience.com/fast-fourier-transform-937926e591cb\n",
        "  N = x.shape[0]\n",
        "  #assert N % 2 > 0 # can check outside function\n",
        "  if N <= 2:\n",
        "    W = dft_setup(N)\n",
        "    return(do_dft(W,x))\n",
        "  else:\n",
        "    X_even = recursive_fft(x[::2])\n",
        "    X_odd = recursive_fft(x[1::2])\n",
        "    W = np.exp(-2j*np.pi*np.arange(N)/N) # could be precomputed\n",
        "    fft = np.concatenate([X_even + W[:int(N/2)] * X_odd,\n",
        "                          X_even + W[int(N/2):] * X_odd])\n",
        "    return(fft)\n",
        "\n",
        "\n"
      ],
      "execution_count": 71,
      "outputs": []
    },
    {
      "cell_type": "code",
      "metadata": {
        "colab": {
          "base_uri": "https://localhost:8080/"
        },
        "id": "uv_9iPj-S_7O",
        "outputId": "90462bd0-a4ba-45e1-d69a-c7ed9de51fca"
      },
      "source": [
        "N = x.shape[0]\n",
        "assert np.isclose(np.log2(N) % 1,0) # fails if not power of 2\n",
        "np.allclose(recursive_fft(x),np.fft.fft(x))"
      ],
      "execution_count": 86,
      "outputs": [
        {
          "output_type": "execute_result",
          "data": {
            "text/plain": [
              "True"
            ]
          },
          "metadata": {
            "tags": []
          },
          "execution_count": 86
        }
      ]
    },
    {
      "cell_type": "code",
      "metadata": {
        "colab": {
          "base_uri": "https://localhost:8080/"
        },
        "id": "7mKgLnUQQ5AD",
        "outputId": "5cff8498-04e0-44f9-915d-07c2a2f5cc70"
      },
      "source": [
        "W = dft_setup(N)\n",
        "%timeit dft_setup(N)\n",
        "%timeit do_dft(W,x)\n",
        "%timeit recursive_fft(x)\n",
        "%timeit np.fft.fft(x)"
      ],
      "execution_count": 79,
      "outputs": [
        {
          "output_type": "stream",
          "text": [
            "10 loops, best of 3: 77.8 ms per loop\n",
            "1000 loops, best of 3: 638 µs per loop\n",
            "100 loops, best of 3: 11.5 ms per loop\n",
            "The slowest run took 4.49 times longer than the fastest. This could mean that an intermediate result is being cached.\n",
            "100000 loops, best of 3: 18.2 µs per loop\n"
          ],
          "name": "stdout"
        }
      ]
    },
    {
      "cell_type": "markdown",
      "metadata": {
        "id": "6-UMKuHgSfs9"
      },
      "source": [
        "`do_dft` needs `dft_setup`, so we should add their time together. `recursive_fft` is an improvement, since the setup size is much smaller. But the winner is still clearly `np.fft.fft`"
      ]
    },
    {
      "cell_type": "markdown",
      "metadata": {
        "id": "-kKXM0ELTD-x"
      },
      "source": [
        "# Vectorized\n",
        "instead of recursion, we can vectorize things with a `while` loop, splitting even and odd terms by column, iteratively building up rows in the loop"
      ]
    },
    {
      "cell_type": "code",
      "metadata": {
        "id": "2wrTn87yZXCD"
      },
      "source": [
        "def vec_fft(x):\n",
        "  W = dft_setup(2)\n",
        "  X = np.dot(W,x.reshape(2,-1))\n",
        "  while X.shape[0] < N: # builds up\n",
        "    X_even = X[:,:int(X.shape[1] / 2)] # first half \n",
        "    X_odd = X[:,int(X.shape[1] / 2):] # second half \n",
        "    terms = np.exp(-1j * np.pi * np.arange(X.shape[0]) / X.shape[0])[:, None]\n",
        "    X = np.vstack([X_even + terms * X_odd,\n",
        "                          X_even - terms * X_odd])\n",
        "  return(X.ravel())\n",
        "    "
      ],
      "execution_count": 124,
      "outputs": []
    },
    {
      "cell_type": "code",
      "metadata": {
        "colab": {
          "base_uri": "https://localhost:8080/"
        },
        "id": "KGRBiL6HVsAL",
        "outputId": "17da1b15-eb54-484b-8d4b-78c4b9131a19"
      },
      "source": [
        "np.allclose(vec_fft(x), np.fft.fft(x))"
      ],
      "execution_count": 125,
      "outputs": [
        {
          "output_type": "execute_result",
          "data": {
            "text/plain": [
              "True"
            ]
          },
          "metadata": {
            "tags": []
          },
          "execution_count": 125
        }
      ]
    },
    {
      "cell_type": "code",
      "metadata": {
        "colab": {
          "base_uri": "https://localhost:8080/"
        },
        "id": "N6Yws0vgavO7",
        "outputId": "1ac5e552-f5bd-4aaa-8189-44ed1ae2297c"
      },
      "source": [
        "W = dft_setup(N)\n",
        "%timeit dft_setup(N)\n",
        "%timeit do_dft(W,x)\n",
        "%timeit vec_fft(x)\n",
        "%timeit np.fft.fft(x)"
      ],
      "execution_count": 130,
      "outputs": [
        {
          "output_type": "stream",
          "text": [
            "10 loops, best of 3: 78.4 ms per loop\n",
            "1000 loops, best of 3: 734 µs per loop\n",
            "1000 loops, best of 3: 370 µs per loop\n",
            "The slowest run took 5.48 times longer than the fastest. This could mean that an intermediate result is being cached.\n",
            "100000 loops, best of 3: 18.1 µs per loop\n"
          ],
          "name": "stdout"
        }
      ]
    },
    {
      "cell_type": "markdown",
      "metadata": {
        "id": "aHj_Bmhza-ZA"
      },
      "source": [
        "`vec_fft` is bit faster than `do_dft`, which has a large `np.dot`, but perhaps this is just due to caching. "
      ]
    },
    {
      "cell_type": "markdown",
      "metadata": {
        "id": "wi2WateUbYQF"
      },
      "source": [
        "# Benchmark runtime vs. N\n",
        "$N\\log(N)$\n",
        "We can run the functions at varoius sizes of $N$ and compare how they scale"
      ]
    },
    {
      "cell_type": "code",
      "metadata": {
        "id": "GQ8xxi3ybh_a"
      },
      "source": [
        "d = collections.defaultdict(list)\n",
        "ns = [6,7,8,9,10]\n",
        "\n",
        "for n in ns:\n",
        "\n",
        "  x = make_gauss(n=n)\n",
        "  N = x.shape[0]\n",
        "  d['N'].append(N)\n",
        "  W = dft_setup(N) # don't include in computation\n",
        "  res = %timeit -o np.fft.fft(x)\n",
        "  d['np.fft.fft'].append(res.best*1e6)\n",
        "  res = %timeit -o do_dft(W,x)\n",
        "  d['do_dft'].append(res.best*1e6)\n",
        "  res = %timeit -o vec_fft(x)\n",
        "  d['vec_fft'].append(res.best*1e6)\n",
        "\n",
        "df = pd.DataFrame(d)\n",
        "\n"
      ],
      "execution_count": null,
      "outputs": []
    },
    {
      "cell_type": "code",
      "metadata": {
        "colab": {
          "base_uri": "https://localhost:8080/",
          "height": 296
        },
        "id": "FZBierxwdMV-",
        "outputId": "6e57d7da-ed96-4184-ef42-f646d77f4d59"
      },
      "source": [
        "df.plot(x='N',y=['np.fft.fft','do_dft','vec_fft'])\n"
      ],
      "execution_count": 172,
      "outputs": [
        {
          "output_type": "execute_result",
          "data": {
            "text/plain": [
              "<matplotlib.axes._subplots.AxesSubplot at 0x7f30ee2d1c18>"
            ]
          },
          "metadata": {
            "tags": []
          },
          "execution_count": 172
        },
        {
          "output_type": "display_data",
          "data": {
            "image/png": "[encoded data removed]",
            "text/plain": [
              "<Figure size 432x288 with 1 Axes>"
            ]
          },
          "metadata": {
            "tags": [],
            "needs_background": "light"
          }
        }
      ]
    }
  ]
}