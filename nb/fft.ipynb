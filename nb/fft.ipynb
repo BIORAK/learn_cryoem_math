{
  "nbformat": 4,
  "nbformat_minor": 0,
  "metadata": {
    "colab": {
      "name": "fft.ipynb",
      "provenance": [],
      "collapsed_sections": [],
      "toc_visible": true,
      "authorship_tag": "ABX9TyN/OcwWFN+KHjW8XC+hzioH",
      "include_colab_link": true
    },
    "kernelspec": {
      "name": "python3",
      "display_name": "Python 3"
    }
  },
  "cells": [
    {
      "cell_type": "markdown",
      "metadata": {
        "id": "view-in-github",
        "colab_type": "text"
      },
      "source": [
        "<a href=\"https://colab.research.google.com/github/geoffwoollard/learn_cryoem_math/blob/master/nb/fft.ipynb\" target=\"_parent\"><img src=\"https://colab.research.google.com/assets/colab-badge.svg\" alt=\"Open In Colab\"/></a>"
      ]
    },
    {
      "cell_type": "markdown",
      "metadata": {
        "id": "2OFaQ7RJIWfD"
      },
      "source": [
        "# Goal\n",
        "- benchmark FFT vs naive DFT\n",
        "- to build intuition about indexing in `np.fft` (changed with `np.fft.fftshift`)"
      ]
    },
    {
      "cell_type": "markdown",
      "metadata": {
        "id": "s6Vs7Z7aIlAG"
      },
      "source": [
        "# Resources\n",
        "* https://towardsdatascience.com/fast-fourier-transform-937926e591cb\n",
        "* Ziegel, E., Press, W., Flannery, B., Teukolsky, S., & Vetterling, W. (1992). Numerical Recipes: The Art of Scientific Computing (2nd ed.). Cambridge University Press.\n",
        "  * Chapter 12: Fast Fourier Transform\n",
        "    * 12.2 Fast Fourier Transform (FFT)"
      ]
    },
    {
      "cell_type": "markdown",
      "metadata": {
        "id": "exrHMXQHInmy"
      },
      "source": [
        "# Setup"
      ]
    },
    {
      "cell_type": "code",
      "metadata": {
        "id": "sJh37MJpIVex"
      },
      "source": [
        "import numpy as np\n",
        "import pandas as pd\n",
        "import collections"
      ],
      "execution_count": 1,
      "outputs": []
    },
    {
      "cell_type": "markdown",
      "metadata": {
        "id": "4CKDjZgQJ3Vk"
      },
      "source": [
        "# DFT\n"
      ]
    },
    {
      "cell_type": "code",
      "metadata": {
        "id": "t6uTfYdXJ7v_"
      },
      "source": [
        "def dft_setup(N):\n",
        "  n = np.arange(N)\n",
        "  k = n.reshape((N,1))\n",
        "  W = np.exp(-2j*np.pi/N * n * k) # makes into NxN matrix becaue of shapes of n and k. see eq 12.2.1, 12.2.2 in Numerical Receipies in C\n",
        "  return(W)\n",
        "\n",
        "def make_gauss(n):\n",
        "\n",
        "  std = 1\n",
        "  x_dom = np.linspace(-30*std,30*std,2**n) # important that size is 2^n for recursive nature of divide and conquor\n",
        "  x = np.exp(-x_dom**2/(2*std**2))\n",
        "  return(x)\n",
        "\n",
        "x = make_gauss(n=10)\n",
        "N = x.shape[0]\n",
        "W = dft_setup(N)\n",
        "\n",
        "def do_dft(W,x):\n",
        "  return(np.dot(W,x))"
      ],
      "execution_count": null,
      "outputs": []
    },
    {
      "cell_type": "code",
      "metadata": {
        "colab": {
          "base_uri": "https://localhost:8080/"
        },
        "id": "VzVGTZ9FL25h",
        "outputId": "564297d3-68d9-4aed-a035-80d1c82eb82e"
      },
      "source": [
        "np.allclose(do_dft(W,x), np.fft.fft(x))\n",
        "error = np.abs(do_dft(W,x) - np.fft.fft(x))\n",
        "(error**2).mean(), error.max()"
      ],
      "execution_count": null,
      "outputs": [
        {
          "output_type": "execute_result",
          "data": {
            "text/plain": [
              "(5.892230135062442e-25, 5.402790999590787e-12)"
            ]
          },
          "metadata": {
            "tags": []
          },
          "execution_count": 4
        }
      ]
    },
    {
      "cell_type": "markdown",
      "metadata": {
        "id": "weZzx1tXMTQs"
      },
      "source": [
        "The error is very small"
      ]
    },
    {
      "cell_type": "code",
      "metadata": {
        "colab": {
          "base_uri": "https://localhost:8080/"
        },
        "id": "FERdEHZOOAyw",
        "outputId": "8e423193-eaab-4d08-ad24-aeb808f46e6e"
      },
      "source": [
        "%timeit dft_setup(N)\n",
        "%timeit do_dft(W,x)\n",
        "%timeit np.fft.fft(x)"
      ],
      "execution_count": null,
      "outputs": [
        {
          "output_type": "stream",
          "text": [
            "10 loops, best of 3: 78.2 ms per loop\n",
            "1000 loops, best of 3: 753 µs per loop\n",
            "The slowest run took 4.25 times longer than the fastest. This could mean that an intermediate result is being cached.\n",
            "10000 loops, best of 3: 17.7 µs per loop\n"
          ],
          "name": "stdout"
        }
      ]
    },
    {
      "cell_type": "markdown",
      "metadata": {
        "id": "IKHJYI71OLDH"
      },
      "source": [
        "The runtime is faster for `np.fft.fft`, and the bottleneck for our `do_dft` is the data-independent (but `N` dependent) setup we need to run it."
      ]
    },
    {
      "cell_type": "markdown",
      "metadata": {
        "id": "v-NTslxRN6ug"
      },
      "source": [
        "The FT of a gaussian should be a gaussian, so we see below that the centering is shifted."
      ]
    },
    {
      "cell_type": "code",
      "metadata": {
        "colab": {
          "base_uri": "https://localhost:8080/",
          "height": 282
        },
        "id": "AGFTaE0tM2wL",
        "outputId": "1f6f8c09-7283-49a4-cb0d-86f0db01825f"
      },
      "source": [
        "pd.Series(x).plot() # origin assumed to be the centre"
      ],
      "execution_count": null,
      "outputs": [
        {
          "output_type": "execute_result",
          "data": {
            "text/plain": [
              "<matplotlib.axes._subplots.AxesSubplot at 0x7f875cdddc88>"
            ]
          },
          "metadata": {
            "tags": []
          },
          "execution_count": 6
        },
        {
          "output_type": "display_data",
          "data": {
            "image/png": "[encoded data removed]",
            "text/plain": [
              "<Figure size 432x288 with 1 Axes>"
            ]
          },
          "metadata": {
            "tags": [],
            "needs_background": "light"
          }
        }
      ]
    },
    {
      "cell_type": "code",
      "metadata": {
        "colab": {
          "base_uri": "https://localhost:8080/",
          "height": 282
        },
        "id": "YJUGdTJbNXSH",
        "outputId": "1520cd3e-8c8e-44e5-834c-291c5102b7ee"
      },
      "source": [
        "pd.Series(do_dft(W,x).real).plot() # this computation assumed the origin was the first index"
      ],
      "execution_count": null,
      "outputs": [
        {
          "output_type": "execute_result",
          "data": {
            "text/plain": [
              "<matplotlib.axes._subplots.AxesSubplot at 0x7f875cd4a2e8>"
            ]
          },
          "metadata": {
            "tags": []
          },
          "execution_count": 7
        },
        {
          "output_type": "display_data",
          "data": {
            "image/png": "[encoded data removed]",
            "text/plain": [
              "<Figure size 432x288 with 1 Axes>"
            ]
          },
          "metadata": {
            "tags": [],
            "needs_background": "light"
          }
        }
      ]
    },
    {
      "cell_type": "markdown",
      "metadata": {
        "id": "LTRB9Kg8PERQ"
      },
      "source": [
        "# Recursion\n",
        "the $N\\log(N)$ versus $N^2$ speedup of the FFT can be seen through considering the recursive way of splitting the sums into even and odd terms, which can be repeated. The $N=2^n$ size is important for the recursion to do all the way down."
      ]
    },
    {
      "cell_type": "code",
      "metadata": {
        "id": "NnqLa8PxPkFP"
      },
      "source": [
        "def recursive_fft(x):\n",
        "# https://towardsdatascience.com/fast-fourier-transform-937926e591cb\n",
        "  N = x.shape[0]\n",
        "  #assert N % 2 > 0 # can check outside function\n",
        "  if N <= 2:\n",
        "    W = dft_setup(N)\n",
        "    return(do_dft(W,x))\n",
        "  else:\n",
        "    X_even = recursive_fft(x[::2])\n",
        "    X_odd = recursive_fft(x[1::2])\n",
        "    W = np.exp(-2j*np.pi*np.arange(N)/N) # could be precomputed\n",
        "    fft = np.concatenate([X_even + W[:int(N/2)] * X_odd,\n",
        "                          X_even + W[int(N/2):] * X_odd])\n",
        "    return(fft)\n",
        "\n",
        "\n"
      ],
      "execution_count": null,
      "outputs": []
    },
    {
      "cell_type": "code",
      "metadata": {
        "colab": {
          "base_uri": "https://localhost:8080/"
        },
        "id": "uv_9iPj-S_7O",
        "outputId": "9c31b34f-ab46-46e9-dfbf-8e028ba8c273"
      },
      "source": [
        "N = x.shape[0]\n",
        "assert np.isclose(np.log2(N) % 1,0) # fails if not power of 2\n",
        "np.allclose(recursive_fft(x),np.fft.fft(x))"
      ],
      "execution_count": null,
      "outputs": [
        {
          "output_type": "execute_result",
          "data": {
            "text/plain": [
              "True"
            ]
          },
          "metadata": {
            "tags": []
          },
          "execution_count": 9
        }
      ]
    },
    {
      "cell_type": "code",
      "metadata": {
        "colab": {
          "base_uri": "https://localhost:8080/"
        },
        "id": "7mKgLnUQQ5AD",
        "outputId": "74ee293f-b76e-4985-b187-99cbb501f2a2"
      },
      "source": [
        "W = dft_setup(N)\n",
        "%timeit dft_setup(N)\n",
        "%timeit do_dft(W,x)\n",
        "%timeit recursive_fft(x)\n",
        "%timeit np.fft.fft(x)"
      ],
      "execution_count": null,
      "outputs": [
        {
          "output_type": "stream",
          "text": [
            "10 loops, best of 3: 77.9 ms per loop\n",
            "1000 loops, best of 3: 756 µs per loop\n",
            "100 loops, best of 3: 11.7 ms per loop\n",
            "The slowest run took 4.83 times longer than the fastest. This could mean that an intermediate result is being cached.\n",
            "100000 loops, best of 3: 18.1 µs per loop\n"
          ],
          "name": "stdout"
        }
      ]
    },
    {
      "cell_type": "markdown",
      "metadata": {
        "id": "6-UMKuHgSfs9"
      },
      "source": [
        "`do_dft` needs `dft_setup`, so we should add their time together. `recursive_fft` is an improvement, since the setup size is much smaller. But the winner is still clearly `np.fft.fft`"
      ]
    },
    {
      "cell_type": "markdown",
      "metadata": {
        "id": "-kKXM0ELTD-x"
      },
      "source": [
        "# Vectorized\n",
        "instead of recursion, we can vectorize things with a `while` loop, splitting even and odd terms by column, iteratively building up rows in the loop"
      ]
    },
    {
      "cell_type": "code",
      "metadata": {
        "id": "2wrTn87yZXCD"
      },
      "source": [
        "def vec_fft(x):\n",
        "  W = dft_setup(2)\n",
        "  X = np.dot(W,x.reshape(2,-1))\n",
        "  while X.shape[0] < N: # builds up\n",
        "    X_even = X[:,:int(X.shape[1] / 2)] # first half \n",
        "    X_odd = X[:,int(X.shape[1] / 2):] # second half \n",
        "    terms = np.exp(-1j * np.pi * np.arange(X.shape[0]) / X.shape[0])[:, None]\n",
        "    X = np.vstack([X_even + terms * X_odd,\n",
        "                          X_even - terms * X_odd])\n",
        "  return(X.ravel())\n",
        "    "
      ],
      "execution_count": null,
      "outputs": []
    },
    {
      "cell_type": "code",
      "metadata": {
        "colab": {
          "base_uri": "https://localhost:8080/"
        },
        "id": "KGRBiL6HVsAL",
        "outputId": "cb579ea4-4842-4f38-b509-443bf5c3c29a"
      },
      "source": [
        "np.allclose(vec_fft(x), np.fft.fft(x))"
      ],
      "execution_count": null,
      "outputs": [
        {
          "output_type": "execute_result",
          "data": {
            "text/plain": [
              "True"
            ]
          },
          "metadata": {
            "tags": []
          },
          "execution_count": 12
        }
      ]
    },
    {
      "cell_type": "code",
      "metadata": {
        "colab": {
          "base_uri": "https://localhost:8080/"
        },
        "id": "N6Yws0vgavO7",
        "outputId": "8b373773-b8e6-4cbe-8058-52a4529f0fca"
      },
      "source": [
        "W = dft_setup(N)\n",
        "%timeit dft_setup(N)\n",
        "%timeit do_dft(W,x)\n",
        "%timeit vec_fft(x)\n",
        "%timeit np.fft.fft(x)"
      ],
      "execution_count": null,
      "outputs": [
        {
          "output_type": "stream",
          "text": [
            "10 loops, best of 3: 78.2 ms per loop\n",
            "1000 loops, best of 3: 661 µs per loop\n",
            "1000 loops, best of 3: 369 µs per loop\n",
            "The slowest run took 4.39 times longer than the fastest. This could mean that an intermediate result is being cached.\n",
            "100000 loops, best of 3: 18 µs per loop\n"
          ],
          "name": "stdout"
        }
      ]
    },
    {
      "cell_type": "markdown",
      "metadata": {
        "id": "aHj_Bmhza-ZA"
      },
      "source": [
        "`vec_fft` is bit faster than `do_dft`, which has a large `np.dot`, but perhaps this is just due to caching. "
      ]
    },
    {
      "cell_type": "markdown",
      "metadata": {
        "id": "wi2WateUbYQF"
      },
      "source": [
        "# Benchmark runtime vs. N\n",
        "$N\\log(N)$\n",
        "We can run the functions at varoius sizes of $N$ and compare how they scale"
      ]
    },
    {
      "cell_type": "code",
      "metadata": {
        "colab": {
          "base_uri": "https://localhost:8080/"
        },
        "id": "GQ8xxi3ybh_a",
        "outputId": "148a4c68-a665-4f47-ce4a-4fc0ae1271ff"
      },
      "source": [
        "d = collections.defaultdict(list)\n",
        "ns = [6,7,8,9,10]\n",
        "\n",
        "for n in ns:\n",
        "\n",
        "  x = make_gauss(n=n)\n",
        "  N = x.shape[0]\n",
        "  d['N'].append(N)\n",
        "  W = dft_setup(N) # don't include in computation\n",
        "  res = %timeit -o np.fft.fft(x)\n",
        "  d['np.fft.fft'].append(res.best*1e6)\n",
        "  res = %timeit -o do_dft(W,x)\n",
        "  d['do_dft'].append(res.best*1e6)\n",
        "  res = %timeit -o vec_fft(x)\n",
        "  d['vec_fft'].append(res.best*1e6)\n",
        "\n",
        "df = pd.DataFrame(d)\n",
        "\n"
      ],
      "execution_count": null,
      "outputs": [
        {
          "output_type": "stream",
          "text": [
            "The slowest run took 9.25 times longer than the fastest. This could mean that an intermediate result is being cached.\n",
            "100000 loops, best of 3: 4.07 µs per loop\n",
            "The slowest run took 103.08 times longer than the fastest. This could mean that an intermediate result is being cached.\n",
            "100000 loops, best of 3: 6.66 µs per loop\n",
            "10000 loops, best of 3: 130 µs per loop\n",
            "The slowest run took 40.14 times longer than the fastest. This could mean that an intermediate result is being cached.\n",
            "100000 loops, best of 3: 4.96 µs per loop\n",
            "The slowest run took 8.90 times longer than the fastest. This could mean that an intermediate result is being cached.\n",
            "100000 loops, best of 3: 11.4 µs per loop\n",
            "The slowest run took 6.37 times longer than the fastest. This could mean that an intermediate result is being cached.\n",
            "1000 loops, best of 3: 160 µs per loop\n",
            "The slowest run took 7.12 times longer than the fastest. This could mean that an intermediate result is being cached.\n",
            "100000 loops, best of 3: 6.65 µs per loop\n",
            "The slowest run took 23.42 times longer than the fastest. This could mean that an intermediate result is being cached.\n",
            "10000 loops, best of 3: 35.1 µs per loop\n",
            "1000 loops, best of 3: 202 µs per loop\n",
            "The slowest run took 5.29 times longer than the fastest. This could mean that an intermediate result is being cached.\n",
            "100000 loops, best of 3: 10.4 µs per loop\n",
            "The slowest run took 6.14 times longer than the fastest. This could mean that an intermediate result is being cached.\n",
            "1000 loops, best of 3: 174 µs per loop\n",
            "1000 loops, best of 3: 264 µs per loop\n",
            "100000 loops, best of 3: 18 µs per loop\n",
            "1000 loops, best of 3: 746 µs per loop\n",
            "1000 loops, best of 3: 377 µs per loop\n"
          ],
          "name": "stdout"
        }
      ]
    },
    {
      "cell_type": "code",
      "metadata": {
        "colab": {
          "base_uri": "https://localhost:8080/",
          "height": 296
        },
        "id": "FZBierxwdMV-",
        "outputId": "3a0de825-1af7-4023-b866-bd2493aa34ef"
      },
      "source": [
        "df.plot(x='N',y=['np.fft.fft','do_dft','vec_fft'])\n"
      ],
      "execution_count": null,
      "outputs": [
        {
          "output_type": "execute_result",
          "data": {
            "text/plain": [
              "<matplotlib.axes._subplots.AxesSubplot at 0x7f875c8c5d68>"
            ]
          },
          "metadata": {
            "tags": []
          },
          "execution_count": 15
        },
        {
          "output_type": "display_data",
          "data": {
            "image/png": "[encoded data removed]",
            "text/plain": [
              "<Figure size 432x288 with 1 Axes>"
            ]
          },
          "metadata": {
            "tags": [],
            "needs_background": "light"
          }
        }
      ]
    },
    {
      "cell_type": "markdown",
      "metadata": {
        "id": "I6-SRcs2hUzZ"
      },
      "source": [
        "# FFT vs analytical solution\n",
        "We can work out the solution of a Gaussian\n",
        "$\\exp(-\\pi x^2) \\rightarrow \\exp(-\\pi u^2)$"
      ]
    },
    {
      "cell_type": "markdown",
      "metadata": {
        "id": "JyDGqiR7A158"
      },
      "source": [
        "## Gaussian"
      ]
    },
    {
      "cell_type": "code",
      "metadata": {
        "colab": {
          "base_uri": "https://localhost:8080/",
          "height": 282
        },
        "id": "R_f5PVWziwIV",
        "outputId": "23c885ff-13ca-46bb-8540-c1a838b8d6e0"
      },
      "source": [
        "n=5\n",
        "N=2**n\n",
        "std=1/(np.sqrt(2)*np.pi)\n",
        "x_dom = np.linspace(-10*std,10*std,N)\n",
        "x = np.exp(-np.pi*x_dom**2)\n",
        "x_f = np.fft.fftshift(np.fft.fft(np.fft.ifftshift(x)))\n",
        "pd.Series(x).plot(label='x',legend=True)\n",
        "pd.Series(x_f.real).plot(label='Re x_f',legend=True)\n",
        "pd.Series(x_f.imag).plot(label='Im x_f',legend=True)"
      ],
      "execution_count": 2,
      "outputs": [
        {
          "output_type": "execute_result",
          "data": {
            "text/plain": [
              "<matplotlib.axes._subplots.AxesSubplot at 0x7f9887053240>"
            ]
          },
          "metadata": {
            "tags": []
          },
          "execution_count": 2
        },
        {
          "output_type": "display_data",
          "data": {
            "image/png": "[encoded data removed]",
            "text/plain": [
              "<Figure size 432x288 with 1 Axes>"
            ]
          },
          "metadata": {
            "tags": [],
            "needs_background": "light"
          }
        }
      ]
    },
    {
      "cell_type": "code",
      "metadata": {
        "colab": {
          "base_uri": "https://localhost:8080/"
        },
        "id": "OIWuzz6EsDke",
        "outputId": "5c409193-6366-44b8-8262-2af947a9ce97"
      },
      "source": [
        "x_dom"
      ],
      "execution_count": null,
      "outputs": [
        {
          "output_type": "execute_result",
          "data": {
            "text/plain": [
              "array([-2.25079079, -2.10557848, -1.96036617, -1.81515386, -1.66994155,\n",
              "       -1.52472925, -1.37951694, -1.23430463, -1.08909232, -0.94388001,\n",
              "       -0.7986677 , -0.65345539, -0.50824308, -0.36303077, -0.21781846,\n",
              "       -0.07260615,  0.07260615,  0.21781846,  0.36303077,  0.50824308,\n",
              "        0.65345539,  0.7986677 ,  0.94388001,  1.08909232,  1.23430463,\n",
              "        1.37951694,  1.52472925,  1.66994155,  1.81515386,  1.96036617,\n",
              "        2.10557848,  2.25079079])"
            ]
          },
          "metadata": {
            "tags": []
          },
          "execution_count": 55
        }
      ]
    },
    {
      "cell_type": "markdown",
      "metadata": {
        "id": "cD6PA_v5--Nv"
      },
      "source": [
        "Above we can see the imaginary part is not zero. It turns out this is because our function is not properly centred. There is no `x=0` value, but instead the middle pixels are symmetric. Let's see what happens when we fix this."
      ]
    },
    {
      "cell_type": "code",
      "metadata": {
        "colab": {
          "base_uri": "https://localhost:8080/",
          "height": 282
        },
        "id": "vof6q_EW_Ny5",
        "outputId": "9ffa3f52-c152-472c-8114-d858d77d1643"
      },
      "source": [
        "std=1/(np.sqrt(2)*np.pi)\n",
        "x_dom = 10*std*np.arange(-N//2,N//2)/(N//2)\n",
        "x = np.exp(-np.pi*x_dom**2)\n",
        "x_f = np.fft.fftshift(np.fft.fft(np.fft.ifftshift(x)))\n",
        "pd.Series(x).plot(label='x',legend=True)\n",
        "pd.Series(x_f.real).plot(label='Re x_f',legend=True)\n",
        "pd.Series(x_f.imag).plot(label='Im x_f',legend=True)"
      ],
      "execution_count": 52,
      "outputs": [
        {
          "output_type": "execute_result",
          "data": {
            "text/plain": [
              "<matplotlib.axes._subplots.AxesSubplot at 0x7f987da9e7f0>"
            ]
          },
          "metadata": {
            "tags": []
          },
          "execution_count": 52
        },
        {
          "output_type": "display_data",
          "data": {
            "image/png": "[encoded data removed]",
            "text/plain": [
              "<Figure size 432x288 with 1 Axes>"
            ]
          },
          "metadata": {
            "tags": [],
            "needs_background": "light"
          }
        }
      ]
    },
    {
      "cell_type": "code",
      "metadata": {
        "colab": {
          "base_uri": "https://localhost:8080/"
        },
        "id": "FZLkAMBeASSW",
        "outputId": "44306371-2aac-4832-e024-dac6107776cf"
      },
      "source": [
        "x_dom"
      ],
      "execution_count": 53,
      "outputs": [
        {
          "output_type": "execute_result",
          "data": {
            "text/plain": [
              "array([-2.25079079, -2.11011637, -1.96944194, -1.82876752, -1.68809309,\n",
              "       -1.54741867, -1.40674424, -1.26606982, -1.1253954 , -0.98472097,\n",
              "       -0.84404655, -0.70337212, -0.5626977 , -0.42202327, -0.28134885,\n",
              "       -0.14067442,  0.        ,  0.14067442,  0.28134885,  0.42202327,\n",
              "        0.5626977 ,  0.70337212,  0.84404655,  0.98472097,  1.1253954 ,\n",
              "        1.26606982,  1.40674424,  1.54741867,  1.68809309,  1.82876752,\n",
              "        1.96944194,  2.11011637])"
            ]
          },
          "metadata": {
            "tags": []
          },
          "execution_count": 53
        }
      ]
    },
    {
      "cell_type": "markdown",
      "metadata": {
        "id": "cdx6a3nBAiTx"
      },
      "source": [
        "Note the slignt offset. The step size is different. Each frequency has a matching pair, except the dc (zero) component and the Nyquist (in this case negative)"
      ]
    },
    {
      "cell_type": "code",
      "metadata": {
        "colab": {
          "base_uri": "https://localhost:8080/"
        },
        "id": "NH_CXDtt_7nk",
        "outputId": "08750326-3db2-45e8-e5d4-2191a085350c"
      },
      "source": [
        "((x_f.real)**2).sum(), ((x_f.imag)**2).sum(), ((x_f)**2).sum(), (x**2).sum()*N # Parseval's theorem check"
      ],
      "execution_count": 5,
      "outputs": [
        {
          "output_type": "execute_result",
          "data": {
            "text/plain": [
              "(160.84954386379692, 0.0, (160.84954386379692+0j), 160.84954386379692)"
            ]
          },
          "metadata": {
            "tags": []
          },
          "execution_count": 5
        }
      ]
    },
    {
      "cell_type": "markdown",
      "metadata": {
        "id": "Am0rogGzR2gj"
      },
      "source": [
        "Note that we can explain the appearance of the imaginary part through the shift property. If we shift `x_dom` over by $x_0$, we get the new DFT to be $\\exp (2\\pi i x_0 k) \\exp(-\\pi u^2) = [\\cos(2\\pi i x_0 k) - i\\sin(2\\pi i x_0 k)][\\exp(-\\pi x^2])$. So the answer is the Gaussian from the unshifted FT, with the real part  now multipled by a $\\cos$ term, and the imaginary by a $-\\sin$ term. Indeed we see this in the plot.\n",
        "\n",
        "As the shift increases, the frequency increases."
      ]
    },
    {
      "cell_type": "code",
      "metadata": {
        "colab": {
          "base_uri": "https://localhost:8080/",
          "height": 282
        },
        "id": "KYBTlKneR6y_",
        "outputId": "b83079fb-a849-442f-b1b9-773ad0d9ea94"
      },
      "source": [
        "n=5\n",
        "N=2**n\n",
        "std=1/(np.sqrt(2)*np.pi)\n",
        "x_dom = 10*std*np.arange(-N//2,N//2)/(N//2)\n",
        "x0 = x_dom[1]-x_dom[0]\n",
        "\n",
        "x_dom -= 1*x0\n",
        "x = np.exp(-np.pi*x_dom**2)\n",
        "x_f = np.fft.fftshift(np.fft.fft(np.fft.ifftshift(x)))\n",
        "pd.Series(x).plot(label='x',legend=True)\n",
        "pd.Series(x_f.real).plot(label='Re x_f',legend=True)\n",
        "pd.Series(x_f.imag).plot(label='Im x_f',legend=True)"
      ],
      "execution_count": 66,
      "outputs": [
        {
          "output_type": "execute_result",
          "data": {
            "text/plain": [
              "<matplotlib.axes._subplots.AxesSubplot at 0x7f987d841f28>"
            ]
          },
          "metadata": {
            "tags": []
          },
          "execution_count": 66
        },
        {
          "output_type": "display_data",
          "data": {
            "image/png": "[encoded data removed]",
            "text/plain": [
              "<Figure size 432x288 with 1 Axes>"
            ]
          },
          "metadata": {
            "tags": [],
            "needs_background": "light"
          }
        }
      ]
    },
    {
      "cell_type": "markdown",
      "metadata": {
        "id": "0J3LgGFYTq4z"
      },
      "source": [
        "Larger shift"
      ]
    },
    {
      "cell_type": "code",
      "metadata": {
        "colab": {
          "base_uri": "https://localhost:8080/",
          "height": 282
        },
        "id": "y_TDkPHKTpAo",
        "outputId": "34f68a48-afc3-47e4-9376-673504bab36f"
      },
      "source": [
        "x_dom = 10*std*np.arange(-N//2,N//2)/(N//2)\n",
        "x_dom -= 3*x0\n",
        "x = np.exp(-np.pi*x_dom**2)\n",
        "x_f = np.fft.fftshift(np.fft.fft(np.fft.ifftshift(x)))\n",
        "pd.Series(x).plot(label='x',legend=True)\n",
        "pd.Series(x_f.real).plot(label='Re x_f',legend=True)\n",
        "pd.Series(x_f.imag).plot(label='Im x_f',legend=True)"
      ],
      "execution_count": 72,
      "outputs": [
        {
          "output_type": "execute_result",
          "data": {
            "text/plain": [
              "<matplotlib.axes._subplots.AxesSubplot at 0x7f987d6914a8>"
            ]
          },
          "metadata": {
            "tags": []
          },
          "execution_count": 72
        },
        {
          "output_type": "display_data",
          "data": {
            "image/png": "[encoded data removed]",
            "text/plain": [
              "<Figure size 432x288 with 1 Axes>"
            ]
          },
          "metadata": {
            "tags": [],
            "needs_background": "light"
          }
        }
      ]
    },
    {
      "cell_type": "markdown",
      "metadata": {
        "id": "DXeW4DpQTt_y"
      },
      "source": [
        "Originally we had the wrong domain, but we can work out the mapping of them, since they are both constant steps.\n",
        "\n",
        "a very tiny shift, so the frequency was small "
      ]
    },
    {
      "cell_type": "code",
      "metadata": {
        "colab": {
          "base_uri": "https://localhost:8080/",
          "height": 282
        },
        "id": "iRIdX5GoT28w",
        "outputId": "e3572375-c416-437d-ad91-9241647bf013"
      },
      "source": [
        "x_dom = 10*std*np.arange(-N//2,N//2)/(N//2)\n",
        "x_dom_ = np.linspace(-10*std,10*std,N)\n",
        "x0 = x_dom_[1] - x_dom[1]\n",
        "x_dom -= x0\n",
        "x = np.exp(-np.pi*x_dom**2)\n",
        "x_f = np.fft.fftshift(np.fft.fft(np.fft.ifftshift(x)))\n",
        "pd.Series(x).plot(label='x',legend=True)\n",
        "pd.Series(x_f.real).plot(label='Re x_f',legend=True)\n",
        "pd.Series(x_f.imag).plot(label='Im x_f',legend=True)"
      ],
      "execution_count": 54,
      "outputs": [
        {
          "output_type": "execute_result",
          "data": {
            "text/plain": [
              "<matplotlib.axes._subplots.AxesSubplot at 0x7f987da24d30>"
            ]
          },
          "metadata": {
            "tags": []
          },
          "execution_count": 54
        },
        {
          "output_type": "display_data",
          "data": {
            "image/png": "[encoded data removed]",
            "text/plain": [
              "<Figure size 432x288 with 1 Axes>"
            ]
          },
          "metadata": {
            "tags": [],
            "needs_background": "light"
          }
        }
      ]
    },
    {
      "cell_type": "markdown",
      "metadata": {
        "id": "5k8QY9nQcqEp"
      },
      "source": [
        "If we work out the linear mapping `x_dom_`$ = a$ `x_dom` $ + b$, we can use $FT[\\exp(-\\pi(ax+b))^2] = 1/a \\exp(-\\pi(u/a))^2\\exp(-2 \\pi i (-b/a)k/N)$\n",
        "\n",
        "* https://www.quora.com/How-can-I-calculate-the-Fourier-transform-of-a-scaled-and-shifted-signal-Which-order-should-I-respect"
      ]
    },
    {
      "cell_type": "code",
      "metadata": {
        "colab": {
          "base_uri": "https://localhost:8080/"
        },
        "id": "wULd9Vi9WSSm",
        "outputId": "8bac774e-2160-4ebf-d639-33377a0aadb5"
      },
      "source": [
        "a=(x_dom.max()-x_dom.min())/(x_dom_.max()-x_dom.min())\n",
        "a"
      ],
      "execution_count": 105,
      "outputs": [
        {
          "output_type": "execute_result",
          "data": {
            "text/plain": [
              "0.9687499999999999"
            ]
          },
          "metadata": {
            "tags": []
          },
          "execution_count": 105
        }
      ]
    },
    {
      "cell_type": "code",
      "metadata": {
        "colab": {
          "base_uri": "https://localhost:8080/"
        },
        "id": "hpdydkHOZH48",
        "outputId": "289f0589-e8ab-47b0-b168-dbe794ffe89b"
      },
      "source": [
        "b_over_a = x_dom.min()-x_dom.min()/a\n",
        "b_over_a"
      ],
      "execution_count": 143,
      "outputs": [
        {
          "output_type": "execute_result",
          "data": {
            "text/plain": [
              "0.07260615452879904"
            ]
          },
          "metadata": {
            "tags": []
          },
          "execution_count": 143
        }
      ]
    },
    {
      "cell_type": "code",
      "metadata": {
        "colab": {
          "base_uri": "https://localhost:8080/",
          "height": 282
        },
        "id": "YbOQiupUeA1A",
        "outputId": "33687b8c-43fe-4441-b6f7-0996636a88a5"
      },
      "source": [
        "n=5\n",
        "N=2**n\n",
        "x_dom = 10*std*np.arange(-N//2,N//2)/(N//2)\n",
        "x = np.exp(-np.pi*x_dom**2)\n",
        "x_step = x_dom[1] - x_dom[0]\n",
        "u_dom = np.arange(-1/(x_step)/2,1/(x_step)/2,1/(x_step)/N)\n",
        "x_f_analytic = np.sqrt(N)/a*np.exp(-np.pi*(u_dom/a)**2)*np.exp(-2j*np.pi*(-b_over_a)*u_dom) # not sure why sqrt needed, since not in DFT definition in np.fft docs\n",
        "pd.Series(x).plot(label='x',legend=True)\n",
        "pd.Series(x_f_analytic.real).plot(label='Re x_f',legend=True)\n",
        "pd.Series(x_f_analytic.imag).plot(label='Im x_f',legend=True)"
      ],
      "execution_count": 145,
      "outputs": [
        {
          "output_type": "execute_result",
          "data": {
            "text/plain": [
              "<matplotlib.axes._subplots.AxesSubplot at 0x7f987caa3908>"
            ]
          },
          "metadata": {
            "tags": []
          },
          "execution_count": 145
        },
        {
          "output_type": "display_data",
          "data": {
            "image/png": "[encoded data removed]",
            "text/plain": [
              "<Figure size 432x288 with 1 Axes>"
            ]
          },
          "metadata": {
            "tags": [],
            "needs_background": "light"
          }
        }
      ]
    },
    {
      "cell_type": "code",
      "metadata": {
        "colab": {
          "base_uri": "https://localhost:8080/"
        },
        "id": "cZgEFIJOh5me",
        "outputId": "8b2afc61-aff8-4532-b8cc-0d2c945d7ed4"
      },
      "source": [
        "u_dom"
      ],
      "execution_count": 129,
      "outputs": [
        {
          "output_type": "execute_result",
          "data": {
            "text/plain": [
              "array([-3.55430635e+00, -3.33216220e+00, -3.11001806e+00, -2.88787391e+00,\n",
              "       -2.66572976e+00, -2.44358562e+00, -2.22144147e+00, -1.99929732e+00,\n",
              "       -1.77715318e+00, -1.55500903e+00, -1.33286488e+00, -1.11072073e+00,\n",
              "       -8.88576588e-01, -6.66432441e-01, -4.44288294e-01, -2.22144147e-01,\n",
              "       -1.77635684e-15,  2.22144147e-01,  4.44288294e-01,  6.66432441e-01,\n",
              "        8.88576588e-01,  1.11072073e+00,  1.33286488e+00,  1.55500903e+00,\n",
              "        1.77715318e+00,  1.99929732e+00,  2.22144147e+00,  2.44358562e+00,\n",
              "        2.66572976e+00,  2.88787391e+00,  3.11001806e+00,  3.33216220e+00])"
            ]
          },
          "metadata": {
            "tags": []
          },
          "execution_count": 129
        }
      ]
    },
    {
      "cell_type": "markdown",
      "metadata": {
        "id": "f7ZQltIrdnpl"
      },
      "source": [
        "This is consistent with the Gaussian wtih `x_dom_`, because it is shrunk ($a\\sim0.968$) a bit from the case with `x_dom`, and shifted (very slightly because $x0 \\sim 0.07$) the right way."
      ]
    },
    {
      "cell_type": "markdown",
      "metadata": {
        "id": "aO3ShNB9AyM-"
      },
      "source": [
        "## $\\sin$"
      ]
    },
    {
      "cell_type": "code",
      "metadata": {
        "colab": {
          "base_uri": "https://localhost:8080/",
          "height": 282
        },
        "id": "8OM4C3Dmji6j",
        "outputId": "0414fe99-662f-4fe4-92ff-988d9a01a24a"
      },
      "source": [
        "n=7\n",
        "N=2**n\n",
        "x_dom = np.pi*np.arange(-N//2,N//2)/(N//2)\n",
        "x = np.sin(x_dom)\n",
        "x_f = np.fft.fftshift(np.fft.fft(np.fft.ifftshift(x)))\n",
        "pd.Series(x).plot(label='x',legend=True)"
      ],
      "execution_count": 6,
      "outputs": [
        {
          "output_type": "execute_result",
          "data": {
            "text/plain": [
              "<matplotlib.axes._subplots.AxesSubplot at 0x7f98870e14e0>"
            ]
          },
          "metadata": {
            "tags": []
          },
          "execution_count": 6
        },
        {
          "output_type": "display_data",
          "data": {
            "image/png": "[encoded data removed]",
            "text/plain": [
              "<Figure size 432x288 with 1 Axes>"
            ]
          },
          "metadata": {
            "tags": [],
            "needs_background": "light"
          }
        }
      ]
    },
    {
      "cell_type": "code",
      "metadata": {
        "colab": {
          "base_uri": "https://localhost:8080/",
          "height": 282
        },
        "id": "aQjKPCXelBp3",
        "outputId": "0c3b836d-7f04-4b3f-86e6-058067ad2ddc"
      },
      "source": [
        "pd.Series(x_f.real).plot(label='Re x_f',legend=True)\n",
        "pd.Series(x_f.imag).plot(label='Im x_f',legend=True)"
      ],
      "execution_count": 7,
      "outputs": [
        {
          "output_type": "execute_result",
          "data": {
            "text/plain": [
              "<matplotlib.axes._subplots.AxesSubplot at 0x7f98869fd908>"
            ]
          },
          "metadata": {
            "tags": []
          },
          "execution_count": 7
        },
        {
          "output_type": "display_data",
          "data": {
            "image/png": "[encoded data removed]",
            "text/plain": [
              "<Figure size 432x288 with 1 Axes>"
            ]
          },
          "metadata": {
            "tags": [],
            "needs_background": "light"
          }
        }
      ]
    }
  ]
}