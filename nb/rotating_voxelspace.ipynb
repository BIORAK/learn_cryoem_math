{
  "nbformat": 4,
  "nbformat_minor": 0,
  "metadata": {
    "colab": {
      "name": "rotating_voxelspace.ipynb",
      "provenance": [],
      "collapsed_sections": [],
      "toc_visible": true,
      "machine_shape": "hm",
      "authorship_tag": "ABX9TyN36Ii7fKX2OKqegaFNuLRQ",
      "include_colab_link": true
    },
    "kernelspec": {
      "name": "python3",
      "display_name": "Python 3"
    },
    "language_info": {
      "name": "python"
    }
  },
  "cells": [
    {
      "cell_type": "markdown",
      "metadata": {
        "id": "view-in-github",
        "colab_type": "text"
      },
      "source": [
        "<a href=\"https://colab.research.google.com/github/geoffwoollard/learn_cryoem_math/blob/master/nb/rotating_voxelspace.ipynb\" target=\"_parent\"><img src=\"https://colab.research.google.com/assets/colab-badge.svg\" alt=\"Open In Colab\"/></a>"
      ]
    },
    {
      "cell_type": "markdown",
      "metadata": {
        "id": "YS3nrasfu2Wn"
      },
      "source": [
        "# Goal: rotate 3d voxelized maps\n",
        "* this involves several steps\n",
        "  * coming up with xyz points that describe the voxel\n",
        "  * rotating the points\n",
        "  * interpolating the map at the new points"
      ]
    },
    {
      "cell_type": "markdown",
      "metadata": {
        "id": "8kUIA-oA2b5F"
      },
      "source": [
        "# Setup"
      ]
    },
    {
      "cell_type": "code",
      "metadata": {
        "colab": {
          "base_uri": "https://localhost:8080/"
        },
        "id": "4_JZeJ1HomkH",
        "outputId": "0bdaa5ab-dc62-4623-c4d3-62a5f1da5d54"
      },
      "source": [
        "!pip install raster_geometry # good for geometric shapes on voxelized arrays\n",
        "import raster_geometry"
      ],
      "execution_count": 2,
      "outputs": [
        {
          "output_type": "stream",
          "text": [
            "Requirement already satisfied: raster_geometry in /usr/local/lib/python3.7/dist-packages (0.1.4.1)\n",
            "Requirement already satisfied: flyingcircus-numeric in /usr/local/lib/python3.7/dist-packages (from raster_geometry) (0.1.1.2)\n",
            "Requirement already satisfied: scipy in /usr/local/lib/python3.7/dist-packages (from raster_geometry) (1.4.1)\n",
            "Requirement already satisfied: appdirs in /usr/local/lib/python3.7/dist-packages (from raster_geometry) (1.4.4)\n",
            "Requirement already satisfied: numpy in /usr/local/lib/python3.7/dist-packages (from raster_geometry) (1.19.5)\n",
            "Requirement already satisfied: flyingcircus in /usr/local/lib/python3.7/dist-packages (from raster_geometry) (0.1.3.2)\n",
            "Requirement already satisfied: setuptools in /usr/local/lib/python3.7/dist-packages (from raster_geometry) (56.1.0)\n",
            "Requirement already satisfied: blessed in /usr/local/lib/python3.7/dist-packages (from flyingcircus-numeric->raster_geometry) (1.18.0)\n",
            "Requirement already satisfied: setuptools-scm in /usr/local/lib/python3.7/dist-packages (from flyingcircus-numeric->raster_geometry) (6.0.1)\n",
            "Requirement already satisfied: six>=1.9.0 in /usr/local/lib/python3.7/dist-packages (from blessed->flyingcircus-numeric->raster_geometry) (1.15.0)\n",
            "Requirement already satisfied: wcwidth>=0.1.4 in /usr/local/lib/python3.7/dist-packages (from blessed->flyingcircus-numeric->raster_geometry) (0.2.5)\n"
          ],
          "name": "stdout"
        }
      ]
    },
    {
      "cell_type": "code",
      "metadata": {
        "id": "OjgyHnqupUEw"
      },
      "source": [
        "import numpy as np\n",
        "import pandas as pd\n",
        "import matplotlib.pyplot as plt\n",
        "from scipy.ndimage import map_coordinates\n",
        "from scipy.ndimage import rotate\n",
        "from scipy.spatial import cKDTree\n",
        "\n",
        "def doplt(arr_2d): return plt.imshow(arr_2d,cmap='gray')"
      ],
      "execution_count": 3,
      "outputs": []
    },
    {
      "cell_type": "code",
      "metadata": {
        "colab": {
          "base_uri": "https://localhost:8080/"
        },
        "id": "o0XHo34IpZUv",
        "outputId": "644ccb19-31e7-45d6-f338-afd772057f0b"
      },
      "source": [
        "!wget https://raw.githubusercontent.com/geoffwoollard/learn_cryoem_math/5e9dff4905670ff459412120ae6da5583e91e3e6/src/coords.py # my own code\n",
        "import coords"
      ],
      "execution_count": 4,
      "outputs": [
        {
          "output_type": "stream",
          "text": [
            "--2021-05-12 20:22:54--  https://raw.githubusercontent.com/geoffwoollard/learn_cryoem_math/5e9dff4905670ff459412120ae6da5583e91e3e6/src/coords.py\n",
            "Resolving raw.githubusercontent.com (raw.githubusercontent.com)... 185.199.108.133, 185.199.109.133, 185.199.110.133, ...\n",
            "Connecting to raw.githubusercontent.com (raw.githubusercontent.com)|185.199.108.133|:443... connected.\n",
            "HTTP request sent, awaiting response... 200 OK\n",
            "Length: 2803 (2.7K) [text/plain]\n",
            "Saving to: ‘coords.py.2’\n",
            "\n",
            "coords.py.2         100%[===================>]   2.74K  --.-KB/s    in 0s      \n",
            "\n",
            "2021-05-12 20:22:54 (47.2 MB/s) - ‘coords.py.2’ saved [2803/2803]\n",
            "\n"
          ],
          "name": "stdout"
        }
      ]
    },
    {
      "cell_type": "markdown",
      "metadata": {
        "id": "bdivAAETsbTR"
      },
      "source": [
        "# rotation in 2D"
      ]
    },
    {
      "cell_type": "code",
      "metadata": {
        "colab": {
          "base_uri": "https://localhost:8080/",
          "height": 283
        },
        "id": "i9Yx_lAqpLyv",
        "outputId": "a7d57e02-d8de-48c0-bf97-f845ea92941a"
      },
      "source": [
        "N = 64\n",
        "sphere = raster_geometry.sphere([N,N,N],radius=N//8,position=.75).astype(np.float32)\n",
        "circle = sphere.sum(-1)\n",
        "doplt(circle)"
      ],
      "execution_count": 77,
      "outputs": [
        {
          "output_type": "execute_result",
          "data": {
            "text/plain": [
              "<matplotlib.image.AxesImage at 0x7fea1fcdb350>"
            ]
          },
          "metadata": {
            "tags": []
          },
          "execution_count": 77
        },
        {
          "output_type": "display_data",
          "data": {
            "image/png": "[encoded data removed]",
            "text/plain": [
              "<Figure size 432x288 with 1 Axes>"
            ]
          },
          "metadata": {
            "tags": [],
            "needs_background": "light"
          }
        }
      ]
    },
    {
      "cell_type": "code",
      "metadata": {
        "colab": {
          "base_uri": "https://localhost:8080/",
          "height": 283
        },
        "id": "YX5aCOAFzBq0",
        "outputId": "244cde2e-db88-4f26-ff78-3f438519c502"
      },
      "source": [
        "doplt(rotate(circle,angle=45,reshape=False))"
      ],
      "execution_count": 78,
      "outputs": [
        {
          "output_type": "execute_result",
          "data": {
            "text/plain": [
              "<matplotlib.image.AxesImage at 0x7fea1fc463d0>"
            ]
          },
          "metadata": {
            "tags": []
          },
          "execution_count": 78
        },
        {
          "output_type": "display_data",
          "data": {
            "image/png": "[encoded data removed]",
            "text/plain": [
              "<Figure size 432x288 with 1 Axes>"
            ]
          },
          "metadata": {
            "tags": [],
            "needs_background": "light"
          }
        }
      ]
    },
    {
      "cell_type": "code",
      "metadata": {
        "colab": {
          "base_uri": "https://localhost:8080/",
          "height": 283
        },
        "id": "aIC6j1xbprSW",
        "outputId": "e1b76dc6-1fcd-4293-a4a2-e615cd104e46"
      },
      "source": [
        "xy = coords.coords_n_by_d(N=N,d=2)\n",
        "R = coords.EA_to_R3(phi=np.pi/4,theta=0)[:2,:2] # rotation about z axis \n",
        "xy_rot = (R.T.dot(xy.T) + N//2) # rotate frame vs rotate object\n",
        "circle_rot = map_coordinates(circle,xy_rot,order=1).reshape(N,N) # order 1 for linear. otherwise might be too slow for higher order\n",
        "doplt(circle_rot)"
      ],
      "execution_count": 79,
      "outputs": [
        {
          "output_type": "execute_result",
          "data": {
            "text/plain": [
              "<matplotlib.image.AxesImage at 0x7fea28306ed0>"
            ]
          },
          "metadata": {
            "tags": []
          },
          "execution_count": 79
        },
        {
          "output_type": "display_data",
          "data": {
            "image/png": "[encoded data removed]",
            "text/plain": [
              "<Figure size 432x288 with 1 Axes>"
            ]
          },
          "metadata": {
            "tags": [],
            "needs_background": "light"
          }
        }
      ]
    },
    {
      "cell_type": "markdown",
      "metadata": {
        "id": "gV6b2Yzjse5R"
      },
      "source": [
        "# rotation in 3D"
      ]
    },
    {
      "cell_type": "code",
      "metadata": {
        "colab": {
          "base_uri": "https://localhost:8080/",
          "height": 283
        },
        "id": "5snCQye6rBte",
        "outputId": "39707342-9925-41e6-d9c5-3b18595b9874"
      },
      "source": [
        "N = 64\n",
        "sphere = raster_geometry.sphere([N,N,N],radius=N//8,position=.75).astype(np.float32)\n",
        "doplt(sphere.sum(-1))"
      ],
      "execution_count": 65,
      "outputs": [
        {
          "output_type": "execute_result",
          "data": {
            "text/plain": [
              "<matplotlib.image.AxesImage at 0x7fea20008ed0>"
            ]
          },
          "metadata": {
            "tags": []
          },
          "execution_count": 65
        },
        {
          "output_type": "display_data",
          "data": {
            "image/png": "[encoded data removed]",
            "text/plain": [
              "<Figure size 432x288 with 1 Axes>"
            ]
          },
          "metadata": {
            "tags": [],
            "needs_background": "light"
          }
        }
      ]
    },
    {
      "cell_type": "code",
      "metadata": {
        "colab": {
          "base_uri": "https://localhost:8080/",
          "height": 283
        },
        "id": "QNSMZuq5suWZ",
        "outputId": "90748662-a4b1-4950-9e96-b77a9f7fc19d"
      },
      "source": [
        "xyz = coords.coords_n_by_d(N=N,d=3) # xyz points cooresponding to the voxel coordinates\n",
        "R = coords.EA_to_R3(phi=np.pi/4,theta=0)\n",
        "xyz_rot = (R.T.dot(xyz.T) + N//2)\n",
        "sphere_rot = map_coordinates(sphere,xyz_rot,order=1).reshape(N,N,N)\n",
        "doplt(sphere_rot.sum(-1))"
      ],
      "execution_count": 80,
      "outputs": [
        {
          "output_type": "execute_result",
          "data": {
            "text/plain": [
              "<matplotlib.image.AxesImage at 0x7fea1fcc68d0>"
            ]
          },
          "metadata": {
            "tags": []
          },
          "execution_count": 80
        },
        {
          "output_type": "display_data",
          "data": {
            "image/png": "[encoded data removed]",
            "text/plain": [
              "<Figure size 432x288 with 1 Axes>"
            ]
          },
          "metadata": {
            "tags": [],
            "needs_background": "light"
          }
        }
      ]
    },
    {
      "cell_type": "code",
      "metadata": {
        "colab": {
          "base_uri": "https://localhost:8080/"
        },
        "id": "S-DA_v8_w7xe",
        "outputId": "fb5f6182-7b42-4af5-825c-de84cb179799"
      },
      "source": [
        "xyz_rot.shape"
      ],
      "execution_count": 73,
      "outputs": [
        {
          "output_type": "execute_result",
          "data": {
            "text/plain": [
              "(3, 262144)"
            ]
          },
          "metadata": {
            "tags": []
          },
          "execution_count": 73
        }
      ]
    },
    {
      "cell_type": "code",
      "metadata": {
        "colab": {
          "base_uri": "https://localhost:8080/"
        },
        "id": "TAggudiSylXe",
        "outputId": "afe534b2-cdb9-4e2f-9ade-7faa792e9596"
      },
      "source": [
        "np.unique(sphere.shape).size == 1"
      ],
      "execution_count": 74,
      "outputs": [
        {
          "output_type": "execute_result",
          "data": {
            "text/plain": [
              "True"
            ]
          },
          "metadata": {
            "tags": []
          },
          "execution_count": 74
        }
      ]
    },
    {
      "cell_type": "markdown",
      "metadata": {
        "id": "TfwtucWHtMAG"
      },
      "source": [
        "## rotate_map_3d function"
      ]
    },
    {
      "cell_type": "code",
      "metadata": {
        "colab": {
          "base_uri": "https://localhost:8080/",
          "height": 285
        },
        "id": "bZ7cIBw_yLVl",
        "outputId": "955f9014-6ed1-42ff-aefe-88f10a06f49b"
      },
      "source": [
        "def rotate_map_3d(map_3d, rot,order=1,xyz=None):\n",
        "  \"\"\"\n",
        "  rotate 3d voxelized maps\n",
        "  this involves several steps\n",
        "  1. coming up with xyz points that describe the voxel. \n",
        "    we have a 3 vector for each voxel. this is made by `coords.coords_n_by_d(N=N,d=2)` and matches the way a 3d array is reshaped. \n",
        "    it assumes a 3d array in indexed such that map_3d[x,y,z] is the value at voxel [x,y,z]\n",
        "  2. rotating the points. the rotation matrix `rot` is 3x3 and `rot.dot(xyz[0]) ` rotates the 3 vector. \n",
        "    When we do a list of points with shape (n_points,3) we have to match the shapes, so `xyz_rot = (rot.dot(xyz.T)).T `. \n",
        "    Don't forget to  centre coordinates before rotating, otherwise if you use non centred points the origin would be at the top corner of the array.\n",
        "  3. interpolating the map at the new points\n",
        "    `scipy.ndimage.map_coordinates(input, coordinates)` returns the value of input (interpolated) at coordinates, where coordinates.shape = (3,n_points). \n",
        "    Note that this is the transpose of what `coords.coords_n_by_d` returns. \n",
        "    Note that the `coordinates` are relative to the indexing where input[0,0,0] is the top right (not the middle). \n",
        "    Stricly speaking this returns the value of the non rotated input at the rotated coordinates, and this rotates the frame and keep the input fixed. \n",
        "    This is the same as doing the inverse rotation of the object and keeping the frame fixed. (that's why we use rot.T)\n",
        "  \"\"\"\n",
        "  assert np.unique(map_3d.shape).size == 1, 'map must be cube, not non-cubic rectangular parallelepiped'\n",
        "  N = map_3d.shape[0]\n",
        "  if xyz is None:\n",
        "    xyz = coords.coords_n_by_d(N=N,d=3) # xyz points cooresponding to the voxel coordinates\n",
        "  xyz_rot = (rot.T.dot(xyz.T) + N//2)\n",
        "  map_3d_rot = map_coordinates(map_3d,xyz_rot,order=order).reshape(N,N,N) # reshaped coresponding to xyz. if use mask can do custom reshape\n",
        "  return map_3d_rot \n",
        "\n",
        "N=256\n",
        "map_3d = raster_geometry.sphere([N,N,N],radius=N//8,position=.75).astype(np.float32)\n",
        "rot = coords.EA_to_R3(phi=np.pi/4,theta=0)\n",
        "map_3d_rot = rotate_map_3d(map_3d, rot,order=1)\n",
        "doplt(map_3d_rot.sum(-1))"
      ],
      "execution_count": 90,
      "outputs": [
        {
          "output_type": "execute_result",
          "data": {
            "text/plain": [
              "<matplotlib.image.AxesImage at 0x7fea1fadf810>"
            ]
          },
          "metadata": {
            "tags": []
          },
          "execution_count": 90
        },
        {
          "output_type": "display_data",
          "data": {
            "image/png": "[encoded data removed]",
            "text/plain": [
              "<Figure size 432x288 with 1 Axes>"
            ]
          },
          "metadata": {
            "tags": [],
            "needs_background": "light"
          }
        }
      ]
    },
    {
      "cell_type": "markdown",
      "metadata": {
        "id": "BEMifWV00oWf"
      },
      "source": [
        "## final test"
      ]
    },
    {
      "cell_type": "code",
      "metadata": {
        "colab": {
          "base_uri": "https://localhost:8080/"
        },
        "id": "pGDwUFeF0qPZ",
        "outputId": "37c91478-b51e-4d49-c1b4-ce746c6359d0"
      },
      "source": [
        "!rm geometry.py\n",
        "!wget https://raw.githubusercontent.com/geoffwoollard/learn_cryoem_math/5e9dff4905670ff459412120ae6da5583e91e3e6/src/geometry.py\n",
        "import geometry\n",
        "import importlib\n",
        "importlib.reload(geometry)"
      ],
      "execution_count": 9,
      "outputs": [
        {
          "output_type": "stream",
          "text": [
            "--2021-05-12 20:23:23--  https://raw.githubusercontent.com/geoffwoollard/learn_cryoem_math/5e9dff4905670ff459412120ae6da5583e91e3e6/src/geometry.py\n",
            "Resolving raw.githubusercontent.com (raw.githubusercontent.com)... 185.199.108.133, 185.199.109.133, 185.199.110.133, ...\n",
            "Connecting to raw.githubusercontent.com (raw.githubusercontent.com)|185.199.108.133|:443... connected.\n",
            "HTTP request sent, awaiting response... 200 OK\n",
            "Length: 1951 (1.9K) [text/plain]\n",
            "Saving to: ‘geometry.py’\n",
            "\n",
            "geometry.py         100%[===================>]   1.91K  --.-KB/s    in 0s      \n",
            "\n",
            "2021-05-12 20:23:24 (36.0 MB/s) - ‘geometry.py’ saved [1951/1951]\n",
            "\n"
          ],
          "name": "stdout"
        },
        {
          "output_type": "execute_result",
          "data": {
            "text/plain": [
              "<module 'geometry' from '/content/geometry.py'>"
            ]
          },
          "metadata": {
            "tags": []
          },
          "execution_count": 9
        }
      ]
    },
    {
      "cell_type": "code",
      "metadata": {
        "colab": {
          "base_uri": "https://localhost:8080/",
          "height": 283
        },
        "id": "Bbw04ASU1_oP",
        "outputId": "9d2f7924-5370-40f0-e690-007c0fc5cc9d"
      },
      "source": [
        "N=128\n",
        "map_3d = raster_geometry.sphere([N,N,N],radius=N//8,position=.75).astype(np.float32)\n",
        "rot = coords.EA_to_R3(phi=np.pi/4,theta=0)\n",
        "map_3d_rot = geometry.rotate_map_3d(map_3d, rot,order=1)\n",
        "doplt(map_3d_rot.sum(-1))"
      ],
      "execution_count": 96,
      "outputs": [
        {
          "output_type": "execute_result",
          "data": {
            "text/plain": [
              "<matplotlib.image.AxesImage at 0x7fea1f934850>"
            ]
          },
          "metadata": {
            "tags": []
          },
          "execution_count": 96
        },
        {
          "output_type": "display_data",
          "data": {
            "image/png": "[encoded data removed]",
            "text/plain": [
              "<Figure size 432x288 with 1 Axes>"
            ]
          },
          "metadata": {
            "tags": [],
            "needs_background": "light"
          }
        }
      ]
    },
    {
      "cell_type": "markdown",
      "metadata": {
        "id": "t_yyzxjy277Z"
      },
      "source": [
        "### benchmarking\n",
        "* run time goes from 350 ms to ~2.5 seconds for 128^3 vs 256^3 voxels"
      ]
    },
    {
      "cell_type": "code",
      "metadata": {
        "colab": {
          "base_uri": "https://localhost:8080/"
        },
        "id": "RmXxWt730wdE",
        "outputId": "acb8f53c-fe8f-443b-f8e9-eb71c141862f"
      },
      "source": [
        "np.random.seed(0)\n",
        "phi, theta, psi = np.random.uniform(0,2*np.pi,size=3)\n",
        "rot = coords.EA_to_R3(phi, theta, psi)\n",
        "for N in [16,32,64,128,256]:\n",
        "  map_3d = raster_geometry.sphere([N,N,N],radius=N//8,position=.75).astype(np.float32)\n",
        "  %timeit geometry.rotate_map_3d(map_3d, rot,order=1)"
      ],
      "execution_count": 49,
      "outputs": [
        {
          "output_type": "stream",
          "text": [
            "1000 loops, best of 5: 505 µs per loop\n",
            "100 loops, best of 5: 5.25 ms per loop\n",
            "10 loops, best of 5: 42.4 ms per loop\n",
            "1 loop, best of 5: 361 ms per loop\n",
            "1 loop, best of 5: 3.25 s per loop\n"
          ],
          "name": "stdout"
        }
      ]
    },
    {
      "cell_type": "markdown",
      "metadata": {
        "id": "iV7xKg4U3QUC"
      },
      "source": [
        "## masking (work in progress)\n",
        "* we can also rotate some points (apply a mask). this makes us only interpolate points inside our mask and speeds things up.\n",
        "* the idea is to only keep xyz coordinates that are close to the mask after rotated\n",
        "  * however, it requires finding out which points will rotate into the mask, and this is expensive (perhaps more expensive than just not using the mask). \n",
        "  * there's an expensive step where we compute the kdtree for the $N^3$ cartesian voxel coordinates. However, this only needs to be done once for a given N and is independent of the rotation. There's a high memory requirement and N ~ 512 may be too much for some systems."
      ]
    },
    {
      "cell_type": "code",
      "metadata": {
        "colab": {
          "base_uri": "https://localhost:8080/",
          "height": 297
        },
        "id": "Nw1HFCyI3iQZ",
        "outputId": "ce43d839-4328-4394-ce08-d5e29d0416fb"
      },
      "source": [
        "N=256\n",
        "map_3d = raster_geometry.sphere([N,N,N],radius=N//8,position=.7).astype(np.float32)\n",
        "#map_3d = raster_geometry.sphere([N,N,N],radius=N//10,position=.6).astype(np.float32)\n",
        "doplt(map_3d.sum(-1)) ; plt.title('unrotated')"
      ],
      "execution_count": 5,
      "outputs": [
        {
          "output_type": "execute_result",
          "data": {
            "text/plain": [
              "Text(0.5, 1.0, 'unrotated')"
            ]
          },
          "metadata": {
            "tags": []
          },
          "execution_count": 5
        },
        {
          "output_type": "display_data",
          "data": {
            "image/png": "[encoded data removed]",
            "text/plain": [
              "<Figure size 432x288 with 1 Axes>"
            ]
          },
          "metadata": {
            "tags": [],
            "needs_background": "light"
          }
        }
      ]
    },
    {
      "cell_type": "code",
      "metadata": {
        "colab": {
          "base_uri": "https://localhost:8080/",
          "height": 297
        },
        "id": "k3XwsJu8E2-j",
        "outputId": "ef9cc396-6e13-4859-a2a6-2c3bd1083bf7"
      },
      "source": [
        "np.random.seed(1)\n",
        "phi, theta, psi = np.random.uniform(0,2*np.pi,size=3)\n",
        "rot = coords.EA_to_R3(phi, theta, psi)\n",
        "map_3d_rot = geometry.rotate_map_3d(map_3d, rot, order=1)\n",
        "doplt(map_3d_rot.sum(-1)) ; plt.title('rotated')"
      ],
      "execution_count": 11,
      "outputs": [
        {
          "output_type": "execute_result",
          "data": {
            "text/plain": [
              "Text(0.5, 1.0, 'rotated')"
            ]
          },
          "metadata": {
            "tags": []
          },
          "execution_count": 11
        },
        {
          "output_type": "display_data",
          "data": {
            "image/png": "[encoded data removed]",
            "text/plain": [
              "<Figure size 432x288 with 1 Axes>"
            ]
          },
          "metadata": {
            "tags": [],
            "needs_background": "light"
          }
        }
      ]
    },
    {
      "cell_type": "code",
      "metadata": {
        "colab": {
          "base_uri": "https://localhost:8080/"
        },
        "id": "MM-laioJ7V3h",
        "outputId": "2402e1a8-6a93-47cb-8711-9e9144cc99b6"
      },
      "source": [
        "xyz = coords.coords_n_by_d(N=N,d=3)\n",
        "xyz.shape"
      ],
      "execution_count": 12,
      "outputs": [
        {
          "output_type": "execute_result",
          "data": {
            "text/plain": [
              "(16777216, 3)"
            ]
          },
          "metadata": {
            "tags": []
          },
          "execution_count": 12
        }
      ]
    },
    {
      "cell_type": "code",
      "metadata": {
        "colab": {
          "base_uri": "https://localhost:8080/",
          "height": 297
        },
        "id": "nJ-8t8nE7M_z",
        "outputId": "6f843d80-735c-430d-c0ac-16b7d2b5e077"
      },
      "source": [
        "mask = map_3d > 0\n",
        "doplt(mask.sum(-1)) ; plt.title('mask (should encolse unrotated)')"
      ],
      "execution_count": 7,
      "outputs": [
        {
          "output_type": "execute_result",
          "data": {
            "text/plain": [
              "Text(0.5, 1.0, 'mask (should encolse unrotated)')"
            ]
          },
          "metadata": {
            "tags": []
          },
          "execution_count": 7
        },
        {
          "output_type": "display_data",
          "data": {
            "image/png": "[encoded data removed]",
            "text/plain": [
              "<Figure size 432x288 with 1 Axes>"
            ]
          },
          "metadata": {
            "tags": [],
            "needs_background": "light"
          }
        }
      ]
    },
    {
      "cell_type": "code",
      "metadata": {
        "colab": {
          "base_uri": "https://localhost:8080/"
        },
        "id": "d_b5xNrWJIOD",
        "outputId": "d6e15427-2560-4b16-841c-bd3e9fc5702a"
      },
      "source": [
        "mask_xyz = xyz[mask.flatten()] # unrotated points in mask\n",
        "mask_xyz.shape, mask.mean()\n",
        "mask_xyz_rot = (rot.dot(mask_xyz.T) + N//2).T # roted points in mask. note here we used rot not rot.T\n",
        "mask_xyz_rot # check values, they coordinates should match the rotated density\n",
        "mask_xyz_rot"
      ],
      "execution_count": 13,
      "outputs": [
        {
          "output_type": "execute_result",
          "data": {
            "text/plain": [
              "array([[151.23478053,  62.74397846, 137.36998538],\n",
              "       [152.08689019,  62.25454608, 137.18460719],\n",
              "       [149.0323806 ,  62.85577022, 137.74003557],\n",
              "       ...,\n",
              "       [158.91392331,  46.74887686, 198.71480986],\n",
              "       [155.85941372,  47.350101  , 199.27023824],\n",
              "       [156.71152338,  46.86066862, 199.08486005]])"
            ]
          },
          "metadata": {
            "tags": []
          },
          "execution_count": 13
        }
      ]
    },
    {
      "cell_type": "code",
      "metadata": {
        "id": "IsbLYeRJ_57J"
      },
      "source": [
        "# only keep xyz coordinates that are close to mask after rotated"
      ],
      "execution_count": null,
      "outputs": []
    },
    {
      "cell_type": "code",
      "metadata": {
        "colab": {
          "base_uri": "https://localhost:8080/"
        },
        "id": "oTUdgNck8GA7",
        "outputId": "b39dbd5f-20e9-44ac-ee0e-2821e8330f7f"
      },
      "source": [
        "xyz_rot = (rot.T.dot(xyz.T) + N//2).T\n",
        "xyz_rot.shape"
      ],
      "execution_count": 14,
      "outputs": [
        {
          "output_type": "execute_result",
          "data": {
            "text/plain": [
              "(16777216, 3)"
            ]
          },
          "metadata": {
            "tags": []
          },
          "execution_count": 14
        }
      ]
    },
    {
      "cell_type": "code",
      "metadata": {
        "colab": {
          "base_uri": "https://localhost:8080/"
        },
        "id": "EVb3y01VAVAb",
        "outputId": "f5e6cf49-b65d-4b1c-bc63-05e0178a2779"
      },
      "source": [
        "%time kd_tree1 = cKDTree(mask_xyz_rot) # small because mask\n",
        "%time kd_tree2 = cKDTree(xyz + N//2) # large but can be precomputed because always the same (when rotate mask and compare)"
      ],
      "execution_count": 15,
      "outputs": [
        {
          "output_type": "stream",
          "text": [
            "CPU times: user 96.7 ms, sys: 1.73 ms, total: 98.4 ms\n",
            "Wall time: 99.1 ms\n",
            "CPU times: user 36.4 s, sys: 109 ms, total: 36.5 s\n",
            "Wall time: 36.4 s\n"
          ],
          "name": "stdout"
        }
      ]
    },
    {
      "cell_type": "code",
      "metadata": {
        "colab": {
          "base_uri": "https://localhost:8080/"
        },
        "id": "_zSKJmbYAl1_",
        "outputId": "2234f6f4-8100-4fa3-ce40-fe2dffcbdca0"
      },
      "source": [
        "close_thresh = 2 # pixel tolerance for a point being included.\n",
        "%time sdm = kd_tree1.sparse_distance_matrix(kd_tree2, 2)"
      ],
      "execution_count": 16,
      "outputs": [
        {
          "output_type": "stream",
          "text": [
            "CPU times: user 3.96 s, sys: 879 ms, total: 4.83 s\n",
            "Wall time: 4.79 s\n"
          ],
          "name": "stdout"
        }
      ]
    },
    {
      "cell_type": "code",
      "metadata": {
        "colab": {
          "base_uri": "https://localhost:8080/",
          "height": 285
        },
        "id": "yLs230xlCQB-",
        "outputId": "8611e284-4ed3-445f-b0a1-cf0e0672ecae"
      },
      "source": [
        "# close = (sdm.toarray().max(0) > 1).reshape(N,N,N) # these points rotate into mask\n",
        "#%timeit (sdm.tocsc().max(0) > 1).toarray().reshape(N,N,N) # max operation in sparse to don't have memory issues.\n",
        "# csc and coo faster than csr\n",
        "#N csc coo csr\n",
        "#32 2.33 2.34 2.45 ms\n",
        "# 128 120 120 133 ms\n",
        "close = (sdm.tocsc().max(0) > 1).toarray().reshape(N,N,N)\n",
        "doplt(close.sum(-1))\n",
        "close.mean()"
      ],
      "execution_count": 17,
      "outputs": [
        {
          "output_type": "execute_result",
          "data": {
            "text/plain": [
              "0.009533464908599854"
            ]
          },
          "metadata": {
            "tags": []
          },
          "execution_count": 17
        },
        {
          "output_type": "display_data",
          "data": {
            "image/png": "[encoded data removed]",
            "text/plain": [
              "<Figure size 432x288 with 1 Axes>"
            ]
          },
          "metadata": {
            "tags": [],
            "needs_background": "light"
          }
        }
      ]
    },
    {
      "cell_type": "code",
      "metadata": {
        "colab": {
          "base_uri": "https://localhost:8080/"
        },
        "id": "jL_LV9FA75St",
        "outputId": "c438a604-c70b-4c18-bc2f-8c3f543c0af9"
      },
      "source": [
        "xyz_rotate_into_mask = xyz_rot[close.flatten()]\n",
        "xyz_rotate_into_mask.shape\n"
      ],
      "execution_count": 18,
      "outputs": [
        {
          "output_type": "execute_result",
          "data": {
            "text/plain": [
              "(159945, 3)"
            ]
          },
          "metadata": {
            "tags": []
          },
          "execution_count": 18
        }
      ]
    },
    {
      "cell_type": "code",
      "metadata": {
        "colab": {
          "base_uri": "https://localhost:8080/"
        },
        "id": "UcGmnhja8JEv",
        "outputId": "2fd8096d-abc2-4143-892d-c6860b4631fa"
      },
      "source": [
        "%timeit map_coordinates(map_3d,xyz_rotate_into_mask.T,order=1)\n",
        "map_3d_rot_flat = map_coordinates(map_3d,xyz_rotate_into_mask.T,order=1)\n",
        "map_3d_rot_flat.shape, map_3d_rot_flat"
      ],
      "execution_count": 19,
      "outputs": [
        {
          "output_type": "stream",
          "text": [
            "100 loops, best of 5: 16.7 ms per loop\n"
          ],
          "name": "stdout"
        },
        {
          "output_type": "execute_result",
          "data": {
            "text/plain": [
              "((159945,), array([0., 0., 0., ..., 0., 0., 0.], dtype=float32))"
            ]
          },
          "metadata": {
            "tags": []
          },
          "execution_count": 19
        }
      ]
    },
    {
      "cell_type": "code",
      "metadata": {
        "colab": {
          "base_uri": "https://localhost:8080/",
          "height": 285
        },
        "id": "WbcNoefi8aiZ",
        "outputId": "ba1edcdd-c4ea-4d83-e88d-b478f632d152"
      },
      "source": [
        "densit_3d_rot_flat = np.zeros(N**3)\n",
        "densit_3d_rot_flat[close.flatten()] = map_3d_rot_flat # everything else zero\n",
        "densit_3d_rot = densit_3d_rot_flat.reshape(N,N,N)\n",
        "doplt(densit_3d_rot.sum(-1))"
      ],
      "execution_count": 20,
      "outputs": [
        {
          "output_type": "execute_result",
          "data": {
            "text/plain": [
              "<matplotlib.image.AxesImage at 0x7f16083a2c10>"
            ]
          },
          "metadata": {
            "tags": []
          },
          "execution_count": 20
        },
        {
          "output_type": "display_data",
          "data": {
            "image/png": "[encoded data removed]",
            "text/plain": [
              "<Figure size 432x288 with 1 Axes>"
            ]
          },
          "metadata": {
            "tags": [],
            "needs_background": "light"
          }
        }
      ]
    }
  ]
}