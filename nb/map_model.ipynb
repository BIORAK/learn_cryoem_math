{
  "nbformat": 4,
  "nbformat_minor": 0,
  "metadata": {
    "colab": {
      "name": "map_model.ipynb",
      "provenance": [],
      "collapsed_sections": [],
      "authorship_tag": "ABX9TyNL2OL252WTtRkChMMhOEZ8",
      "include_colab_link": true
    },
    "kernelspec": {
      "name": "python3",
      "display_name": "Python 3"
    }
  },
  "cells": [
    {
      "cell_type": "markdown",
      "metadata": {
        "id": "view-in-github",
        "colab_type": "text"
      },
      "source": [
        "<a href=\"https://colab.research.google.com/github/geoffwoollard/learn_cryoem_math/blob/master/nb/map_model.ipynb\" target=\"_parent\"><img src=\"https://colab.research.google.com/assets/colab-badge.svg\" alt=\"Open In Colab\"/></a>"
      ]
    },
    {
      "cell_type": "markdown",
      "metadata": {
        "id": "-fRqxH6Z6zo9"
      },
      "source": [
        "# Set up"
      ]
    },
    {
      "cell_type": "code",
      "metadata": {
        "id": "QdY9JiGY8SnH"
      },
      "source": [
        "import matplotlib\n"
      ],
      "execution_count": 1,
      "outputs": []
    },
    {
      "cell_type": "code",
      "metadata": {
        "id": "uNNRXDIY6igq"
      },
      "source": [
        "%%bash\n",
        "export MPLBACKEND=TKAgg\n"
      ],
      "execution_count": 2,
      "outputs": []
    },
    {
      "cell_type": "code",
      "metadata": {
        "id": "TyS18Rz15_Mz"
      },
      "source": [
        "matplotlib.use('TKAgg')\n",
        "#import matplotlib.pyplot as plt\n",
        "\n"
      ],
      "execution_count": 4,
      "outputs": []
    },
    {
      "cell_type": "code",
      "metadata": {
        "id": "qGST3wLz8Zlh"
      },
      "source": [
        "matplotlib.use('TKAgg')\n"
      ],
      "execution_count": null,
      "outputs": []
    },
    {
      "cell_type": "code",
      "metadata": {
        "id": "CTApmwOp6cgN"
      },
      "source": [
        "!pip install emda"
      ],
      "execution_count": 7,
      "outputs": []
    },
    {
      "cell_type": "markdown",
      "metadata": {
        "id": "1BCTJwKx6y2M"
      },
      "source": [
        "# Data"
      ]
    },
    {
      "cell_type": "code",
      "metadata": {
        "id": "0GF17WsP5cgf"
      },
      "source": [
        "%%bash\n",
        "wget https://files.rcsb.org/view/6DQJ.cif\n",
        "wget ftp://ftp.wwpdb.org/pub/emdb/structures/EMD-7978/map/emd_7978.map.gz\n",
        "gunzip emd_7978.map.gz"
      ],
      "execution_count": null,
      "outputs": []
    },
    {
      "cell_type": "code",
      "metadata": {
        "colab": {
          "base_uri": "https://localhost:8080/"
        },
        "id": "Pi4I_0V96yUq",
        "outputId": "adeb6647-c0d3-4330-dae1-55964b3d1e23"
      },
      "source": [
        "ls"
      ],
      "execution_count": 6,
      "outputs": [
        {
          "output_type": "stream",
          "text": [
            "6DQJ.cif  emd_7978.map  \u001b[0m\u001b[01;34msample_data\u001b[0m/\n"
          ],
          "name": "stdout"
        }
      ]
    },
    {
      "cell_type": "markdown",
      "metadata": {
        "id": "BCIAvj3967cR"
      },
      "source": [
        "# Map to Model"
      ]
    },
    {
      "cell_type": "markdown",
      "metadata": {
        "id": "B9lkE3x87qqi"
      },
      "source": [
        "## github repo"
      ]
    },
    {
      "cell_type": "code",
      "metadata": {
        "colab": {
          "base_uri": "https://localhost:8080/"
        },
        "id": "UsTcRItq7iju",
        "outputId": "a2f7c547-ade7-423b-eda1-5c1c97306955"
      },
      "source": [
        "!git clone https://gitlab.com/ccpem/emda.git"
      ],
      "execution_count": 7,
      "outputs": [
        {
          "output_type": "stream",
          "text": [
            "Cloning into 'emda'...\n"
          ],
          "name": "stderr"
        }
      ]
    },
    {
      "cell_type": "code",
      "metadata": {
        "colab": {
          "base_uri": "https://localhost:8080/"
        },
        "id": "lQfY5_qY7r56",
        "outputId": "0bde1ca2-62bc-40a0-ea58-f599a5c9474c"
      },
      "source": [
        "%cd /content/emda/emda\n",
        "%ls "
      ],
      "execution_count": 8,
      "outputs": [
        {
          "output_type": "stream",
          "text": [
            "/content/emda/emda\n",
            "config.py           emda_methods.py       \u001b[0m\u001b[01;34mext\u001b[0m/\n",
            "\u001b[01;34mcore\u001b[0m/               emda_test_exhaust.py  fcodes_fast.f90\n",
            "emda_cmd_caller.py  emda_test.py          __init__.py\n"
          ],
          "name": "stdout"
        }
      ]
    },
    {
      "cell_type": "code",
      "metadata": {
        "id": "iyyj0pRL70_C"
      },
      "source": [
        "!cd /usr/local/lib/python3.6/dist-packages/\n",
        "import fcodes_fast\n",
        "!cd /content/emda/emda\n",
        "import emda_methods"
      ],
      "execution_count": 21,
      "outputs": []
    },
    {
      "cell_type": "code",
      "metadata": {
        "colab": {
          "base_uri": "https://localhost:8080/",
          "height": 317
        },
        "id": "isoxu4Wl74nO",
        "outputId": "35ebc92b-83fa-4c59-8b80-2954025bbc28"
      },
      "source": [
        "emda_methods.realsp_correlation_mapmodel(\n",
        "    fullmap='emd_7978.map', model='6DQJ.cif', resol=3.49, kernel_size=5)"
      ],
      "execution_count": 23,
      "outputs": [
        {
          "output_type": "error",
          "ename": "TypeError",
          "evalue": "ignored",
          "traceback": [
            "\u001b[0;31m---------------------------------------------------------------------------\u001b[0m",
            "\u001b[0;31mTypeError\u001b[0m                                 Traceback (most recent call last)",
            "\u001b[0;32m<ipython-input-23-59118239aa53>\u001b[0m in \u001b[0;36m<module>\u001b[0;34m()\u001b[0m\n\u001b[1;32m      1\u001b[0m emda_methods.realsp_correlation_mapmodel(\n\u001b[0;32m----> 2\u001b[0;31m     fullmap='emd_7978.map', model='6DQJ.cif', resol=3.49, kernel_size=5)\n\u001b[0m",
            "\u001b[0;32m/content/emda/emda/emda_methods.py\u001b[0m in \u001b[0;36mrealsp_correlation_mapmodel\u001b[0;34m(fullmap, model, resol, kernel_size, lig, norm, mask_map, lgf)\u001b[0m\n\u001b[1;32m   1189\u001b[0m         \u001b[0mlgf\u001b[0m\u001b[0;34m=\u001b[0m\u001b[0mlgf\u001b[0m\u001b[0;34m,\u001b[0m\u001b[0;34m\u001b[0m\u001b[0;34m\u001b[0m\u001b[0m\n\u001b[1;32m   1190\u001b[0m         \u001b[0;31m# trim_px=trimpx,\u001b[0m\u001b[0;34m\u001b[0m\u001b[0;34m\u001b[0m\u001b[0;34m\u001b[0m\u001b[0m\n\u001b[0;32m-> 1191\u001b[0;31m         \u001b[0mnorm\u001b[0m\u001b[0;34m=\u001b[0m\u001b[0mnorm\u001b[0m\u001b[0;34m,\u001b[0m\u001b[0;34m\u001b[0m\u001b[0;34m\u001b[0m\u001b[0m\n\u001b[0m\u001b[1;32m   1192\u001b[0m     )\n\u001b[1;32m   1193\u001b[0m \u001b[0;34m\u001b[0m\u001b[0m\n",
            "\u001b[0;31mTypeError\u001b[0m: mapmodel_rcc() got an unexpected keyword argument 'norm'"
          ]
        }
      ]
    },
    {
      "cell_type": "code",
      "metadata": {
        "id": "5hfeyut09nqQ"
      },
      "source": [
        "del fcodes_fast, emda_methods"
      ],
      "execution_count": 24,
      "outputs": []
    },
    {
      "cell_type": "markdown",
      "metadata": {
        "id": "B0SQmFqu7p5e"
      },
      "source": [
        "## pip"
      ]
    },
    {
      "cell_type": "code",
      "metadata": {
        "id": "rrn9nKOe5JAF"
      },
      "source": [
        ""
      ],
      "execution_count": null,
      "outputs": []
    },
    {
      "cell_type": "code",
      "metadata": {
        "colab": {
          "base_uri": "https://localhost:8080/"
        },
        "id": "U2W1hQ-C81uB",
        "outputId": "b7bc29ca-ff3f-4807-ba94-3e43e922000a"
      },
      "source": [
        "import emda"
      ],
      "execution_count": 25,
      "outputs": [
        {
          "output_type": "stream",
          "text": [
            "config.py  emda_cmd_caller.py  emda_test_exhaust.py  ext\t  __pycache__\n",
            "core\t   emda_methods.py     emda_test.py\t     __init__.py\n"
          ],
          "name": "stdout"
        }
      ]
    },
    {
      "cell_type": "code",
      "metadata": {
        "colab": {
          "base_uri": "https://localhost:8080/",
          "height": 35
        },
        "id": "FNcUPcy_9Lah",
        "outputId": "92c931d2-b897-4d3d-aa3c-b2545da3e5e6"
      },
      "source": [
        "# import fcodes_fast\n",
        "# fcodes_fast.__file__"
      ],
      "execution_count": 26,
      "outputs": [
        {
          "output_type": "execute_result",
          "data": {
            "application/vnd.google.colaboratory.intrinsic+json": {
              "type": "string"
            },
            "text/plain": [
              "'/usr/local/lib/python3.6/dist-packages/fcodes_fast.cpython-36m-x86_64-linux-gnu.so'"
            ]
          },
          "metadata": {
            "tags": []
          },
          "execution_count": 26
        }
      ]
    },
    {
      "cell_type": "code",
      "metadata": {
        "id": "kjcBaP-P5elt"
      },
      "source": [
        "from emda import emda_methods"
      ],
      "execution_count": 28,
      "outputs": []
    },
    {
      "cell_type": "code",
      "metadata": {
        "colab": {
          "base_uri": "https://localhost:8080/",
          "height": 409
        },
        "id": "-RTJWU7i68no",
        "outputId": "b9e97370-a90b-47c8-d50d-a3a50a1e0549"
      },
      "source": [
        "%cd /content\n",
        "!ls\n",
        "fullmap='emd_7978.map'\n",
        "model='6DQJ.cif'\n",
        "resol=3.49\n",
        "kernel_size=5\n",
        "emda_methods.realsp_correlation_mapmodel(\n",
        "    fullmap='emd_7978.map', model='6DQJ.cif', resol=3.49, kernel_size=5)"
      ],
      "execution_count": 36,
      "outputs": [
        {
          "output_type": "stream",
          "text": [
            "6DQJ.cif  emd_7978.map\temda  sample_data\n",
            "Calculating 3D correlation between map and model.             Please wait...\n",
            "emd_7978.map (384, 384, 384) [417.79202271 417.79202271 417.79202271]\n"
          ],
          "name": "stdout"
        },
        {
          "output_type": "error",
          "ename": "AttributeError",
          "evalue": "ignored",
          "traceback": [
            "\u001b[0;31m---------------------------------------------------------------------------\u001b[0m",
            "\u001b[0;31mAttributeError\u001b[0m                            Traceback (most recent call last)",
            "\u001b[0;32m<ipython-input-36-439ce4c719c9>\u001b[0m in \u001b[0;36m<module>\u001b[0;34m()\u001b[0m\n\u001b[1;32m      2\u001b[0m \u001b[0mget_ipython\u001b[0m\u001b[0;34m(\u001b[0m\u001b[0;34m)\u001b[0m\u001b[0;34m.\u001b[0m\u001b[0msystem\u001b[0m\u001b[0;34m(\u001b[0m\u001b[0;34m'ls'\u001b[0m\u001b[0;34m)\u001b[0m\u001b[0;34m\u001b[0m\u001b[0;34m\u001b[0m\u001b[0m\n\u001b[1;32m      3\u001b[0m emda_methods.realsp_correlation_mapmodel(\n\u001b[0;32m----> 4\u001b[0;31m     fullmap='emd_7978.map', model='6DQJ.cif', resol=3.49, kernel_size=5)\n\u001b[0m",
            "\u001b[0;32m/usr/local/lib/python3.6/dist-packages/emda/emda_methods.py\u001b[0m in \u001b[0;36mrealsp_correlation_mapmodel\u001b[0;34m(fullmap, model, resol, kernel_size, lig, trimpx, mask_map, lgf)\u001b[0m\n\u001b[1;32m   1028\u001b[0m         \u001b[0mmask_map\u001b[0m\u001b[0;34m=\u001b[0m\u001b[0mmask_map\u001b[0m\u001b[0;34m,\u001b[0m\u001b[0;34m\u001b[0m\u001b[0;34m\u001b[0m\u001b[0m\n\u001b[1;32m   1029\u001b[0m         \u001b[0mlgf\u001b[0m\u001b[0;34m=\u001b[0m\u001b[0mlgf\u001b[0m\u001b[0;34m,\u001b[0m\u001b[0;34m\u001b[0m\u001b[0;34m\u001b[0m\u001b[0m\n\u001b[0;32m-> 1030\u001b[0;31m         \u001b[0mtrim_px\u001b[0m\u001b[0;34m=\u001b[0m\u001b[0mtrimpx\u001b[0m\u001b[0;34m,\u001b[0m\u001b[0;34m\u001b[0m\u001b[0;34m\u001b[0m\u001b[0m\n\u001b[0m\u001b[1;32m   1031\u001b[0m     )\n\u001b[1;32m   1032\u001b[0m \u001b[0;34m\u001b[0m\u001b[0m\n",
            "\u001b[0;32m/usr/local/lib/python3.6/dist-packages/emda/ext/realsp_local.py\u001b[0m in \u001b[0;36mmapmodel_rcc\u001b[0;34m(fullmap, model, resol, kernel_size, lig, trim_px, mask_map, lgf)\u001b[0m\n\u001b[1;32m    251\u001b[0m     \u001b[0;32melse\u001b[0m\u001b[0;34m:\u001b[0m\u001b[0;34m\u001b[0m\u001b[0;34m\u001b[0m\u001b[0m\n\u001b[1;32m    252\u001b[0m         \u001b[0mnbin\u001b[0m \u001b[0;34m=\u001b[0m \u001b[0marr1\u001b[0m\u001b[0;34m.\u001b[0m\u001b[0mshape\u001b[0m\u001b[0;34m[\u001b[0m\u001b[0;36m0\u001b[0m\u001b[0;34m]\u001b[0m \u001b[0;34m//\u001b[0m \u001b[0;36m2\u001b[0m \u001b[0;34m-\u001b[0m \u001b[0mtrim_px\u001b[0m\u001b[0;34m\u001b[0m\u001b[0;34m\u001b[0m\u001b[0m\n\u001b[0;32m--> 253\u001b[0;31m         \u001b[0mobj_maskmap\u001b[0m \u001b[0;34m=\u001b[0m \u001b[0mext\u001b[0m\u001b[0;34m.\u001b[0m\u001b[0mmaskmap_class\u001b[0m\u001b[0;34m.\u001b[0m\u001b[0mMaskedMaps\u001b[0m\u001b[0;34m(\u001b[0m\u001b[0;34m)\u001b[0m\u001b[0;34m\u001b[0m\u001b[0;34m\u001b[0m\u001b[0m\n\u001b[0m\u001b[1;32m    254\u001b[0m         \u001b[0medge_mask\u001b[0m \u001b[0;34m=\u001b[0m \u001b[0mobj_maskmap\u001b[0m\u001b[0;34m.\u001b[0m\u001b[0mcreate_edgemask\u001b[0m\u001b[0;34m(\u001b[0m\u001b[0mnbin\u001b[0m\u001b[0;34m)\u001b[0m\u001b[0;34m\u001b[0m\u001b[0;34m\u001b[0m\u001b[0m\n\u001b[1;32m    255\u001b[0m         \u001b[0mcc_mask\u001b[0m \u001b[0;34m=\u001b[0m \u001b[0mnp\u001b[0m\u001b[0;34m.\u001b[0m\u001b[0mzeros\u001b[0m\u001b[0;34m(\u001b[0m\u001b[0mshape\u001b[0m\u001b[0;34m=\u001b[0m\u001b[0;34m(\u001b[0m\u001b[0mnx\u001b[0m\u001b[0;34m,\u001b[0m \u001b[0mny\u001b[0m\u001b[0;34m,\u001b[0m \u001b[0mnz\u001b[0m\u001b[0;34m)\u001b[0m\u001b[0;34m,\u001b[0m \u001b[0mdtype\u001b[0m\u001b[0;34m=\u001b[0m\u001b[0;34m\"bool\"\u001b[0m\u001b[0;34m)\u001b[0m\u001b[0;34m\u001b[0m\u001b[0;34m\u001b[0m\u001b[0m\n",
            "\u001b[0;31mAttributeError\u001b[0m: module 'emda.ext' has no attribute 'maskmap_class'"
          ]
        }
      ]
    },
    {
      "cell_type": "markdown",
      "metadata": {
        "id": "IyUPpX_L-Wwu"
      },
      "source": [
        "## trouble shoot"
      ]
    },
    {
      "cell_type": "code",
      "metadata": {
        "id": "EpTKxo28-V_x"
      },
      "source": [
        "from emda.ext import realsp_local"
      ],
      "execution_count": 37,
      "outputs": []
    },
    {
      "cell_type": "code",
      "metadata": {
        "id": "xgDKJTjE-6Bk"
      },
      "source": [
        "%%bash\n",
        "wget https://gitlab.com/ccpem/emda/-/raw/master/emda/ext/realsp_local.py\n",
        "mv /usr/local/lib/python3.6/dist-packages/emda/ext/realsp_local.py /usr/local/lib/python3.6/dist-packages/emda/ext/realsp_local_old.py\n",
        "cp realsp_local.py /usr/local/lib/python3.6/dist-packages/emda/ext/\n",
        "rm -r /usr/local/lib/python3.6/dist-packages/emda/ext/__pycache__/"
      ],
      "execution_count": 45,
      "outputs": []
    },
    {
      "cell_type": "code",
      "metadata": {
        "colab": {
          "base_uri": "https://localhost:8080/"
        },
        "id": "nxa2IQP7AACn",
        "outputId": "94b2aec9-b277-4fbe-e925-f23bc2595be2"
      },
      "source": [
        "from importlib import reload\n",
        "reload(realsp_local)"
      ],
      "execution_count": 50,
      "outputs": [
        {
          "output_type": "execute_result",
          "data": {
            "text/plain": [
              "<module 'emda.ext.realsp_local' from '/usr/local/lib/python3.6/dist-packages/emda/ext/realsp_local.py'>"
            ]
          },
          "metadata": {
            "tags": []
          },
          "execution_count": 50
        }
      ]
    },
    {
      "cell_type": "code",
      "metadata": {
        "colab": {
          "base_uri": "https://localhost:8080/",
          "height": 528
        },
        "id": "smli2V7--de0",
        "outputId": "d1650d16-567f-4058-9c5b-71476764b2e7"
      },
      "source": [
        "fullmap='emd_7978.map'\n",
        "model='6DQJ.cif'\n",
        "resol=3.49\n",
        "kernel_size=5\n",
        "lig=False\n",
        "norm=False\n",
        "mask_map=None\n",
        "lgf=None\n",
        "realsp_local.mapmodel_rcc( fullmap=fullmap, model=model, kernel_size=kernel_size, \n",
        "                          lig=lig, \n",
        "                          resol=resol, \n",
        "                          mask_map=mask_map, \n",
        "                          lgf=lgf, \n",
        "                          )"
      ],
      "execution_count": 51,
      "outputs": [
        {
          "output_type": "stream",
          "text": [
            "Calculating 3D correlation between map and model.             Please wait...\n",
            "emd_7978.map (384, 384, 384) [417.79202271 417.79202271 417.79202271]\n",
            "\n",
            "Map-model correlation!\n",
            "\n",
            "map will be calculated up to 3.49A\n",
            "Calculating map from model using REFMAC!\n",
            "sfcalc.inp exists and is readable\n"
          ],
          "name": "stdout"
        },
        {
          "output_type": "error",
          "ename": "FileNotFoundError",
          "evalue": "ignored",
          "traceback": [
            "\u001b[0;31m---------------------------------------------------------------------------\u001b[0m",
            "\u001b[0;31mFileNotFoundError\u001b[0m                         Traceback (most recent call last)",
            "\u001b[0;32m<ipython-input-51-db2ab04e6da5>\u001b[0m in \u001b[0;36m<module>\u001b[0;34m()\u001b[0m\n\u001b[1;32m     11\u001b[0m                           \u001b[0mresol\u001b[0m\u001b[0;34m=\u001b[0m\u001b[0mresol\u001b[0m\u001b[0;34m,\u001b[0m\u001b[0;34m\u001b[0m\u001b[0;34m\u001b[0m\u001b[0m\n\u001b[1;32m     12\u001b[0m                           \u001b[0mmask_map\u001b[0m\u001b[0;34m=\u001b[0m\u001b[0mmask_map\u001b[0m\u001b[0;34m,\u001b[0m\u001b[0;34m\u001b[0m\u001b[0;34m\u001b[0m\u001b[0m\n\u001b[0;32m---> 13\u001b[0;31m                           \u001b[0mlgf\u001b[0m\u001b[0;34m=\u001b[0m\u001b[0mlgf\u001b[0m\u001b[0;34m,\u001b[0m\u001b[0;34m\u001b[0m\u001b[0;34m\u001b[0m\u001b[0m\n\u001b[0m\u001b[1;32m     14\u001b[0m                           )\n",
            "\u001b[0;32m/usr/local/lib/python3.6/dist-packages/emda/ext/realsp_local.py\u001b[0m in \u001b[0;36mmapmodel_rcc\u001b[0;34m(fullmap, model, resol, kernel_size, lig, norm, mask_map, lgf)\u001b[0m\n\u001b[1;32m    295\u001b[0m         \u001b[0mprint\u001b[0m\u001b[0;34m(\u001b[0m\u001b[0;34m\"Calculating map from model using REFMAC!\"\u001b[0m\u001b[0;34m)\u001b[0m\u001b[0;34m\u001b[0m\u001b[0;34m\u001b[0m\u001b[0m\n\u001b[1;32m    296\u001b[0m         model_arr = calculate_modelmap(\n\u001b[0;32m--> 297\u001b[0;31m             \u001b[0mmodelxyz\u001b[0m\u001b[0;34m=\u001b[0m\u001b[0mmodel\u001b[0m\u001b[0;34m,\u001b[0m \u001b[0mdim\u001b[0m\u001b[0;34m=\u001b[0m\u001b[0mdim\u001b[0m\u001b[0;34m,\u001b[0m \u001b[0mresol\u001b[0m\u001b[0;34m=\u001b[0m\u001b[0mresol\u001b[0m\u001b[0;34m,\u001b[0m \u001b[0muc\u001b[0m\u001b[0;34m=\u001b[0m\u001b[0muc\u001b[0m\u001b[0;34m,\u001b[0m \u001b[0mlig\u001b[0m\u001b[0;34m=\u001b[0m\u001b[0mlig\u001b[0m\u001b[0;34m,\u001b[0m \u001b[0mlgf\u001b[0m\u001b[0;34m=\u001b[0m\u001b[0mlgf\u001b[0m\u001b[0;34m\u001b[0m\u001b[0;34m\u001b[0m\u001b[0m\n\u001b[0m\u001b[1;32m    298\u001b[0m         )\n\u001b[1;32m    299\u001b[0m     \u001b[0;32melif\u001b[0m \u001b[0mmodel\u001b[0m\u001b[0;34m.\u001b[0m\u001b[0mlower\u001b[0m\u001b[0;34m(\u001b[0m\u001b[0;34m)\u001b[0m\u001b[0;34m.\u001b[0m\u001b[0mendswith\u001b[0m\u001b[0;34m(\u001b[0m\u001b[0;34m(\u001b[0m\u001b[0;34m\".mrcs\"\u001b[0m\u001b[0;34m,\u001b[0m \u001b[0;34m\".mrc\"\u001b[0m\u001b[0;34m,\u001b[0m \u001b[0;34m\".map\"\u001b[0m\u001b[0;34m)\u001b[0m\u001b[0;34m)\u001b[0m\u001b[0;34m:\u001b[0m\u001b[0;34m\u001b[0m\u001b[0;34m\u001b[0m\u001b[0m\n",
            "\u001b[0;32m/usr/local/lib/python3.6/dist-packages/emda/ext/realsp_local.py\u001b[0m in \u001b[0;36mcalculate_modelmap\u001b[0;34m(modelxyz, dim, resol, uc, bfac, lig, lgf)\u001b[0m\n\u001b[1;32m     85\u001b[0m         \u001b[0mlig\u001b[0m\u001b[0;34m=\u001b[0m\u001b[0mlig\u001b[0m\u001b[0;34m,\u001b[0m\u001b[0;34m\u001b[0m\u001b[0;34m\u001b[0m\u001b[0m\n\u001b[1;32m     86\u001b[0m         \u001b[0mligfile\u001b[0m\u001b[0;34m=\u001b[0m\u001b[0mlgf\u001b[0m\u001b[0;34m,\u001b[0m\u001b[0;34m\u001b[0m\u001b[0;34m\u001b[0m\u001b[0m\n\u001b[0;32m---> 87\u001b[0;31m         \u001b[0mbfac\u001b[0m\u001b[0;34m=\u001b[0m\u001b[0mbfac\u001b[0m\u001b[0;34m,\u001b[0m\u001b[0;34m\u001b[0m\u001b[0;34m\u001b[0m\u001b[0m\n\u001b[0m\u001b[1;32m     88\u001b[0m     )\n\u001b[1;32m     89\u001b[0m     \u001b[0;32mreturn\u001b[0m \u001b[0mmodelmap\u001b[0m\u001b[0;34m\u001b[0m\u001b[0;34m\u001b[0m\u001b[0m\n",
            "\u001b[0;32m/usr/local/lib/python3.6/dist-packages/emda/emda_methods.py\u001b[0m in \u001b[0;36mmodel2map\u001b[0;34m(modelxyz, dim, resol, cell, bfac, lig, ligfile)\u001b[0m\n\u001b[1;32m   1442\u001b[0m     \u001b[0mstructure\u001b[0m\u001b[0;34m.\u001b[0m\u001b[0mmake_mmcif_document\u001b[0m\u001b[0;34m(\u001b[0m\u001b[0;34m)\u001b[0m\u001b[0;34m.\u001b[0m\u001b[0mwrite_file\u001b[0m\u001b[0;34m(\u001b[0m\u001b[0;34m\"model.cif\"\u001b[0m\u001b[0;34m)\u001b[0m\u001b[0;34m\u001b[0m\u001b[0;34m\u001b[0m\u001b[0m\n\u001b[1;32m   1443\u001b[0m     \u001b[0;31m# run refmac using model.cif just created\u001b[0m\u001b[0;34m\u001b[0m\u001b[0;34m\u001b[0m\u001b[0;34m\u001b[0m\u001b[0m\n\u001b[0;32m-> 1444\u001b[0;31m     \u001b[0miotools\u001b[0m\u001b[0;34m.\u001b[0m\u001b[0mrun_refmac_sfcalc\u001b[0m\u001b[0;34m(\u001b[0m\u001b[0;34m\"./model.cif\"\u001b[0m\u001b[0;34m,\u001b[0m \u001b[0mresol\u001b[0m\u001b[0;34m,\u001b[0m \u001b[0mbfac\u001b[0m\u001b[0;34m,\u001b[0m \u001b[0mlig\u001b[0m\u001b[0;34m=\u001b[0m\u001b[0mlig\u001b[0m\u001b[0;34m,\u001b[0m \u001b[0mligfile\u001b[0m\u001b[0;34m=\u001b[0m\u001b[0mligfile\u001b[0m\u001b[0;34m)\u001b[0m\u001b[0;34m\u001b[0m\u001b[0;34m\u001b[0m\u001b[0m\n\u001b[0m\u001b[1;32m   1445\u001b[0m     \u001b[0mmodelmap\u001b[0m \u001b[0;34m=\u001b[0m \u001b[0mmaptools\u001b[0m\u001b[0;34m.\u001b[0m\u001b[0mmtz2map\u001b[0m\u001b[0;34m(\u001b[0m\u001b[0;34m\"./sfcalc_from_crd.mtz\"\u001b[0m\u001b[0;34m,\u001b[0m \u001b[0mdim\u001b[0m\u001b[0;34m)\u001b[0m\u001b[0;34m\u001b[0m\u001b[0;34m\u001b[0m\u001b[0m\n\u001b[1;32m   1446\u001b[0m     \u001b[0;32mreturn\u001b[0m \u001b[0mmodelmap\u001b[0m\u001b[0;34m\u001b[0m\u001b[0;34m\u001b[0m\u001b[0m\n",
            "\u001b[0;32m/usr/local/lib/python3.6/dist-packages/emda/core/iotools.py\u001b[0m in \u001b[0;36mrun_refmac_sfcalc\u001b[0;34m(filename, resol, bfac, lig, ligfile)\u001b[0m\n\u001b[1;32m    464\u001b[0m         \u001b[0minp\u001b[0m \u001b[0;34m=\u001b[0m \u001b[0mopen\u001b[0m\u001b[0;34m(\u001b[0m\u001b[0;34m\"sfcalc.inp\"\u001b[0m\u001b[0;34m,\u001b[0m \u001b[0;34m\"r\"\u001b[0m\u001b[0;34m)\u001b[0m\u001b[0;34m\u001b[0m\u001b[0;34m\u001b[0m\u001b[0m\n\u001b[1;32m    465\u001b[0m         \u001b[0;31m# Run the command with parameters from file f2mtz.inp\u001b[0m\u001b[0;34m\u001b[0m\u001b[0;34m\u001b[0m\u001b[0;34m\u001b[0m\u001b[0m\n\u001b[0;32m--> 466\u001b[0;31m         \u001b[0msubprocess\u001b[0m\u001b[0;34m.\u001b[0m\u001b[0mcall\u001b[0m\u001b[0;34m(\u001b[0m\u001b[0mcmd\u001b[0m\u001b[0;34m,\u001b[0m \u001b[0mstdin\u001b[0m\u001b[0;34m=\u001b[0m\u001b[0minp\u001b[0m\u001b[0;34m,\u001b[0m \u001b[0mstdout\u001b[0m\u001b[0;34m=\u001b[0m\u001b[0mlogf\u001b[0m\u001b[0;34m)\u001b[0m\u001b[0;34m\u001b[0m\u001b[0;34m\u001b[0m\u001b[0m\n\u001b[0m\u001b[1;32m    467\u001b[0m     \u001b[0;32melse\u001b[0m\u001b[0;34m:\u001b[0m\u001b[0;34m\u001b[0m\u001b[0;34m\u001b[0m\u001b[0m\n\u001b[1;32m    468\u001b[0m         \u001b[0mprint\u001b[0m\u001b[0;34m(\u001b[0m\u001b[0;34m\"Either the file is missing or not readable\"\u001b[0m\u001b[0;34m)\u001b[0m\u001b[0;34m\u001b[0m\u001b[0;34m\u001b[0m\u001b[0m\n",
            "\u001b[0;32m/usr/lib/python3.6/subprocess.py\u001b[0m in \u001b[0;36mcall\u001b[0;34m(timeout, *popenargs, **kwargs)\u001b[0m\n\u001b[1;32m    285\u001b[0m     \u001b[0mretcode\u001b[0m \u001b[0;34m=\u001b[0m \u001b[0mcall\u001b[0m\u001b[0;34m(\u001b[0m\u001b[0;34m[\u001b[0m\u001b[0;34m\"ls\"\u001b[0m\u001b[0;34m,\u001b[0m \u001b[0;34m\"-l\"\u001b[0m\u001b[0;34m]\u001b[0m\u001b[0;34m)\u001b[0m\u001b[0;34m\u001b[0m\u001b[0;34m\u001b[0m\u001b[0m\n\u001b[1;32m    286\u001b[0m     \"\"\"\n\u001b[0;32m--> 287\u001b[0;31m     \u001b[0;32mwith\u001b[0m \u001b[0mPopen\u001b[0m\u001b[0;34m(\u001b[0m\u001b[0;34m*\u001b[0m\u001b[0mpopenargs\u001b[0m\u001b[0;34m,\u001b[0m \u001b[0;34m**\u001b[0m\u001b[0mkwargs\u001b[0m\u001b[0;34m)\u001b[0m \u001b[0;32mas\u001b[0m \u001b[0mp\u001b[0m\u001b[0;34m:\u001b[0m\u001b[0;34m\u001b[0m\u001b[0;34m\u001b[0m\u001b[0m\n\u001b[0m\u001b[1;32m    288\u001b[0m         \u001b[0;32mtry\u001b[0m\u001b[0;34m:\u001b[0m\u001b[0;34m\u001b[0m\u001b[0;34m\u001b[0m\u001b[0m\n\u001b[1;32m    289\u001b[0m             \u001b[0;32mreturn\u001b[0m \u001b[0mp\u001b[0m\u001b[0;34m.\u001b[0m\u001b[0mwait\u001b[0m\u001b[0;34m(\u001b[0m\u001b[0mtimeout\u001b[0m\u001b[0;34m=\u001b[0m\u001b[0mtimeout\u001b[0m\u001b[0;34m)\u001b[0m\u001b[0;34m\u001b[0m\u001b[0;34m\u001b[0m\u001b[0m\n",
            "\u001b[0;32m/usr/lib/python3.6/subprocess.py\u001b[0m in \u001b[0;36m__init__\u001b[0;34m(self, args, bufsize, executable, stdin, stdout, stderr, preexec_fn, close_fds, shell, cwd, env, universal_newlines, startupinfo, creationflags, restore_signals, start_new_session, pass_fds, encoding, errors)\u001b[0m\n\u001b[1;32m    727\u001b[0m                                 \u001b[0mc2pread\u001b[0m\u001b[0;34m,\u001b[0m \u001b[0mc2pwrite\u001b[0m\u001b[0;34m,\u001b[0m\u001b[0;34m\u001b[0m\u001b[0;34m\u001b[0m\u001b[0m\n\u001b[1;32m    728\u001b[0m                                 \u001b[0merrread\u001b[0m\u001b[0;34m,\u001b[0m \u001b[0merrwrite\u001b[0m\u001b[0;34m,\u001b[0m\u001b[0;34m\u001b[0m\u001b[0;34m\u001b[0m\u001b[0m\n\u001b[0;32m--> 729\u001b[0;31m                                 restore_signals, start_new_session)\n\u001b[0m\u001b[1;32m    730\u001b[0m         \u001b[0;32mexcept\u001b[0m\u001b[0;34m:\u001b[0m\u001b[0;34m\u001b[0m\u001b[0;34m\u001b[0m\u001b[0m\n\u001b[1;32m    731\u001b[0m             \u001b[0;31m# Cleanup if the child failed starting.\u001b[0m\u001b[0;34m\u001b[0m\u001b[0;34m\u001b[0m\u001b[0;34m\u001b[0m\u001b[0m\n",
            "\u001b[0;32m/usr/lib/python3.6/subprocess.py\u001b[0m in \u001b[0;36m_execute_child\u001b[0;34m(self, args, executable, preexec_fn, close_fds, pass_fds, cwd, env, startupinfo, creationflags, shell, p2cread, p2cwrite, c2pread, c2pwrite, errread, errwrite, restore_signals, start_new_session)\u001b[0m\n\u001b[1;32m   1362\u001b[0m                         \u001b[0;32mif\u001b[0m \u001b[0merrno_num\u001b[0m \u001b[0;34m==\u001b[0m \u001b[0merrno\u001b[0m\u001b[0;34m.\u001b[0m\u001b[0mENOENT\u001b[0m\u001b[0;34m:\u001b[0m\u001b[0;34m\u001b[0m\u001b[0;34m\u001b[0m\u001b[0m\n\u001b[1;32m   1363\u001b[0m                             \u001b[0merr_msg\u001b[0m \u001b[0;34m+=\u001b[0m \u001b[0;34m': '\u001b[0m \u001b[0;34m+\u001b[0m \u001b[0mrepr\u001b[0m\u001b[0;34m(\u001b[0m\u001b[0merr_filename\u001b[0m\u001b[0;34m)\u001b[0m\u001b[0;34m\u001b[0m\u001b[0;34m\u001b[0m\u001b[0m\n\u001b[0;32m-> 1364\u001b[0;31m                     \u001b[0;32mraise\u001b[0m \u001b[0mchild_exception_type\u001b[0m\u001b[0;34m(\u001b[0m\u001b[0merrno_num\u001b[0m\u001b[0;34m,\u001b[0m \u001b[0merr_msg\u001b[0m\u001b[0;34m,\u001b[0m \u001b[0merr_filename\u001b[0m\u001b[0;34m)\u001b[0m\u001b[0;34m\u001b[0m\u001b[0;34m\u001b[0m\u001b[0m\n\u001b[0m\u001b[1;32m   1365\u001b[0m                 \u001b[0;32mraise\u001b[0m \u001b[0mchild_exception_type\u001b[0m\u001b[0;34m(\u001b[0m\u001b[0merr_msg\u001b[0m\u001b[0;34m)\u001b[0m\u001b[0;34m\u001b[0m\u001b[0;34m\u001b[0m\u001b[0m\n\u001b[1;32m   1366\u001b[0m \u001b[0;34m\u001b[0m\u001b[0m\n",
            "\u001b[0;31mFileNotFoundError\u001b[0m: [Errno 2] No such file or directory: 'refmac5': 'refmac5'"
          ]
        }
      ]
    }
  ]
}