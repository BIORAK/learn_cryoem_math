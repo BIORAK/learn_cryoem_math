{
  "nbformat": 4,
  "nbformat_minor": 0,
  "metadata": {
    "colab": {
      "name": "ot_2d_interpolate.ipynb",
      "provenance": [],
      "collapsed_sections": [],
      "toc_visible": true,
      "authorship_tag": "ABX9TyPhUxbuNWwZ0wtmPM8Mvd3M",
      "include_colab_link": true
    },
    "kernelspec": {
      "name": "python3",
      "display_name": "Python 3"
    }
  },
  "cells": [
    {
      "cell_type": "markdown",
      "metadata": {
        "id": "view-in-github",
        "colab_type": "text"
      },
      "source": [
        "<a href=\"https://colab.research.google.com/github/geoffwoollard/learn_cryoem_math/blob/master/nb/ot_2d_interpolate.ipynb\" target=\"_parent\"><img src=\"https://colab.research.google.com/assets/colab-badge.svg\" alt=\"Open In Colab\"/></a>"
      ]
    },
    {
      "cell_type": "markdown",
      "metadata": {
        "id": "RNQilWmUm7y6"
      },
      "source": [
        "# Goal\n",
        "Build intuition about optimal transport with toy problems."
      ]
    },
    {
      "cell_type": "code",
      "metadata": {
        "colab": {
          "base_uri": "https://localhost:8080/"
        },
        "id": "eMuv4CJJYnte",
        "outputId": "9f4e2898-4667-4785-ea89-0919041801d8"
      },
      "source": [
        "!pip install pot\n",
        "import ot "
      ],
      "execution_count": 2,
      "outputs": [
        {
          "output_type": "stream",
          "text": [
            "Collecting pot\n",
            "\u001b[?25l  Downloading https://files.pythonhosted.org/packages/f8/22/67658e4b227fc52ce1c9bca522dfb3f0cc29a3536d1c7499feb3b0042a41/POT-0.7.0-cp36-cp36m-manylinux2010_x86_64.whl (428kB)\n",
            "\u001b[K     |████████████████████████████████| 430kB 4.8MB/s \n",
            "\u001b[?25hRequirement already satisfied: scipy>=1.0 in /usr/local/lib/python3.6/dist-packages (from pot) (1.4.1)\n",
            "Requirement already satisfied: numpy>=1.16 in /usr/local/lib/python3.6/dist-packages (from pot) (1.19.4)\n",
            "Requirement already satisfied: cython>=0.23 in /usr/local/lib/python3.6/dist-packages (from pot) (0.29.21)\n",
            "Installing collected packages: pot\n",
            "Successfully installed pot-0.7.0\n"
          ],
          "name": "stdout"
        }
      ]
    },
    {
      "cell_type": "code",
      "metadata": {
        "id": "2Z8NmO10Y0ZX"
      },
      "source": [
        "import numpy as np\n",
        "import matplotlib.pyplot as plt\n",
        "def doplt(arr2d):\n",
        "  plt.imshow(arr2d,cmap='gray')"
      ],
      "execution_count": 3,
      "outputs": []
    },
    {
      "cell_type": "code",
      "metadata": {
        "colab": {
          "base_uri": "https://localhost:8080/",
          "height": 269
        },
        "id": "K0eU5_9aY6XA",
        "outputId": "80cb0474-812a-4e06-dc08-d561c398a37a"
      },
      "source": [
        "def make_solid_square(N,rad):\n",
        "  sq = np.zeros((N,N))\n",
        "  mid=N//2\n",
        "  for i in range(N):\n",
        "    if (mid-rad < i and i <= mid+rad):\n",
        "      for j in range(N):\n",
        "        if mid-rad <= j and j < mid+rad:\n",
        "          sq[i,j]=1\n",
        "  return(sq)\n",
        "\n",
        "def make_border_square(N,rad,thickness):\n",
        "  assert thickness%2 == 0, 'thickness must be even'\n",
        "  assert N%2 == 0, 'N must be even'\n",
        "  sq_out = make_solid_square(N,rad+thickness//2)\n",
        "  sq_in = make_solid_square(N,rad-thickness//2)\n",
        "  return(np.logical_and(sq_out.astype(np.bool),~sq_in.astype(np.bool)))\n",
        "\n",
        "N=256\n",
        "sq = make_border_square(N=N,rad=N//2.5,thickness=2)\n",
        "doplt(sq)\n"
      ],
      "execution_count": 4,
      "outputs": [
        {
          "output_type": "display_data",
          "data": {
            "image/png": "[encoded data removed]",
            "text/plain": [
              "<Figure size 432x288 with 1 Axes>"
            ]
          },
          "metadata": {
            "tags": [],
            "needs_background": "light"
          }
        }
      ]
    },
    {
      "cell_type": "code",
      "metadata": {
        "colab": {
          "base_uri": "https://localhost:8080/",
          "height": 269
        },
        "id": "UIxTF25XdQXL",
        "outputId": "4e8c3973-313d-4665-9bb7-1303b4f88b08"
      },
      "source": [
        "def make_solid_circle(N,rad):\n",
        "  x = np.arange(-N//2,N//2)\n",
        "  xv, yv = np.meshgrid(x, x, sparse=False, indexing='ij')\n",
        "  r2 = xv**2+yv**2\n",
        "  circle = r2 < rad**2\n",
        "  return(circle)\n",
        "\n",
        "\n",
        "def make_border_circle(N,rad,thickness):\n",
        "  circle_in = make_solid_circle(N,rad=rad-thickness//2)\n",
        "  circle_out = make_solid_circle(N,rad=rad+thickness//2)\n",
        "  return(np.logical_and(circle_out.astype(np.bool),~circle_in.astype(np.bool)))\n",
        "\n",
        "N=256\n",
        "circle = make_border_circle(N=N,rad=N//4,thickness=2)\n",
        "doplt(circle)"
      ],
      "execution_count": 5,
      "outputs": [
        {
          "output_type": "display_data",
          "data": {
            "image/png": "[encoded data removed]",
            "text/plain": [
              "<Figure size 432x288 with 1 Axes>"
            ]
          },
          "metadata": {
            "tags": [],
            "needs_background": "light"
          }
        }
      ]
    },
    {
      "cell_type": "markdown",
      "metadata": {
        "id": "rlrtz5MRfYeG"
      },
      "source": [
        "## Cost\n",
        "The cost is just the euclidean distance from one (grid) point (in one shape) to the other (in the other shape)."
      ]
    },
    {
      "cell_type": "markdown",
      "metadata": {
        "id": "7aJU78K3fb6u"
      },
      "source": [
        "### Coordinates"
      ]
    },
    {
      "cell_type": "code",
      "metadata": {
        "id": "8bRjezLFfHJ5"
      },
      "source": [
        "N=256\n",
        "x = np.arange(-N//2,N//2)\n",
        "xv, yv = np.meshgrid(x, x, sparse=False, indexing='ij')\n",
        "\n"
      ],
      "execution_count": 6,
      "outputs": []
    },
    {
      "cell_type": "code",
      "metadata": {
        "id": "rD72StfFe2xl"
      },
      "source": [
        "circle = make_border_circle(N=N,rad=N//4,thickness=2)\n",
        "circle_coords = np.zeros((circle.sum(),2))\n",
        "circle_coords[:,0], circle_coords[:,1] = xv[circle], yv[circle]"
      ],
      "execution_count": 7,
      "outputs": []
    },
    {
      "cell_type": "code",
      "metadata": {
        "colab": {
          "base_uri": "https://localhost:8080/"
        },
        "id": "sG4-mao8fy7P",
        "outputId": "5372cbb8-5be2-4419-96ba-3afbfb66c04d"
      },
      "source": [
        "sq = make_border_square(N=N,rad=N//2.5,thickness=2)\n",
        "sq_coords = np.zeros((sq.sum(),2))\n",
        "sq_coords[:,0], sq_coords[:,1] = xv[sq], yv[sq]\n",
        "n_sq, n_c = sq_coords.shape[0], circle_coords.shape[0]\n",
        "n_sq, n_c"
      ],
      "execution_count": 8,
      "outputs": [
        {
          "output_type": "execute_result",
          "data": {
            "text/plain": [
              "(1632, 788)"
            ]
          },
          "metadata": {
            "tags": []
          },
          "execution_count": 8
        }
      ]
    },
    {
      "cell_type": "code",
      "metadata": {
        "colab": {
          "base_uri": "https://localhost:8080/"
        },
        "id": "g3ui-CpqgGLA",
        "outputId": "18b4018e-977e-47c8-8cbf-0a4a32454931"
      },
      "source": [
        "C = np.zeros((n_sq, n_c))\n",
        "for i in range(n_sq):\n",
        "  for j in range(n_c):\n",
        "    C[i,j] = np.sqrt(((sq_coords[i]-circle_coords[j])**2).sum())\n",
        "np.allclose(C,ot.dist(sq_coords,circle_coords,metric='euclidean'))\n",
        "\n"
      ],
      "execution_count": 9,
      "outputs": [
        {
          "output_type": "execute_result",
          "data": {
            "text/plain": [
              "True"
            ]
          },
          "metadata": {
            "tags": []
          },
          "execution_count": 9
        }
      ]
    },
    {
      "cell_type": "markdown",
      "metadata": {
        "id": "p9DbAwXIip4J"
      },
      "source": [
        "# Optimal Transport Plan"
      ]
    },
    {
      "cell_type": "code",
      "metadata": {
        "colab": {
          "base_uri": "https://localhost:8080/"
        },
        "id": "YLSUb7KahY8p",
        "outputId": "c6b8a584-8b94-4c8b-fc74-2a4a93185adf"
      },
      "source": [
        "C/=C.max()\n",
        "ot_plan = ot.sinkhorn(np.ones(n_sq),np.ones(n_c),C,reg=0.01)"
      ],
      "execution_count": 10,
      "outputs": [
        {
          "output_type": "stream",
          "text": [
            "Warning: numerical errors at iteration 960\n"
          ],
          "name": "stdout"
        },
        {
          "output_type": "stream",
          "text": [
            "/usr/local/lib/python3.6/dist-packages/ot/bregman.py:364: RuntimeWarning: overflow encountered in true_divide\n",
            "  u = 1. / np.dot(Kp, v)\n"
          ],
          "name": "stderr"
        }
      ]
    },
    {
      "cell_type": "code",
      "metadata": {
        "colab": {
          "base_uri": "https://localhost:8080/",
          "height": 269
        },
        "id": "zO21i5toh7EW",
        "outputId": "0cc60925-906e-4b75-89b2-a306bd247381"
      },
      "source": [
        "doplt(ot_plan)"
      ],
      "execution_count": 11,
      "outputs": [
        {
          "output_type": "display_data",
          "data": {
            "image/png": "[encoded data removed]",
            "text/plain": [
              "<Figure size 432x288 with 1 Axes>"
            ]
          },
          "metadata": {
            "tags": [],
            "needs_background": "light"
          }
        }
      ]
    },
    {
      "cell_type": "markdown",
      "metadata": {
        "id": "n7voDRHMioNP"
      },
      "source": [
        "# Interpolate\n",
        "The optimal transport plan gives a direction to travel in, in terms of the vector from the initial point in the column to the linear combination of points in the row."
      ]
    },
    {
      "cell_type": "code",
      "metadata": {
        "colab": {
          "base_uri": "https://localhost:8080/",
          "height": 265
        },
        "id": "uhBdw0Ya-ubW",
        "outputId": "52caa902-40e6-435f-e0a4-cf8b989584f6"
      },
      "source": [
        "for t in np.linspace(0,1,5):\n",
        "  flex_t = (1-t)*sq_coords + t*ot_plan.dot(circle_coords) \n",
        "  plt.scatter(flex_t[:,0],flex_t[:,1],marker='.')"
      ],
      "execution_count": 12,
      "outputs": [
        {
          "output_type": "display_data",
          "data": {
            "image/png": "[encoded data removed]",
            "text/plain": [
              "<Figure size 432x288 with 1 Axes>"
            ]
          },
          "metadata": {
            "tags": [],
            "needs_background": "light"
          }
        }
      ]
    },
    {
      "cell_type": "markdown",
      "metadata": {
        "id": "wC5MtrUnCXkC"
      },
      "source": [
        "So here we see how a shapes, represented by a point cloud, can be interconverted to one another.\n",
        "\n",
        "This was done for a binary 2D scalar map, but it immediately extendable to real values (ie where the pixels in the 2D image have an intensity). This takes us a step closer to interpolating 3D volumes."
      ]
    },
    {
      "cell_type": "markdown",
      "metadata": {
        "id": "P0LVxe6HJ8M4"
      },
      "source": [
        "# Simple point cloud\n",
        "The regularization term makes the points cluster closer together (resemble the initial shape more)"
      ]
    },
    {
      "cell_type": "code",
      "metadata": {
        "colab": {
          "base_uri": "https://localhost:8080/"
        },
        "id": "xpITtr5cJ9Y8",
        "outputId": "e5a1d111-c1c1-4f74-8c2e-7a98a816acb5"
      },
      "source": [
        "#g1 = np.array([[0,2],[1,1],[2,0]])\n",
        "g1 = np.array([[1-.1,1],[1,1],[1,1-.1]])\n",
        "#g1 = np.array([[1,1],[1,1],[1,1]])\n",
        "\n",
        "g2 = np.array([[-2,0],[-1,-1],[0,-2]])\n",
        "n = 3\n",
        "C = ot.dist(g1,g2,metric='euclidean')\n",
        "C/=C.max()\n",
        "ones = np.ones(n)\n",
        "ot_plan = ot.sinkhorn(ones,ones,C,reg=0.0001,method='sinkhorn_stabilized') # important to use stabilized for reg less than ~0.01\n",
        "#ot_plan = ot.emd(ones,ones,C) # important to use stabilized for reg less than ~0.01\n",
        "\n",
        "ot_plan\n"
      ],
      "execution_count": 525,
      "outputs": [
        {
          "output_type": "execute_result",
          "data": {
            "text/plain": [
              "array([[9.99610743e-01, 3.89256520e-04, 2.46138115e-89],\n",
              "       [1.62740341e-31, 1.00000000e+00, 1.62740341e-31],\n",
              "       [2.46138115e-89, 3.89256520e-04, 9.99610743e-01]])"
            ]
          },
          "metadata": {
            "tags": []
          },
          "execution_count": 525
        }
      ]
    },
    {
      "cell_type": "code",
      "metadata": {
        "colab": {
          "base_uri": "https://localhost:8080/",
          "height": 269
        },
        "id": "deN_OWepKa1V",
        "outputId": "efd450e7-de67-46a8-bd54-ab48ed43c7c4"
      },
      "source": [
        "doplt(ot_plan)"
      ],
      "execution_count": 526,
      "outputs": [
        {
          "output_type": "display_data",
          "data": {
            "image/png": "[encoded data removed]",
            "text/plain": [
              "<Figure size 432x288 with 1 Axes>"
            ]
          },
          "metadata": {
            "tags": [],
            "needs_background": "light"
          }
        }
      ]
    },
    {
      "cell_type": "code",
      "metadata": {
        "colab": {
          "base_uri": "https://localhost:8080/",
          "height": 282
        },
        "id": "7pR2GPT8Kj9T",
        "outputId": "143d7e00-a7d2-435c-d8cc-6168a3a43740"
      },
      "source": [
        "plt.scatter(g1[:,0],g1[:,1],marker='.')\n",
        "plt.scatter(g2[:,0],g2[:,1],marker='.')"
      ],
      "execution_count": 527,
      "outputs": [
        {
          "output_type": "execute_result",
          "data": {
            "text/plain": [
              "<matplotlib.collections.PathCollection at 0x7f1470ccf438>"
            ]
          },
          "metadata": {
            "tags": []
          },
          "execution_count": 527
        },
        {
          "output_type": "display_data",
          "data": {
            "image/png": "[encoded data removed]",
            "text/plain": [
              "<Figure size 432x288 with 1 Axes>"
            ]
          },
          "metadata": {
            "tags": [],
            "needs_background": "light"
          }
        }
      ]
    },
    {
      "cell_type": "code",
      "metadata": {
        "colab": {
          "base_uri": "https://localhost:8080/",
          "height": 282
        },
        "id": "_UE1qPWTKm5I",
        "outputId": "9407b642-779c-4783-d50f-d41ae768ac40"
      },
      "source": [
        "plt.scatter(g1[:,0],g1[:,1],marker='*')\n",
        "for t in np.linspace(0,1,5):\n",
        "  flex_t = (1-t)*g1 + t*ot_plan.dot(g2)\n",
        "  plt.scatter(flex_t[:,0],flex_t[:,1],marker='.')\n",
        "plt.scatter(g2[:,0],g2[:,1],marker='+')"
      ],
      "execution_count": 531,
      "outputs": [
        {
          "output_type": "execute_result",
          "data": {
            "text/plain": [
              "<matplotlib.collections.PathCollection at 0x7f147003c208>"
            ]
          },
          "metadata": {
            "tags": []
          },
          "execution_count": 531
        },
        {
          "output_type": "display_data",
          "data": {
            "image/png": "[encoded data removed]",
            "text/plain": [
              "<Figure size 432x288 with 1 Axes>"
            ]
          },
          "metadata": {
            "tags": [],
            "needs_background": "light"
          }
        }
      ]
    },
    {
      "cell_type": "markdown",
      "metadata": {
        "id": "D972jFrozdrZ"
      },
      "source": [
        "# Weighted point cloud\n",
        "\n",
        "Each $ij$ of the transport plan $T$ represents how the point $(x_i,y_i)$, density weighted by $a_i$ is transported to $(x_j,y_j)$. Thus, we can get the interpolation by looking at all the non-zero entries $T_{ij}$ of the transport plan, and then computing where they are on the vector $[x_j-x_i,y_j-y_i]$, and weight this contribution by $T_{ij}$."
      ]
    },
    {
      "cell_type": "code",
      "metadata": {
        "colab": {
          "base_uri": "https://localhost:8080/"
        },
        "id": "L4cJF9dhze-9",
        "outputId": "6031e0ef-1eea-466a-f9c0-be7252add199"
      },
      "source": [
        "#g1 = np.array([[0,2],[1,1],[2,0]])\n",
        "g1 = np.array([[1-.1,1],[1,1],[1,1-.1]])\n",
        "#g1 = np.array([[1,1],[1,1],[1,1]])\n",
        "\n",
        "g2 = np.array([[-2,0],[-1,-1],[0,-2]])\n",
        "n = 3\n",
        "C = ot.dist(g1,g2,metric='euclidean')\n",
        "C/=C.max()\n",
        "ones = np.ones(n)\n",
        "a,b = np.array([1,2,1]), np.array([2,1,1])\n",
        "#ot_plan = ot.sinkhorn(ones,ones,C,reg=0.0001,method='sinkhorn_stabilized') # important to use stabilized for reg less than ~0.01\n",
        "ot_plan = ot.emd(a,b,C) # important to use stabilized for reg less than ~0.01\n",
        "\n",
        "ot_plan\n"
      ],
      "execution_count": 620,
      "outputs": [
        {
          "output_type": "execute_result",
          "data": {
            "text/plain": [
              "array([[1., 0., 0.],\n",
              "       [1., 1., 0.],\n",
              "       [0., 0., 1.]])"
            ]
          },
          "metadata": {
            "tags": []
          },
          "execution_count": 620
        }
      ]
    },
    {
      "cell_type": "code",
      "metadata": {
        "colab": {
          "base_uri": "https://localhost:8080/",
          "height": 282
        },
        "id": "K_3QbOyZz1dL",
        "outputId": "4b8f77d5-55a8-4727-c8b9-dba4edae29d3"
      },
      "source": [
        "flex_t = np.zeros(((ot_plan>0).sum().astype(np.int32),2))\n",
        "vals = ot_plan[ot_plan>0]\n",
        "  \n",
        "plt.scatter(g1[:,0],g1[:,1],marker='+')\n",
        "for t in [.01,.05,.1,.25,.5,.75,1]:\n",
        "  row=0\n",
        "  for i in range(g1.shape[0]):\n",
        "    for j in range(g2.shape[0]):\n",
        "      if ot_plan[i,j] > 0:\n",
        "        flex_t[row,:] = (1-t)*g1[i]+t*g2[j]\n",
        "        row+=1\n",
        "  plt.scatter(flex_t[:,0],flex_t[:,1],marker='.',s=vals)\n",
        "plt.scatter(g2[:,0],g2[:,1],marker='+')"
      ],
      "execution_count": 621,
      "outputs": [
        {
          "output_type": "execute_result",
          "data": {
            "text/plain": [
              "<matplotlib.collections.PathCollection at 0x7f146f72d7f0>"
            ]
          },
          "metadata": {
            "tags": []
          },
          "execution_count": 621
        },
        {
          "output_type": "display_data",
          "data": {
            "image/png": "[encoded data removed]",
            "text/plain": [
              "<Figure size 432x288 with 1 Axes>"
            ]
          },
          "metadata": {
            "tags": [],
            "needs_background": "light"
          }
        }
      ]
    },
    {
      "cell_type": "markdown",
      "metadata": {
        "id": "Hrjhnqvi6LtU"
      },
      "source": [
        "We see that the three initial dots break up into four (because the density weights are [1,2,1], which represents four), and then reform into the final three points (with density weights [2,1,1])"
      ]
    },
    {
      "cell_type": "markdown",
      "metadata": {
        "id": "CD-QXxWPEUBj"
      },
      "source": [
        "## Gaussian point cloud"
      ]
    },
    {
      "cell_type": "code",
      "metadata": {
        "colab": {
          "base_uri": "https://localhost:8080/",
          "height": 268
        },
        "id": "IvOPWX3JEXPm",
        "outputId": "5cfeae5a-d451-4be7-dd36-a09e6386a6b9"
      },
      "source": [
        "cov = np.eye(2)\n",
        "n=100\n",
        "mu=10\n",
        "g1 = np.random.multivariate_normal(mean=[mu,mu], cov=cov, size=n)\n",
        "g2 = np.random.multivariate_normal(mean=[-mu,-mu], cov=cov, size=n)\n",
        "C = ot.dist(g1,g2,metric='euclidean')\n",
        "C/=C.max()\n",
        "ones = np.ones(n)\n",
        "#ot_plan = ot.sinkhorn(ones,ones,C,reg=0.001,method='sinkhorn_stabilized')\n",
        "ot_plan = ot.emd(ones,ones,C)\n",
        "doplt(ot_plan)"
      ],
      "execution_count": 369,
      "outputs": [
        {
          "output_type": "display_data",
          "data": {
            "image/png": "[encoded data removed]",
            "text/plain": [
              "<Figure size 432x288 with 1 Axes>"
            ]
          },
          "metadata": {
            "tags": [],
            "needs_background": "light"
          }
        }
      ]
    },
    {
      "cell_type": "code",
      "metadata": {
        "colab": {
          "base_uri": "https://localhost:8080/",
          "height": 265
        },
        "id": "wrKdxM8EE57S",
        "outputId": "7c7ce214-af8a-463f-ed4a-af1165b8110f"
      },
      "source": [
        "for t in np.linspace(0,1,5):\n",
        "  flex_t = (1-t)*g1 + t*ot_plan.dot(g2) \n",
        "  plt.scatter(flex_t[:,0],flex_t[:,1],marker='.')"
      ],
      "execution_count": 396,
      "outputs": [
        {
          "output_type": "display_data",
          "data": {
            "image/png": "[encoded data removed]",
            "text/plain": [
              "<Figure size 432x288 with 1 Axes>"
            ]
          },
          "metadata": {
            "tags": [],
            "needs_background": "light"
          }
        }
      ]
    },
    {
      "cell_type": "code",
      "metadata": {
        "colab": {
          "base_uri": "https://localhost:8080/",
          "height": 285
        },
        "id": "8Y4B3_ApGU8r",
        "outputId": "56400574-a678-4aa5-e5a0-f6107582f4d9"
      },
      "source": [
        "ot_plan_sink = ot.sinkhorn(ones,ones,C,reg=1e-7,method='sinkhorn_epsilon_scaling',numItermax=10000)\n",
        "doplt(ot_plan_sink)\n",
        "np.allclose(ot_plan_sink.sum(0),np.ones(n))"
      ],
      "execution_count": 386,
      "outputs": [
        {
          "output_type": "execute_result",
          "data": {
            "text/plain": [
              "True"
            ]
          },
          "metadata": {
            "tags": []
          },
          "execution_count": 386
        },
        {
          "output_type": "display_data",
          "data": {
            "image/png": "[encoded data removed]",
            "text/plain": [
              "<Figure size 432x288 with 1 Axes>"
            ]
          },
          "metadata": {
            "tags": [],
            "needs_background": "light"
          }
        }
      ]
    },
    {
      "cell_type": "code",
      "metadata": {
        "colab": {
          "base_uri": "https://localhost:8080/"
        },
        "id": "pWojmi7vcE0C",
        "outputId": "7a38281a-5183-4d3d-997b-19bf308425bd"
      },
      "source": [
        "np.isclose(ot_plan_sink[ot_plan>0],ot_plan[ot_plan>0],atol=0.05).mean()"
      ],
      "execution_count": 395,
      "outputs": [
        {
          "output_type": "execute_result",
          "data": {
            "text/plain": [
              "0.33"
            ]
          },
          "metadata": {
            "tags": []
          },
          "execution_count": 395
        }
      ]
    },
    {
      "cell_type": "code",
      "metadata": {
        "colab": {
          "base_uri": "https://localhost:8080/",
          "height": 265
        },
        "id": "EmlexF9UOS57",
        "outputId": "39041c99-2f5a-462d-d414-6bb6271c91e1"
      },
      "source": [
        "for t in np.linspace(0,1,5):\n",
        "  flex_t = (1-t)*g1 + t*ot_plan_sink.dot(g2) \n",
        "  plt.scatter(flex_t[:,0],flex_t[:,1],marker='.')"
      ],
      "execution_count": 397,
      "outputs": [
        {
          "output_type": "display_data",
          "data": {
            "image/png": "[encoded data removed]",
            "text/plain": [
              "<Figure size 432x288 with 1 Axes>"
            ]
          },
          "metadata": {
            "tags": [],
            "needs_background": "light"
          }
        }
      ]
    },
    {
      "cell_type": "code",
      "metadata": {
        "id": "Cl4nBAOdZzqf"
      },
      "source": [
        "# ot_plan_sink_round = np.zeros_like(ot_plan_sink)\n",
        "# row_idx = np.argmax(ot_plan_sink,0)\n",
        "# for c in range(n):\n",
        "#   ot_plan_sink_round[row_idx[c],c] = 1\n",
        "# doplt(ot_plan_sink_round)\n"
      ],
      "execution_count": null,
      "outputs": []
    },
    {
      "cell_type": "markdown",
      "metadata": {
        "id": "o7x1HH-uC3Gq"
      },
      "source": [
        "# Interpolating 2D scalar density maps\n",
        "Will use 2D Gaussians. Use np.histogram2d to sample on grid. Can verify/compare with original point cloud."
      ]
    },
    {
      "cell_type": "markdown",
      "metadata": {
        "id": "7yL2ejUGC9Il"
      },
      "source": [
        "## shapes/images on 2D grid"
      ]
    },
    {
      "cell_type": "code",
      "metadata": {
        "id": "KC2rwOWuCzhr"
      },
      "source": [
        "from scipy.stats import multivariate_normal\n"
      ],
      "execution_count": 13,
      "outputs": []
    },
    {
      "cell_type": "code",
      "metadata": {
        "colab": {
          "base_uri": "https://localhost:8080/",
          "height": 283
        },
        "id": "ozmgLQtFDxbt",
        "outputId": "56223436-cac4-4cf1-8e15-da0c13b0ebc1"
      },
      "source": [
        "def sample_gauss2d_grid(mean=[0,0],cov=np.eye(2),size=10**4,std=1,bins=32,window=5):\n",
        "  g = np.random.multivariate_normal(mean=mean, cov=cov, size=size)\n",
        "  H, xedges, yedges = np.histogram2d(g[:,0], g[:,1], bins=bins, range=window*np.array([[-1,1],[-1,1]]))\n",
        "  return(H, xedges, yedges)\n",
        "H1, xedges1, yedges1 = sample_gauss2d_grid(mean=np.array([10,10]),cov=10*np.eye(2),size=100,bins=32,window=25)\n",
        "doplt(H1), H1.sum()"
      ],
      "execution_count": 809,
      "outputs": [
        {
          "output_type": "execute_result",
          "data": {
            "text/plain": [
              "(None, 100.0)"
            ]
          },
          "metadata": {
            "tags": []
          },
          "execution_count": 809
        },
        {
          "output_type": "display_data",
          "data": {
            "image/png": "[encoded data removed]",
            "text/plain": [
              "<Figure size 432x288 with 1 Axes>"
            ]
          },
          "metadata": {
            "tags": [],
            "needs_background": "light"
          }
        }
      ]
    },
    {
      "cell_type": "code",
      "metadata": {
        "colab": {
          "base_uri": "https://localhost:8080/",
          "height": 283
        },
        "id": "njZoWyI1GNHl",
        "outputId": "c22f17bf-fc6d-4817-a217-d69e0f1364a7"
      },
      "source": [
        "H2, xedges2, yedges2 = sample_gauss2d_grid(mean=np.array([-10,-10]),cov=10*np.eye(2),size=100,bins=32,window=25)\n",
        "doplt(H2), H2.sum()"
      ],
      "execution_count": 808,
      "outputs": [
        {
          "output_type": "execute_result",
          "data": {
            "text/plain": [
              "(None, 100.0)"
            ]
          },
          "metadata": {
            "tags": []
          },
          "execution_count": 808
        },
        {
          "output_type": "display_data",
          "data": {
            "image/png": "[encoded data removed]",
            "text/plain": [
              "<Figure size 432x288 with 1 Axes>"
            ]
          },
          "metadata": {
            "tags": [],
            "needs_background": "light"
          }
        }
      ]
    },
    {
      "cell_type": "markdown",
      "metadata": {
        "id": "X5xhI-DUGU2M"
      },
      "source": [
        "The histogramming sometimes drops points if it goes outside the window (edges). Repeat until the sum is the same as the size. TODO: clip"
      ]
    },
    {
      "cell_type": "code",
      "metadata": {
        "id": "CVq3rtxRHrXK"
      },
      "source": [
        "xv, yv = np.meshgrid(xedges1[:-1], xedges1[:-1], sparse=False, indexing='ij')\n",
        "coords = np.zeros((xv.size,2)) \n",
        "coords[:,0], coords[:,1]=xv.flatten(), yv.flatten()\n",
        "a_coords = coords[H1.flatten()>0]\n",
        "b_coords = coords[H2.flatten()>0]\n",
        "C = ot.dist(a_coords,b_coords,metric='euclidean')\n",
        "C/=C.max()\n",
        "a = H1[H1>0]\n",
        "b = H2[H2>0]\n"
      ],
      "execution_count": 810,
      "outputs": []
    },
    {
      "cell_type": "code",
      "metadata": {
        "colab": {
          "base_uri": "https://localhost:8080/"
        },
        "id": "ky75iFrvyqaV",
        "outputId": "9d14b22f-7cb6-4e6b-930a-1f1b1f9360d2"
      },
      "source": [
        "a_coords.shape, b_coords.shape, H1.flatten().shape"
      ],
      "execution_count": 811,
      "outputs": [
        {
          "output_type": "execute_result",
          "data": {
            "text/plain": [
              "((46, 2), (49, 2), (1024,))"
            ]
          },
          "metadata": {
            "tags": []
          },
          "execution_count": 811
        }
      ]
    },
    {
      "cell_type": "code",
      "metadata": {
        "colab": {
          "base_uri": "https://localhost:8080/"
        },
        "id": "Yz3ShXg25z2x",
        "outputId": "44f9d1af-7bc3-424e-e348-a4180ea05ece"
      },
      "source": [
        "(H1).sum(), (H2).sum()"
      ],
      "execution_count": 812,
      "outputs": [
        {
          "output_type": "execute_result",
          "data": {
            "text/plain": [
              "(100.0, 100.0)"
            ]
          },
          "metadata": {
            "tags": []
          },
          "execution_count": 812
        }
      ]
    },
    {
      "cell_type": "code",
      "metadata": {
        "colab": {
          "base_uri": "https://localhost:8080/"
        },
        "id": "VxU3rx6fFLHa",
        "outputId": "071e7c67-c33b-406f-a5bc-1684e6776958"
      },
      "source": [
        "a.shape,b.shape"
      ],
      "execution_count": 813,
      "outputs": [
        {
          "output_type": "execute_result",
          "data": {
            "text/plain": [
              "((46,), (49,))"
            ]
          },
          "metadata": {
            "tags": []
          },
          "execution_count": 813
        }
      ]
    },
    {
      "cell_type": "code",
      "metadata": {
        "colab": {
          "base_uri": "https://localhost:8080/",
          "height": 282
        },
        "id": "l4pwk5hirctz",
        "outputId": "55cf0036-cc46-40ef-9579-5340c34aab2b"
      },
      "source": [
        "plt.scatter(a_coords[:,0],a_coords[:,1],marker='.',s=a)\n",
        "plt.scatter(b_coords[:,0],b_coords[:,1],marker='.',s=b)\n"
      ],
      "execution_count": 814,
      "outputs": [
        {
          "output_type": "execute_result",
          "data": {
            "text/plain": [
              "<matplotlib.collections.PathCollection at 0x7f146e881ba8>"
            ]
          },
          "metadata": {
            "tags": []
          },
          "execution_count": 814
        },
        {
          "output_type": "display_data",
          "data": {
            "image/png": "[encoded data removed]",
            "text/plain": [
              "<Figure size 432x288 with 1 Axes>"
            ]
          },
          "metadata": {
            "tags": [],
            "needs_background": "light"
          }
        }
      ]
    },
    {
      "cell_type": "code",
      "metadata": {
        "colab": {
          "base_uri": "https://localhost:8080/",
          "height": 267
        },
        "id": "2xK8KybIdIXq",
        "outputId": "e9cc44a2-0ad0-4c0a-862f-6c77de5c97c5"
      },
      "source": [
        "ot_plan = ot.emd(a,b,C)\n",
        "doplt(ot_plan)"
      ],
      "execution_count": 815,
      "outputs": [
        {
          "output_type": "display_data",
          "data": {
            "image/png": "[encoded data removed]",
            "text/plain": [
              "<Figure size 432x288 with 1 Axes>"
            ]
          },
          "metadata": {
            "tags": [],
            "needs_background": "light"
          }
        }
      ]
    },
    {
      "cell_type": "code",
      "metadata": {
        "colab": {
          "base_uri": "https://localhost:8080/"
        },
        "id": "hi2A0eFrqhzK",
        "outputId": "89e8a4f2-0563-4034-93a9-b646a0a4d355"
      },
      "source": [
        "import pandas as pd\n",
        "pd.Series(ot_plan.flatten()).value_counts()"
      ],
      "execution_count": 816,
      "outputs": [
        {
          "output_type": "execute_result",
          "data": {
            "text/plain": [
              "0.0    2186\n",
              "1.0      47\n",
              "2.0      14\n",
              "3.0       4\n",
              "4.0       2\n",
              "5.0       1\n",
              "dtype: int64"
            ]
          },
          "metadata": {
            "tags": []
          },
          "execution_count": 816
        }
      ]
    },
    {
      "cell_type": "code",
      "metadata": {
        "colab": {
          "base_uri": "https://localhost:8080/"
        },
        "id": "idVHn0MHq4AH",
        "outputId": "c1cb598e-66d7-499c-e7a4-239c01401512"
      },
      "source": [
        "np.allclose(a,ot_plan.sum(1)), np.allclose(b,ot_plan.sum(0))"
      ],
      "execution_count": 817,
      "outputs": [
        {
          "output_type": "execute_result",
          "data": {
            "text/plain": [
              "(True, True)"
            ]
          },
          "metadata": {
            "tags": []
          },
          "execution_count": 817
        }
      ]
    },
    {
      "cell_type": "code",
      "metadata": {
        "colab": {
          "base_uri": "https://localhost:8080/",
          "height": 282
        },
        "id": "JX1HIptH-6gt",
        "outputId": "270412c4-07fb-4e6b-ec08-54e7c712889b"
      },
      "source": [
        "flex_t = np.zeros(((ot_plan>0).sum().astype(np.int32),2))\n",
        "vals = ot_plan[ot_plan>0]\n",
        "\n",
        "plt.scatter(a_coords[:,0],a_coords[:,1],marker='+',s=a)\n",
        "for t in [.25,0.5,.75]:\n",
        "  row=0\n",
        "  for i in range(a_coords.shape[0]):\n",
        "    for j in range(b_coords.shape[0]):\n",
        "      if ot_plan[i,j] > 0:\n",
        "        flex_t[row,:] = (1-t)*a_coords[i]+t*b_coords[j]\n",
        "        row+=1\n",
        "  plt.scatter(flex_t[:,0],flex_t[:,1],marker='.',s=vals)\n",
        "plt.scatter(b_coords[:,0],b_coords[:,1],marker='+',s=b)"
      ],
      "execution_count": 818,
      "outputs": [
        {
          "output_type": "execute_result",
          "data": {
            "text/plain": [
              "<matplotlib.collections.PathCollection at 0x7f146e64c860>"
            ]
          },
          "metadata": {
            "tags": []
          },
          "execution_count": 818
        },
        {
          "output_type": "display_data",
          "data": {
            "image/png": "[encoded data removed]",
            "text/plain": [
              "<Figure size 432x288 with 1 Axes>"
            ]
          },
          "metadata": {
            "tags": [],
            "needs_background": "light"
          }
        }
      ]
    },
    {
      "cell_type": "markdown",
      "metadata": {
        "id": "ERlKluWlCgc5"
      },
      "source": [
        "The shape looks squeezed in the direction of travel"
      ]
    },
    {
      "cell_type": "code",
      "metadata": {
        "colab": {
          "base_uri": "https://localhost:8080/",
          "height": 267
        },
        "id": "WLJH_OYBtSeo",
        "outputId": "22d564f2-5444-4d48-dabf-5bcf53bb8697"
      },
      "source": [
        "ot_plan_sink = ot.sinkhorn(a,b,C,reg=1e-7,method='sinkhorn_epsilon_scaling')\n",
        "doplt(ot_plan_sink)\n"
      ],
      "execution_count": 867,
      "outputs": [
        {
          "output_type": "display_data",
          "data": {
            "image/png": "[encoded data removed]",
            "text/plain": [
              "<Figure size 432x288 with 1 Axes>"
            ]
          },
          "metadata": {
            "tags": [],
            "needs_background": "light"
          }
        }
      ]
    },
    {
      "cell_type": "code",
      "metadata": {
        "colab": {
          "base_uri": "https://localhost:8080/"
        },
        "id": "n_jLGk5QIgEC",
        "outputId": "d1a3f454-71b6-4934-d5f2-3f01e40c4cb7"
      },
      "source": [
        "np.isclose(ot_plan_sink[ot_plan>0],ot_plan[ot_plan>0],atol=0.05).mean() # the significance of the atol is relative to the row/col sums are"
      ],
      "execution_count": 868,
      "outputs": [
        {
          "output_type": "execute_result",
          "data": {
            "text/plain": [
              "0.8529411764705882"
            ]
          },
          "metadata": {
            "tags": []
          },
          "execution_count": 868
        }
      ]
    },
    {
      "cell_type": "code",
      "metadata": {
        "colab": {
          "base_uri": "https://localhost:8080/",
          "height": 282
        },
        "id": "qfOwmzjSG1Qv",
        "outputId": "cccc2153-f5ef-4188-d766-05ce366ec7a8"
      },
      "source": [
        "flex_t = np.zeros(((ot_plan_sink>0).sum().astype(np.int32),2))\n",
        "vals = ot_plan_sink[ot_plan_sink>0]\n",
        "\n",
        "plt.scatter(a_coords[:,0],a_coords[:,1],marker='+',s=a)\n",
        "for t in [.25,0.5,.75]:\n",
        "  row=0\n",
        "  for i in range(a_coords.shape[0]):\n",
        "    for j in range(b_coords.shape[0]):\n",
        "      if ot_plan_sink[i,j] > 0:\n",
        "        flex_t[row,:] = (1-t)*a_coords[i]+t*b_coords[j]\n",
        "        row+=1\n",
        "  plt.scatter(flex_t[:,0],flex_t[:,1],marker='.',s=vals)\n",
        "plt.scatter(b_coords[:,0],b_coords[:,1],marker='+',s=b)"
      ],
      "execution_count": 869,
      "outputs": [
        {
          "output_type": "execute_result",
          "data": {
            "text/plain": [
              "<matplotlib.collections.PathCollection at 0x7f146fdd8e10>"
            ]
          },
          "metadata": {
            "tags": []
          },
          "execution_count": 869
        },
        {
          "output_type": "display_data",
          "data": {
            "image/png": "[encoded data removed]",
            "text/plain": [
              "<Figure size 432x288 with 1 Axes>"
            ]
          },
          "metadata": {
            "tags": [],
            "needs_background": "light"
          }
        }
      ]
    },
    {
      "cell_type": "markdown",
      "metadata": {
        "id": "MQsmGFBXIuyv"
      },
      "source": [
        "Compare the `ot.emd` solution with the regularized solution. Is there a significant difference?\n",
        "\n",
        "The points can be histogramed / sampled on a grid to have a discrete interpolation"
      ]
    },
    {
      "cell_type": "markdown",
      "metadata": {
        "id": "MTUCqCSXLD3O"
      },
      "source": [
        "## regularization"
      ]
    },
    {
      "cell_type": "code",
      "metadata": {
        "colab": {
          "base_uri": "https://localhost:8080/",
          "height": 284
        },
        "id": "Fzp_KFajK1e8",
        "outputId": "950f2d75-b056-48d1-8c14-f8dbce1c8435"
      },
      "source": [
        "ot_plan_sink = ot.sinkhorn(a,b,C,reg=1e-3,method='sinkhorn_epsilon_scaling')\n",
        "doplt(ot_plan_sink)\n",
        "np.isclose(ot_plan_sink[ot_plan>0],ot_plan[ot_plan>0],atol=0.5).mean() # the significance of the atol is relative to the row/col sums are"
      ],
      "execution_count": 876,
      "outputs": [
        {
          "output_type": "execute_result",
          "data": {
            "text/plain": [
              "0.029411764705882353"
            ]
          },
          "metadata": {
            "tags": []
          },
          "execution_count": 876
        },
        {
          "output_type": "display_data",
          "data": {
            "image/png": "[encoded data removed]",
            "text/plain": [
              "<Figure size 432x288 with 1 Axes>"
            ]
          },
          "metadata": {
            "tags": [],
            "needs_background": "light"
          }
        }
      ]
    },
    {
      "cell_type": "code",
      "metadata": {
        "colab": {
          "base_uri": "https://localhost:8080/",
          "height": 282
        },
        "id": "v3QwuQx6LBpb",
        "outputId": "b8bbfc18-351a-4017-eb9d-bbc63d7df3f1"
      },
      "source": [
        "flex_t = np.zeros(((ot_plan_sink>0).sum().astype(np.int32),2))\n",
        "vals = ot_plan_sink[ot_plan_sink>0]\n",
        "\n",
        "plt.scatter(a_coords[:,0],a_coords[:,1],marker='+',s=a)\n",
        "for t in [.25,0.5,.75]:\n",
        "  row=0\n",
        "  for i in range(a_coords.shape[0]):\n",
        "    for j in range(b_coords.shape[0]):\n",
        "      if ot_plan_sink[i,j] > 0:\n",
        "        flex_t[row,:] = (1-t)*a_coords[i]+t*b_coords[j]\n",
        "        row+=1\n",
        "  plt.scatter(flex_t[:,0],flex_t[:,1],marker='.',s=vals)\n",
        "plt.scatter(b_coords[:,0],b_coords[:,1],marker='+',s=b)"
      ],
      "execution_count": 877,
      "outputs": [
        {
          "output_type": "execute_result",
          "data": {
            "text/plain": [
              "<matplotlib.collections.PathCollection at 0x7f146e1a6e48>"
            ]
          },
          "metadata": {
            "tags": []
          },
          "execution_count": 877
        },
        {
          "output_type": "display_data",
          "data": {
            "image/png": "[encoded data removed]",
            "text/plain": [
              "<Figure size 432x288 with 1 Axes>"
            ]
          },
          "metadata": {
            "tags": [],
            "needs_background": "light"
          }
        }
      ]
    },
    {
      "cell_type": "markdown",
      "metadata": {
        "id": "47Q-CrM9LCqi"
      },
      "source": [
        "More regularization makes the distributions shape less diverse (perhaps more like the start/finish shape?)."
      ]
    }
  ]
}