{
  "nbformat": 4,
  "nbformat_minor": 0,
  "metadata": {
    "colab": {
      "name": "fourier_slice_2D_3D_with_trilinear.ipynb",
      "provenance": [],
      "collapsed_sections": [],
      "toc_visible": true,
      "machine_shape": "hm",
      "authorship_tag": "ABX9TyO5R9ZdGbL/PiRAqJL9pHzi",
      "include_colab_link": true
    },
    "kernelspec": {
      "display_name": "Python 3",
      "name": "python3"
    }
  },
  "cells": [
    {
      "cell_type": "markdown",
      "metadata": {
        "id": "view-in-github",
        "colab_type": "text"
      },
      "source": [
        "<a href=\"https://colab.research.google.com/github/geoffwoollard/learn_cryoem_math/blob/master/nb/fourier_slice_2D_3D_with_trilinear.ipynb\" target=\"_parent\"><img src=\"https://colab.research.google.com/assets/colab-badge.svg\" alt=\"Open In Colab\"/></a>"
      ]
    },
    {
      "cell_type": "markdown",
      "metadata": {
        "id": "7UcQt-kaBHN0"
      },
      "source": [
        "# Goal\n",
        "* implement Fourier slice theorem in 3D to 2D case\n"
      ]
    },
    {
      "cell_type": "markdown",
      "metadata": {
        "id": "opOCGNaHT6SC"
      },
      "source": [
        "# Setup"
      ]
    },
    {
      "cell_type": "code",
      "metadata": {
        "colab": {
          "base_uri": "https://localhost:8080/"
        },
        "id": "ct2UNhb1cHRH",
        "outputId": "49163349-6fd4-4e6e-fa97-614dde08eeed"
      },
      "source": [
        "!pip install mrcfile\n",
        "import mrcfile"
      ],
      "execution_count": 38,
      "outputs": [
        {
          "output_type": "stream",
          "text": [
            "Collecting mrcfile\n",
            "\u001b[?25l  Downloading https://files.pythonhosted.org/packages/7d/b3/6d35d37e5f51ebb1a6ed4c5178206705bcaf8848c853db790254a15039be/mrcfile-1.3.0-py2.py3-none-any.whl (40kB)\n",
            "\r\u001b[K     |████████                        | 10kB 15.0MB/s eta 0:00:01\r\u001b[K     |████████████████                | 20kB 20.4MB/s eta 0:00:01\r\u001b[K     |████████████████████████        | 30kB 25.3MB/s eta 0:00:01\r\u001b[K     |████████████████████████████████| 40kB 23.2MB/s eta 0:00:01\r\u001b[K     |████████████████████████████████| 51kB 5.7MB/s \n",
            "\u001b[?25hRequirement already satisfied: numpy>=1.12.0 in /usr/local/lib/python3.7/dist-packages (from mrcfile) (1.19.5)\n",
            "Installing collected packages: mrcfile\n",
            "Successfully installed mrcfile-1.3.0\n"
          ],
          "name": "stdout"
        }
      ]
    },
    {
      "cell_type": "code",
      "metadata": {
        "id": "3J3ozgaqnsnr",
        "colab": {
          "base_uri": "https://localhost:8080/"
        },
        "outputId": "fd70d9e5-b20f-41db-d30a-92f94ebd489a"
      },
      "source": [
        "!wget https://raw.githubusercontent.com/geoffwoollard/learn_cryoem_math/master/src/coords.py\n",
        "!wget https://raw.githubusercontent.com/geoffwoollard/learn_cryoem_math/master/src/fourier.py\n",
        "!wget https://raw.githubusercontent.com/geoffwoollard/learn_cryoem_math/master/src/interp.py\n",
        "!wget https://raw.githubusercontent.com/geoffwoollard/learn_cryoem_math/master/src/twod.py\n",
        "!wget https://raw.githubusercontent.com/asarnow/pyem/master/pyem/mrc.py # needed for twod import\n",
        "!pip install pyfftw\n",
        "import coords, interp, fourier, twod"
      ],
      "execution_count": 67,
      "outputs": [
        {
          "output_type": "stream",
          "text": [
            "--2021-04-01 12:54:20--  https://raw.githubusercontent.com/geoffwoollard/learn_cryoem_math/master/src/coords.py\n",
            "Resolving raw.githubusercontent.com (raw.githubusercontent.com)... 185.199.108.133, 185.199.109.133, 185.199.110.133, ...\n",
            "Connecting to raw.githubusercontent.com (raw.githubusercontent.com)|185.199.108.133|:443... connected.\n",
            "HTTP request sent, awaiting response... 200 OK\n",
            "Length: 1681 (1.6K) [text/plain]\n",
            "Saving to: ‘coords.py.1’\n",
            "\n",
            "coords.py.1         100%[===================>]   1.64K  --.-KB/s    in 0s      \n",
            "\n",
            "2021-04-01 12:54:20 (27.2 MB/s) - ‘coords.py.1’ saved [1681/1681]\n",
            "\n",
            "--2021-04-01 12:54:20--  https://raw.githubusercontent.com/geoffwoollard/learn_cryoem_math/master/src/fourier.py\n",
            "Resolving raw.githubusercontent.com (raw.githubusercontent.com)... 185.199.108.133, 185.199.109.133, 185.199.110.133, ...\n",
            "Connecting to raw.githubusercontent.com (raw.githubusercontent.com)|185.199.108.133|:443... connected.\n",
            "HTTP request sent, awaiting response... 200 OK\n",
            "Length: 1083 (1.1K) [text/plain]\n",
            "Saving to: ‘fourier.py’\n",
            "\n",
            "fourier.py          100%[===================>]   1.06K  --.-KB/s    in 0s      \n",
            "\n",
            "2021-04-01 12:54:20 (64.1 MB/s) - ‘fourier.py’ saved [1083/1083]\n",
            "\n",
            "--2021-04-01 12:54:20--  https://raw.githubusercontent.com/geoffwoollard/learn_cryoem_math/master/src/interp.py\n",
            "Resolving raw.githubusercontent.com (raw.githubusercontent.com)... 185.199.108.133, 185.199.109.133, 185.199.110.133, ...\n",
            "Connecting to raw.githubusercontent.com (raw.githubusercontent.com)|185.199.108.133|:443... connected.\n",
            "HTTP request sent, awaiting response... 200 OK\n",
            "Length: 2158 (2.1K) [text/plain]\n",
            "Saving to: ‘interp.py’\n",
            "\n",
            "interp.py           100%[===================>]   2.11K  --.-KB/s    in 0s      \n",
            "\n",
            "2021-04-01 12:54:20 (48.3 MB/s) - ‘interp.py’ saved [2158/2158]\n",
            "\n",
            "--2021-04-01 12:54:21--  https://raw.githubusercontent.com/geoffwoollard/learn_cryoem_math/master/src/twod.py\n",
            "Resolving raw.githubusercontent.com (raw.githubusercontent.com)... 185.199.111.133, 185.199.108.133, 185.199.109.133, ...\n",
            "Connecting to raw.githubusercontent.com (raw.githubusercontent.com)|185.199.111.133|:443... connected.\n",
            "HTTP request sent, awaiting response... 200 OK\n",
            "Length: 15377 (15K) [text/plain]\n",
            "Saving to: ‘twod.py’\n",
            "\n",
            "twod.py             100%[===================>]  15.02K  --.-KB/s    in 0s      \n",
            "\n",
            "2021-04-01 12:54:21 (117 MB/s) - ‘twod.py’ saved [15377/15377]\n",
            "\n",
            "--2021-04-01 12:54:21--  https://raw.githubusercontent.com/asarnow/pyem/master/pyem/mrc.py\n",
            "Resolving raw.githubusercontent.com (raw.githubusercontent.com)... 185.199.108.133, 185.199.109.133, 185.199.110.133, ...\n",
            "Connecting to raw.githubusercontent.com (raw.githubusercontent.com)|185.199.108.133|:443... connected.\n",
            "HTTP request sent, awaiting response... 200 OK\n",
            "Length: 13245 (13K) [text/plain]\n",
            "Saving to: ‘mrc.py’\n",
            "\n",
            "mrc.py              100%[===================>]  12.93K  --.-KB/s    in 0s      \n",
            "\n",
            "2021-04-01 12:54:21 (98.7 MB/s) - ‘mrc.py’ saved [13245/13245]\n",
            "\n",
            "Collecting pyfftw\n",
            "\u001b[?25l  Downloading https://files.pythonhosted.org/packages/9e/e3/be4c79702ebdffaf706ae3f08bf3c586358080872ccfdfa2b4f99995273c/pyFFTW-0.12.0-cp37-cp37m-manylinux1_x86_64.whl (2.6MB)\n",
            "\u001b[K     |████████████████████████████████| 2.6MB 12.3MB/s \n",
            "\u001b[?25hRequirement already satisfied: numpy<2.0,>=1.10 in /usr/local/lib/python3.7/dist-packages (from pyfftw) (1.19.5)\n",
            "Installing collected packages: pyfftw\n",
            "Successfully installed pyfftw-0.12.0\n"
          ],
          "name": "stdout"
        }
      ]
    },
    {
      "cell_type": "code",
      "metadata": {
        "id": "hbzTTlLnMnlk"
      },
      "source": [
        "import numpy as np\n",
        "import matplotlib.pyplot as plt\n",
        "def doplt(arr2d,cmap='gray',**kwargs):\n",
        "  plt.imshow(arr2d,cmap=cmap,**kwargs)"
      ],
      "execution_count": 14,
      "outputs": []
    },
    {
      "cell_type": "code",
      "metadata": {
        "id": "VVX6oGklcxQI"
      },
      "source": [
        "from google.colab import drive\n",
        "drive.mount('/content/drive')"
      ],
      "execution_count": null,
      "outputs": []
    },
    {
      "cell_type": "markdown",
      "metadata": {
        "id": "xRJ1Mi39l9dG"
      },
      "source": [
        "# 2D $\\rightarrow$ 3D  reconstruction in Fourier space\n",
        "\n",
        "Fourier slice theorem with trilinear interpolation.\n",
        "\n",
        "We can interpolate one 2D slice at a time into the 3D Fourier volume using trilnear interpolation.\n",
        "\n",
        "Pseudo code\n",
        "```\n",
        "# for random angels (uniform on sphere)\n",
        "  # rotate real spaced 3D map\n",
        "  # make 3D -> 2D real space projection of the rotated map\n",
        "  # make 2D FFT of 2D real space projection\n",
        "  # get original coords of 2D slice \n",
        "  # rotate (x,y,z=0) plane coords (z values varry after rotation)\n",
        "  # interpolate (trilinear) rotated slice and insert to 3D Fourier volume (keep track of interpolation counts)\n",
        "# inverse FFT (wiener filter by interpolation counts)\n",
        "```"
      ]
    },
    {
      "cell_type": "markdown",
      "metadata": {
        "id": "GQtnEiKnBScg"
      },
      "source": [
        "## Simulate data\n"
      ]
    },
    {
      "cell_type": "markdown",
      "metadata": {
        "id": "uQx1LMUdTap4"
      },
      "source": [
        "Let's try a simple example of some gaussian blobs"
      ]
    },
    {
      "cell_type": "markdown",
      "metadata": {
        "id": "XMEQ6Z6Im3u2"
      },
      "source": [
        "Ensure enough zero-padding that there are no artefacts from aliasing"
      ]
    },
    {
      "cell_type": "code",
      "metadata": {
        "id": "AtlRodD2MdpN"
      },
      "source": [
        "def gauss(x,y,z,std,cx,cy,cz):\n",
        "    return np.exp(-(cx*x*x+cy*y*y+cz*z*z)/(2*std**2))"
      ],
      "execution_count": 78,
      "outputs": []
    },
    {
      "cell_type": "code",
      "metadata": {
        "colab": {
          "base_uri": "https://localhost:8080/",
          "height": 150
        },
        "id": "Xq46Q0TomPpp",
        "outputId": "c65067bb-e429-49e5-c8a2-4a78fe0844ce"
      },
      "source": [
        "N=128\n",
        "coords_1d = np.arange(-N//2,N//2)\n",
        "y,x,z = np.meshgrid(coords_1d,coords_1d,coords_1d) # note order of output! comes from meshgrid\n",
        "cx,cy,cz = np.array([2,.75,.5])*2\n",
        "mux = 15\n",
        "muy = 0\n",
        "muz= 0\n",
        "std = N/10\n",
        "map_original = gauss(x-mux,y-muy,z-muz,std=std,cx=cx,cy=cy,cz=cz)\n",
        "map_original += gauss(x+mux,y+muy,z+muz,std=std,cx=cx,cy=cy,cz=cz)\n",
        "\n",
        "fig,ax = plt.subplots(nrows=1,ncols=3)\n",
        "for idx in range(3):\n",
        "  ax[idx].imshow(np.nansum(map_original, axis=idx),cmap='gray')"
      ],
      "execution_count": 79,
      "outputs": [
        {
          "output_type": "display_data",
          "data": {
            "image/png": "[encoded data removed]",
            "text/plain": [
              "<Figure size 432x288 with 3 Axes>"
            ]
          },
          "metadata": {
            "tags": [],
            "needs_background": "light"
          }
        }
      ]
    },
    {
      "cell_type": "markdown",
      "metadata": {
        "id": "hKpSalaFnB2V"
      },
      "source": [
        "Now we can generate 2D slices. There are a few ways to do this\n",
        "  * in Fourier space\n",
        "    * take 3D FFT of the map\n",
        "    * rotate the xy plane\n",
        "    * interpolate the values of the Fourier volume onto these points\n",
        "  * in real space\n",
        "    * rotate the $N^3$ grid xyz grid points\n",
        "    * interpolate on the the unrotated xyz grid, using the new rotated points with the original function values at the unrotated points.\n",
        "\n",
        "Both methods above will work for any arbitrary map. Doing things in real space avoids Fourier artefacts, but can take longer. However, since we have the analytical form of the map (it's a toy example with a simple shape), we can just rotate the coordinates and compute it on the same 3D grid."
      ]
    },
    {
      "cell_type": "markdown",
      "metadata": {
        "id": "CDWJUOOFTq10"
      },
      "source": [
        "Ensure rotations uniform over the sphere. With experimental data, the rotations would have to be estimated."
      ]
    },
    {
      "cell_type": "code",
      "metadata": {
        "id": "ASwq3XtbBWBs"
      },
      "source": [
        "def get_random_quat(num_pts):\n",
        "    \"\"\"\n",
        "    Get num_pts of unit quaternions on the 4 hemisphere with a uniform random distribution.\n",
        "    :param num_pts: The number of quaternions to return\n",
        "    :return: Quaternion list of shape [number of quaternion, 4]\n",
        "    \"\"\"\n",
        "    u = np.random.rand(3, num_pts)\n",
        "    u1, u2, u3 = [u[x] for x in range(3)]\n",
        "\n",
        "    quat = np.zeros((4, num_pts))\n",
        "    quat[0] = np.sqrt(1 - u1) * np.sin(np.pi * u2 / 2)\n",
        "    quat[1] = np.sqrt(1 - u1) * np.cos(np.pi * u2 / 2)\n",
        "    quat[2] = np.sqrt(u1) * np.sin(np.pi * u3 / 2)\n",
        "    quat[3] = np.sqrt(u1) * np.cos(np.pi * u3 / 2)\n",
        "\n",
        "    return np.transpose(quat)\n",
        "\n",
        "def quaternion_to_R(q):\n",
        "  a,b,c,d = q[0], q[1], q[2], q[3]\n",
        "  R = np.array([\n",
        "                [a**2+b**2-c**2-d**2 , 2*b*c-2*a*d , 2*b*d+2*a*c],\n",
        "                [2*b*c+2*a*d , a**2-b**2+c**2-d**2 , 2*c*d-2*a*b],\n",
        "                [2*b*d-2*a*c , 2*c*d+2*a*b , a**2-b**2-c**2+d**2]\n",
        "                ])\n",
        "  return(R)\n",
        "\n",
        "def logmap(R):\n",
        "    if R.shape == (3,2):\n",
        "        R_ = np.empty((3,3))\n",
        "        R_[:,:2] = R\n",
        "        R_[:,2] = np.cross(R[:,0], R[:,1])\n",
        "        R = R_\n",
        "    arg = np.clip(0.5 * (np.trace(R) - 1), -1.0, 1.0)\n",
        "    angle = np.arccos(arg)\n",
        "    eps = 1e-6\n",
        "    if angle < eps:\n",
        "        a = np.zeros(3)\n",
        "    elif angle > np.pi - eps:\n",
        "        # from https://math.stackexchange.com/questions/83874/efficient-and-accurate-numerical-implementation-of-the-inverse-rodrigues-rotatio/110059\n",
        "        B = (0.5* (R + np.eye(3))) \n",
        "        i = np.unravel_index(B.ravel().argmax(), B.shape)[0]\n",
        "        a = B[i] \n",
        "        a = a / np.linalg.norm(a)\n",
        "    else:\n",
        "        a = 1.0/2.0/np.sin(angle) * \\\n",
        "            np.array([R[2,1] - R[1,2],\n",
        "                     R[0,2] - R[2,0],\n",
        "                     R[1,0] - R[0,1]])\n",
        "    return angle*a\n",
        "\n",
        "def expmap(e):\n",
        "    angle = np.linalg.norm(e)\n",
        "    if angle < 1e-16:\n",
        "        return np.identity(3, dtype=e.dtype)\n",
        "    k = e/angle\n",
        "    K = np.array([[    0,-k[2], k[1]],\\\n",
        "                 [ k[2],    0,-k[0]],\\\n",
        "                 [-k[1], k[0],   0]],dtype=e.dtype)\n",
        "    return np.identity(3, dtype=e.dtype) + np.sin(angle)*K + (1-np.cos(angle))*np.dot(K,K)"
      ],
      "execution_count": 192,
      "outputs": []
    },
    {
      "cell_type": "code",
      "metadata": {
        "colab": {
          "base_uri": "https://localhost:8080/"
        },
        "id": "0WiuPIeGHPRa",
        "outputId": "e9cfe474-86b4-4ba4-b1af-08bea8a99b2f"
      },
      "source": [
        "n_particles=100\n",
        "np.random.seed(0)\n",
        "qs = get_random_quat(n_particles)\n",
        "Rs = quaternion_to_R(qs.T)\n",
        "Rs = np.swapaxes(Rs,0,-1)\n",
        "Rs = np.swapaxes(Rs,1,-1)\n",
        "Rs.shape"
      ],
      "execution_count": 81,
      "outputs": [
        {
          "output_type": "execute_result",
          "data": {
            "text/plain": [
              "(100, 3, 3)"
            ]
          },
          "metadata": {
            "tags": []
          },
          "execution_count": 81
        }
      ]
    },
    {
      "cell_type": "code",
      "metadata": {
        "colab": {
          "base_uri": "https://localhost:8080/"
        },
        "id": "R5ZEvO4uoO85",
        "outputId": "746b27db-00c1-4baa-c3e3-8ec190f689c0"
      },
      "source": [
        "xyz = coords.coords_n_by_d(coords_1d,d=3)\n",
        "xyz.shape"
      ],
      "execution_count": 82,
      "outputs": [
        {
          "output_type": "execute_result",
          "data": {
            "text/plain": [
              "(2097152, 3)"
            ]
          },
          "metadata": {
            "tags": []
          },
          "execution_count": 82
        }
      ]
    },
    {
      "cell_type": "markdown",
      "metadata": {
        "id": "OZM74AxSNmGj"
      },
      "source": [
        "`xyz` is the coordinate of every voxel in a 3D grid of box length `N`"
      ]
    },
    {
      "cell_type": "code",
      "metadata": {
        "colab": {
          "base_uri": "https://localhost:8080/"
        },
        "id": "zAvQXzuVwa-9",
        "outputId": "34c973bc-bb05-4c71-f924-5b2025907a9d"
      },
      "source": [
        "%%time\n",
        "projs = np.zeros((n_particles,N,N))\n",
        "for idx in range(n_particles):\n",
        "  xyz_rot = Rs[idx].dot(xyz.T).T\n",
        "  # match original want to recover\n",
        "  map_rot = gauss(x=xyz_rot[:,0]-mux,y=xyz_rot[:,1]-muy,z=xyz_rot[:,-1]-muz,std=std,cx=cx,cy=cy,cz=cz).reshape(N,N,N)\n",
        "  map_rot += gauss(x=xyz_rot[:,0]+mux,y=xyz_rot[:,1]+muy,z=xyz_rot[:,-1]+muz,std=std,cx=cx,cy=cy,cz=cz).reshape(N,N,N)\n",
        "  projs[idx] = map_rot.sum(-1) # z axis"
      ],
      "execution_count": 83,
      "outputs": [
        {
          "output_type": "stream",
          "text": [
            "CPU times: user 22.5 s, sys: 33.7 s, total: 56.3 s\n",
            "Wall time: 17.6 s\n"
          ],
          "name": "stdout"
        }
      ]
    },
    {
      "cell_type": "markdown",
      "metadata": {
        "id": "poJ6GSYq7dMM"
      },
      "source": [
        "Let's look at the projection (each of the x,y,z axes) of one rotated map. Note that we only save the projection corresponding to the z axis."
      ]
    },
    {
      "cell_type": "code",
      "metadata": {
        "colab": {
          "base_uri": "https://localhost:8080/",
          "height": 148
        },
        "id": "6YT8i3ElqTWO",
        "outputId": "5b4130fa-d15a-4b9d-ebe3-f65b2a503511"
      },
      "source": [
        "fig,ax = plt.subplots(nrows=1,ncols=3)\n",
        "for idx in range(3):\n",
        "  ax[idx].imshow(np.nansum(map_rot, axis=idx),cmap='gray') ; ax[idx].set_xticks([]) ; ax[idx].set_yticks([])\n",
        "  ax[idx].set_title('r%i proj'%idx)"
      ],
      "execution_count": 84,
      "outputs": [
        {
          "output_type": "display_data",
          "data": {
            "image/png": "[encoded data removed]",
            "text/plain": [
              "<Figure size 432x288 with 3 Axes>"
            ]
          },
          "metadata": {
            "tags": []
          }
        }
      ]
    },
    {
      "cell_type": "markdown",
      "metadata": {
        "id": "0MiM1QFBrTZX"
      },
      "source": [
        "## Insert Fourier slices\n",
        "\n"
      ]
    },
    {
      "cell_type": "markdown",
      "metadata": {
        "id": "3jykBvw3N7__"
      },
      "source": [
        "2D Fourier transform of slices is very fast compared to simulating the data (or inserting the slices)"
      ]
    },
    {
      "cell_type": "code",
      "metadata": {
        "colab": {
          "base_uri": "https://localhost:8080/"
        },
        "id": "7UE0YbQwrP87",
        "outputId": "f86aef50-ad37-4dea-ed8a-fcf3a091067c"
      },
      "source": [
        "%%time\n",
        "proj_2d_fs = np.zeros((n_particles,N,N),dtype=np.complex64)\n",
        "for idx in range(n_particles):\n",
        "  proj_2d_fs[idx] = twod.do_fft(projs[idx])"
      ],
      "execution_count": 85,
      "outputs": [
        {
          "output_type": "stream",
          "text": [
            "CPU times: user 62.1 ms, sys: 2.87 ms, total: 65 ms\n",
            "Wall time: 64 ms\n"
          ],
          "name": "stdout"
        }
      ]
    },
    {
      "cell_type": "code",
      "metadata": {
        "colab": {
          "base_uri": "https://localhost:8080/",
          "height": 267
        },
        "id": "PBMYOSABGBi8",
        "outputId": "dab9ccae-4109-493f-b519-607dacdd6872"
      },
      "source": [
        "doplt(np.abs(proj_2d_fs[2]))"
      ],
      "execution_count": 306,
      "outputs": [
        {
          "output_type": "display_data",
          "data": {
            "image/png": "[encoded data removed]",
            "text/plain": [
              "<Figure size 432x288 with 1 Axes>"
            ]
          },
          "metadata": {
            "tags": [],
            "needs_background": "light"
          }
        }
      ]
    },
    {
      "cell_type": "markdown",
      "metadata": {
        "id": "AkydtDabsBPJ"
      },
      "source": [
        "Now we can place the slices in Fourier volume, with the correct rotation."
      ]
    },
    {
      "cell_type": "markdown",
      "metadata": {
        "id": "k0xFntgFzZxY"
      },
      "source": [
        "`xy0_rot` is the kx,ky,kz Fourier coordiantes of the rotated slice (xy0). We know the value of the 3D Fourier volume at these locations - they are the projections.\n",
        "\n",
        "However, the coordinate values are not on the cartesian grid. We can use trilinear interpolation to get them on the grid, doing one slice at a time."
      ]
    },
    {
      "cell_type": "code",
      "metadata": {
        "colab": {
          "base_uri": "https://localhost:8080/"
        },
        "id": "qIj9_Lj6yzoD",
        "outputId": "a071e6bc-170a-4604-e735-91c235b24aab"
      },
      "source": [
        "%%time\n",
        "F_3d_interp = np.zeros((N,N,N)).astype(np.complex64)\n",
        "count_3d_interp = np.zeros((N,N,N))\n",
        "idx_z0 = xyz[:,-1] == 0 \n",
        "xy0 = xyz[idx_z0]\n",
        "for idx in range(n_particles): \n",
        "  xy0_rot = Rs[idx].dot(xy0.T).T # rotation (not inverse) because matches corresponding rotation of slice (not matching against library of unrotated references, because not searching for best alignment)\n",
        "  r0,r1,dd = interp.diff(xy0_rot[:,:])\n",
        "  F_3d_interp_slice,count_3d_interp_slice = interp.interp_vec(proj_2d_fs[idx],r0,r1,dd,N)\n",
        "  F_3d_interp += F_3d_interp_slice\n",
        "  count_3d_interp += count_3d_interp_slice"
      ],
      "execution_count": 86,
      "outputs": [
        {
          "output_type": "stream",
          "text": [
            "CPU times: user 2.96 s, sys: 121 ms, total: 3.09 s\n",
            "Wall time: 3.08 s\n"
          ],
          "name": "stdout"
        }
      ]
    },
    {
      "cell_type": "code",
      "metadata": {
        "colab": {
          "base_uri": "https://localhost:8080/"
        },
        "id": "6ea4_oddCyfx",
        "outputId": "4a6c2f55-9002-4626-e936-501adc22878e"
      },
      "source": [
        "Rs[1]"
      ],
      "execution_count": 304,
      "outputs": [
        {
          "output_type": "execute_result",
          "data": {
            "text/plain": [
              "array([[-0.43037873,  0.56031001,  0.7076912 ],\n",
              "       [ 0.90138786,  0.22536033,  0.36974674],\n",
              "       [ 0.04768727,  0.79703539, -0.60204693]])"
            ]
          },
          "metadata": {
            "tags": []
          },
          "execution_count": 304
        }
      ]
    },
    {
      "cell_type": "code",
      "metadata": {
        "colab": {
          "base_uri": "https://localhost:8080/"
        },
        "id": "l0ZrgxEACt0M",
        "outputId": "7f6930c4-955d-42e8-8811-65837bab5184"
      },
      "source": [
        "xy0_rot"
      ],
      "execution_count": 307,
      "outputs": [
        {
          "output_type": "execute_result",
          "data": {
            "text/plain": [
              "array([[-70.37540489,   4.67844095,  56.72225821],\n",
              "       [-70.26661546,   4.50721341,  55.74305139],\n",
              "       [-70.15782603,   4.33598588,  54.76384457],\n",
              "       ...,\n",
              "       [ 69.05821033,  -4.26288524, -53.87755929],\n",
              "       [ 69.16699976,  -4.43411277, -54.85676611],\n",
              "       [ 69.27578919,  -4.60534031, -55.83597293]])"
            ]
          },
          "metadata": {
            "tags": []
          },
          "execution_count": 307
        }
      ]
    },
    {
      "cell_type": "markdown",
      "metadata": {
        "id": "srFQs7PD52Dw"
      },
      "source": [
        "We can see a single planes by summing across an axis of a `count_3d_interp_slice`. Note the holes in it - artefacts from the interpolation"
      ]
    },
    {
      "cell_type": "code",
      "metadata": {
        "colab": {
          "base_uri": "https://localhost:8080/",
          "height": 268
        },
        "id": "3tMa4-pv2MOE",
        "outputId": "9a755b75-9b6d-4d1f-f2cf-310b4ea456dd"
      },
      "source": [
        "doplt(count_3d_interp_slice.sum(2))"
      ],
      "execution_count": null,
      "outputs": [
        {
          "output_type": "display_data",
          "data": {
            "image/png": "[encoded data removed]",
            "text/plain": [
              "<Figure size 432x288 with 1 Axes>"
            ]
          },
          "metadata": {
            "tags": [],
            "needs_background": "light"
          }
        }
      ]
    },
    {
      "cell_type": "markdown",
      "metadata": {
        "id": "x9gShqj_6I95"
      },
      "source": [
        "We can see how much the Fourier volume has been filled out by looking at `count_3d_interp`, which is of all the particles"
      ]
    },
    {
      "cell_type": "code",
      "metadata": {
        "colab": {
          "base_uri": "https://localhost:8080/",
          "height": 268
        },
        "id": "VQMyJDN66GlX",
        "outputId": "32e1cb47-178e-4255-cf76-bbf6e75f18f9"
      },
      "source": [
        "doplt(count_3d_interp.sum(2))"
      ],
      "execution_count": null,
      "outputs": [
        {
          "output_type": "display_data",
          "data": {
            "image/png": "[encoded data removed]",
            "text/plain": [
              "<Figure size 432x288 with 1 Axes>"
            ]
          },
          "metadata": {
            "tags": [],
            "needs_background": "light"
          }
        }
      ]
    },
    {
      "cell_type": "markdown",
      "metadata": {
        "id": "3qyif3a26UPm"
      },
      "source": [
        "Normally we would also have a CTF for each particle, and we could deconvolute it when we divide by the counts. Here we had no CTF (they are all taken as 1 and have no effect - no frequency dependence)."
      ]
    },
    {
      "cell_type": "markdown",
      "metadata": {
        "id": "bBexy_tYPo1n"
      },
      "source": [
        "## Take the iFFT to get the real spaced map"
      ]
    },
    {
      "cell_type": "markdown",
      "metadata": {
        "id": "5jACJxFQ6oB9"
      },
      "source": [
        "To get the final real space volume we take the 3D iFFT of the Wiener filtered volume."
      ]
    },
    {
      "cell_type": "code",
      "metadata": {
        "colab": {
          "base_uri": "https://localhost:8080/",
          "height": 150
        },
        "id": "Lq_P6vVb7K79",
        "outputId": "e5373350-4d56-4cb4-e03b-cfb3a180c9c1"
      },
      "source": [
        "wf_const = 1\n",
        "F_3d_wf = F_3d_interp*count_3d_interp / (wf_const + count_3d_interp**2)\n",
        "map_recon_3d = fourier.do_ifft(F_3d_wf)\n",
        "\n",
        "fig,ax = plt.subplots(nrows=1,ncols=3)\n",
        "for idx in range(3):\n",
        "  ax[idx].imshow(np.nansum(map_recon_3d.real, axis=idx),cmap='gray')"
      ],
      "execution_count": 87,
      "outputs": [
        {
          "output_type": "display_data",
          "data": {
            "image/png": "[encoded data removed]",
            "text/plain": [
              "<Figure size 432x288 with 3 Axes>"
            ]
          },
          "metadata": {
            "tags": [],
            "needs_background": "light"
          }
        }
      ]
    },
    {
      "cell_type": "markdown",
      "metadata": {
        "id": "vA6HTIEwPIcR"
      },
      "source": [
        "The imaginary part should be small and comes from some sort of numerical issue or finite number of particles."
      ]
    },
    {
      "cell_type": "code",
      "metadata": {
        "colab": {
          "base_uri": "https://localhost:8080/"
        },
        "id": "oEIEF4oHPWxV",
        "outputId": "72e5d6ae-2dd6-4ab0-ac5a-bc6f9d6732bc"
      },
      "source": [
        "np.linalg.norm(map_recon_3d.real)/np.linalg.norm(map_recon_3d.imag)"
      ],
      "execution_count": null,
      "outputs": [
        {
          "output_type": "execute_result",
          "data": {
            "text/plain": [
              "76.02990514134503"
            ]
          },
          "metadata": {
            "tags": []
          },
          "execution_count": 17
        }
      ]
    },
    {
      "cell_type": "markdown",
      "metadata": {
        "id": "HGj99TRnLloc"
      },
      "source": [
        "## Conclusions\n",
        "\n",
        "Play around with things to build your intuition.\n",
        "\n",
        "Are there any artefacts?\n",
        "\n",
        "What happens where there are \n",
        "  * less particles?\n",
        "  * errors in the alignments?\n",
        "\n"
      ]
    },
    {
      "cell_type": "markdown",
      "metadata": {
        "id": "7qEIb37bWstz"
      },
      "source": [
        "# Calmodulin"
      ]
    },
    {
      "cell_type": "code",
      "metadata": {
        "colab": {
          "base_uri": "https://localhost:8080/"
        },
        "id": "0OP5cLk8WvGR",
        "outputId": "8e16f3bd-da48-4380-8382-1280a4995f0e"
      },
      "source": [
        "!wget https://raw.githubusercontent.com/geoffwoollard/learn_cryoem_math/fa1bc0c01cafa40a1e9bba7dbbcd83912ddd6ba6/src/gauss_forward_model.py\n",
        "import gauss_forward_model"
      ],
      "execution_count": 19,
      "outputs": [
        {
          "output_type": "stream",
          "text": [
            "--2021-04-01 12:30:29--  https://raw.githubusercontent.com/geoffwoollard/learn_cryoem_math/fa1bc0c01cafa40a1e9bba7dbbcd83912ddd6ba6/src/gauss_forward_model.py\n",
            "Resolving raw.githubusercontent.com (raw.githubusercontent.com)... 185.199.108.133, 185.199.109.133, 185.199.110.133, ...\n",
            "Connecting to raw.githubusercontent.com (raw.githubusercontent.com)|185.199.108.133|:443... connected.\n",
            "HTTP request sent, awaiting response... 200 OK\n",
            "Length: 1911 (1.9K) [text/plain]\n",
            "Saving to: ‘gauss_forward_model.py’\n",
            "\n",
            "\rgauss_forward_model   0%[                    ]       0  --.-KB/s               \rgauss_forward_model 100%[===================>]   1.87K  --.-KB/s    in 0s      \n",
            "\n",
            "2021-04-01 12:30:29 (43.8 MB/s) - ‘gauss_forward_model.py’ saved [1911/1911]\n",
            "\n"
          ],
          "name": "stdout"
        }
      ]
    },
    {
      "cell_type": "code",
      "metadata": {
        "colab": {
          "base_uri": "https://localhost:8080/"
        },
        "id": "IT8IgmYIXvTc",
        "outputId": "177b4996-c934-4842-898c-a3ccf5dbde04"
      },
      "source": [
        "!pip install gemmi"
      ],
      "execution_count": 5,
      "outputs": [
        {
          "output_type": "stream",
          "text": [
            "Collecting gemmi\n",
            "\u001b[?25l  Downloading https://files.pythonhosted.org/packages/04/0d/a91f70f43b8a0732f82739b3abac31fc6d363c229395308205b87d383045/gemmi-0.4.5-cp37-cp37m-manylinux2010_x86_64.whl (2.3MB)\n",
            "\u001b[K     |████████████████████████████████| 2.3MB 12.1MB/s \n",
            "\u001b[?25hInstalling collected packages: gemmi\n",
            "Successfully installed gemmi-0.4.5\n"
          ],
          "name": "stdout"
        }
      ]
    },
    {
      "cell_type": "code",
      "metadata": {
        "colab": {
          "base_uri": "https://localhost:8080/"
        },
        "id": "KFaeGuEKW8wF",
        "outputId": "66fa1f1d-e9cc-42e8-9ef2-2859e65e767b"
      },
      "source": [
        "!wget https://files.rcsb.org/view/6OS4.cif "
      ],
      "execution_count": 4,
      "outputs": [
        {
          "output_type": "stream",
          "text": [
            "--2021-04-01 12:15:45--  https://files.rcsb.org/view/6OS4.cif\n",
            "Resolving files.rcsb.org (files.rcsb.org)... 128.6.158.66\n",
            "Connecting to files.rcsb.org (files.rcsb.org)|128.6.158.66|:443... connected.\n",
            "HTTP request sent, awaiting response... 200 OK\n",
            "Length: unspecified [text/plain]\n",
            "Saving to: ‘6OS4.cif’\n",
            "\n",
            "6OS4.cif                [  <=>               ] 269.93K   860KB/s    in 0.3s    \n",
            "\n",
            "2021-04-01 12:15:45 (860 KB/s) - ‘6OS4.cif’ saved [276404]\n",
            "\n"
          ],
          "name": "stdout"
        }
      ]
    },
    {
      "cell_type": "code",
      "metadata": {
        "id": "YXYZVLbVXouC"
      },
      "source": [
        "import gemmi"
      ],
      "execution_count": 6,
      "outputs": []
    },
    {
      "cell_type": "code",
      "metadata": {
        "id": "4Wru6MeVXlA0"
      },
      "source": [
        "def cif2model(filename):\n",
        "    cif_block = gemmi.cif.read(filename)[0]\n",
        "    st = gemmi.make_structure_from_block(cif_block)\n",
        "    st.remove_alternative_conformations()\n",
        "    st.remove_hydrogens()\n",
        "    st.remove_waters()\n",
        "    st.remove_ligands_and_waters()\n",
        "    st.remove_empty_chains()\n",
        "    model = gemmi.make_assembly(st.assemblies[0], st[0], gemmi.HowToNameCopiedChain.AddNumber)\n",
        "    return model\n",
        "\n",
        "def pos_as_array(model):\n",
        "    \"\"\"returns a numpy array of atomic positions from gemmi model \"\"\"\n",
        "    pos = []\n",
        "    for ch in model:\n",
        "        for res in ch:\n",
        "            for at in res:\n",
        "                pos.append([at.pos.x,at.pos.y,at.pos.z])\n",
        "    return np.array(pos)\n",
        "    \n",
        "def com_as_array(model):\n",
        "    \"\"\"returns a numpy array of center of mass from gemmi model \"\"\"\n",
        "    com = model.calculate_center_of_mass()\n",
        "    array = np.zeros(3)\n",
        "    array[0] = com.x\n",
        "    array[1] = com.y\n",
        "    array[2] = com.z\n",
        "    return array"
      ],
      "execution_count": 11,
      "outputs": []
    },
    {
      "cell_type": "code",
      "metadata": {
        "colab": {
          "base_uri": "https://localhost:8080/"
        },
        "id": "HZF53JKJXygZ",
        "outputId": "8ea81aa1-f933-4e6e-de13-3670431247aa"
      },
      "source": [
        "filename = '6OS4.cif'\n",
        "model = cif2model(filename)\n",
        "pos = pos_as_array(model)\n",
        "com = com_as_array(model)\n",
        "pos -= com\n",
        "atoms = pos.T\n",
        "\n",
        "atoms.shape\n"
      ],
      "execution_count": 294,
      "outputs": [
        {
          "output_type": "execute_result",
          "data": {
            "text/plain": [
              "(3, 1093)"
            ]
          },
          "metadata": {
            "tags": []
          },
          "execution_count": 294
        }
      ]
    },
    {
      "cell_type": "code",
      "metadata": {
        "id": "ZcR9MFl-hbs2"
      },
      "source": [
        "# atoms = np.array([[-10,-10,-10],\n",
        "#                  [10,10,10]]).T"
      ],
      "execution_count": 103,
      "outputs": []
    },
    {
      "cell_type": "code",
      "metadata": {
        "id": "51efK7H5appk"
      },
      "source": [
        "import coords"
      ],
      "execution_count": 21,
      "outputs": []
    },
    {
      "cell_type": "code",
      "metadata": {
        "id": "ibZrOMceYdky"
      },
      "source": [
        "N=128\n",
        "xy = coords.coords_n_by_d(np.arange(-N//2,N//2),d=2)\n",
        "# xy[:,[0,1]] = xy[:,[1,0]]\n"
      ],
      "execution_count": 310,
      "outputs": []
    },
    {
      "cell_type": "code",
      "metadata": {
        "id": "whGhGFHLau7n"
      },
      "source": [
        "sigma=1\n",
        "offset=N/4\n",
        "atoms += offset\n",
        "proj_2d = gauss_forward_model.make_proj_mask(atoms, xy, sigma=sigma, n_trunc=2*3*sigma,parallel_diff=True)"
      ],
      "execution_count": 312,
      "outputs": []
    },
    {
      "cell_type": "code",
      "metadata": {
        "colab": {
          "base_uri": "https://localhost:8080/",
          "height": 267
        },
        "id": "DRIxze7La-uM",
        "outputId": "2a25dbe2-422c-4cb5-bacd-22b159f30771"
      },
      "source": [
        "doplt(proj_2d)"
      ],
      "execution_count": 313,
      "outputs": [
        {
          "output_type": "display_data",
          "data": {
            "image/png": "[encoded data removed]",
            "text/plain": [
              "<Figure size 432x288 with 1 Axes>"
            ]
          },
          "metadata": {
            "tags": [],
            "needs_background": "light"
          }
        }
      ]
    },
    {
      "cell_type": "markdown",
      "metadata": {
        "id": "ICc1bZ40bTWT"
      },
      "source": [
        "Let's see what this looks like in 3D (export to mrc and look at in Chimera)"
      ]
    },
    {
      "cell_type": "markdown",
      "metadata": {
        "id": "FshTOZF0eK2B"
      },
      "source": [
        "## export: atoms $\\rightarrow$ 3D map"
      ]
    },
    {
      "cell_type": "code",
      "metadata": {
        "id": "hXsPns4_zSM3"
      },
      "source": [
        "xyz = coords.coords_n_by_d(np.arange(-N//2,N//2),d=3)\n"
      ],
      "execution_count": 289,
      "outputs": []
    },
    {
      "cell_type": "code",
      "metadata": {
        "id": "Y0wevZHjbyGi"
      },
      "source": [
        "map_3d = gauss_forward_model.make_map_3d(atoms,xyz,sigma=1)"
      ],
      "execution_count": 263,
      "outputs": []
    },
    {
      "cell_type": "code",
      "metadata": {
        "id": "k-629z1MclXV"
      },
      "source": [
        "wdir = '/content/drive/My Drive/repos/learn_cryoem_math/data/fourier_slice_2D_3D_with_trilinear/'"
      ],
      "execution_count": 50,
      "outputs": []
    },
    {
      "cell_type": "code",
      "metadata": {
        "id": "ekxmm6yocBmP"
      },
      "source": [
        "with mrcfile.new(wdir+'6OS4_sigma1_N%i.mrc'%N, overwrite=True) as mrc:\n",
        "  mrc.set_data(map_3d.astype(np.float32))"
      ],
      "execution_count": 245,
      "outputs": []
    },
    {
      "cell_type": "markdown",
      "metadata": {
        "id": "OIsfuQdkeOEk"
      },
      "source": [
        "# Simulate projections"
      ]
    },
    {
      "cell_type": "code",
      "metadata": {
        "colab": {
          "base_uri": "https://localhost:8080/"
        },
        "id": "T5nY42CxeQn8",
        "outputId": "705325e4-8721-4159-8c4d-435007595517"
      },
      "source": [
        "n_particles=100\n",
        "np.random.seed(0)\n",
        "qs = get_random_quat(n_particles)\n",
        "Rs = quaternion_to_R(qs.T)\n",
        "Rs = np.swapaxes(Rs,0,-1)\n",
        "Rs = np.swapaxes(Rs,1,-1)\n",
        "Rs.shape"
      ],
      "execution_count": 246,
      "outputs": [
        {
          "output_type": "execute_result",
          "data": {
            "text/plain": [
              "(100, 3, 3)"
            ]
          },
          "metadata": {
            "tags": []
          },
          "execution_count": 246
        }
      ]
    },
    {
      "cell_type": "code",
      "metadata": {
        "colab": {
          "base_uri": "https://localhost:8080/"
        },
        "id": "rcoKecLWwe27",
        "outputId": "de29ba48-9b6e-4605-b2c5-54b1922b3f12"
      },
      "source": [
        "n_particles=100\n",
        "np.random.seed(1)\n",
        "qs = get_random_quat(n_particles)\n",
        "Rs_rand = quaternion_to_R(qs.T)\n",
        "Rs_rand = np.swapaxes(Rs_rand,0,-1)\n",
        "Rs_rand = np.swapaxes(Rs_rand,1,-1)\n",
        "Rs_rand.shape"
      ],
      "execution_count": 256,
      "outputs": [
        {
          "output_type": "execute_result",
          "data": {
            "text/plain": [
              "(100, 3, 3)"
            ]
          },
          "metadata": {
            "tags": []
          },
          "execution_count": 256
        }
      ]
    },
    {
      "cell_type": "markdown",
      "metadata": {
        "id": "qVF02hvVoAlP"
      },
      "source": [
        "Error in alignments"
      ]
    },
    {
      "cell_type": "code",
      "metadata": {
        "colab": {
          "base_uri": "https://localhost:8080/"
        },
        "id": "HPE7XHfKnifa",
        "outputId": "b446e152-e19f-4918-8b74-6dce4c07177e"
      },
      "source": [
        "deg_err = 3\n",
        "alignment_error = np.deg2rad(deg_err)\n",
        "Rs_error = np.zeros_like(Rs)\n",
        "for idx in range(n_particles):\n",
        "\n",
        "  e = logmap(Rs[idx])\n",
        "  theta = np.linalg.norm(e)\n",
        "  k = e/theta\n",
        "  \n",
        "  e_ = (theta + np.random.uniform(low=-alignment_error,high=alignment_error))*k\n",
        "  Rs_error[idx] = expmap(e_)\n",
        "e_, e"
      ],
      "execution_count": 308,
      "outputs": [
        {
          "output_type": "execute_result",
          "data": {
            "text/plain": [
              "(array([1.73313095, 0.15309737, 0.00943057]),\n",
              " array([1.77371663, 0.15668253, 0.00965141]))"
            ]
          },
          "metadata": {
            "tags": []
          },
          "execution_count": 308
        }
      ]
    },
    {
      "cell_type": "code",
      "metadata": {
        "colab": {
          "base_uri": "https://localhost:8080/"
        },
        "id": "Fu4daMDOqyDc",
        "outputId": "0a6fee20-8a86-4cb9-dfc5-1d1a58a6b5bb"
      },
      "source": [
        "Rs[0], Rs_error[0]"
      ],
      "execution_count": 309,
      "outputs": [
        {
          "output_type": "execute_result",
          "data": {
            "text/plain": [
              "(array([[-0.09762701, -0.54119008,  0.83521391],\n",
              "        [ 0.99509059, -0.0667741 ,  0.07304744],\n",
              "        [ 0.01623811,  0.8382449 ,  0.54505211]]),\n",
              " array([[-0.06297079, -0.55844286,  0.82714947],\n",
              "        [ 0.99801203, -0.03309203,  0.05363674],\n",
              "        [-0.002581  ,  0.82888267,  0.55941653]]))"
            ]
          },
          "metadata": {
            "tags": []
          },
          "execution_count": 309
        }
      ]
    },
    {
      "cell_type": "code",
      "metadata": {
        "id": "GB7iYY4WerIf"
      },
      "source": [
        "projs = np.zeros((n_particles,N,N))\n",
        "for idx in range(n_particles):\n",
        "  atoms_rot = Rs[idx].dot(atoms)\n",
        "  projs[idx] = gauss_forward_model.make_proj_mask(atoms_rot, xy, sigma=sigma, n_trunc=2*3*sigma,parallel_diff=True).T # xy vs yx to need to transpose"
      ],
      "execution_count": 297,
      "outputs": []
    },
    {
      "cell_type": "code",
      "metadata": {
        "colab": {
          "base_uri": "https://localhost:8080/",
          "height": 232
        },
        "id": "a7WLdje1fHtA",
        "outputId": "08a15e87-d573-4c4d-ff2c-6dd18edfe30e"
      },
      "source": [
        "fig,axes = plt.subplots(ncols=2)\n",
        "axes[0].imshow(projs[0],cmap='gray') ; axes[0].set_title('proj 1')\n",
        "axes[1].imshow(projs[-1],cmap='gray')  ; axes[1].set_title('proj %i'%n_particles)"
      ],
      "execution_count": 298,
      "outputs": [
        {
          "output_type": "execute_result",
          "data": {
            "text/plain": [
              "Text(0.5, 1.0, 'proj 100')"
            ]
          },
          "metadata": {
            "tags": []
          },
          "execution_count": 298
        },
        {
          "output_type": "display_data",
          "data": {
            "image/png": "[encoded data removed]",
            "text/plain": [
              "<Figure size 432x288 with 2 Axes>"
            ]
          },
          "metadata": {
            "tags": [],
            "needs_background": "light"
          }
        }
      ]
    },
    {
      "cell_type": "markdown",
      "metadata": {
        "id": "Rj3aqGv1ftTL"
      },
      "source": [
        "# Reconstruct"
      ]
    },
    {
      "cell_type": "markdown",
      "metadata": {
        "id": "pQR_FF3Xf-Lq"
      },
      "source": [
        "## Insert Fourier slices"
      ]
    },
    {
      "cell_type": "code",
      "metadata": {
        "id": "TzRpdQ99gJnW"
      },
      "source": [
        "proj_2d_fs = np.zeros((n_particles,N,N),dtype=np.complex64)\n",
        "for idx in range(n_particles):\n",
        "  proj_2d_fs[idx] = twod.do_fft(projs[idx])"
      ],
      "execution_count": 299,
      "outputs": []
    },
    {
      "cell_type": "code",
      "metadata": {
        "id": "65LltQt6fqld"
      },
      "source": [
        "F_3d_interp = np.zeros((N,N,N)).astype(np.complex64)\n",
        "count_3d_interp = np.zeros((N,N,N))\n",
        "idx_z0 = xyz[:,-1] == 0 \n",
        "xy0 = xyz[idx_z0]\n",
        "rand_frac = 0\n",
        "for idx in range(n_particles): \n",
        "  if idx/n_particles < rand_frac:\n",
        "    xy0_rot = Rs_rand[idx].T.dot(xy0.T).T # completely random\n",
        "  else:\n",
        "    xy0_rot = Rs_error[idx].T.dot(xy0.T).T # inverse rotation\n",
        "  r0,r1,dd = interp.diff(xy0_rot[:,:])\n",
        "  F_3d_interp_slice,count_3d_interp_slice = interp.interp_vec(proj_2d_fs[idx],r0,r1,dd,N)\n",
        "  F_3d_interp += F_3d_interp_slice\n",
        "  count_3d_interp += count_3d_interp_slice"
      ],
      "execution_count": 300,
      "outputs": []
    },
    {
      "cell_type": "markdown",
      "metadata": {
        "id": "KGwYPXMdgANT"
      },
      "source": [
        "## iFFT"
      ]
    },
    {
      "cell_type": "code",
      "metadata": {
        "colab": {
          "base_uri": "https://localhost:8080/",
          "height": 150
        },
        "id": "Lmstmaz-f3Dq",
        "outputId": "4b68192d-304b-4e8f-c402-54d175cbc06b"
      },
      "source": [
        "wf_const = 1\n",
        "F_3d_wf = F_3d_interp*count_3d_interp / (wf_const + count_3d_interp**2)\n",
        "map_recon_3d = fourier.do_ifft(F_3d_wf)\n",
        "\n",
        "fig,ax = plt.subplots(nrows=1,ncols=3)\n",
        "for idx in range(3):\n",
        "  ax[idx].imshow(np.nansum(map_recon_3d.real, axis=idx),cmap='gray')"
      ],
      "execution_count": 301,
      "outputs": [
        {
          "output_type": "display_data",
          "data": {
            "image/png": "[encoded data removed]",
            "text/plain": [
              "<Figure size 432x288 with 3 Axes>"
            ]
          },
          "metadata": {
            "tags": [],
            "needs_background": "light"
          }
        }
      ]
    },
    {
      "cell_type": "markdown",
      "metadata": {
        "id": "PsRAjv9Yk__M"
      },
      "source": [
        "Export"
      ]
    },
    {
      "cell_type": "code",
      "metadata": {
        "id": "O6Hx7p4Ok_Sa"
      },
      "source": [
        "map_3d = map_recon_3d.real\n",
        "with mrcfile.new(wdir+'6OS4_reconst_err_aa%.1fdeg_rf%.2f_sigma%.2f_N%i_offset%i_np%i.mrc'%(deg_err,rand_frac,sigma,N,offset,n_particles), overwrite=True) as mrc:\n",
        "  mrc.set_data(map_3d.astype(np.float32))"
      ],
      "execution_count": 302,
      "outputs": []
    }
  ]
}