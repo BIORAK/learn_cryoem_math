{
  "nbformat": 4,
  "nbformat_minor": 0,
  "metadata": {
    "colab": {
      "name": "fourier_slice_2D_3D_with_trilinear.ipynb",
      "provenance": [],
      "collapsed_sections": [],
      "toc_visible": true,
      "machine_shape": "hm",
      "authorship_tag": "ABX9TyPzJHB0trTO29HK9mWu5Bvm",
      "include_colab_link": true
    },
    "kernelspec": {
      "display_name": "Python 3",
      "name": "python3"
    }
  },
  "cells": [
    {
      "cell_type": "markdown",
      "metadata": {
        "id": "view-in-github",
        "colab_type": "text"
      },
      "source": [
        "<a href=\"https://colab.research.google.com/github/geoffwoollard/learn_cryoem_math/blob/master/nb/fourier_slice_2D_3D_with_trilinear.ipynb\" target=\"_parent\"><img src=\"https://colab.research.google.com/assets/colab-badge.svg\" alt=\"Open In Colab\"/></a>"
      ]
    },
    {
      "cell_type": "markdown",
      "metadata": {
        "id": "7UcQt-kaBHN0"
      },
      "source": [
        "# Goal\n",
        "* implement Fourier slice theorem in 3D to 2D case\n"
      ]
    },
    {
      "cell_type": "markdown",
      "metadata": {
        "id": "opOCGNaHT6SC"
      },
      "source": [
        "# Setup"
      ]
    },
    {
      "cell_type": "code",
      "metadata": {
        "id": "3J3ozgaqnsnr"
      },
      "source": [
        "!wget https://raw.githubusercontent.com/geoffwoollard/learn_cryoem_math/master/src/coords.py\n",
        "!wget https://raw.githubusercontent.com/geoffwoollard/learn_cryoem_math/master/src/fourier.py\n",
        "!wget https://raw.githubusercontent.com/geoffwoollard/learn_cryoem_math/master/src/interp.py\n",
        "!wget https://raw.githubusercontent.com/geoffwoollard/learn_cryoem_math/master/src/twod.py\n",
        "!wget https://raw.githubusercontent.com/asarnow/pyem/master/pyem/mrc.py # needed for twod import\n",
        "!pip install pyfftw\n",
        "import coords, interp, fourier, twod"
      ],
      "execution_count": null,
      "outputs": []
    },
    {
      "cell_type": "code",
      "metadata": {
        "id": "hbzTTlLnMnlk"
      },
      "source": [
        "import numpy as np\n",
        "import matplotlib.pyplot as plt\n",
        "def doplt(arr2d,cmap='gray',**kwargs):\n",
        "  plt.imshow(arr2d,cmap=cmap,**kwargs)"
      ],
      "execution_count": 2,
      "outputs": []
    },
    {
      "cell_type": "markdown",
      "metadata": {
        "id": "xRJ1Mi39l9dG"
      },
      "source": [
        "# 2D $\\rightarrow$ 3D  reconstruction in Fourier space\n",
        "\n",
        "Fourier slice theorem with trilinear interpolation.\n",
        "\n",
        "We can interpolate one 2D slice at a time into the 3D Fourier volume using trilnear interpolation.\n",
        "\n",
        "Pseudo code\n",
        "```\n",
        "# for random angels (uniform on sphere)\n",
        "  # rotate real spaced 3D map\n",
        "  # make 3D -> 2D real space projection of the rotated map\n",
        "  # make 2D FFT of 2D real space projection\n",
        "  # get original coords of 2D slice \n",
        "  # rotate (x,y,z=0) plane coords (z values varry after rotation)\n",
        "  # interpolate (trilinear) rotated slice and insert to 3D Fourier volume (keep track of interpolation counts)\n",
        "# inverse FFT (wiener filter by interpolation counts)\n",
        "```"
      ]
    },
    {
      "cell_type": "markdown",
      "metadata": {
        "id": "GQtnEiKnBScg"
      },
      "source": [
        "## Simulate data\n"
      ]
    },
    {
      "cell_type": "markdown",
      "metadata": {
        "id": "uQx1LMUdTap4"
      },
      "source": [
        "Let's try a simple example of some gaussian blobs"
      ]
    },
    {
      "cell_type": "markdown",
      "metadata": {
        "id": "XMEQ6Z6Im3u2"
      },
      "source": [
        "Ensure enough zero-padding that there are no artefacts from aliasing"
      ]
    },
    {
      "cell_type": "code",
      "metadata": {
        "id": "AtlRodD2MdpN"
      },
      "source": [
        "def gauss(x,y,z,std,cx,cy,cz):\n",
        "    return np.exp(-(cx*x*x+cy*y*y+cz*z*z)/(2*std**2))"
      ],
      "execution_count": 3,
      "outputs": []
    },
    {
      "cell_type": "code",
      "metadata": {
        "colab": {
          "base_uri": "https://localhost:8080/",
          "height": 150
        },
        "id": "Xq46Q0TomPpp",
        "outputId": "d2cfd4a0-ba2a-47b9-8d1c-204b634cad89"
      },
      "source": [
        "N=128\n",
        "coords_1d = np.arange(-N//2,N//2)\n",
        "y,x,z = np.meshgrid(coords_1d,coords_1d,coords_1d) # note order of output! comes from meshgrid\n",
        "cx,cy,cz = np.array([2,.75,.5])*2\n",
        "mux = 15\n",
        "muy = 0\n",
        "muz= 0\n",
        "std = N/10\n",
        "map_original = gauss(x-mux,y-muy,z-muz,std=std,cx=cx,cy=cy,cz=cz)\n",
        "map_original += gauss(x+mux,y+muy,z+muz,std=std,cx=cx,cy=cy,cz=cz)\n",
        "\n",
        "fig,ax = plt.subplots(nrows=1,ncols=3)\n",
        "for idx in range(3):\n",
        "  ax[idx].imshow(np.nansum(map_original, axis=idx),cmap='gray')"
      ],
      "execution_count": 4,
      "outputs": [
        {
          "output_type": "display_data",
          "data": {
            "image/png": "[encoded data removed]",
            "text/plain": [
              "<Figure size 432x288 with 3 Axes>"
            ]
          },
          "metadata": {
            "tags": [],
            "needs_background": "light"
          }
        }
      ]
    },
    {
      "cell_type": "markdown",
      "metadata": {
        "id": "hKpSalaFnB2V"
      },
      "source": [
        "Now we can generate 2D slices. There are a few ways to do this\n",
        "  * in Fourier space\n",
        "    * take 3D FFT of the map\n",
        "    * rotate the xy plane\n",
        "    * interpolate the values of the Fourier volume onto these points\n",
        "  * in real space\n",
        "    * rotate the $N^3$ grid xyz grid points\n",
        "    * interpolate on the the unrotated xyz grid, using the new rotated points with the original function values at the unrotated points.\n",
        "\n",
        "Both methods above will work for any arbitrary map. Doing things in real space avoids Fourier artefacts, but can take longer. However, since we have the analytical form of the map (it's a toy example with a simple shape), we can just rotate the coordinates and compute it on the same 3D grid."
      ]
    },
    {
      "cell_type": "markdown",
      "metadata": {
        "id": "CDWJUOOFTq10"
      },
      "source": [
        "Ensure rotations uniform over the sphere. With experimental data, the rotations would have to be estimated."
      ]
    },
    {
      "cell_type": "code",
      "metadata": {
        "id": "ASwq3XtbBWBs"
      },
      "source": [
        "def get_random_quat(num_pts):\n",
        "    \"\"\"\n",
        "    Get num_pts of unit quaternions on the 4 hemisphere with a uniform random distribution.\n",
        "    :param num_pts: The number of quaternions to return\n",
        "    :return: Quaternion list of shape [number of quaternion, 4]\n",
        "    \"\"\"\n",
        "    u = np.random.rand(3, num_pts)\n",
        "    u1, u2, u3 = [u[x] for x in range(3)]\n",
        "\n",
        "    quat = np.zeros((4, num_pts))\n",
        "    quat[0] = np.sqrt(1 - u1) * np.sin(np.pi * u2 / 2)\n",
        "    quat[1] = np.sqrt(1 - u1) * np.cos(np.pi * u2 / 2)\n",
        "    quat[2] = np.sqrt(u1) * np.sin(np.pi * u3 / 2)\n",
        "    quat[3] = np.sqrt(u1) * np.cos(np.pi * u3 / 2)\n",
        "\n",
        "    return np.transpose(quat)\n",
        "\n",
        "def quaternion_to_R(q):\n",
        "  a,b,c,d = q[0], q[1], q[2], q[3]\n",
        "  R = np.array([\n",
        "                [a**2+b**2-c**2-d**2 , 2*b*c-2*a*d , 2*b*d+2*a*c],\n",
        "                [2*b*c+2*a*d , a**2-b**2+c**2-d**2 , 2*c*d-2*a*b],\n",
        "                [2*b*d-2*a*c , 2*c*d+2*a*b , a**2-b**2-c**2+d**2]\n",
        "                ])\n",
        "  return(R)"
      ],
      "execution_count": 5,
      "outputs": []
    },
    {
      "cell_type": "code",
      "metadata": {
        "colab": {
          "base_uri": "https://localhost:8080/"
        },
        "id": "0WiuPIeGHPRa",
        "outputId": "b3517ff8-53e9-44d3-b8dd-bef6cd484d17"
      },
      "source": [
        "n_particles=100\n",
        "np.random.seed(0)\n",
        "qs = get_random_quat(n_particles)\n",
        "Rs = quaternion_to_R(qs.T)\n",
        "Rs = np.swapaxes(Rs,0,-1)\n",
        "Rs = np.swapaxes(Rs,1,-1)\n",
        "Rs.shape"
      ],
      "execution_count": 6,
      "outputs": [
        {
          "output_type": "execute_result",
          "data": {
            "text/plain": [
              "(100, 3, 3)"
            ]
          },
          "metadata": {
            "tags": []
          },
          "execution_count": 6
        }
      ]
    },
    {
      "cell_type": "code",
      "metadata": {
        "colab": {
          "base_uri": "https://localhost:8080/"
        },
        "id": "R5ZEvO4uoO85",
        "outputId": "077abd9f-d48f-4ca0-e75e-0cf4000dabef"
      },
      "source": [
        "xyz = coords.coords_n_by_d(coords_1d,d=3)\n",
        "xyz.shape"
      ],
      "execution_count": 7,
      "outputs": [
        {
          "output_type": "execute_result",
          "data": {
            "text/plain": [
              "(2097152, 3)"
            ]
          },
          "metadata": {
            "tags": []
          },
          "execution_count": 7
        }
      ]
    },
    {
      "cell_type": "markdown",
      "metadata": {
        "id": "OZM74AxSNmGj"
      },
      "source": [
        "`xyz` is the coordinate of every voxel in a 3D grid of box length `N`"
      ]
    },
    {
      "cell_type": "code",
      "metadata": {
        "colab": {
          "base_uri": "https://localhost:8080/"
        },
        "id": "zAvQXzuVwa-9",
        "outputId": "a67d8017-6c59-4a6b-8e2c-6a2e091218c4"
      },
      "source": [
        "%%time\n",
        "projs = np.zeros((n_particles,N,N))\n",
        "for idx in range(n_particles):\n",
        "  xyz_rot = Rs[idx].dot(xyz.T).T\n",
        "  # match original want to recover\n",
        "  map_rot = gauss(x=xyz_rot[:,0]-mux,y=xyz_rot[:,1]-muy,z=xyz_rot[:,-1]-muz,std=std,cx=cx,cy=cy,cz=cz).reshape(N,N,N)\n",
        "  map_rot += gauss(x=xyz_rot[:,0]+mux,y=xyz_rot[:,1]+muy,z=xyz_rot[:,-1]+muz,std=std,cx=cx,cy=cy,cz=cz).reshape(N,N,N)\n",
        "  projs[idx] = map_rot.sum(-1) # z axis"
      ],
      "execution_count": 8,
      "outputs": [
        {
          "output_type": "stream",
          "text": [
            "CPU times: user 26.5 s, sys: 35.5 s, total: 1min 1s\n",
            "Wall time: 19.9 s\n"
          ],
          "name": "stdout"
        }
      ]
    },
    {
      "cell_type": "markdown",
      "metadata": {
        "id": "poJ6GSYq7dMM"
      },
      "source": [
        "Let's look at the projection (each of the x,y,z axes) of one rotated map. Note that we only save the projection corresponding to the z axis."
      ]
    },
    {
      "cell_type": "code",
      "metadata": {
        "colab": {
          "base_uri": "https://localhost:8080/",
          "height": 149
        },
        "id": "6YT8i3ElqTWO",
        "outputId": "4bcc98c7-773b-42fa-830b-e99d71a47eb0"
      },
      "source": [
        "fig,ax = plt.subplots(nrows=1,ncols=3)\n",
        "for idx in range(3):\n",
        "  ax[idx].imshow(np.nansum(map_rot, axis=idx),cmap='gray') ; ax[idx].set_xticks([]) ; ax[idx].set_yticks([])\n",
        "  ax[idx].set_title('r%i proj'%idx)"
      ],
      "execution_count": 9,
      "outputs": [
        {
          "output_type": "display_data",
          "data": {
            "image/png": "[encoded data removed]",
            "text/plain": [
              "<Figure size 432x288 with 3 Axes>"
            ]
          },
          "metadata": {
            "tags": []
          }
        }
      ]
    },
    {
      "cell_type": "markdown",
      "metadata": {
        "id": "0MiM1QFBrTZX"
      },
      "source": [
        "## Insert Fourier slices\n",
        "\n"
      ]
    },
    {
      "cell_type": "markdown",
      "metadata": {
        "id": "3jykBvw3N7__"
      },
      "source": [
        "2D Fourier transform of slices is very fast compared to simulating the data (or inserting the slices)"
      ]
    },
    {
      "cell_type": "code",
      "metadata": {
        "colab": {
          "base_uri": "https://localhost:8080/"
        },
        "id": "7UE0YbQwrP87",
        "outputId": "21975847-9574-4a72-e179-4e3e1e201cb0"
      },
      "source": [
        "%%time\n",
        "proj_2d_fs = np.zeros((n_particles,N,N),dtype=np.complex64)\n",
        "for idx in range(n_particles):\n",
        "  proj_2d_fs[idx] = twod.do_fft(projs[idx])"
      ],
      "execution_count": 10,
      "outputs": [
        {
          "output_type": "stream",
          "text": [
            "CPU times: user 743 ms, sys: 355 ms, total: 1.1 s\n",
            "Wall time: 742 ms\n"
          ],
          "name": "stdout"
        }
      ]
    },
    {
      "cell_type": "markdown",
      "metadata": {
        "id": "AkydtDabsBPJ"
      },
      "source": [
        "Now we can place the slices in Fourier volume, with the correct rotation."
      ]
    },
    {
      "cell_type": "markdown",
      "metadata": {
        "id": "k0xFntgFzZxY"
      },
      "source": [
        "`xy0_rot` is the kx,ky,kz Fourier coordiantes of the rotated slice (xy0). We know the value of the 3D Fourier volume at these locations - they are the projections.\n",
        "\n",
        "However, the coordinate values are not on the cartesian grid. We can use trilinear interpolation to get them on the grid, doing one slice at a time."
      ]
    },
    {
      "cell_type": "code",
      "metadata": {
        "colab": {
          "base_uri": "https://localhost:8080/"
        },
        "id": "qIj9_Lj6yzoD",
        "outputId": "de2a26a9-9463-491a-cdfd-566695ea8202"
      },
      "source": [
        "%%time\n",
        "F_3d_interp = np.zeros((N,N,N)).astype(np.complex64)\n",
        "count_3d_interp = np.zeros((N,N,N))\n",
        "idx_z0 = xyz[:,-1] == 0 \n",
        "xy0 = xyz[idx_z0]\n",
        "for idx in range(n_particles): \n",
        "  xy0_rot = Rs[idx].dot(xy0.T).T # rotation (not inverse) because matches corresponding rotation of slice (not matching against library of unrotated references, because not searching for best alignment)\n",
        "  r0,r1,dd = interp.diff(xy0_rot[:,:])\n",
        "  F_3d_interp_slice,count_3d_interp_slice = interp.interp_vec(proj_2d_fs[idx],r0,r1,dd,N)\n",
        "  F_3d_interp += F_3d_interp_slice\n",
        "  count_3d_interp += count_3d_interp_slice"
      ],
      "execution_count": 13,
      "outputs": [
        {
          "output_type": "stream",
          "text": [
            "CPU times: user 2.91 s, sys: 25.9 ms, total: 2.94 s\n",
            "Wall time: 2.93 s\n"
          ],
          "name": "stdout"
        }
      ]
    },
    {
      "cell_type": "markdown",
      "metadata": {
        "id": "srFQs7PD52Dw"
      },
      "source": [
        "We can see a single planes by summing across an axis of a `count_3d_interp_slice`. Note the holes in it - artefacts from the interpolation"
      ]
    },
    {
      "cell_type": "code",
      "metadata": {
        "colab": {
          "base_uri": "https://localhost:8080/",
          "height": 268
        },
        "id": "3tMa4-pv2MOE",
        "outputId": "9a755b75-9b6d-4d1f-f2cf-310b4ea456dd"
      },
      "source": [
        "doplt(count_3d_interp_slice.sum(2))"
      ],
      "execution_count": 14,
      "outputs": [
        {
          "output_type": "display_data",
          "data": {
            "image/png": "[encoded data removed]",
            "text/plain": [
              "<Figure size 432x288 with 1 Axes>"
            ]
          },
          "metadata": {
            "tags": [],
            "needs_background": "light"
          }
        }
      ]
    },
    {
      "cell_type": "markdown",
      "metadata": {
        "id": "x9gShqj_6I95"
      },
      "source": [
        "We can see how much the Fourier volume has been filled out by looking at `count_3d_interp`, which is of all the particles"
      ]
    },
    {
      "cell_type": "code",
      "metadata": {
        "colab": {
          "base_uri": "https://localhost:8080/",
          "height": 268
        },
        "id": "VQMyJDN66GlX",
        "outputId": "32e1cb47-178e-4255-cf76-bbf6e75f18f9"
      },
      "source": [
        "doplt(count_3d_interp.sum(2))"
      ],
      "execution_count": 15,
      "outputs": [
        {
          "output_type": "display_data",
          "data": {
            "image/png": "[encoded data removed]",
            "text/plain": [
              "<Figure size 432x288 with 1 Axes>"
            ]
          },
          "metadata": {
            "tags": [],
            "needs_background": "light"
          }
        }
      ]
    },
    {
      "cell_type": "markdown",
      "metadata": {
        "id": "3qyif3a26UPm"
      },
      "source": [
        "Normally we would also have a CTF for each particle, and we could deconvolute it when we divide by the counts. Here we had no CTF (they are all taken as 1 and have no effect - no frequency dependence)."
      ]
    },
    {
      "cell_type": "markdown",
      "metadata": {
        "id": "bBexy_tYPo1n"
      },
      "source": [
        "## Take the iFFT to get the real spaced map"
      ]
    },
    {
      "cell_type": "markdown",
      "metadata": {
        "id": "5jACJxFQ6oB9"
      },
      "source": [
        "To get the final real space volume we take the 3D iFFT of the Wierner filtered volume."
      ]
    },
    {
      "cell_type": "code",
      "metadata": {
        "colab": {
          "base_uri": "https://localhost:8080/",
          "height": 150
        },
        "id": "Lq_P6vVb7K79",
        "outputId": "3cb7a543-5ede-4d69-b62c-724e21ad1a8f"
      },
      "source": [
        "wf_const = 1\n",
        "F_3d_wf = F_3d_interp*count_3d_interp / (wf_const + count_3d_interp**2)\n",
        "map_recon_3d = fourier.do_ifft(F_3d_wf)\n",
        "\n",
        "fig,ax = plt.subplots(nrows=1,ncols=3)\n",
        "for idx in range(3):\n",
        "  ax[idx].imshow(np.nansum(map_recon_3d.real, axis=idx),cmap='gray')"
      ],
      "execution_count": 16,
      "outputs": [
        {
          "output_type": "display_data",
          "data": {
            "image/png": "[encoded data removed]",
            "text/plain": [
              "<Figure size 432x288 with 3 Axes>"
            ]
          },
          "metadata": {
            "tags": [],
            "needs_background": "light"
          }
        }
      ]
    },
    {
      "cell_type": "markdown",
      "metadata": {
        "id": "vA6HTIEwPIcR"
      },
      "source": [
        "The imaginary part should be small and comes from some sort of numerical issue or finite number of particles."
      ]
    },
    {
      "cell_type": "code",
      "metadata": {
        "colab": {
          "base_uri": "https://localhost:8080/"
        },
        "id": "oEIEF4oHPWxV",
        "outputId": "72e5d6ae-2dd6-4ab0-ac5a-bc6f9d6732bc"
      },
      "source": [
        "np.linalg.norm(map_recon_3d.real)/np.linalg.norm(map_recon_3d.imag)"
      ],
      "execution_count": 17,
      "outputs": [
        {
          "output_type": "execute_result",
          "data": {
            "text/plain": [
              "76.02990514134503"
            ]
          },
          "metadata": {
            "tags": []
          },
          "execution_count": 17
        }
      ]
    },
    {
      "cell_type": "markdown",
      "metadata": {
        "id": "HGj99TRnLloc"
      },
      "source": [
        "## Conclusions\n",
        "\n",
        "Play around with things to build your intuition.\n",
        "\n",
        "Are there any artefacts?\n",
        "\n",
        "What happens where there are \n",
        "  * less particles?\n",
        "  * errors in the alignments?\n",
        "\n"
      ]
    }
  ]
}