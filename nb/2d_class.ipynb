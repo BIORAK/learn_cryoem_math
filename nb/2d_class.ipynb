{
  "nbformat": 4,
  "nbformat_minor": 0,
  "metadata": {
    "colab": {
      "name": "2d-class.ipynb",
      "provenance": [],
      "collapsed_sections": [
        "UPe6VIDGVO58",
        "hLn9VksxVYKI",
        "f1DmXvcmWIep",
        "dLOY7WMwYfEC",
        "Qp_EdC0Og-pu",
        "xJlNxdhGhfsE",
        "XDtkpFXJis8c"
      ],
      "authorship_tag": "ABX9TyPI45o6ih2tazLUFP0S4OmV",
      "include_colab_link": true
    },
    "kernelspec": {
      "name": "python3",
      "display_name": "Python 3"
    }
  },
  "cells": [
    {
      "cell_type": "markdown",
      "metadata": {
        "id": "view-in-github",
        "colab_type": "text"
      },
      "source": [
        "<a href=\"https://colab.research.google.com/github/geoffwoollard/learn_cryoem_math/blob/master/nb/2d_class.ipynb\" target=\"_parent\"><img src=\"https://colab.research.google.com/assets/colab-badge.svg\" alt=\"Open In Colab\"/></a>"
      ]
    },
    {
      "cell_type": "markdown",
      "metadata": {
        "id": "ZJ059VBoFD9I",
        "colab_type": "text"
      },
      "source": [
        "# Goal:\n",
        "- implement 2d classification a la Nelson, 2019\n",
        "\n",
        "# TODO:\n",
        "- speed up (numba). bottle neck is `make_fake`. need to make `np.roll` jittable"
      ]
    },
    {
      "cell_type": "markdown",
      "metadata": {
        "id": "XAa5FKFpFOCu",
        "colab_type": "text"
      },
      "source": [
        "# Generate fake data"
      ]
    },
    {
      "cell_type": "code",
      "metadata": {
        "id": "YzEW3B8cFU3g",
        "colab_type": "code",
        "colab": {}
      },
      "source": [
        "import numpy as np\n",
        "import pandas as pd\n",
        "import scipy.signal\n",
        "import matplotlib.pyplot as plt\n",
        "import numba\n",
        "import seaborn as sns\n"
      ],
      "execution_count": 0,
      "outputs": []
    },
    {
      "cell_type": "code",
      "metadata": {
        "id": "NcPSlgme9olk",
        "colab_type": "code",
        "colab": {}
      },
      "source": [
        "N = 32+1\n",
        "\n",
        "X_ = np.linspace(-N-1/2, N-1/2, N)\n",
        "Y = np.linspace(-N-1/2, N-1/2, N)\n",
        "X_, Y = np.meshgrid(X_, Y)\n",
        "\n",
        "pos = np.empty(X_.shape + (2,))\n",
        "pos[:, :, 0] = X_\n",
        "pos[:, :, 1] = Y"
      ],
      "execution_count": 0,
      "outputs": []
    },
    {
      "cell_type": "code",
      "metadata": {
        "id": "xPqUe8aa9eIw",
        "colab_type": "code",
        "colab": {
          "base_uri": "https://localhost:8080/",
          "height": 283
        },
        "outputId": "8c06c146-924f-4169-e159-b880c6b51fa8"
      },
      "source": [
        "from scipy.stats import multivariate_normal\n",
        "mu=(-12,10) ; Sigma=(10,10) ; A = multivariate_normal(mu, Sigma).pdf(pos)\n",
        "mu=(12,10) ; Sigma=(20,20) ; A += multivariate_normal(mu, Sigma).pdf(pos)\n",
        "mu=(0,-12) ; Sigma=(30,30) ; A += multivariate_normal(mu, Sigma).pdf(pos)\n",
        "A*=256\n",
        "plt.imshow(A,cmap='gray')"
      ],
      "execution_count": 616,
      "outputs": [
        {
          "output_type": "execute_result",
          "data": {
            "text/plain": [
              "<matplotlib.image.AxesImage at 0x7f26c807b630>"
            ]
          },
          "metadata": {
            "tags": []
          },
          "execution_count": 616
        },
        {
          "output_type": "display_data",
          "data": {
            "image/png": "[encoded data removed]",
            "text/plain": [
              "<Figure size 432x288 with 1 Axes>"
            ]
          },
          "metadata": {
            "tags": [],
            "needs_background": "light"
          }
        }
      ]
    },
    {
      "cell_type": "code",
      "metadata": {
        "id": "v4ClDojHRxIK",
        "colab_type": "code",
        "colab": {
          "base_uri": "https://localhost:8080/",
          "height": 187
        },
        "outputId": "99a6a2b3-4a77-49c1-a1fe-d3d7436605df"
      },
      "source": [
        "def shift_zeropad(x,shift):\n",
        "  assert len(shift) == 2\n",
        "  sr,sc = shift\n",
        "  #if np.allclose(shift, np.zeros(2)): return(x)\n",
        "  \n",
        "  x = np.roll(x,sr,axis=0)\n",
        "  \n",
        "  if sr > 0:\n",
        "    x[:sr,:] = 0\n",
        "  elif sr < 0:\n",
        "    x[sr:,:] = 0\n",
        "  else: pass\n",
        "  \n",
        "  x = np.roll(x,sc,axis=1)\n",
        "  if sc > 0:\n",
        "    x[:,:sc] = 0\n",
        "  elif sc < 0:\n",
        "    x[:,sc:] = 0\n",
        "  else: pass\n",
        "  return(x)\n",
        "\n",
        "s=10\n",
        "shift_zeropad(np.arange(s*s).reshape((s,s)),shift=(1,3))"
      ],
      "execution_count": 686,
      "outputs": [
        {
          "output_type": "execute_result",
          "data": {
            "text/plain": [
              "array([[ 0,  0,  0,  0,  0,  0,  0,  0,  0,  0],\n",
              "       [ 0,  0,  0,  0,  1,  2,  3,  4,  5,  6],\n",
              "       [ 0,  0,  0, 10, 11, 12, 13, 14, 15, 16],\n",
              "       [ 0,  0,  0, 20, 21, 22, 23, 24, 25, 26],\n",
              "       [ 0,  0,  0, 30, 31, 32, 33, 34, 35, 36],\n",
              "       [ 0,  0,  0, 40, 41, 42, 43, 44, 45, 46],\n",
              "       [ 0,  0,  0, 50, 51, 52, 53, 54, 55, 56],\n",
              "       [ 0,  0,  0, 60, 61, 62, 63, 64, 65, 66],\n",
              "       [ 0,  0,  0, 70, 71, 72, 73, 74, 75, 76],\n",
              "       [ 0,  0,  0, 80, 81, 82, 83, 84, 85, 86]])"
            ]
          },
          "metadata": {
            "tags": []
          },
          "execution_count": 686
        }
      ]
    },
    {
      "cell_type": "code",
      "metadata": {
        "id": "ycFq8HwOsAxa",
        "colab_type": "code",
        "colab": {
          "base_uri": "https://localhost:8080/",
          "height": 187
        },
        "outputId": "aba26050-74d0-4107-d0b2-db032ae22508"
      },
      "source": [
        "def shift_zeropad_axis(x,shift,axis):\n",
        "  #if np.allclose(shift, np.zeros(2)): return(x)\n",
        "  \n",
        "  if axis == 0:\n",
        "    x = np.roll(x,shift,axis=axis)\n",
        "    \n",
        "    if shift > 0:\n",
        "      x[:shift,:] = 0\n",
        "    elif shift < 0:\n",
        "      x[shift:,:] = 0\n",
        "    else: pass\n",
        "  \n",
        "  else:\n",
        "    x = np.roll(x,shift,axis=axis)\n",
        "    if shift > 0:\n",
        "      x[:,:shift] = 0\n",
        "    elif shift < 0:\n",
        "      x[:,shift:] = 0\n",
        "    else: pass\n",
        "  return(x)\n",
        "\n",
        "s=10\n",
        "shift_zeropad_axis(np.arange(s*s).reshape((s,s)),shift=5,axis=0)"
      ],
      "execution_count": 516,
      "outputs": [
        {
          "output_type": "execute_result",
          "data": {
            "text/plain": [
              "array([[ 0,  0,  0,  0,  0,  0,  0,  0,  0,  0],\n",
              "       [ 0,  0,  0,  0,  0,  0,  0,  0,  0,  0],\n",
              "       [ 0,  0,  0,  0,  0,  0,  0,  0,  0,  0],\n",
              "       [ 0,  0,  0,  0,  0,  0,  0,  0,  0,  0],\n",
              "       [ 0,  0,  0,  0,  0,  0,  0,  0,  0,  0],\n",
              "       [ 0,  1,  2,  3,  4,  5,  6,  7,  8,  9],\n",
              "       [10, 11, 12, 13, 14, 15, 16, 17, 18, 19],\n",
              "       [20, 21, 22, 23, 24, 25, 26, 27, 28, 29],\n",
              "       [30, 31, 32, 33, 34, 35, 36, 37, 38, 39],\n",
              "       [40, 41, 42, 43, 44, 45, 46, 47, 48, 49]])"
            ]
          },
          "metadata": {
            "tags": []
          },
          "execution_count": 516
        }
      ]
    },
    {
      "cell_type": "code",
      "metadata": {
        "id": "5bwemXsXzdj1",
        "colab_type": "code",
        "colab": {
          "base_uri": "https://localhost:8080/",
          "height": 187
        },
        "outputId": "28031449-783a-4dc9-83e3-c4987bb5fb01"
      },
      "source": [
        "s=10\n",
        "shift_zeropad(np.arange(s*s).reshape((s,s)),shift=(1,3))"
      ],
      "execution_count": 5,
      "outputs": [
        {
          "output_type": "execute_result",
          "data": {
            "text/plain": [
              "array([[ 0,  0,  0,  0,  0,  0,  0,  0,  0,  0],\n",
              "       [ 0,  0,  0,  0,  1,  2,  3,  4,  5,  6],\n",
              "       [ 0,  0,  0, 10, 11, 12, 13, 14, 15, 16],\n",
              "       [ 0,  0,  0, 20, 21, 22, 23, 24, 25, 26],\n",
              "       [ 0,  0,  0, 30, 31, 32, 33, 34, 35, 36],\n",
              "       [ 0,  0,  0, 40, 41, 42, 43, 44, 45, 46],\n",
              "       [ 0,  0,  0, 50, 51, 52, 53, 54, 55, 56],\n",
              "       [ 0,  0,  0, 60, 61, 62, 63, 64, 65, 66],\n",
              "       [ 0,  0,  0, 70, 71, 72, 73, 74, 75, 76],\n",
              "       [ 0,  0,  0, 80, 81, 82, 83, 84, 85, 86]])"
            ]
          },
          "metadata": {
            "tags": []
          },
          "execution_count": 5
        }
      ]
    },
    {
      "cell_type": "code",
      "metadata": {
        "id": "-hLXuxKEGpkh",
        "colab_type": "code",
        "colab": {
          "base_uri": "https://localhost:8080/",
          "height": 283
        },
        "outputId": "fc3c4875-f46a-4eee-e889-744d642b4e19"
      },
      "source": [
        "plt.imshow(scipy.ndimage.rotate(A,angle=90),cmap='gray')"
      ],
      "execution_count": 517,
      "outputs": [
        {
          "output_type": "execute_result",
          "data": {
            "text/plain": [
              "<matplotlib.image.AxesImage at 0x7f26d0d574a8>"
            ]
          },
          "metadata": {
            "tags": []
          },
          "execution_count": 517
        },
        {
          "output_type": "display_data",
          "data": {
            "image/png": "[encoded data removed]",
            "text/plain": [
              "<Figure size 432x288 with 1 Axes>"
            ]
          },
          "metadata": {
            "tags": [],
            "needs_background": "light"
          }
        }
      ]
    },
    {
      "cell_type": "code",
      "metadata": {
        "id": "4Q96DywYAjm-",
        "colab_type": "code",
        "colab": {
          "base_uri": "https://localhost:8080/",
          "height": 283
        },
        "outputId": "e95a73e2-3f76-45f5-8bb3-206751a89ef8"
      },
      "source": [
        "\n",
        "plt.imshow(shift_zeropad(A,shift=(0,30)),cmap='gray')\n",
        "\n"
      ],
      "execution_count": 518,
      "outputs": [
        {
          "output_type": "execute_result",
          "data": {
            "text/plain": [
              "<matplotlib.image.AxesImage at 0x7f26d1d2d6d8>"
            ]
          },
          "metadata": {
            "tags": []
          },
          "execution_count": 518
        },
        {
          "output_type": "display_data",
          "data": {
            "image/png": "[encoded data removed]",
            "text/plain": [
              "<Figure size 432x288 with 1 Axes>"
            ]
          },
          "metadata": {
            "tags": [],
            "needs_background": "light"
          }
        }
      ]
    },
    {
      "cell_type": "code",
      "metadata": {
        "id": "7aCouBvJG6j9",
        "colab_type": "code",
        "colab": {
          "base_uri": "https://localhost:8080/",
          "height": 285
        },
        "outputId": "272d27b4-3ba4-4e96-f4eb-b3c88f143e1c"
      },
      "source": [
        "def make_fake(A,sigma,shift,angle=0):\n",
        "  '''\n",
        "  sigma_shift: can be 1 (same sigma in x and y) or 2d (different in x and y)\n",
        "  '''\n",
        "  #assert len(sigma_shift) == 2\n",
        "  # angle = np.random.uniform(high=360) # every angle equal\n",
        "  # if do_rotate: \n",
        "  x = scipy.ndimage.rotate(A,angle=angle,reshape=False)\n",
        "  # else: \n",
        "\n",
        "  #shift = np.ceil(sigma_shift*np.random.normal(size=2)).astype(int)\n",
        "  x=shift_zeropad(x,shift)\n",
        "  x += np.random.normal(size=A.shape,scale=sigma)\n",
        "  return(x)\n",
        "\n",
        "x = make_fake(A.copy(),sigma=0.1,shift=(10,20),angle=90)\n",
        "plt.imshow(x, cmap='gray')"
      ],
      "execution_count": 225,
      "outputs": [
        {
          "output_type": "execute_result",
          "data": {
            "text/plain": [
              "<matplotlib.image.AxesImage at 0x7f26d1e2a5c0>"
            ]
          },
          "metadata": {
            "tags": []
          },
          "execution_count": 225
        },
        {
          "output_type": "display_data",
          "data": {
            "image/png": "[encoded data removed]",
            "text/plain": [
              "<Figure size 432x288 with 1 Axes>"
            ]
          },
          "metadata": {
            "tags": [],
            "needs_background": "light"
          }
        }
      ]
    },
    {
      "cell_type": "code",
      "metadata": {
        "id": "C5gAJOCTMJ_Y",
        "colab_type": "code",
        "colab": {}
      },
      "source": [
        "M=50\n",
        "sigma=1\n",
        "sigma_shift=(3,3)\n",
        "high_angle=360\n",
        "#true_shifts"
      ],
      "execution_count": 0,
      "outputs": []
    },
    {
      "cell_type": "code",
      "metadata": {
        "id": "-cqPxK-3C7X3",
        "colab_type": "code",
        "colab": {
          "base_uri": "https://localhost:8080/",
          "height": 298
        },
        "outputId": "00357868-1835-49a9-b932-eebbf4ccfdf7"
      },
      "source": [
        "X = np.zeros((M,N,N))\n",
        "true_shifts = sigma_shift*np.ceil(np.random.normal(size=2*M)).astype(int).reshape(M,2) #np.zeros((M,2),dtype=np.int32)\n",
        "true_shifts *=0\n",
        "true_angles = np.random.uniform(size=M,high=high_angle) \n",
        "true_angles*=0\n",
        "for i in range(M):\n",
        "  X[i,:,:] = make_fake(A.copy(),sigma,shift=true_shifts[i],angle=true_angles[i])\n",
        "\n",
        "plt.imshow(X.mean(0),cmap='gray')\n",
        "plt.title('average image with perfect alignment')"
      ],
      "execution_count": 664,
      "outputs": [
        {
          "output_type": "execute_result",
          "data": {
            "text/plain": [
              "Text(0.5, 1.0, 'average image with perfect alignment')"
            ]
          },
          "metadata": {
            "tags": []
          },
          "execution_count": 664
        },
        {
          "output_type": "display_data",
          "data": {
            "image/png": "[encoded data removed]",
            "text/plain": [
              "<Figure size 432x288 with 1 Axes>"
            ]
          },
          "metadata": {
            "tags": [],
            "needs_background": "light"
          }
        }
      ]
    },
    {
      "cell_type": "code",
      "metadata": {
        "id": "YBo2nkXjDCPJ",
        "colab_type": "code",
        "colab": {
          "base_uri": "https://localhost:8080/",
          "height": 298
        },
        "outputId": "0894c942-1d0a-430f-d564-e3db47e7e109"
      },
      "source": [
        "X = np.zeros((M,N,N))\n",
        "true_shifts = sigma_shift*np.ceil(np.random.normal(size=2*M)).astype(int).reshape(M,2) #np.zeros((M,2),dtype=np.int32)\n",
        "# true_shifts *=0\n",
        "true_angles = np.random.uniform(size=M,high=high_angle) \n",
        "# true_angles*=0\n",
        "for i in range(M):\n",
        "  X[i,:,:] = make_fake(A.copy(),sigma,shift=true_shifts[i],angle=true_angles[i])\n",
        "\n",
        "plt.imshow(X.mean(0),cmap='gray')\n",
        "plt.title('average of images')"
      ],
      "execution_count": 665,
      "outputs": [
        {
          "output_type": "execute_result",
          "data": {
            "text/plain": [
              "Text(0.5, 1.0, 'average of images')"
            ]
          },
          "metadata": {
            "tags": []
          },
          "execution_count": 665
        },
        {
          "output_type": "display_data",
          "data": {
            "image/png": "[encoded data removed]",
            "text/plain": [
              "<Figure size 432x288 with 1 Axes>"
            ]
          },
          "metadata": {
            "tags": [],
            "needs_background": "light"
          }
        }
      ]
    },
    {
      "cell_type": "code",
      "metadata": {
        "id": "leciZQL8yOCe",
        "colab_type": "code",
        "outputId": "3303136e-7802-4595-dc6f-2bcc7687f401",
        "colab": {
          "base_uri": "https://localhost:8080/",
          "height": 298
        }
      },
      "source": [
        "plt.imshow(X[0],cmap='gray')\n",
        "plt.title('one noisy sample')"
      ],
      "execution_count": 666,
      "outputs": [
        {
          "output_type": "execute_result",
          "data": {
            "text/plain": [
              "Text(0.5, 1.0, 'one noisy sample')"
            ]
          },
          "metadata": {
            "tags": []
          },
          "execution_count": 666
        },
        {
          "output_type": "display_data",
          "data": {
            "image/png": "[encoded data removed]",
            "text/plain": [
              "<Figure size 432x288 with 1 Axes>"
            ]
          },
          "metadata": {
            "tags": [],
            "needs_background": "light"
          }
        }
      ]
    },
    {
      "cell_type": "markdown",
      "metadata": {
        "id": "xKqjJ8PUO9GO",
        "colab_type": "text"
      },
      "source": [
        "# Build equations for algorithm\n",
        "- table of shifted A\n",
        "- table of norms of shifted A\n",
        "- table of pdf of shifts\n",
        "- loop over samples\n",
        "  - corr shift A,x; for all x in X\n",
        "  - compute gi\n",
        "  - sum over u to get norm factor U\n",
        "  - accumulate log likelihood\n",
        "- reverse shift\n",
        "- sum over i\n",
        "- update A"
      ]
    },
    {
      "cell_type": "markdown",
      "metadata": {
        "id": "UPe6VIDGVO58",
        "colab_type": "text"
      },
      "source": [
        "## table of shifted A"
      ]
    },
    {
      "cell_type": "code",
      "metadata": {
        "id": "axAxM7apQa18",
        "colab_type": "code",
        "colab": {}
      },
      "source": [
        "A_prev = X.mean(0)\n",
        "#shifts = np.arange(-N,N+1, dtype=np.int32)\n"
      ],
      "execution_count": 0,
      "outputs": []
    },
    {
      "cell_type": "code",
      "metadata": {
        "id": "0ld-Y7O940t9",
        "colab_type": "code",
        "colab": {}
      },
      "source": [
        "shift_span = 10\n",
        "shifts_r = np.arange(-shift_span+1,shift_span, dtype=np.int32)\n",
        "shifts_c = np.arange(-shift_span+1,shift_span, dtype=np.int32)\n",
        "angles = np.arange(0,360,5)\n",
        "# shifts = np.zeros((2*N+1,2*N+1))\n",
        "# for shift_r in shifts_:\n",
        "#   for shift_c in shifts_:\n",
        "#     shifts[shift_r,shift_c] = [1,2]\n",
        "\n",
        "\n"
      ],
      "execution_count": 0,
      "outputs": []
    },
    {
      "cell_type": "code",
      "metadata": {
        "id": "CCdPvwAsQvdI",
        "colab_type": "code",
        "colab": {
          "base_uri": "https://localhost:8080/",
          "height": 298
        },
        "outputId": "9c5a1cfe-140c-4c45-fcd3-446b5def074f"
      },
      "source": [
        "# A_shifted = np.zeros((shifts.shape[0],N,N))\n",
        "# for shift_idx,shift in enumerate(shifts):\n",
        "#   A_shifted[shift_idx,:,:] = shift_zeropad(A_prev,shift)\n",
        "\n",
        "N=65\n",
        "A_rot_shifted = np.zeros((N,N,angles.shape[0],shifts_r.shape[0],shifts_c.shape[0]),dtype=np.float32)\n",
        "\n",
        "# M=10\n",
        "# sigma=0.05\n",
        "# sigma_shift=(5,5)\n",
        "# X = np.zeros((M,N,N))\n",
        "# true_shifts = sigma_shift*np.ceil(np.random.normal(size=2*M)).astype(int).reshape(M,2) #np.zeros((M,2),dtype=np.int32)\n",
        "# true_angles = np.random.uniform(size=M,high=360) \n",
        "for angle_idx, angle in enumerate(angles):\n",
        "  A_rot = make_fake(A[:N,:N].copy(), sigma=0,shift=(0,0),angle=angle)\n",
        "  for shift_r_idx, shift_r in enumerate(shifts_r):\n",
        "    for shift_c_idx, shift_c in enumerate(shifts_c):\n",
        "      A_rot_shifted[:,:,angle_idx,shift_r_idx,shift_c_idx] = make_fake(A_rot.copy(), sigma=0,shift=(shift_r,shift_c),angle=0)\n",
        "\n",
        "plt.imshow(A_rot_shifted[:,:,0,0,0],cmap='gray')\n",
        "plt.title('average of images')\n"
      ],
      "execution_count": 230,
      "outputs": [
        {
          "output_type": "execute_result",
          "data": {
            "text/plain": [
              "Text(0.5, 1.0, 'average of images')"
            ]
          },
          "metadata": {
            "tags": []
          },
          "execution_count": 230
        },
        {
          "output_type": "display_data",
          "data": {
            "image/png": "[encoded data removed]",
            "text/plain": [
              "<Figure size 432x288 with 1 Axes>"
            ]
          },
          "metadata": {
            "tags": [],
            "needs_background": "light"
          }
        }
      ]
    },
    {
      "cell_type": "markdown",
      "metadata": {
        "id": "hLn9VksxVYKI",
        "colab_type": "text"
      },
      "source": [
        "##table of norms of shifted A"
      ]
    },
    {
      "cell_type": "code",
      "metadata": {
        "id": "TB0TGhiJBlwX",
        "colab_type": "code",
        "colab": {
          "base_uri": "https://localhost:8080/",
          "height": 34
        },
        "outputId": "66450161-ade5-411d-ee7a-5588918850f0"
      },
      "source": [
        "A_shifted_norm = np.linalg.norm(A_rot_shifted[:,:,:,:,:],axis=(0,1))**2\n",
        "A_shifted_norm.shape"
      ],
      "execution_count": 231,
      "outputs": [
        {
          "output_type": "execute_result",
          "data": {
            "text/plain": [
              "(72, 19, 19)"
            ]
          },
          "metadata": {
            "tags": []
          },
          "execution_count": 231
        }
      ]
    },
    {
      "cell_type": "markdown",
      "metadata": {
        "id": "f1DmXvcmWIep",
        "colab_type": "text"
      },
      "source": [
        "## table of pdf of shifts \n",
        "- rotations averages out because uniform"
      ]
    },
    {
      "cell_type": "code",
      "metadata": {
        "id": "gJK17UQXV8VU",
        "colab_type": "code",
        "colab": {}
      },
      "source": [
        "shifts_r_pdf = np.zeros(shifts_r.shape)\n",
        "for idx,s in enumerate(shifts_r): \n",
        "  shifts_r_pdf[idx] = np.exp(-s**2/(2*sigma_shift[0]))*(2*np.pi)**-0.5 #scipy.stats.norm.pdf(s)#\n",
        "\n",
        "shifts_c_pdf = np.zeros(shifts_c.shape)\n",
        "for idx,s in enumerate(shifts_c): \n",
        "  shifts_c_pdf[idx] = np.exp(-s**2/(2*sigma_shift[1]))*(2*np.pi)**-0.5 #scipy.stats.norm.pdf(s)#\n"
      ],
      "execution_count": 0,
      "outputs": []
    },
    {
      "cell_type": "code",
      "metadata": {
        "id": "dKlezblRYDp0",
        "colab_type": "code",
        "outputId": "1fa1f07c-fa40-48cf-bcb4-7f0e306edd6b",
        "colab": {
          "base_uri": "https://localhost:8080/",
          "height": 282
        }
      },
      "source": [
        "pd.Series(shifts_r_pdf).plot()"
      ],
      "execution_count": 233,
      "outputs": [
        {
          "output_type": "execute_result",
          "data": {
            "text/plain": [
              "<matplotlib.axes._subplots.AxesSubplot at 0x7f26d1c8b0f0>"
            ]
          },
          "metadata": {
            "tags": []
          },
          "execution_count": 233
        },
        {
          "output_type": "display_data",
          "data": {
            "image/png": "[encoded data removed]",
            "text/plain": [
              "<Figure size 432x288 with 1 Axes>"
            ]
          },
          "metadata": {
            "tags": [],
            "needs_background": "light"
          }
        }
      ]
    },
    {
      "cell_type": "code",
      "metadata": {
        "id": "LC6s5QJO-uow",
        "colab_type": "code",
        "colab": {
          "base_uri": "https://localhost:8080/",
          "height": 282
        },
        "outputId": "472309da-3b7c-419c-a36d-59c74303a48b"
      },
      "source": [
        "pd.Series(shifts_c_pdf).plot()"
      ],
      "execution_count": 234,
      "outputs": [
        {
          "output_type": "execute_result",
          "data": {
            "text/plain": [
              "<matplotlib.axes._subplots.AxesSubplot at 0x7f26d1b7c860>"
            ]
          },
          "metadata": {
            "tags": []
          },
          "execution_count": 234
        },
        {
          "output_type": "display_data",
          "data": {
            "image/png": "[encoded data removed]",
            "text/plain": [
              "<Figure size 432x288 with 1 Axes>"
            ]
          },
          "metadata": {
            "tags": [],
            "needs_background": "light"
          }
        }
      ]
    },
    {
      "cell_type": "markdown",
      "metadata": {
        "id": "dLOY7WMwYfEC",
        "colab_type": "text"
      },
      "source": [
        "## corr shift A,x; exponentiate for gi"
      ]
    },
    {
      "cell_type": "code",
      "metadata": {
        "id": "mWHzJKDvYn0M",
        "colab_type": "code",
        "colab": {}
      },
      "source": [
        "x = X[0]\n",
        "corr_A_x = np.zeros(A_rot_shifted[0,0,:,:,:].shape)\n",
        "\n",
        "for angle_idx, angle in enumerate(angles):\n",
        "  for shift_r_idx, shift_r in enumerate(shifts_r):\n",
        "    for shift_c_idx, shift_c in enumerate(shifts_c):\n",
        "      corr_A_x[angle_idx,shift_r_idx,shift_c_idx] = np.multiply(A_rot_shifted[:,:,angle_idx,shift_r_idx,shift_c_idx],x).sum() # can replace with on the fly compute of A_rot_shifted\n",
        "\n",
        "# for idx,a_shifted in enumerate(idx):\n",
        "#   corr_A_x[idx] = np.multiply(a_shifted,x).sum()\n",
        "#corr_A_x *= sigma**-2"
      ],
      "execution_count": 0,
      "outputs": []
    },
    {
      "cell_type": "code",
      "metadata": {
        "id": "PTUWp_hbFF-U",
        "colab_type": "code",
        "colab": {
          "base_uri": "https://localhost:8080/",
          "height": 34
        },
        "outputId": "801da5b7-5705-4947-a7db-49fb1315f7fc"
      },
      "source": [
        "i=0\n",
        "true_angles[i], true_shifts[i]"
      ],
      "execution_count": 236,
      "outputs": [
        {
          "output_type": "execute_result",
          "data": {
            "text/plain": [
              "(41.74405054945436, array([0, 5]))"
            ]
          },
          "metadata": {
            "tags": []
          },
          "execution_count": 236
        }
      ]
    },
    {
      "cell_type": "code",
      "metadata": {
        "id": "G_YIgfOSF_Cg",
        "colab_type": "code",
        "colab": {
          "base_uri": "https://localhost:8080/",
          "height": 34
        },
        "outputId": "5f2bceaa-c685-4b74-dfb3-366d368dd837"
      },
      "source": [
        "angles[8], shifts_r[9], shifts_c[9+5]"
      ],
      "execution_count": 238,
      "outputs": [
        {
          "output_type": "execute_result",
          "data": {
            "text/plain": [
              "(40, 0, 5)"
            ]
          },
          "metadata": {
            "tags": []
          },
          "execution_count": 238
        }
      ]
    },
    {
      "cell_type": "code",
      "metadata": {
        "id": "sZaMCc3_GLcW",
        "colab_type": "code",
        "colab": {
          "base_uri": "https://localhost:8080/",
          "height": 285
        },
        "outputId": "437b7903-d572-4892-e6ca-ccbdc35d3c33"
      },
      "source": [
        "plt.imshow(A_rot_shifted[:,:,8,9,9+5], cmap='gray') # have to reverse shifts"
      ],
      "execution_count": 241,
      "outputs": [
        {
          "output_type": "execute_result",
          "data": {
            "text/plain": [
              "<matplotlib.image.AxesImage at 0x7f26d1a55358>"
            ]
          },
          "metadata": {
            "tags": []
          },
          "execution_count": 241
        },
        {
          "output_type": "display_data",
          "data": {
            "image/png": "[encoded data removed]",
            "text/plain": [
              "<Figure size 432x288 with 1 Axes>"
            ]
          },
          "metadata": {
            "tags": [],
            "needs_background": "light"
          }
        }
      ]
    },
    {
      "cell_type": "code",
      "metadata": {
        "id": "_n7dn3a5GSCC",
        "colab_type": "code",
        "colab": {
          "base_uri": "https://localhost:8080/",
          "height": 285
        },
        "outputId": "0d4d7e1e-f07c-471d-bd56-1facb1bfcf03"
      },
      "source": [
        "plt.imshow(X[0], cmap='gray')"
      ],
      "execution_count": 240,
      "outputs": [
        {
          "output_type": "execute_result",
          "data": {
            "text/plain": [
              "<matplotlib.image.AxesImage at 0x7f26d1af0390>"
            ]
          },
          "metadata": {
            "tags": []
          },
          "execution_count": 240
        },
        {
          "output_type": "display_data",
          "data": {
            "image/png": "[encoded data removed]",
            "text/plain": [
              "<Figure size 432x288 with 1 Axes>"
            ]
          },
          "metadata": {
            "tags": [],
            "needs_background": "light"
          }
        }
      ]
    },
    {
      "cell_type": "code",
      "metadata": {
        "id": "5v93_W0wbMyM",
        "colab_type": "code",
        "outputId": "3c9475e1-2f5d-46b4-fdbf-913de0778e78",
        "colab": {
          "base_uri": "https://localhost:8080/",
          "height": 282
        }
      },
      "source": [
        "pd.Series(corr_A_x[:,9,9+5]).plot()"
      ],
      "execution_count": 284,
      "outputs": [
        {
          "output_type": "execute_result",
          "data": {
            "text/plain": [
              "<matplotlib.axes._subplots.AxesSubplot at 0x7f26d1569fd0>"
            ]
          },
          "metadata": {
            "tags": []
          },
          "execution_count": 284
        },
        {
          "output_type": "display_data",
          "data": {
            "image/png": "[encoded data removed]",
            "text/plain": [
              "<Figure size 432x288 with 1 Axes>"
            ]
          },
          "metadata": {
            "tags": [],
            "needs_background": "light"
          }
        }
      ]
    },
    {
      "cell_type": "code",
      "metadata": {
        "id": "g7nCAY7HFfiZ",
        "colab_type": "code",
        "colab": {
          "base_uri": "https://localhost:8080/",
          "height": 282
        },
        "outputId": "61967b10-8cdc-4e6f-f875-b05de13bed69"
      },
      "source": [
        "pd.Series(corr_A_x[8,9,:]).plot()"
      ],
      "execution_count": 285,
      "outputs": [
        {
          "output_type": "execute_result",
          "data": {
            "text/plain": [
              "<matplotlib.axes._subplots.AxesSubplot at 0x7f26d16e5748>"
            ]
          },
          "metadata": {
            "tags": []
          },
          "execution_count": 285
        },
        {
          "output_type": "display_data",
          "data": {
            "image/png": "[encoded data removed]",
            "text/plain": [
              "<Figure size 432x288 with 1 Axes>"
            ]
          },
          "metadata": {
            "tags": [],
            "needs_background": "light"
          }
        }
      ]
    },
    {
      "cell_type": "code",
      "metadata": {
        "id": "yl0Yoss95yXV",
        "colab_type": "code",
        "colab": {
          "base_uri": "https://localhost:8080/",
          "height": 282
        },
        "outputId": "9ebb16d6-33ff-448f-a4d7-5e36ca61fa1f"
      },
      "source": [
        "pd.Series(corr_A_x[8,:,9+5]).plot()"
      ],
      "execution_count": 286,
      "outputs": [
        {
          "output_type": "execute_result",
          "data": {
            "text/plain": [
              "<matplotlib.axes._subplots.AxesSubplot at 0x7f26d14988d0>"
            ]
          },
          "metadata": {
            "tags": []
          },
          "execution_count": 286
        },
        {
          "output_type": "display_data",
          "data": {
            "image/png": "[encoded data removed]",
            "text/plain": [
              "<Figure size 432x288 with 1 Axes>"
            ]
          },
          "metadata": {
            "tags": [],
            "needs_background": "light"
          }
        }
      ]
    },
    {
      "cell_type": "code",
      "metadata": {
        "id": "sUY0TvDH7G7S",
        "colab_type": "code",
        "colab": {}
      },
      "source": [
        "# different in 2d?\n",
        "#sigma = 0.1\n",
        "A_shifted_norm_  = -(2*sigma**2)**-1*A_shifted_norm\n",
        "corr_A_x_ = sigma**-2*corr_A_x\n",
        "#Ki = max(corr_A_x_.max(),A_shifted_norm_.max()) # for numerical stability?\n",
        "Ki=0\n",
        "for angle_idx, angle in enumerate(angles):\n",
        "  for shift_r_idx, shift_r in enumerate(shifts_r):\n",
        "    for shift_c_idx, shift_c in enumerate(shifts_c):\n",
        "      Ki_ = A_shifted_norm_[angle_idx,shift_r_idx,shift_c_idx] \\\n",
        "           + corr_A_x_[angle_idx,shift_r_idx,shift_c_idx]\n",
        "      if Ki_ > Ki: Ki = Ki_"
      ],
      "execution_count": 0,
      "outputs": []
    },
    {
      "cell_type": "code",
      "metadata": {
        "id": "7Vh_SmGmDqa4",
        "colab_type": "code",
        "colab": {
          "base_uri": "https://localhost:8080/",
          "height": 34
        },
        "outputId": "18591c2f-a560-4998-da78-94d162e2ea91"
      },
      "source": [
        "A.max()"
      ],
      "execution_count": 288,
      "outputs": [
        {
          "output_type": "execute_result",
          "data": {
            "text/plain": [
              "4.074406344126306"
            ]
          },
          "metadata": {
            "tags": []
          },
          "execution_count": 288
        }
      ]
    },
    {
      "cell_type": "code",
      "metadata": {
        "id": "8k13iXymCw1I",
        "colab_type": "code",
        "colab": {
          "base_uri": "https://localhost:8080/",
          "height": 34
        },
        "outputId": "a59bc2b5-7fb8-4fff-a3aa-5e2cd6ce3b49"
      },
      "source": [
        "corr_A_x_.max(),corr_A_x_.min()"
      ],
      "execution_count": 298,
      "outputs": [
        {
          "output_type": "execute_result",
          "data": {
            "text/plain": [
              "(95404.37083010848, 6120.624508575125)"
            ]
          },
          "metadata": {
            "tags": []
          },
          "execution_count": 298
        }
      ]
    },
    {
      "cell_type": "code",
      "metadata": {
        "id": "Xy20rep-C2YK",
        "colab_type": "code",
        "colab": {
          "base_uri": "https://localhost:8080/",
          "height": 34
        },
        "outputId": "9818bb7b-4ab2-498d-de29-fd5ecdaa05ba"
      },
      "source": [
        "A_shifted_norm_.max(), A_shifted_norm_.min()"
      ],
      "execution_count": 290,
      "outputs": [
        {
          "output_type": "execute_result",
          "data": {
            "text/plain": [
              "(-47772.367, -47857.543)"
            ]
          },
          "metadata": {
            "tags": []
          },
          "execution_count": 290
        }
      ]
    },
    {
      "cell_type": "code",
      "metadata": {
        "id": "6E_Hf3c4C6sr",
        "colab_type": "code",
        "colab": {
          "base_uri": "https://localhost:8080/",
          "height": 34
        },
        "outputId": "a1df73f4-fcd1-4140-d1a4-97be1de47935"
      },
      "source": [
        "Ki"
      ],
      "execution_count": 303,
      "outputs": [
        {
          "output_type": "execute_result",
          "data": {
            "text/plain": [
              "47549.300517608484"
            ]
          },
          "metadata": {
            "tags": []
          },
          "execution_count": 303
        }
      ]
    },
    {
      "cell_type": "code",
      "metadata": {
        "id": "Vx7kSkyHcvKL",
        "colab_type": "code",
        "colab": {}
      },
      "source": [
        "\n",
        "# do not compute in vectorized form, loop instead\n",
        "#gi = np.exp(A_shifted_norm_ + corr_A_x_ - Ki)*shift_pdf\n",
        "gi = np.zeros(A_rot_shifted[0,0,:,:,:].shape)\n",
        "\n",
        "for angle_idx, angle in enumerate(angles):\n",
        "  for shift_r_idx, shift_r in enumerate(shifts_r):\n",
        "    for shift_c_idx, shift_c in enumerate(shifts_c):\n",
        "      gi[angle_idx,shift_r_idx,shift_c_idx] = np.exp(A_shifted_norm_[angle_idx,shift_r_idx,shift_c_idx] \\\n",
        "                                                     + corr_A_x_[angle_idx,shift_r_idx,shift_c_idx] \\\n",
        "                                                     - Ki)\\\n",
        "                                              * shifts_r_pdf[shift_r_idx] \\\n",
        "                                              * shifts_c_pdf[shift_c_idx]\n",
        "      \n"
      ],
      "execution_count": 0,
      "outputs": []
    },
    {
      "cell_type": "code",
      "metadata": {
        "id": "0-rWwEwR_dQE",
        "colab_type": "code",
        "colab": {
          "base_uri": "https://localhost:8080/",
          "height": 34
        },
        "outputId": "aeaac850-dcaa-46fc-dc64-ab19743d31e9"
      },
      "source": [
        "gi.max(), gi.min()"
      ],
      "execution_count": 305,
      "outputs": [
        {
          "output_type": "execute_result",
          "data": {
            "text/plain": [
              "(0.013064233284684923, 0.0)"
            ]
          },
          "metadata": {
            "tags": []
          },
          "execution_count": 305
        }
      ]
    },
    {
      "cell_type": "code",
      "metadata": {
        "id": "3D3vKyCyBf6g",
        "colab_type": "code",
        "colab": {
          "base_uri": "https://localhost:8080/",
          "height": 34
        },
        "outputId": "0adfebe6-144d-4685-db01-d2a6ff16d76c"
      },
      "source": [
        "np.exp(1e2), np.exp(-1e2) # exp ranges [0.01,100]"
      ],
      "execution_count": 271,
      "outputs": [
        {
          "output_type": "execute_result",
          "data": {
            "text/plain": [
              "(2.6881171418161356e+43, 3.720075976020836e-44)"
            ]
          },
          "metadata": {
            "tags": []
          },
          "execution_count": 271
        }
      ]
    },
    {
      "cell_type": "code",
      "metadata": {
        "id": "ity40g7VnMAp",
        "colab_type": "code",
        "outputId": "e63898a3-e716-4194-87e0-0c4f19d41c56",
        "colab": {
          "base_uri": "https://localhost:8080/",
          "height": 282
        }
      },
      "source": [
        "plt.imshow(gi[8,:,:], cmap='gray') # have to reverse shifts"
      ],
      "execution_count": 306,
      "outputs": [
        {
          "output_type": "execute_result",
          "data": {
            "text/plain": [
              "<matplotlib.image.AxesImage at 0x7f26d1aa20f0>"
            ]
          },
          "metadata": {
            "tags": []
          },
          "execution_count": 306
        },
        {
          "output_type": "display_data",
          "data": {
            "image/png": "[encoded data removed]",
            "text/plain": [
              "<Figure size 432x288 with 1 Axes>"
            ]
          },
          "metadata": {
            "tags": [],
            "needs_background": "light"
          }
        }
      ]
    },
    {
      "cell_type": "code",
      "metadata": {
        "id": "K7YTR_qu-3J-",
        "colab_type": "code",
        "colab": {
          "base_uri": "https://localhost:8080/",
          "height": 282
        },
        "outputId": "f1edd804-d3a8-4dd9-e511-d413216296b5"
      },
      "source": [
        "pd.Series(gi[:,9,9+5]).plot()"
      ],
      "execution_count": 307,
      "outputs": [
        {
          "output_type": "execute_result",
          "data": {
            "text/plain": [
              "<matplotlib.axes._subplots.AxesSubplot at 0x7f26d232e898>"
            ]
          },
          "metadata": {
            "tags": []
          },
          "execution_count": 307
        },
        {
          "output_type": "display_data",
          "data": {
            "image/png": "[encoded data removed]",
            "text/plain": [
              "<Figure size 432x288 with 1 Axes>"
            ]
          },
          "metadata": {
            "tags": [],
            "needs_background": "light"
          }
        }
      ]
    },
    {
      "cell_type": "markdown",
      "metadata": {
        "id": "Qp_EdC0Og-pu",
        "colab_type": "text"
      },
      "source": [
        "## sum over u to get norm factor U"
      ]
    },
    {
      "cell_type": "code",
      "metadata": {
        "id": "dZjlZ-ZxhWKm",
        "colab_type": "code",
        "outputId": "51075ba9-9f4f-4355-f37c-01009047430c",
        "colab": {
          "base_uri": "https://localhost:8080/",
          "height": 34
        }
      },
      "source": [
        "Ui = gi.sum()**-1\n",
        "Ui"
      ],
      "execution_count": 274,
      "outputs": [
        {
          "output_type": "execute_result",
          "data": {
            "text/plain": [
              "76.5448670586961"
            ]
          },
          "metadata": {
            "tags": []
          },
          "execution_count": 274
        }
      ]
    },
    {
      "cell_type": "markdown",
      "metadata": {
        "id": "xJlNxdhGhfsE",
        "colab_type": "text"
      },
      "source": [
        "## accumulate loglikelihood"
      ]
    },
    {
      "cell_type": "code",
      "metadata": {
        "id": "6QWPm8LshymK",
        "colab_type": "code",
        "outputId": "6f3efd5f-fe93-46d4-c3f5-ff810f13816e",
        "colab": {
          "base_uri": "https://localhost:8080/",
          "height": 34
        }
      },
      "source": [
        "-np.log(Ui) # sigma factor missing, same for all i"
      ],
      "execution_count": 275,
      "outputs": [
        {
          "output_type": "execute_result",
          "data": {
            "text/plain": [
              "-4.337877066409345"
            ]
          },
          "metadata": {
            "tags": []
          },
          "execution_count": 275
        }
      ]
    },
    {
      "cell_type": "markdown",
      "metadata": {
        "id": "XDtkpFXJis8c",
        "colab_type": "text"
      },
      "source": [
        "## reverse shift"
      ]
    },
    {
      "cell_type": "code",
      "metadata": {
        "id": "9YIm4qvEIM7e",
        "colab_type": "code",
        "colab": {}
      },
      "source": [
        "x_shifted = np.zeros(A_rot_shifted[:,:,:,:,:].shape)\n",
        "\n",
        "for angle_idx, angle in enumerate(angles):\n",
        "  for shift_r_idx, shift_r in enumerate(shifts_r):\n",
        "    for shift_c_idx, shift_c in enumerate(shifts_c):\n",
        "      x_shifted[:,:,angle_idx,shift_r_idx,shift_c_idx] = make_fake(A.copy(),sigma=0,shift=(-shift_r,-shift_c),angle=angle)"
      ],
      "execution_count": 0,
      "outputs": []
    },
    {
      "cell_type": "code",
      "metadata": {
        "id": "_utMbvBgmbRz",
        "colab_type": "code",
        "outputId": "5e5a42cc-730b-414d-8a08-b7ffc9274400",
        "colab": {
          "base_uri": "https://localhost:8080/",
          "height": 34
        }
      },
      "source": [
        "x_shifted.shape, gi.shape"
      ],
      "execution_count": 331,
      "outputs": [
        {
          "output_type": "execute_result",
          "data": {
            "text/plain": [
              "((65, 65, 72, 19, 19), (72, 19, 19))"
            ]
          },
          "metadata": {
            "tags": []
          },
          "execution_count": 331
        }
      ]
    },
    {
      "cell_type": "code",
      "metadata": {
        "id": "pNdkgD6dl4zy",
        "colab_type": "code",
        "colab": {}
      },
      "source": [
        "conv_i = np.multiply(gi,x_shifted[0,0,:,:,:]).sum() "
      ],
      "execution_count": 0,
      "outputs": []
    },
    {
      "cell_type": "code",
      "metadata": {
        "id": "ucScDeJAjk69",
        "colab_type": "code",
        "outputId": "52205c31-c727-4349-fabb-63e6ccfbc49a",
        "colab": {
          "base_uri": "https://localhost:8080/",
          "height": 34
        }
      },
      "source": [
        "#scipy.signal.convolve(range(10),range(10),mode='same')"
      ],
      "execution_count": 0,
      "outputs": [
        {
          "output_type": "execute_result",
          "data": {
            "text/plain": [
              "array([ 10,  20,  35,  56,  84, 120, 165, 200, 224, 236])"
            ]
          },
          "metadata": {
            "tags": []
          },
          "execution_count": 348
        }
      ]
    },
    {
      "cell_type": "code",
      "metadata": {
        "id": "4Lzbg8xVkDOA",
        "colab_type": "code",
        "outputId": "839547ae-a1e5-4597-d9da-834545770779",
        "colab": {
          "base_uri": "https://localhost:8080/",
          "height": 34
        }
      },
      "source": [
        "#scipy.ndimage.convolve(range(10),range(10),mode='constant')"
      ],
      "execution_count": 0,
      "outputs": [
        {
          "output_type": "execute_result",
          "data": {
            "text/plain": [
              "array([ 20,  35,  56,  84, 120, 165, 200, 224, 236, 235])"
            ]
          },
          "metadata": {
            "tags": []
          },
          "execution_count": 349
        }
      ]
    },
    {
      "cell_type": "code",
      "metadata": {
        "id": "l9V785N8kKDh",
        "colab_type": "code",
        "outputId": "f83fb977-72d8-45c7-94c1-0d34fecc2452",
        "colab": {
          "base_uri": "https://localhost:8080/",
          "height": 34
        }
      },
      "source": [
        "#scipy.ndimage.convolve1d(range(10),range(10),mode='constant')"
      ],
      "execution_count": 0,
      "outputs": [
        {
          "output_type": "execute_result",
          "data": {
            "text/plain": [
              "array([ 20,  35,  56,  84, 120, 165, 200, 224, 236, 235])"
            ]
          },
          "metadata": {
            "tags": []
          },
          "execution_count": 350
        }
      ]
    },
    {
      "cell_type": "code",
      "metadata": {
        "id": "qZ5Q_IaHo_Tm",
        "colab_type": "code",
        "outputId": "d7083aaf-092d-469d-ce5a-a70dde185d66",
        "colab": {
          "base_uri": "https://localhost:8080/",
          "height": 34
        }
      },
      "source": [
        "Ui*conv_i"
      ],
      "execution_count": 0,
      "outputs": [
        {
          "output_type": "execute_result",
          "data": {
            "text/plain": [
              "0.14151956676158675"
            ]
          },
          "metadata": {
            "tags": []
          },
          "execution_count": 381
        }
      ]
    },
    {
      "cell_type": "markdown",
      "metadata": {
        "id": "puRzx3FKpWxG",
        "colab_type": "text"
      },
      "source": [
        "# sum over i to get A next\n",
        "- per pixel\n",
        "- have to put together steps from before"
      ]
    },
    {
      "cell_type": "code",
      "metadata": {
        "id": "q-ElcBfSuaSo",
        "colab_type": "code",
        "colab": {}
      },
      "source": [
        "# initialize\n",
        "\n",
        "A_prev = X.mean(0)\n",
        "A_next = A_prev.copy()\n",
        "\n",
        "shift_span = 10\n",
        "shifts_r = np.arange(-shift_span+1,shift_span, dtype=np.int32)\n",
        "shifts_c = np.arange(-shift_span+1,shift_span, dtype=np.int32)\n",
        "deg_step = 5\n",
        "angles = np.arange(0,360,deg_step)\n",
        "\n",
        "#idx_rand = np.arange(X.shape[0],dtype=np.int32)"
      ],
      "execution_count": 0,
      "outputs": []
    },
    {
      "cell_type": "code",
      "metadata": {
        "id": "BvfmE6cipbHg",
        "colab_type": "code",
        "colab": {}
      },
      "source": [
        "n_A_updates=2\n",
        "fig, axes = plt.subplots(12, n_A_updates,figsize=(8,16))\n",
        "\n",
        "for c in range(n_A_updates):\n",
        "  \n",
        "  ll=0\n",
        "  A_prev = A_next.copy()\n",
        "  A_next = np.zeros_like(A_prev)\n",
        "\n",
        "  axes[0,c].imshow(A_next,cmap='gray') ; axes[0,c].set_axis_off()\n",
        "\n",
        "\n",
        "  # shift A\n",
        "  A_rot_shifted = np.zeros((N,N,angles.shape[0],shifts_r.shape[0],shifts_c.shape[0]),dtype=np.float32)\n",
        "  for angle_idx, angle in enumerate(angles):\n",
        "    A_rot = make_fake(A_prev.copy(), sigma=0,shift=(0,0),angle=angle)\n",
        "    for shift_r_idx, shift_r in enumerate(shifts_r):\n",
        "      for shift_c_idx, shift_c in enumerate(shifts_c):\n",
        "        A_rot_shifted[:,:,angle_idx,shift_r_idx,shift_c_idx] = make_fake(A_rot.copy(), sigma=0,shift=(shift_r,shift_c),angle=0)\n",
        "\n",
        "\n",
        "  # norm A\n",
        "  A_shifted_norm = np.linalg.norm(A_rot_shifted[:,:,:,:,:],axis=(0,1))**2\n",
        "\n",
        "  # pdf shifts\n",
        "  shifts_r_pdf = np.zeros(shifts_r.shape)\n",
        "  for idx,s in enumerate(shifts_r): \n",
        "    shifts_r_pdf[idx] = np.exp(-s**2/(2*sigma_shift[0]))*(2*np.pi)**-0.5 #scipy.stats.norm.pdf(s)#\n",
        "\n",
        "  shifts_c_pdf = np.zeros(shifts_c.shape)\n",
        "  for idx,s in enumerate(shifts_c): \n",
        "    shifts_c_pdf[idx] = np.exp(-s**2/(2*sigma_shift[1]))*(2*np.pi)**-0.5 #scipy.stats.norm.pdf(s)#\n",
        "\n",
        "  r=0\n",
        "  best_alignments = np.zeros((M,3))\n",
        "\n",
        "  for i,x in enumerate(X):\n",
        "    print('image %i'%i)\n",
        "\n",
        "    # corr\n",
        "    corr_A_x = np.zeros(A_rot_shifted[0,0,:,:,:].shape)\n",
        "\n",
        "    for angle_idx, angle in enumerate(angles):\n",
        "      for shift_r_idx, shift_r in enumerate(shifts_r):\n",
        "        for shift_c_idx, shift_c in enumerate(shifts_c):\n",
        "          corr_A_x[angle_idx,shift_r_idx,shift_c_idx] = np.multiply(A_rot_shifted[:,:,angle_idx,shift_r_idx,shift_c_idx],x).sum() # can replace with on the fly compute of A_rot_shifted\n",
        "\n",
        "    #max for plotting\n",
        "    angle_max_idx, shift_r_max_idx, shift_c_max_idx = np.unravel_index(corr_A_x.argmax(), corr_A_x.shape) # +0 -9 -9\n",
        "    best_alignments[i] = angles[angle_max_idx],shifts_r[shift_r_max_idx],shifts_c[shift_c_max_idx]\n",
        "    \n",
        "    #Ki\n",
        "    A_shifted_norm_  = -(2*sigma**2)**-1*A_shifted_norm\n",
        "    corr_A_x_ = sigma**-2*corr_A_x\n",
        "    Ki=0\n",
        "    for angle_idx, angle in enumerate(angles):\n",
        "      for shift_r_idx, shift_r in enumerate(shifts_r):\n",
        "        for shift_c_idx, shift_c in enumerate(shifts_c):\n",
        "          Ki_ = A_shifted_norm_[angle_idx,shift_r_idx,shift_c_idx] \\\n",
        "              + corr_A_x_[angle_idx,shift_r_idx,shift_c_idx]\n",
        "          if Ki_ > Ki: Ki = Ki_\n",
        "    \n",
        "    # gi\n",
        "    gi = np.zeros(A_rot_shifted[0,0,:,:,:].shape)\n",
        "    for angle_idx, angle in enumerate(angles):\n",
        "      for shift_r_idx, shift_r in enumerate(shifts_r):\n",
        "        for shift_c_idx, shift_c in enumerate(shifts_c):\n",
        "          gi[angle_idx,shift_r_idx,shift_c_idx] = np.exp(A_shifted_norm_[angle_idx,shift_r_idx,shift_c_idx] \\\n",
        "                                                        + corr_A_x_[angle_idx,shift_r_idx,shift_c_idx] \\\n",
        "                                                        - Ki)\\\n",
        "                                                  * shifts_r_pdf[shift_r_idx] \\\n",
        "                                                  * shifts_c_pdf[shift_c_idx]\n",
        "\n",
        "    # Ui\n",
        "    gisum = gi.sum()\n",
        "    if not np.isclose(gisum, 0): \n",
        "      Ui = gisum**-1\n",
        "      # log lik\n",
        "      ll += -np.log(Ui) + Ki - 2*sigma**-2*np.linalg.norm(x)**2 #- N*((M/2+0.5)*np.log(2*pi))\n",
        "    else: \n",
        "      Ui=0\n",
        "\n",
        "    # rev shift\n",
        "    x_shifted = np.zeros(A_rot_shifted[:,:,:,:,:].shape)\n",
        "\n",
        "    for angle_idx, angle in enumerate(angles):\n",
        "      for shift_r_idx, shift_r in enumerate(shifts_r):\n",
        "        for shift_c_idx, shift_c in enumerate(shifts_c):\n",
        "          x_shifted[:,:,angle_idx,shift_r_idx,shift_c_idx] = make_fake(x,sigma=0,shift=(-shift_r,-shift_c),angle=angle)\n",
        "\n",
        "    conv = np.zeros(A_prev.shape)\n",
        "    for nr in range(A_prev.shape[0]):\n",
        "      for nc in range(A_prev.shape[1]):\n",
        "      # sum over alignments\n",
        "        conv[nr,nc] = np.multiply(gi,x_shifted[nr,nc,:,:,:]).sum() \n",
        "        A_next[nr,nc] += Ui*conv[nr,nc] # perhaps accumulate and sum later... maybe better numerical stability\n",
        "    \n",
        "    if True:#i % int(X.shape[0]/10) == 0: \n",
        "      print('i = %i, ll = %.2f, A_next max = %.2f' % (i,ll,A_next.max()))\n",
        "      axes[r+1,c].imshow(A_next,cmap='gray')\n",
        "      axes[r+1,c].set_axis_off()\n",
        "      #pd.Series(A_next).plot(ax=axes[r+1,c])\n",
        "      r+=1\n",
        "\n",
        "  A_next *= N**-1\n",
        "  #pd.Series(A).plot(ax=axes[r+1,c])\n",
        "  axes[r+1,c].imshow(A,cmap='gray')\n",
        "  axes[r+1,c].set_axis_off()\n"
      ],
      "execution_count": 0,
      "outputs": []
    },
    {
      "cell_type": "markdown",
      "metadata": {
        "id": "cWRTXU2-p4kl",
        "colab_type": "text"
      },
      "source": [
        "# `numba.jit`\n",
        "- speed up: the unoptimized code takes tens of second for each image. \n",
        "- the loops can be `numba.jit`-ed \n",
        "- the rotation and shifting can be refactored\n",
        "- remove `.copy()` steps "
      ]
    },
    {
      "cell_type": "markdown",
      "metadata": {
        "id": "wTiNKSl6E2um",
        "colab_type": "text"
      },
      "source": [
        "## helper functions"
      ]
    },
    {
      "cell_type": "code",
      "metadata": {
        "id": "QSgytRIoigZw",
        "colab_type": "code",
        "colab": {
          "base_uri": "https://localhost:8080/",
          "height": 51
        },
        "outputId": "0b803858-1d1e-4d09-a855-c1fbaf57e92d"
      },
      "source": [
        "@numba.jit\n",
        "def comp_corr(A_rot_shifted,x):\n",
        "  corr_A_x = np.zeros(A_rot_shifted[0,0,:,:,:].shape)\n",
        "  for angle_idx in range(A_rot_shifted.shape[2]):\n",
        "    for shift_r_idx in range(A_rot_shifted.shape[3]):\n",
        "      for shift_c_idx in range(A_rot_shifted.shape[4]):\n",
        "        corr_A_x[angle_idx,shift_r_idx,shift_c_idx] = np.multiply(A_rot_shifted[:,:,angle_idx,shift_r_idx,shift_c_idx],x).sum() # can replace with on the fly compute of A_rot_shifted\n",
        "  return(corr_A_x)\n",
        "%time _ = comp_corr(A_rot_shifted,x)"
      ],
      "execution_count": 432,
      "outputs": [
        {
          "output_type": "stream",
          "text": [
            "CPU times: user 1.65 s, sys: 0 ns, total: 1.65 s\n",
            "Wall time: 1.66 s\n"
          ],
          "name": "stdout"
        }
      ]
    },
    {
      "cell_type": "code",
      "metadata": {
        "id": "JZn4Mqaxi8Xq",
        "colab_type": "code",
        "colab": {
          "base_uri": "https://localhost:8080/",
          "height": 51
        },
        "outputId": "a5c3b51f-6ebf-4f8d-c3c0-6b391f391f7c"
      },
      "source": [
        "@numba.jit\n",
        "def comp_Ki(A_shifted_norm_,corr_A_x_):\n",
        "  Ki=0\n",
        "  for angle_idx in range(A_shifted_norm_.shape[0]):\n",
        "    for shift_r_idx in range(A_shifted_norm_.shape[1]):\n",
        "      for shift_c_idx in range(A_shifted_norm_.shape[2]):\n",
        "          Ki_ = A_shifted_norm_[angle_idx,shift_r_idx,shift_c_idx] \\\n",
        "              + corr_A_x_[angle_idx,shift_r_idx,shift_c_idx]\n",
        "          if Ki_ > Ki: Ki = Ki_\n",
        "  return(Ki)\n",
        "%time _ = comp_Ki(A_shifted_norm_,corr_A_x_)"
      ],
      "execution_count": 433,
      "outputs": [
        {
          "output_type": "stream",
          "text": [
            "CPU times: user 171 ms, sys: 2 ms, total: 173 ms\n",
            "Wall time: 173 ms\n"
          ],
          "name": "stdout"
        }
      ]
    },
    {
      "cell_type": "code",
      "metadata": {
        "id": "kLyQJDfNjiOb",
        "colab_type": "code",
        "colab": {
          "base_uri": "https://localhost:8080/",
          "height": 51
        },
        "outputId": "ab038a18-86d7-476d-d353-d079f6db4843"
      },
      "source": [
        "@numba.jit\n",
        "def comp_gi(A_shifted_norm_,corr_A_x_,Ki,shifts_r_pdf,shifts_c_pdf):\n",
        "  gi = np.zeros(A_shifted_norm_.shape)\n",
        "  for angle_idx in range(A_shifted_norm_.shape[0]):\n",
        "    for shift_r_idx in range(A_shifted_norm_.shape[1]):\n",
        "      for shift_c_idx in range(A_shifted_norm_.shape[2]):\n",
        "          gi[angle_idx,shift_r_idx,shift_c_idx] = np.exp(A_shifted_norm_[angle_idx,shift_r_idx,shift_c_idx] \\\n",
        "                                                        + corr_A_x_[angle_idx,shift_r_idx,shift_c_idx] \\\n",
        "                                                        - Ki)\\\n",
        "                                                  * shifts_r_pdf[shift_r_idx] \\\n",
        "                                                  * shifts_c_pdf[shift_c_idx]\n",
        "  return(gi)\n",
        "%time _ = comp_gi(A_shifted_norm_,corr_A_x_,Ki,shifts_r_pdf,shifts_c_pdf)"
      ],
      "execution_count": 536,
      "outputs": [
        {
          "output_type": "stream",
          "text": [
            "CPU times: user 249 ms, sys: 4 ms, total: 253 ms\n",
            "Wall time: 254 ms\n"
          ],
          "name": "stdout"
        }
      ]
    },
    {
      "cell_type": "code",
      "metadata": {
        "id": "Q5zYyHtaj3QK",
        "colab_type": "code",
        "colab": {
          "base_uri": "https://localhost:8080/",
          "height": 51
        },
        "outputId": "102accad-42cc-4fbe-ed2c-261a8e827709"
      },
      "source": [
        "def comp_x_aligned(x,A_rot_shifted,angles,shifts_r,shifts_c):\n",
        "  x_aligned = np.zeros(A_rot_shifted[:,:,:,:,:].shape)\n",
        "  for angle_idx in range(angles.shape[0]):\n",
        "    x_rot = scipy.ndimage.rotate(x,angle=-angles[angle_idx],reshape=False) \n",
        "    for shift_r_idx in range(shifts_r.shape[0]):\n",
        "      x_rot_shift = shift_zeropad_axis(x_rot,shift=-shifts_r[shift_r_idx],axis=0)\n",
        "      for shift_c_idx in range(shifts_c.shape[0]):\n",
        "          x_aligned[:,:,angle_idx,shift_r_idx,shift_c_idx] = shift_zeropad_axis(x_rot_shift,shift=-shifts_c[shift_c_idx],axis=1)\n",
        "  return(x_aligned)\n",
        "%time _ = comp_x_aligned(x,A_rot_shifted,angles,shifts_r,shifts_c)"
      ],
      "execution_count": 742,
      "outputs": [
        {
          "output_type": "stream",
          "text": [
            "CPU times: user 1.8 s, sys: 1e+03 µs, total: 1.8 s\n",
            "Wall time: 1.8 s\n"
          ],
          "name": "stdout"
        }
      ]
    },
    {
      "cell_type": "code",
      "metadata": {
        "id": "3HiP4Y7kk50w",
        "colab_type": "code",
        "colab": {
          "base_uri": "https://localhost:8080/",
          "height": 51
        },
        "outputId": "008df352-f622-48be-b022-a5c4739ccfdb"
      },
      "source": [
        "@numba.jit\n",
        "def comp_A_next(A_prev,A_next,x_aligned,gi,Ui):\n",
        "    conv = np.zeros(A_prev.shape)\n",
        "    for nr in range(A_prev.shape[0]):\n",
        "      for nc in range(A_prev.shape[1]):\n",
        "      # sum over alignments\n",
        "        conv[nr,nc] = np.multiply(gi,x_aligned[nr,nc,:,:,:]).sum() \n",
        "        A_next[nr,nc] += Ui*conv[nr,nc]\n",
        "    #A_next*=Ui # for some reason blows up when leave this step to the end\n",
        "    return(A_next)\n",
        "\n",
        "%time _ = comp_A_next(A_prev,A_next,x_aligned,gi=gi,Ui=Ui)"
      ],
      "execution_count": 661,
      "outputs": [
        {
          "output_type": "stream",
          "text": [
            "CPU times: user 602 ms, sys: 6 ms, total: 608 ms\n",
            "Wall time: 609 ms\n"
          ],
          "name": "stdout"
        }
      ]
    },
    {
      "cell_type": "markdown",
      "metadata": {
        "id": "4gsu76H9ExLC",
        "colab_type": "text"
      },
      "source": [
        "## refactored algorithm"
      ]
    },
    {
      "cell_type": "code",
      "metadata": {
        "id": "i_dc9o9SxWnE",
        "colab_type": "code",
        "colab": {}
      },
      "source": [
        "# initialize\n",
        "\n",
        "A_prev = X.mean(0)\n",
        "A_next = A_prev.copy()\n",
        "\n",
        "shift_span = 10\n",
        "shifts_r = np.arange(-shift_span+1,shift_span, dtype=np.int32)\n",
        "shifts_c = np.arange(-shift_span+1,shift_span, dtype=np.int32)\n",
        "deg_step = 3\n",
        "angles = np.arange(0,360,deg_step)\n",
        "\n",
        "#idx_rand = np.arange(X.shape[0],dtype=np.int32)"
      ],
      "execution_count": 0,
      "outputs": []
    },
    {
      "cell_type": "code",
      "metadata": {
        "id": "-usfSp5Ol496",
        "colab_type": "code",
        "colab": {
          "base_uri": "https://localhost:8080/",
          "height": 1000
        },
        "outputId": "e17382a3-81ae-42c6-e9d4-88ad10f60d6d"
      },
      "source": [
        "n_A_updates=3\n",
        "fig, axes = plt.subplots(12, n_A_updates,figsize=(8,16))\n",
        "\n",
        "for c in range(n_A_updates):\n",
        "  \n",
        "  ll=0\n",
        "  A_prev = A_next.copy()\n",
        "  A_next = np.zeros_like(A_prev)\n",
        "\n",
        "  axes[0,c].imshow(A_prev,cmap='gray') ; axes[0,c].set_axis_off()\n",
        "\n",
        "\n",
        "  # alignment library of A\n",
        "  A_rot_shifted = np.zeros((N,N,angles.shape[0],shifts_r.shape[0],shifts_c.shape[0]),dtype=np.float32)\n",
        "\n",
        "  for shift_r_idx, shift_r in enumerate(shifts_r):\n",
        "    A_shift_r = shift_zeropad_axis(A,shift=shift_r,axis=0)\n",
        "    for shift_c_idx, shift_c in enumerate(shifts_c):\n",
        "      A_shift_r_c = shift_zeropad_axis(A_shift_r,shift=shift_c,axis=1)\n",
        "      for angle_idx, angle in enumerate(angles):\n",
        "        A_rot_shifted[:,:,angle_idx,shift_r_idx,shift_c_idx] = scipy.ndimage.rotate(A_shift_r_c,angle=angle,reshape=False) # rotation in inner loop, so rotation in outer loop for each image\n",
        "\n",
        "\n",
        "  # norm A\n",
        "  A_shifted_norm = np.linalg.norm(A_rot_shifted[:,:,:,:,:],axis=(0,1))**2\n",
        "  A_shifted_norm_  = -(2*sigma**2)**-1*A_shifted_norm\n",
        "  print('A_shifted_norm_ max %.2f | A_shifted_norm_ min %.2f' % (A_shifted_norm_.max(), A_shifted_norm_.min()) )\n",
        "\n",
        "\n",
        "  # pdf shifts\n",
        "  shifts_r_pdf = np.zeros(shifts_r.shape)\n",
        "  for idx,s in enumerate(shifts_r): \n",
        "    shifts_r_pdf[idx] = np.exp(-s**2/(2*sigma_shift[0]))*(2*np.pi)**-0.5 #scipy.stats.norm.pdf(s)#\n",
        "\n",
        "  shifts_c_pdf = np.zeros(shifts_c.shape)\n",
        "  for idx,s in enumerate(shifts_c): \n",
        "    shifts_c_pdf[idx] = np.exp(-s**2/(2*sigma_shift[1]))*(2*np.pi)**-0.5 #scipy.stats.norm.pdf(s)#\n",
        "\n",
        "  r=0\n",
        "  best_alignments = np.zeros((M,3))\n",
        "\n",
        "  for i,x in enumerate(X):\n",
        "    #print('image %i'%i)\n",
        "\n",
        "    # corr\n",
        "    corr_A_x = comp_corr(A_rot_shifted,x)\n",
        "    #print('corr_A_x max %.2f | corr_A_x min %.2f' % (corr_A_x.max(), corr_A_x.min()) )\n",
        "\n",
        "    #max for plotting\n",
        "    angle_max_idx, shift_r_max_idx, shift_c_max_idx = np.unravel_index(corr_A_x.argmax(), corr_A_x.shape) # +0 -9 -9\n",
        "    best_alignments[i] = angles[angle_max_idx],shifts_r[shift_r_max_idx],shifts_c[shift_c_max_idx]\n",
        "    \n",
        "    #Ki\n",
        "    corr_A_x_ = sigma**-2*corr_A_x\n",
        "    Ki=comp_Ki(A_shifted_norm_,corr_A_x_)\n",
        "    #Ki = max(A_shifted_norm_.max(),corr_A_x_.max())\n",
        "    #print('Ki %.2f' % Ki)\n",
        "    \n",
        "    \n",
        "    # gi\n",
        "    gi = comp_gi(A_shifted_norm_,corr_A_x_,Ki,shifts_r_pdf,shifts_c_pdf)\n",
        "    #print('gi max %.2f | gi min %.2f' % (gi.max(), gi.min()) )\n",
        "\n",
        "    # Ui\n",
        "    gisum = gi.sum()\n",
        "    if not np.isclose(gisum, 0): \n",
        "      Ui = gisum**-1\n",
        "      # log lik\n",
        "      ll += -np.log(Ui) + Ki - 2*sigma**-2*np.linalg.norm(x)**2 #- N*((M/2+0.5)*np.log(2*pi))\n",
        "    else: \n",
        "      Ui=0\n",
        "    #print('Ui %.2f' % Ui)\n",
        "\n",
        "    # rev align\n",
        "    x_aligned = comp_x_aligned(x,A_rot_shifted,angles,shifts_r,shifts_c)\n",
        "    \n",
        "    # A_next\n",
        "    A_next = comp_A_next(A_prev,A_next,x_aligned,gi,Ui)\n",
        "    \n",
        "    if i % int(X.shape[0]/10) == 0: \n",
        "      print('i = %i, ll = %.2f, A_next max = %.2f' % (i,ll,A_next.max()))\n",
        "      axes[r+1,c].imshow(A_next,cmap='gray')\n",
        "      #axes[r+1,c].title.set_text('A_next max = %.2f' % A_next.max())\n",
        "      axes[r+1,c].set_axis_off()\n",
        "      #pd.Series(A_next).plot(ax=axes[r+1,c])\n",
        "      r+=1\n",
        "\n",
        "  A_next *= (A_next.size)**-1\n",
        "  #pd.Series(A).plot(ax=axes[r+1,c])\n",
        "  axes[r+1,c].imshow(A,cmap='gray')\n",
        "  axes[r+1,c].set_axis_off()\n"
      ],
      "execution_count": 744,
      "outputs": [
        {
          "output_type": "stream",
          "text": [
            "A_shifted_norm_ max -47.03 | A_shifted_norm_ min -112.50\n",
            "i = 0, ll = -2530.48, A_next max = 4.72\n",
            "i = 5, ll = -15201.58, A_next max = 26.75\n",
            "i = 10, ll = -27838.74, A_next max = 48.70\n",
            "i = 15, ll = -40434.57, A_next max = 66.78\n",
            "i = 20, ll = -53157.04, A_next max = 83.44\n",
            "i = 25, ll = -65455.18, A_next max = 103.62\n",
            "i = 30, ll = -77852.64, A_next max = 120.46\n",
            "i = 35, ll = -90085.73, A_next max = 141.58\n",
            "i = 40, ll = -102940.48, A_next max = 159.43\n",
            "i = 45, ll = -115030.42, A_next max = 180.10\n",
            "A_shifted_norm_ max -47.03 | A_shifted_norm_ min -112.50\n",
            "i = 0, ll = -2530.48, A_next max = 4.72\n",
            "i = 5, ll = -15201.58, A_next max = 26.75\n",
            "i = 10, ll = -27838.74, A_next max = 48.70\n",
            "i = 15, ll = -40434.57, A_next max = 66.78\n",
            "i = 20, ll = -53157.04, A_next max = 83.44\n",
            "i = 25, ll = -65455.18, A_next max = 103.62\n",
            "i = 30, ll = -77852.64, A_next max = 120.46\n",
            "i = 35, ll = -90085.73, A_next max = 141.58\n",
            "i = 40, ll = -102940.48, A_next max = 159.43\n",
            "i = 45, ll = -115030.42, A_next max = 180.10\n",
            "A_shifted_norm_ max -47.03 | A_shifted_norm_ min -112.50\n",
            "i = 0, ll = -2530.48, A_next max = 4.72\n",
            "i = 5, ll = -15201.58, A_next max = 26.75\n",
            "i = 10, ll = -27838.74, A_next max = 48.70\n",
            "i = 15, ll = -40434.57, A_next max = 66.78\n",
            "i = 20, ll = -53157.04, A_next max = 83.44\n",
            "i = 25, ll = -65455.18, A_next max = 103.62\n",
            "i = 30, ll = -77852.64, A_next max = 120.46\n",
            "i = 35, ll = -90085.73, A_next max = 141.58\n",
            "i = 40, ll = -102940.48, A_next max = 159.43\n",
            "i = 45, ll = -115030.42, A_next max = 180.10\n"
          ],
          "name": "stdout"
        },
        {
          "output_type": "display_data",
          "data": {
            "image/png": "[encoded data removed]",
            "text/plain": [
              "<Figure size 576x1152 with 36 Axes>"
            ]
          },
          "metadata": {
            "tags": [],
            "needs_background": "light"
          }
        }
      ]
    },
    {
      "cell_type": "code",
      "metadata": {
        "id": "jJ6o9JLdZCNy",
        "colab_type": "code",
        "outputId": "9e0017ae-a5ab-4546-a7cf-8cbeb1276f44",
        "colab": {
          "base_uri": "https://localhost:8080/",
          "height": 441
        }
      },
      "source": [
        "with sns.axes_style(\"white\"):\n",
        "    sns.jointplot(x=best_alignments[:,2], y=true_shifts[:,1], kind=\"kde\", color=\"k\");"
      ],
      "execution_count": 752,
      "outputs": [
        {
          "output_type": "display_data",
          "data": {
            "image/png": "[encoded data removed]",
            "text/plain": [
              "<Figure size 432x432 with 3 Axes>"
            ]
          },
          "metadata": {
            "tags": []
          }
        }
      ]
    },
    {
      "cell_type": "code",
      "metadata": {
        "id": "1rdBQi6BECHl",
        "colab_type": "code",
        "colab": {
          "base_uri": "https://localhost:8080/",
          "height": 441
        },
        "outputId": "9461749f-97b8-456c-9bef-be747ef41c7f"
      },
      "source": [
        "with sns.axes_style(\"white\"):\n",
        "    sns.jointplot(x=best_alignments[:,1], y=true_shifts[:,0], kind=\"kde\", color=\"k\");"
      ],
      "execution_count": 753,
      "outputs": [
        {
          "output_type": "display_data",
          "data": {
            "image/png": "[encoded data removed]",
            "text/plain": [
              "<Figure size 432x432 with 3 Axes>"
            ]
          },
          "metadata": {
            "tags": []
          }
        }
      ]
    },
    {
      "cell_type": "code",
      "metadata": {
        "id": "FhaKvL9JaajS",
        "colab_type": "code",
        "colab": {
          "base_uri": "https://localhost:8080/",
          "height": 282
        },
        "outputId": "68c8ae16-88c7-4035-9824-6e6feb2d7349"
      },
      "source": [
        "plt.scatter(best_alignments[:,0],true_angles[:])"
      ],
      "execution_count": 747,
      "outputs": [
        {
          "output_type": "execute_result",
          "data": {
            "text/plain": [
              "<matplotlib.collections.PathCollection at 0x7f26c29744e0>"
            ]
          },
          "metadata": {
            "tags": []
          },
          "execution_count": 747
        },
        {
          "output_type": "display_data",
          "data": {
            "image/png": "[encoded data removed]",
            "text/plain": [
              "<Figure size 432x288 with 1 Axes>"
            ]
          },
          "metadata": {
            "tags": [],
            "needs_background": "light"
          }
        }
      ]
    },
    {
      "cell_type": "markdown",
      "metadata": {
        "id": "17wsLV9SImlZ",
        "colab_type": "text"
      },
      "source": [
        "# Performance limit\n",
        "- the gridding of the angles, and the noise prevents perfect recapitulation of the data. \n",
        "- in the limit of perfect shift estimate, and nearest angle on grid point estimate"
      ]
    },
    {
      "cell_type": "code",
      "metadata": {
        "id": "0T-hPjxHD_N0",
        "colab_type": "code",
        "colab": {
          "base_uri": "https://localhost:8080/",
          "height": 34
        },
        "outputId": "dcf1c631-4318-4e8b-9ea7-1c0bc71a01f6"
      },
      "source": [
        "def myround(x, base=3):\n",
        "    return base * round(float(x) / base)\n"
      ],
      "execution_count": 702,
      "outputs": [
        {
          "output_type": "execute_result",
          "data": {
            "text/plain": [
              "3"
            ]
          },
          "metadata": {
            "tags": []
          },
          "execution_count": 702
        }
      ]
    },
    {
      "cell_type": "code",
      "metadata": {
        "id": "TVB6TTdcA6oB",
        "colab_type": "code",
        "colab": {
          "base_uri": "https://localhost:8080/",
          "height": 901
        },
        "outputId": "8ec04305-74d0-4417-a710-eaac1f3422a6"
      },
      "source": [
        "fig, axes = plt.subplots(4, 2,figsize=(8,16))\n",
        "x_deshifted_derot = np.zeros_like(X[0])\n",
        "r=0\n",
        "for true_idx in range(M):\n",
        "  x = X[true_idx]\n",
        "  #x_denoised = make_fake(A,sigma=0,shift=true_shifts[true_idx],angle=true_angles[true_idx])\n",
        "  x_deshifted = make_fake(x,sigma=0,shift=-true_shifts[true_idx],angle=0)\n",
        "  x_deshifted_derot += make_fake(x_deshifted,sigma=0,shift=(0,0),angle=-myround(true_angles[true_idx],base=deg_step)) \n",
        "\n",
        "  if true_idx < 3:\n",
        "    axes[r,0].imshow(A,cmap='gray') ; axes[r,0].set_axis_off()\n",
        "    axes[r,1].imshow(x_deshifted_derot,cmap='gray') ; axes[r,1].set_axis_off()\n",
        "    r+=1\n",
        "axes[r,0].imshow(A,cmap='gray') ; axes[r,0].set_axis_off()\n",
        "axes[r,1].imshow(x_deshifted_derot,cmap='gray') ; axes[r,1].set_axis_off()"
      ],
      "execution_count": 749,
      "outputs": [
        {
          "output_type": "display_data",
          "data": {
            "image/png": "[encoded data removed]",
            "text/plain": [
              "<Figure size 576x1152 with 8 Axes>"
            ]
          },
          "metadata": {
            "tags": [],
            "needs_background": "light"
          }
        }
      ]
    }
  ]
}