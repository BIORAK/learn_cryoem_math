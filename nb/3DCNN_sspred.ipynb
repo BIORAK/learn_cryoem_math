{
  "nbformat": 4,
  "nbformat_minor": 0,
  "metadata": {
    "colab": {
      "name": "3DCNN_sspred.ipynb",
      "provenance": [],
      "collapsed_sections": [
        "T8ejAsmiqhHz",
        "InTfv9Cpn75y",
        "CSRqKmuOGEZG",
        "f1oPv46bR4Fy",
        "4XbmsrWfFnoL",
        "6BYPiu86VY0q"
      ],
      "toc_visible": true,
      "machine_shape": "hm",
      "authorship_tag": "ABX9TyNeRjVmcwcEhKa+KAZDVp9O",
      "include_colab_link": true
    },
    "kernelspec": {
      "name": "python3",
      "display_name": "Python 3"
    },
    "accelerator": "GPU"
  },
  "cells": [
    {
      "cell_type": "markdown",
      "metadata": {
        "id": "view-in-github",
        "colab_type": "text"
      },
      "source": [
        "<a href=\"https://colab.research.google.com/github/geoffwoollard/learn_cryoem_math/blob/master/nb/3DCNN_sspred.ipynb\" target=\"_parent\"><img src=\"https://colab.research.google.com/assets/colab-badge.svg\" alt=\"Open In Colab\"/></a>"
      ]
    },
    {
      "cell_type": "markdown",
      "metadata": {
        "id": "nryfFpi-mi_p"
      },
      "source": [
        "# Goal\n",
        "Demo 3D CNN for secondary structure prediction\n",
        "a la Haruspex from Andrea Thorn's group"
      ]
    },
    {
      "cell_type": "markdown",
      "metadata": {
        "id": "tHqs-FeQrCU5"
      },
      "source": [
        "# Setup"
      ]
    },
    {
      "cell_type": "code",
      "metadata": {
        "id": "3O6ALhi7Fp3G"
      },
      "source": [
        "from google.colab import drive\n",
        "drive.mount('/content/drive')"
      ],
      "execution_count": null,
      "outputs": []
    },
    {
      "cell_type": "code",
      "metadata": {
        "colab": {
          "base_uri": "https://localhost:8080/"
        },
        "id": "J5gfOXxcN155",
        "outputId": "1af1aca0-a84d-487d-e893-322d87490f35"
      },
      "source": [
        "!pip install mrcfile\n",
        "import mrcfile\n"
      ],
      "execution_count": 3,
      "outputs": [
        {
          "output_type": "stream",
          "text": [
            "Collecting mrcfile\n",
            "\u001b[?25l  Downloading https://files.pythonhosted.org/packages/79/aa/52aa135830f66259783207021849a8234551fc5e3db15f685201cb3d1bfa/mrcfile-1.1.2-py2.py3-none-any.whl (41kB)\n",
            "\r\u001b[K     |███████▉                        | 10kB 19.0MB/s eta 0:00:01\r\u001b[K     |███████████████▋                | 20kB 25.5MB/s eta 0:00:01\r\u001b[K     |███████████████████████▌        | 30kB 26.9MB/s eta 0:00:01\r\u001b[K     |███████████████████████████████▎| 40kB 19.2MB/s eta 0:00:01\r\u001b[K     |████████████████████████████████| 51kB 6.0MB/s \n",
            "\u001b[?25hRequirement already satisfied: numpy>=1.11.0 in /usr/local/lib/python3.6/dist-packages (from mrcfile) (1.18.5)\n",
            "Installing collected packages: mrcfile\n",
            "Successfully installed mrcfile-1.1.2\n"
          ],
          "name": "stdout"
        }
      ]
    },
    {
      "cell_type": "code",
      "metadata": {
        "id": "OFoyLLCYxW9C"
      },
      "source": [
        "!pip install biopandas  \n",
        "#!pip install biopython\n",
        "!pip install DSSPparser\n",
        "from DSSPparser import parseDSSP\n",
        "from biopandas.pdb import PandasPdb\n"
      ],
      "execution_count": null,
      "outputs": []
    },
    {
      "cell_type": "code",
      "metadata": {
        "id": "axZ3Rw6IrbSN"
      },
      "source": [
        "import os\n",
        "import numpy as np\n",
        "import pandas as pd\n",
        "from numba import jit\n",
        "import matplotlib.pyplot as plt\n",
        "def doplt(arr2d,cmap='gray'):\n",
        "  if cmap is None:\n",
        "    plt.imshow(arr2d)\n",
        "  else:\n",
        "    plt.imshow(arr2d,cmap=cmap)"
      ],
      "execution_count": 4,
      "outputs": []
    },
    {
      "cell_type": "markdown",
      "metadata": {
        "id": "uwxlwHXrPF7b"
      },
      "source": [
        "## GPU"
      ]
    },
    {
      "cell_type": "code",
      "metadata": {
        "colab": {
          "base_uri": "https://localhost:8080/"
        },
        "id": "iGi57772PGhV",
        "outputId": "55b3928e-1e60-4554-b2d7-01313695240b"
      },
      "source": [
        "from tensorflow.python.client import device_lib\n",
        "print(device_lib.list_local_devices())"
      ],
      "execution_count": 5,
      "outputs": [
        {
          "output_type": "stream",
          "text": [
            "[name: \"/device:CPU:0\"\n",
            "device_type: \"CPU\"\n",
            "memory_limit: 268435456\n",
            "locality {\n",
            "}\n",
            "incarnation: 2127810192974182286\n",
            ", name: \"/device:XLA_CPU:0\"\n",
            "device_type: \"XLA_CPU\"\n",
            "memory_limit: 17179869184\n",
            "locality {\n",
            "}\n",
            "incarnation: 17878963939406706440\n",
            "physical_device_desc: \"device: XLA_CPU device\"\n",
            ", name: \"/device:XLA_GPU:0\"\n",
            "device_type: \"XLA_GPU\"\n",
            "memory_limit: 17179869184\n",
            "locality {\n",
            "}\n",
            "incarnation: 4587370116517490665\n",
            "physical_device_desc: \"device: XLA_GPU device\"\n",
            ", name: \"/device:GPU:0\"\n",
            "device_type: \"GPU\"\n",
            "memory_limit: 15473775744\n",
            "locality {\n",
            "  bus_id: 1\n",
            "  links {\n",
            "  }\n",
            "}\n",
            "incarnation: 9520480524764045530\n",
            "physical_device_desc: \"device: 0, name: Tesla V100-SXM2-16GB, pci bus id: 0000:00:04.0, compute capability: 7.0\"\n",
            "]\n"
          ],
          "name": "stdout"
        }
      ]
    },
    {
      "cell_type": "markdown",
      "metadata": {
        "id": "T8ejAsmiqhHz"
      },
      "source": [
        "# Data\n",
        "|notes|EMD|PDB|\n",
        "|-|-|-|\n",
        "|IP3R, Ca2+ bound by R. Hite|EMD-7988|6DR2|\n",
        "|TRPV1 from the [2016 map challenge](https://challenges.emdataresource.org/?q=map-challenge-targets)|EMD-5778|3j5p|\n"
      ]
    },
    {
      "cell_type": "code",
      "metadata": {
        "id": "oqO_sRKDq1wk",
        "colab": {
          "base_uri": "https://localhost:8080/"
        },
        "outputId": "061857a4-85a6-4e7c-a6e0-29326cf5e666"
      },
      "source": [
        "EMDB = '5778' #@param {type:\"string\"}\n",
        "Filename = \"emd_\"+EMDB+\".map.gz\"\n",
        "ftp_string = \"ftp://ftp.ebi.ac.uk/pub/databases/emdb/structures/EMD-\"+EMDB+\"/map/emd_\"+EMDB+\".map.gz\"\n",
        "!wget $ftp_string"
      ],
      "execution_count": null,
      "outputs": [
        {
          "output_type": "stream",
          "text": [
            "--2020-11-12 07:26:05--  ftp://ftp.ebi.ac.uk/pub/databases/emdb/structures/EMD-5778/map/emd_5778.map.gz\n",
            "           => ‘emd_5778.map.gz.2’\n",
            "Resolving ftp.ebi.ac.uk (ftp.ebi.ac.uk)... 193.62.197.74\n",
            "Connecting to ftp.ebi.ac.uk (ftp.ebi.ac.uk)|193.62.197.74|:21... connected.\n",
            "Logging in as anonymous ... Logged in!\n",
            "==> SYST ... done.    ==> PWD ... done.\n",
            "==> TYPE I ... done.  ==> CWD (1) /pub/databases/emdb/structures/EMD-5778/map ... done.\n",
            "==> SIZE emd_5778.map.gz ... 48375630\n",
            "==> PASV ... done.    ==> RETR emd_5778.map.gz ... done.\n",
            "Length: 48375630 (46M) (unauthoritative)\n",
            "\n",
            "emd_5778.map.gz.2   100%[===================>]  46.13M  9.02MB/s    in 5.6s    \n",
            "\n",
            "2020-11-12 07:26:14 (8.21 MB/s) - ‘emd_5778.map.gz.2’ saved [48375630]\n",
            "\n"
          ],
          "name": "stdout"
        }
      ]
    },
    {
      "cell_type": "code",
      "metadata": {
        "id": "bLMQyvcEuewz",
        "colab": {
          "base_uri": "https://localhost:8080/"
        },
        "outputId": "5cf509e7-fd69-4232-bdb1-701cbb54caa6"
      },
      "source": [
        "pdbid = '3j5p' #@param {type:\"string\"}\n",
        "pdb_fname = pdbid+\".pdb\"\n",
        "cif_fname = pdbid+\".cif\"\n",
        "string = \"https://files.rcsb.org/download/\"+pdb_fname\n",
        "!wget $string\n",
        "string = \"https://files.rcsb.org/download/\"+cif_fname\n",
        "!wget $string"
      ],
      "execution_count": null,
      "outputs": [
        {
          "output_type": "stream",
          "text": [
            "--2020-11-12 07:26:14--  https://files.rcsb.org/download/3j5p.pdb\n",
            "Resolving files.rcsb.org (files.rcsb.org)... 132.249.210.142\n",
            "Connecting to files.rcsb.org (files.rcsb.org)|132.249.210.142|:443... connected.\n",
            "HTTP request sent, awaiting response... 200 OK\n",
            "Length: unspecified [application/octet-stream]\n",
            "Saving to: ‘3j5p.pdb.2’\n",
            "\n",
            "3j5p.pdb.2              [    <=>             ]   1.50M  1.92MB/s    in 0.8s    \n",
            "\n",
            "2020-11-12 07:26:16 (1.92 MB/s) - ‘3j5p.pdb.2’ saved [1578771]\n",
            "\n",
            "--2020-11-12 07:26:16--  https://files.rcsb.org/download/3j5p.cif\n",
            "Resolving files.rcsb.org (files.rcsb.org)... 132.249.210.142\n",
            "Connecting to files.rcsb.org (files.rcsb.org)|132.249.210.142|:443... connected.\n",
            "HTTP request sent, awaiting response... 200 OK\n",
            "Length: unspecified [application/octet-stream]\n",
            "Saving to: ‘3j5p.cif.2’\n",
            "\n",
            "3j5p.cif.2              [    <=>             ]   1.71M  1.88MB/s    in 0.9s    \n",
            "\n",
            "2020-11-12 07:26:17 (1.88 MB/s) - ‘3j5p.cif.2’ saved [1793565]\n",
            "\n"
          ],
          "name": "stdout"
        }
      ]
    },
    {
      "cell_type": "markdown",
      "metadata": {
        "id": "InTfv9Cpn75y"
      },
      "source": [
        "## read in model"
      ]
    },
    {
      "cell_type": "markdown",
      "metadata": {
        "id": "CSRqKmuOGEZG"
      },
      "source": [
        "## biopandas"
      ]
    },
    {
      "cell_type": "code",
      "metadata": {
        "id": "dhWANoznGHo-",
        "colab": {
          "base_uri": "https://localhost:8080/",
          "height": 439
        },
        "outputId": "569112a4-0b12-4ff2-ac5e-0630b6a81146"
      },
      "source": [
        "ppdb = PandasPdb().read_pdb(pdb_fname) #ppdb = PandasPdb().fetch_pdb('3j5p')\n",
        "ppdb.df['ATOM']"
      ],
      "execution_count": null,
      "outputs": [
        {
          "output_type": "execute_result",
          "data": {
            "text/html": [
              "<div>\n",
              "<style scoped>\n",
              "    .dataframe tbody tr th:only-of-type {\n",
              "        vertical-align: middle;\n",
              "    }\n",
              "\n",
              "    .dataframe tbody tr th {\n",
              "        vertical-align: top;\n",
              "    }\n",
              "\n",
              "    .dataframe thead th {\n",
              "        text-align: right;\n",
              "    }\n",
              "</style>\n",
              "<table border=\"1\" class=\"dataframe\">\n",
              "  <thead>\n",
              "    <tr style=\"text-align: right;\">\n",
              "      <th></th>\n",
              "      <th>record_name</th>\n",
              "      <th>atom_number</th>\n",
              "      <th>blank_1</th>\n",
              "      <th>atom_name</th>\n",
              "      <th>alt_loc</th>\n",
              "      <th>residue_name</th>\n",
              "      <th>blank_2</th>\n",
              "      <th>chain_id</th>\n",
              "      <th>residue_number</th>\n",
              "      <th>insertion</th>\n",
              "      <th>blank_3</th>\n",
              "      <th>x_coord</th>\n",
              "      <th>y_coord</th>\n",
              "      <th>z_coord</th>\n",
              "      <th>occupancy</th>\n",
              "      <th>b_factor</th>\n",
              "      <th>blank_4</th>\n",
              "      <th>segment_id</th>\n",
              "      <th>element_symbol</th>\n",
              "      <th>charge</th>\n",
              "      <th>line_idx</th>\n",
              "    </tr>\n",
              "  </thead>\n",
              "  <tbody>\n",
              "    <tr>\n",
              "      <th>0</th>\n",
              "      <td>ATOM</td>\n",
              "      <td>1</td>\n",
              "      <td></td>\n",
              "      <td>N</td>\n",
              "      <td></td>\n",
              "      <td>LEU</td>\n",
              "      <td></td>\n",
              "      <td>B</td>\n",
              "      <td>111</td>\n",
              "      <td></td>\n",
              "      <td></td>\n",
              "      <td>-22.437</td>\n",
              "      <td>63.276</td>\n",
              "      <td>48.231</td>\n",
              "      <td>1.0</td>\n",
              "      <td>38.59</td>\n",
              "      <td></td>\n",
              "      <td></td>\n",
              "      <td>N</td>\n",
              "      <td>NaN</td>\n",
              "      <td>849</td>\n",
              "    </tr>\n",
              "    <tr>\n",
              "      <th>1</th>\n",
              "      <td>ATOM</td>\n",
              "      <td>2</td>\n",
              "      <td></td>\n",
              "      <td>CA</td>\n",
              "      <td></td>\n",
              "      <td>LEU</td>\n",
              "      <td></td>\n",
              "      <td>B</td>\n",
              "      <td>111</td>\n",
              "      <td></td>\n",
              "      <td></td>\n",
              "      <td>-22.866</td>\n",
              "      <td>63.139</td>\n",
              "      <td>46.796</td>\n",
              "      <td>1.0</td>\n",
              "      <td>38.96</td>\n",
              "      <td></td>\n",
              "      <td></td>\n",
              "      <td>C</td>\n",
              "      <td>NaN</td>\n",
              "      <td>850</td>\n",
              "    </tr>\n",
              "    <tr>\n",
              "      <th>2</th>\n",
              "      <td>ATOM</td>\n",
              "      <td>3</td>\n",
              "      <td></td>\n",
              "      <td>C</td>\n",
              "      <td></td>\n",
              "      <td>LEU</td>\n",
              "      <td></td>\n",
              "      <td>B</td>\n",
              "      <td>111</td>\n",
              "      <td></td>\n",
              "      <td></td>\n",
              "      <td>-22.155</td>\n",
              "      <td>62.012</td>\n",
              "      <td>46.022</td>\n",
              "      <td>1.0</td>\n",
              "      <td>39.03</td>\n",
              "      <td></td>\n",
              "      <td></td>\n",
              "      <td>C</td>\n",
              "      <td>NaN</td>\n",
              "      <td>851</td>\n",
              "    </tr>\n",
              "    <tr>\n",
              "      <th>3</th>\n",
              "      <td>ATOM</td>\n",
              "      <td>4</td>\n",
              "      <td></td>\n",
              "      <td>O</td>\n",
              "      <td></td>\n",
              "      <td>LEU</td>\n",
              "      <td></td>\n",
              "      <td>B</td>\n",
              "      <td>111</td>\n",
              "      <td></td>\n",
              "      <td></td>\n",
              "      <td>-21.022</td>\n",
              "      <td>61.639</td>\n",
              "      <td>46.348</td>\n",
              "      <td>1.0</td>\n",
              "      <td>38.95</td>\n",
              "      <td></td>\n",
              "      <td></td>\n",
              "      <td>O</td>\n",
              "      <td>NaN</td>\n",
              "      <td>852</td>\n",
              "    </tr>\n",
              "    <tr>\n",
              "      <th>4</th>\n",
              "      <td>ATOM</td>\n",
              "      <td>5</td>\n",
              "      <td></td>\n",
              "      <td>CB</td>\n",
              "      <td></td>\n",
              "      <td>LEU</td>\n",
              "      <td></td>\n",
              "      <td>B</td>\n",
              "      <td>111</td>\n",
              "      <td></td>\n",
              "      <td></td>\n",
              "      <td>-22.696</td>\n",
              "      <td>64.458</td>\n",
              "      <td>46.041</td>\n",
              "      <td>1.0</td>\n",
              "      <td>38.99</td>\n",
              "      <td></td>\n",
              "      <td></td>\n",
              "      <td>C</td>\n",
              "      <td>NaN</td>\n",
              "      <td>853</td>\n",
              "    </tr>\n",
              "    <tr>\n",
              "      <th>...</th>\n",
              "      <td>...</td>\n",
              "      <td>...</td>\n",
              "      <td>...</td>\n",
              "      <td>...</td>\n",
              "      <td>...</td>\n",
              "      <td>...</td>\n",
              "      <td>...</td>\n",
              "      <td>...</td>\n",
              "      <td>...</td>\n",
              "      <td>...</td>\n",
              "      <td>...</td>\n",
              "      <td>...</td>\n",
              "      <td>...</td>\n",
              "      <td>...</td>\n",
              "      <td>...</td>\n",
              "      <td>...</td>\n",
              "      <td>...</td>\n",
              "      <td>...</td>\n",
              "      <td>...</td>\n",
              "      <td>...</td>\n",
              "      <td>...</td>\n",
              "    </tr>\n",
              "    <tr>\n",
              "      <th>18631</th>\n",
              "      <td>ATOM</td>\n",
              "      <td>18635</td>\n",
              "      <td></td>\n",
              "      <td>N</td>\n",
              "      <td></td>\n",
              "      <td>UNK</td>\n",
              "      <td></td>\n",
              "      <td>D</td>\n",
              "      <td>762</td>\n",
              "      <td></td>\n",
              "      <td></td>\n",
              "      <td>-13.222</td>\n",
              "      <td>22.014</td>\n",
              "      <td>30.108</td>\n",
              "      <td>1.0</td>\n",
              "      <td>30.00</td>\n",
              "      <td></td>\n",
              "      <td></td>\n",
              "      <td>N</td>\n",
              "      <td>NaN</td>\n",
              "      <td>19483</td>\n",
              "    </tr>\n",
              "    <tr>\n",
              "      <th>18632</th>\n",
              "      <td>ATOM</td>\n",
              "      <td>18636</td>\n",
              "      <td></td>\n",
              "      <td>CA</td>\n",
              "      <td></td>\n",
              "      <td>UNK</td>\n",
              "      <td></td>\n",
              "      <td>D</td>\n",
              "      <td>762</td>\n",
              "      <td></td>\n",
              "      <td></td>\n",
              "      <td>-13.972</td>\n",
              "      <td>22.862</td>\n",
              "      <td>31.027</td>\n",
              "      <td>1.0</td>\n",
              "      <td>30.00</td>\n",
              "      <td></td>\n",
              "      <td></td>\n",
              "      <td>C</td>\n",
              "      <td>NaN</td>\n",
              "      <td>19484</td>\n",
              "    </tr>\n",
              "    <tr>\n",
              "      <th>18633</th>\n",
              "      <td>ATOM</td>\n",
              "      <td>18637</td>\n",
              "      <td></td>\n",
              "      <td>C</td>\n",
              "      <td></td>\n",
              "      <td>UNK</td>\n",
              "      <td></td>\n",
              "      <td>D</td>\n",
              "      <td>762</td>\n",
              "      <td></td>\n",
              "      <td></td>\n",
              "      <td>-15.346</td>\n",
              "      <td>22.274</td>\n",
              "      <td>31.335</td>\n",
              "      <td>1.0</td>\n",
              "      <td>30.00</td>\n",
              "      <td></td>\n",
              "      <td></td>\n",
              "      <td>C</td>\n",
              "      <td>NaN</td>\n",
              "      <td>19485</td>\n",
              "    </tr>\n",
              "    <tr>\n",
              "      <th>18634</th>\n",
              "      <td>ATOM</td>\n",
              "      <td>18638</td>\n",
              "      <td></td>\n",
              "      <td>O</td>\n",
              "      <td></td>\n",
              "      <td>UNK</td>\n",
              "      <td></td>\n",
              "      <td>D</td>\n",
              "      <td>762</td>\n",
              "      <td></td>\n",
              "      <td></td>\n",
              "      <td>-15.701</td>\n",
              "      <td>22.081</td>\n",
              "      <td>32.499</td>\n",
              "      <td>1.0</td>\n",
              "      <td>30.00</td>\n",
              "      <td></td>\n",
              "      <td></td>\n",
              "      <td>O</td>\n",
              "      <td>NaN</td>\n",
              "      <td>19486</td>\n",
              "    </tr>\n",
              "    <tr>\n",
              "      <th>18635</th>\n",
              "      <td>ATOM</td>\n",
              "      <td>18639</td>\n",
              "      <td></td>\n",
              "      <td>CB</td>\n",
              "      <td></td>\n",
              "      <td>UNK</td>\n",
              "      <td></td>\n",
              "      <td>D</td>\n",
              "      <td>762</td>\n",
              "      <td></td>\n",
              "      <td></td>\n",
              "      <td>-14.109</td>\n",
              "      <td>24.268</td>\n",
              "      <td>30.460</td>\n",
              "      <td>1.0</td>\n",
              "      <td>30.00</td>\n",
              "      <td></td>\n",
              "      <td></td>\n",
              "      <td>C</td>\n",
              "      <td>NaN</td>\n",
              "      <td>19487</td>\n",
              "    </tr>\n",
              "  </tbody>\n",
              "</table>\n",
              "<p>18636 rows × 21 columns</p>\n",
              "</div>"
            ],
            "text/plain": [
              "      record_name  atom_number blank_1  ... element_symbol charge line_idx\n",
              "0            ATOM            1          ...              N    NaN      849\n",
              "1            ATOM            2          ...              C    NaN      850\n",
              "2            ATOM            3          ...              C    NaN      851\n",
              "3            ATOM            4          ...              O    NaN      852\n",
              "4            ATOM            5          ...              C    NaN      853\n",
              "...           ...          ...     ...  ...            ...    ...      ...\n",
              "18631        ATOM        18635          ...              N    NaN    19483\n",
              "18632        ATOM        18636          ...              C    NaN    19484\n",
              "18633        ATOM        18637          ...              C    NaN    19485\n",
              "18634        ATOM        18638          ...              O    NaN    19486\n",
              "18635        ATOM        18639          ...              C    NaN    19487\n",
              "\n",
              "[18636 rows x 21 columns]"
            ]
          },
          "metadata": {
            "tags": []
          },
          "execution_count": 7
        }
      ]
    },
    {
      "cell_type": "markdown",
      "metadata": {
        "id": "f1oPv46bR4Fy"
      },
      "source": [
        "## make synthetic map"
      ]
    },
    {
      "cell_type": "code",
      "metadata": {
        "id": "mfwJ4mHqPq-g",
        "colab": {
          "base_uri": "https://localhost:8080/",
          "height": 224
        },
        "outputId": "11eddee8-ddf5-40fd-c875-f4dfe7fbde31"
      },
      "source": [
        "df = ppdb.df['ATOM']\n",
        "df.head()"
      ],
      "execution_count": null,
      "outputs": [
        {
          "output_type": "execute_result",
          "data": {
            "text/html": [
              "<div>\n",
              "<style scoped>\n",
              "    .dataframe tbody tr th:only-of-type {\n",
              "        vertical-align: middle;\n",
              "    }\n",
              "\n",
              "    .dataframe tbody tr th {\n",
              "        vertical-align: top;\n",
              "    }\n",
              "\n",
              "    .dataframe thead th {\n",
              "        text-align: right;\n",
              "    }\n",
              "</style>\n",
              "<table border=\"1\" class=\"dataframe\">\n",
              "  <thead>\n",
              "    <tr style=\"text-align: right;\">\n",
              "      <th></th>\n",
              "      <th>record_name</th>\n",
              "      <th>atom_number</th>\n",
              "      <th>blank_1</th>\n",
              "      <th>atom_name</th>\n",
              "      <th>alt_loc</th>\n",
              "      <th>residue_name</th>\n",
              "      <th>blank_2</th>\n",
              "      <th>chain_id</th>\n",
              "      <th>residue_number</th>\n",
              "      <th>insertion</th>\n",
              "      <th>blank_3</th>\n",
              "      <th>x_coord</th>\n",
              "      <th>y_coord</th>\n",
              "      <th>z_coord</th>\n",
              "      <th>occupancy</th>\n",
              "      <th>b_factor</th>\n",
              "      <th>blank_4</th>\n",
              "      <th>segment_id</th>\n",
              "      <th>element_symbol</th>\n",
              "      <th>charge</th>\n",
              "      <th>line_idx</th>\n",
              "    </tr>\n",
              "  </thead>\n",
              "  <tbody>\n",
              "    <tr>\n",
              "      <th>0</th>\n",
              "      <td>ATOM</td>\n",
              "      <td>1</td>\n",
              "      <td></td>\n",
              "      <td>N</td>\n",
              "      <td></td>\n",
              "      <td>LEU</td>\n",
              "      <td></td>\n",
              "      <td>B</td>\n",
              "      <td>111</td>\n",
              "      <td></td>\n",
              "      <td></td>\n",
              "      <td>-22.437</td>\n",
              "      <td>63.276</td>\n",
              "      <td>48.231</td>\n",
              "      <td>1.0</td>\n",
              "      <td>38.59</td>\n",
              "      <td></td>\n",
              "      <td></td>\n",
              "      <td>N</td>\n",
              "      <td>NaN</td>\n",
              "      <td>849</td>\n",
              "    </tr>\n",
              "    <tr>\n",
              "      <th>1</th>\n",
              "      <td>ATOM</td>\n",
              "      <td>2</td>\n",
              "      <td></td>\n",
              "      <td>CA</td>\n",
              "      <td></td>\n",
              "      <td>LEU</td>\n",
              "      <td></td>\n",
              "      <td>B</td>\n",
              "      <td>111</td>\n",
              "      <td></td>\n",
              "      <td></td>\n",
              "      <td>-22.866</td>\n",
              "      <td>63.139</td>\n",
              "      <td>46.796</td>\n",
              "      <td>1.0</td>\n",
              "      <td>38.96</td>\n",
              "      <td></td>\n",
              "      <td></td>\n",
              "      <td>C</td>\n",
              "      <td>NaN</td>\n",
              "      <td>850</td>\n",
              "    </tr>\n",
              "    <tr>\n",
              "      <th>2</th>\n",
              "      <td>ATOM</td>\n",
              "      <td>3</td>\n",
              "      <td></td>\n",
              "      <td>C</td>\n",
              "      <td></td>\n",
              "      <td>LEU</td>\n",
              "      <td></td>\n",
              "      <td>B</td>\n",
              "      <td>111</td>\n",
              "      <td></td>\n",
              "      <td></td>\n",
              "      <td>-22.155</td>\n",
              "      <td>62.012</td>\n",
              "      <td>46.022</td>\n",
              "      <td>1.0</td>\n",
              "      <td>39.03</td>\n",
              "      <td></td>\n",
              "      <td></td>\n",
              "      <td>C</td>\n",
              "      <td>NaN</td>\n",
              "      <td>851</td>\n",
              "    </tr>\n",
              "    <tr>\n",
              "      <th>3</th>\n",
              "      <td>ATOM</td>\n",
              "      <td>4</td>\n",
              "      <td></td>\n",
              "      <td>O</td>\n",
              "      <td></td>\n",
              "      <td>LEU</td>\n",
              "      <td></td>\n",
              "      <td>B</td>\n",
              "      <td>111</td>\n",
              "      <td></td>\n",
              "      <td></td>\n",
              "      <td>-21.022</td>\n",
              "      <td>61.639</td>\n",
              "      <td>46.348</td>\n",
              "      <td>1.0</td>\n",
              "      <td>38.95</td>\n",
              "      <td></td>\n",
              "      <td></td>\n",
              "      <td>O</td>\n",
              "      <td>NaN</td>\n",
              "      <td>852</td>\n",
              "    </tr>\n",
              "    <tr>\n",
              "      <th>4</th>\n",
              "      <td>ATOM</td>\n",
              "      <td>5</td>\n",
              "      <td></td>\n",
              "      <td>CB</td>\n",
              "      <td></td>\n",
              "      <td>LEU</td>\n",
              "      <td></td>\n",
              "      <td>B</td>\n",
              "      <td>111</td>\n",
              "      <td></td>\n",
              "      <td></td>\n",
              "      <td>-22.696</td>\n",
              "      <td>64.458</td>\n",
              "      <td>46.041</td>\n",
              "      <td>1.0</td>\n",
              "      <td>38.99</td>\n",
              "      <td></td>\n",
              "      <td></td>\n",
              "      <td>C</td>\n",
              "      <td>NaN</td>\n",
              "      <td>853</td>\n",
              "    </tr>\n",
              "  </tbody>\n",
              "</table>\n",
              "</div>"
            ],
            "text/plain": [
              "  record_name  atom_number blank_1  ... element_symbol charge line_idx\n",
              "0        ATOM            1          ...              N    NaN      849\n",
              "1        ATOM            2          ...              C    NaN      850\n",
              "2        ATOM            3          ...              C    NaN      851\n",
              "3        ATOM            4          ...              O    NaN      852\n",
              "4        ATOM            5          ...              C    NaN      853\n",
              "\n",
              "[5 rows x 21 columns]"
            ]
          },
          "metadata": {
            "tags": []
          },
          "execution_count": 66
        }
      ]
    },
    {
      "cell_type": "code",
      "metadata": {
        "id": "KFqfUsSISFIJ"
      },
      "source": [
        "@jit(nopython=True,parallel=False)\n",
        "def make_synthetic_map(xyz_coords,r_min,pad,N,psize_A,s2):\n",
        "  synthetic_map = np.zeros((N,N,N))\n",
        "  for i in range(N):\n",
        "    for j in range(N):\n",
        "      for k in range(N):\n",
        "        mu = psize_A*np.array([i,j,k]) + r_min - pad # convert from index to coords\n",
        "        synthetic_map[i,j,k] = np.exp(-((xyz_coords - mu)**2/(2*s2)).sum(1)).sum()\n",
        "  return(synthetic_map)\n"
      ],
      "execution_count": null,
      "outputs": []
    },
    {
      "cell_type": "code",
      "metadata": {
        "id": "u7ND3XHSKWMG",
        "colab": {
          "base_uri": "https://localhost:8080/"
        },
        "outputId": "7196a9a2-7f68-456d-97dc-d61943ff3e1f"
      },
      "source": [
        "rs = df[['x_coord','y_coord','z_coord']]\n",
        "r_min =  rs.min().values\n",
        "r_min_max = rs.max() - r_min\n",
        "\n",
        "pad = 20 # in A\n",
        "psize_A=1\n",
        "N = int((np.ceil(r_min_max).max() + pad*2)/psize_A)\n",
        "xyz_coords = df[['x_coord','y_coord','z_coord']].values\n",
        "\n",
        "N"
      ],
      "execution_count": null,
      "outputs": [
        {
          "output_type": "execute_result",
          "data": {
            "text/plain": [
              "179"
            ]
          },
          "metadata": {
            "tags": []
          },
          "execution_count": 157
        }
      ]
    },
    {
      "cell_type": "code",
      "metadata": {
        "id": "M-pahPIrOz6l",
        "colab": {
          "base_uri": "https://localhost:8080/"
        },
        "outputId": "67e57dbd-9a12-402c-9fa1-832dd6a6e6a8"
      },
      "source": [
        "%%time\n",
        "s2=1\n",
        "synthetic_map = make_synthetic_map(xyz_coords,r_min,pad,N,psize_A,s2)"
      ],
      "execution_count": null,
      "outputs": [
        {
          "output_type": "stream",
          "text": [
            "CPU times: user 47min 37s, sys: 24.7 s, total: 48min 2s\n",
            "Wall time: 47min 56s\n"
          ],
          "name": "stdout"
        }
      ]
    },
    {
      "cell_type": "markdown",
      "metadata": {
        "id": "4XbmsrWfFnoL"
      },
      "source": [
        "## dssp"
      ]
    },
    {
      "cell_type": "code",
      "metadata": {
        "id": "NovY1x3J7a5-",
        "colab": {
          "base_uri": "https://localhost:8080/",
          "height": 131
        },
        "outputId": "650b1fd1-0fbc-4b66-9a13-c8f64e77867b"
      },
      "source": [
        "parser = parseDSSP('/content/drive/My Drive/mbp/4hel.dssp')\n",
        "parser.parse()\n",
        "pddict = parser.dictTodataframe()\n",
        "pddict.head(2)"
      ],
      "execution_count": null,
      "outputs": [
        {
          "output_type": "execute_result",
          "data": {
            "text/html": [
              "<div>\n",
              "<style scoped>\n",
              "    .dataframe tbody tr th:only-of-type {\n",
              "        vertical-align: middle;\n",
              "    }\n",
              "\n",
              "    .dataframe tbody tr th {\n",
              "        vertical-align: top;\n",
              "    }\n",
              "\n",
              "    .dataframe thead th {\n",
              "        text-align: right;\n",
              "    }\n",
              "</style>\n",
              "<table border=\"1\" class=\"dataframe\">\n",
              "  <thead>\n",
              "    <tr style=\"text-align: right;\">\n",
              "      <th></th>\n",
              "      <th>resnum</th>\n",
              "      <th>inscode</th>\n",
              "      <th>chain</th>\n",
              "      <th>aa</th>\n",
              "      <th>struct</th>\n",
              "      <th>structdetails</th>\n",
              "      <th>bp1</th>\n",
              "      <th>bp2</th>\n",
              "      <th>acc</th>\n",
              "      <th>h_nho1</th>\n",
              "      <th>h_ohn1</th>\n",
              "      <th>h_nho2</th>\n",
              "      <th>h_ohn2</th>\n",
              "      <th>tco</th>\n",
              "      <th>kappa</th>\n",
              "      <th>alpha</th>\n",
              "      <th>phi</th>\n",
              "      <th>psi</th>\n",
              "      <th>xca</th>\n",
              "      <th>yca</th>\n",
              "      <th>zca</th>\n",
              "      <th>rcsb_given_chain</th>\n",
              "      <th>author_given_chain</th>\n",
              "    </tr>\n",
              "  </thead>\n",
              "  <tbody>\n",
              "    <tr>\n",
              "      <th>0</th>\n",
              "      <td>1</td>\n",
              "      <td>2</td>\n",
              "      <td>A</td>\n",
              "      <td>A</td>\n",
              "      <td></td>\n",
              "      <td></td>\n",
              "      <td>0</td>\n",
              "      <td>0</td>\n",
              "      <td>84</td>\n",
              "      <td>0, 0.0</td>\n",
              "      <td>3215,-0.1</td>\n",
              "      <td>0, 0.0</td>\n",
              "      <td>3217,-0.1</td>\n",
              "      <td>0.000</td>\n",
              "      <td>360.0</td>\n",
              "      <td>360.0</td>\n",
              "      <td>360.0</td>\n",
              "      <td>155.7</td>\n",
              "      <td>-36.7</td>\n",
              "      <td>12.5</td>\n",
              "      <td>-72.2</td>\n",
              "      <td>A</td>\n",
              "      <td>A          1          2          0          0 ...</td>\n",
              "    </tr>\n",
              "    <tr>\n",
              "      <th>1</th>\n",
              "      <td>2</td>\n",
              "      <td>3</td>\n",
              "      <td>A</td>\n",
              "      <td>A</td>\n",
              "      <td></td>\n",
              "      <td>-</td>\n",
              "      <td>0</td>\n",
              "      <td>0</td>\n",
              "      <td>21</td>\n",
              "      <td>3215,-0.1</td>\n",
              "      <td>521,-1.2</td>\n",
              "      <td>1,-0.1</td>\n",
              "      <td>3215,-0.2</td>\n",
              "      <td>-0.251</td>\n",
              "      <td>360.0</td>\n",
              "      <td>-145.2</td>\n",
              "      <td>-56.0</td>\n",
              "      <td>134.3</td>\n",
              "      <td>-37.5</td>\n",
              "      <td>12.0</td>\n",
              "      <td>-68.5</td>\n",
              "      <td>A</td>\n",
              "      <td>A          2          3          0          0 ...</td>\n",
              "    </tr>\n",
              "  </tbody>\n",
              "</table>\n",
              "</div>"
            ],
            "text/plain": [
              "  resnum  ...                                 author_given_chain\n",
              "0      1  ...  A          1          2          0          0 ...\n",
              "1      2  ...  A          2          3          0          0 ...\n",
              "\n",
              "[2 rows x 23 columns]"
            ]
          },
          "metadata": {
            "tags": []
          },
          "execution_count": 25
        }
      ]
    },
    {
      "cell_type": "code",
      "metadata": {
        "id": "PijDdRGJXq-l",
        "colab": {
          "base_uri": "https://localhost:8080/"
        },
        "outputId": "a9c7b52b-24b3-455d-af06-53d49f5b65ea"
      },
      "source": [
        "pddict['struct'].value_counts()"
      ],
      "execution_count": null,
      "outputs": [
        {
          "output_type": "execute_result",
          "data": {
            "text/plain": [
              "  H    3705\n",
              "  E    1262\n",
              "        980\n",
              "  T     689\n",
              "  S     527\n",
              "  G     123\n",
              "  B      64\n",
              "*        13\n",
              "Name: struct, dtype: int64"
            ]
          },
          "metadata": {
            "tags": []
          },
          "execution_count": 27
        }
      ]
    },
    {
      "cell_type": "markdown",
      "metadata": {
        "id": "6BYPiu86VY0q"
      },
      "source": [
        "## fill in with ss"
      ]
    },
    {
      "cell_type": "code",
      "metadata": {
        "id": "0Ams8-U6Vb33"
      },
      "source": [
        "ss_map = np.zeros((N,N,N),dtype=np.int32)\n",
        "ss_map.shape"
      ],
      "execution_count": null,
      "outputs": []
    },
    {
      "cell_type": "code",
      "metadata": {
        "id": "pA3Q4Zt5XCGs"
      },
      "source": [
        "d={e:i+1 for i,e in enumerate(pddict['struct'].unique())}\n",
        "pddict['struct_number'] = pddict['struct'].map(d)"
      ],
      "execution_count": null,
      "outputs": []
    },
    {
      "cell_type": "code",
      "metadata": {
        "id": "u3NwgogjFe-U",
        "colab": {
          "base_uri": "https://localhost:8080/"
        },
        "outputId": "ad73cd95-8e60-46f4-eb9c-443baf4100ac"
      },
      "source": [
        "%%time\n",
        "label_pad=0\n",
        "for idx in range(pddict.shape[0]):\n",
        "  row = pddict.iloc[idx]\n",
        "  idx_true = (df['residue_number'] == int(row['resnum'])) & (df['chain_id'] == row['chain'])\n",
        "  ijk_ss_map = np.int32(np.ceil((df[idx_true][['x_coord','y_coord','z_coord']].values - r_min + pad)/psize_A))\n",
        "  #ss_map[ijk_ss_map[:,0],ijk_ss_map[:,1],ijk_ss_map[:,2]] = row['struct_number']\n",
        "\n",
        "  if ijk_ss_map.size > 0: \n",
        "    ss_map[ijk_ss_map.min(0)[0]-label_pad:ijk_ss_map.max(0)[0]+1+label_pad,\n",
        "       ijk_ss_map.min(0)[1]-label_pad:ijk_ss_map.max(0)[1]+1+label_pad,\n",
        "       ijk_ss_map.min(0)[2]-label_pad:ijk_ss_map.max(0)[2]+1+label_pad,\n",
        "         ] = row['struct_number']\n",
        "  \n",
        "  "
      ],
      "execution_count": null,
      "outputs": [
        {
          "output_type": "stream",
          "text": [
            "CPU times: user 21.5 s, sys: 350 ms, total: 21.9 s\n",
            "Wall time: 22.1 s\n"
          ],
          "name": "stdout"
        }
      ]
    },
    {
      "cell_type": "code",
      "metadata": {
        "id": "94bF2NslfWmg",
        "colab": {
          "base_uri": "https://localhost:8080/",
          "height": 269
        },
        "outputId": "8ae2cf4b-c914-4d89-8011-3a42ccd96629"
      },
      "source": [
        "doplt(ss_map[N//2])"
      ],
      "execution_count": null,
      "outputs": [
        {
          "output_type": "display_data",
          "data": {
            "image/png": "[encoded data removed]",
            "text/plain": [
              "<Figure size 432x288 with 1 Axes>"
            ]
          },
          "metadata": {
            "tags": [],
            "needs_background": "light"
          }
        }
      ]
    },
    {
      "cell_type": "markdown",
      "metadata": {
        "id": "YBhxRrstkSBu"
      },
      "source": [
        "## save data"
      ]
    },
    {
      "cell_type": "code",
      "metadata": {
        "id": "yYK-SFeMkTJk"
      },
      "source": [
        "wdir = '/content/drive/My Drive/mbp/3DCNN_sspred/synthetic_data_202011/'\n",
        "# fname = wdir+pdbid+'_ss_map'\n",
        "# np.save(fname,ss_map)\n",
        "# fname = wdir+pdbid+'_syn_map'\n",
        "# np.save(fname,synthetic_map)"
      ],
      "execution_count": 6,
      "outputs": []
    },
    {
      "cell_type": "code",
      "metadata": {
        "id": "uqV-oxyk0XsG",
        "colab": {
          "base_uri": "https://localhost:8080/"
        },
        "outputId": "817568e2-7803-439f-d07c-4b367d63ce66"
      },
      "source": [
        "%ls /content/drive/My\\ Drive/mbp/3DCNN_sspred/synthetic_data_202011/"
      ],
      "execution_count": 9,
      "outputs": [
        {
          "output_type": "stream",
          "text": [
            "3j5p_ss_map.npy  3j5p_syn_map.npy\n"
          ],
          "name": "stdout"
        }
      ]
    },
    {
      "cell_type": "markdown",
      "metadata": {
        "id": "eJHG3BEM1p2i"
      },
      "source": [
        "# load data"
      ]
    },
    {
      "cell_type": "code",
      "metadata": {
        "colab": {
          "base_uri": "https://localhost:8080/"
        },
        "id": "_XsGbJ4D1omS",
        "outputId": "c63005b4-bd9a-4503-d287-02b2fb70edad"
      },
      "source": [
        "wdir = '/content/drive/My Drive/mbp/3DCNN_sspred/synthetic_data_202011/'\n",
        "\n",
        "fname = '3j5p_ss_map.npy'\n",
        "ss_map = np.load(wdir+fname)\n",
        "ss_map.shape"
      ],
      "execution_count": 6,
      "outputs": [
        {
          "output_type": "execute_result",
          "data": {
            "text/plain": [
              "(179, 179, 179)"
            ]
          },
          "metadata": {
            "tags": []
          },
          "execution_count": 6
        }
      ]
    },
    {
      "cell_type": "code",
      "metadata": {
        "colab": {
          "base_uri": "https://localhost:8080/"
        },
        "id": "c36xiLFG3F19",
        "outputId": "ec125edf-e4d0-4f65-c8c1-d4ea7199f5f8"
      },
      "source": [
        "fname = '3j5p_syn_map.npy'\n",
        "synthetic_map = np.load(wdir+fname)\n",
        "synthetic_map.shape"
      ],
      "execution_count": 7,
      "outputs": [
        {
          "output_type": "execute_result",
          "data": {
            "text/plain": [
              "(179, 179, 179)"
            ]
          },
          "metadata": {
            "tags": []
          },
          "execution_count": 7
        }
      ]
    },
    {
      "cell_type": "markdown",
      "metadata": {
        "id": "U0oKpFOzjaPv"
      },
      "source": [
        "# 3D Conv\n",
        "https://towardsdatascience.com/step-by-step-implementation-3d-convolutional-neural-network-in-keras-12efbdd7b130"
      ]
    },
    {
      "cell_type": "markdown",
      "metadata": {
        "id": "x-qF5P9K08RF"
      },
      "source": [
        "## split into pieces \n",
        "* Haruspex used 576 structures, 2183 segments of size $70^3$ voxels\n",
        "* with 100 (small) maps, and on average 20 segents/map, we get 2k segments. At  $25^3$ voxels / segment that is $(20*25^3)^3\\sim 67.8^3$ voxels / map, which shows that the segments can be larger.\n"
      ]
    },
    {
      "cell_type": "code",
      "metadata": {
        "id": "heHrZc120wU7"
      },
      "source": [
        "N=ss_map.shape[0]\n"
      ],
      "execution_count": 8,
      "outputs": []
    },
    {
      "cell_type": "code",
      "metadata": {
        "id": "PiJH6JB1jZin",
        "colab": {
          "base_uri": "https://localhost:8080/"
        },
        "outputId": "ce0aee04-4d73-45cf-b147-92d2f01cd130"
      },
      "source": [
        "seg_size = 32\n",
        "sample_shape = (seg_size,seg_size,seg_size,1)\n",
        "X = np.zeros(((N//seg_size)**3,)+sample_shape,dtype=synthetic_map.dtype)\n",
        "X.shape"
      ],
      "execution_count": 9,
      "outputs": [
        {
          "output_type": "execute_result",
          "data": {
            "text/plain": [
              "(125, 32, 32, 32, 1)"
            ]
          },
          "metadata": {
            "tags": []
          },
          "execution_count": 9
        }
      ]
    },
    {
      "cell_type": "code",
      "metadata": {
        "id": "nMEM0aMa9HdT",
        "colab": {
          "base_uri": "https://localhost:8080/"
        },
        "outputId": "14879f78-2c9d-42c1-c8f3-2d62b86d745b"
      },
      "source": [
        "targets = np.zeros(X.shape, dtype=ss_map.dtype)\n",
        "targets.shape"
      ],
      "execution_count": 11,
      "outputs": [
        {
          "output_type": "execute_result",
          "data": {
            "text/plain": [
              "(125, 32, 32, 32, 1)"
            ]
          },
          "metadata": {
            "tags": []
          },
          "execution_count": 11
        }
      ]
    },
    {
      "cell_type": "code",
      "metadata": {
        "id": "Wu03tLyO6JDp"
      },
      "source": [
        "record=0\n",
        "for i in range(0,N-seg_size,seg_size):\n",
        "  for j in range(0,N-seg_size,seg_size):\n",
        "    for k in range(0,N-seg_size,seg_size):\n",
        "      X[record,:,:,:,0] = synthetic_map[i:i+seg_size,j:j+seg_size,k:k+seg_size]\n",
        "      targets[record,:,:,:,0] = ss_map[i:i+seg_size,j:j+seg_size,k:k+seg_size]\n",
        "      record += 1\n",
        "      "
      ],
      "execution_count": 12,
      "outputs": []
    },
    {
      "cell_type": "code",
      "metadata": {
        "id": "TqQOW40J949c"
      },
      "source": [
        "os.environ[\"CUDA_DEVICE_ORDER\"] = \"PCI_BUS_ID\"   #if like me you do not have a lot of memory in your GPU\n",
        "os.environ[\"CUDA_VISIBLE_DEVICES\"] = \"\" #then these two lines force keras to use your CPU\n",
        "import keras\n",
        "\n",
        "from keras.models import Sequential\n",
        "from keras.layers import Dense, Flatten, Conv3D, MaxPooling3D, Dropout, BatchNormalization\n",
        "from keras.utils import to_categorical"
      ],
      "execution_count": 13,
      "outputs": []
    },
    {
      "cell_type": "code",
      "metadata": {
        "id": "XzpHAwUJ96SH"
      },
      "source": [
        "ind_rand = np.arange(X.shape[0])\n",
        "np.random.seed(0)\n",
        "np.random.shuffle(ind_rand)\n",
        "X = X[ind_rand]"
      ],
      "execution_count": 14,
      "outputs": []
    },
    {
      "cell_type": "code",
      "metadata": {
        "colab": {
          "base_uri": "https://localhost:8080/",
          "height": 282
        },
        "id": "9XFWvmaESSRo",
        "outputId": "391f1d5d-fa58-4860-b589-9c8c6603720f"
      },
      "source": [
        "# add in noise to prevent nans\n",
        "pd.Series(X[~np.isclose(X,0)]).sample(frac=0.001).plot.kde()"
      ],
      "execution_count": 15,
      "outputs": [
        {
          "output_type": "execute_result",
          "data": {
            "text/plain": [
              "<matplotlib.axes._subplots.AxesSubplot at 0x7f9b9758c4a8>"
            ]
          },
          "metadata": {
            "tags": []
          },
          "execution_count": 15
        },
        {
          "output_type": "display_data",
          "data": {
            "image/png": "[encoded data removed]",
            "text/plain": [
              "<Figure size 432x288 with 1 Axes>"
            ]
          },
          "metadata": {
            "tags": [],
            "needs_background": "light"
          }
        }
      ]
    },
    {
      "cell_type": "code",
      "metadata": {
        "id": "dNOauDfOTO38"
      },
      "source": [
        "noise = 0.01\n",
        "X += np.random.normal(loc=np.zeros_like(X),scale=noise)\n"
      ],
      "execution_count": 16,
      "outputs": []
    },
    {
      "cell_type": "code",
      "metadata": {
        "id": "_cDar9U5NuYJ"
      },
      "source": [
        "split_i = int(0.7*X.shape[0])\n",
        "X_train, X_test = X[:split_i], X[split_i:]\n",
        "targets_train, targets_test = to_categorical(targets[:split_i]), to_categorical(targets[split_i:])"
      ],
      "execution_count": 17,
      "outputs": []
    },
    {
      "cell_type": "code",
      "metadata": {
        "colab": {
          "base_uri": "https://localhost:8080/"
        },
        "id": "jKhO7jGQQpzn",
        "outputId": "c2e7b214-7c17-47eb-90ff-c3eed6080d60"
      },
      "source": [
        "pd.Series(targets[:split_i].flatten()).value_counts()"
      ],
      "execution_count": 18,
      "outputs": [
        {
          "output_type": "execute_result",
          "data": {
            "text/plain": [
              "0    2663991\n",
              "3      84297\n",
              "2      36037\n",
              "1      30482\n",
              "4      20902\n",
              "5      12144\n",
              "7       1771\n",
              "6       1192\n",
              "dtype: int64"
            ]
          },
          "metadata": {
            "tags": []
          },
          "execution_count": 18
        }
      ]
    },
    {
      "cell_type": "code",
      "metadata": {
        "colab": {
          "base_uri": "https://localhost:8080/"
        },
        "id": "oAG_tZ84Q61s",
        "outputId": "d2d224eb-44ab-4a50-a3d4-065c3b81126b"
      },
      "source": [
        "targets_train.reshape(-1,8).sum(0)"
      ],
      "execution_count": 19,
      "outputs": [
        {
          "output_type": "execute_result",
          "data": {
            "text/plain": [
              "array([2.663991e+06, 3.048200e+04, 3.603700e+04, 8.429700e+04,\n",
              "       2.090200e+04, 1.214400e+04, 1.192000e+03, 1.771000e+03],\n",
              "      dtype=float32)"
            ]
          },
          "metadata": {
            "tags": []
          },
          "execution_count": 19
        }
      ]
    },
    {
      "cell_type": "markdown",
      "metadata": {
        "id": "2M-Afuo8LfRC"
      },
      "source": [
        "## Model architecture"
      ]
    },
    {
      "cell_type": "code",
      "metadata": {
        "id": "rZiAwAYAMMSx"
      },
      "source": [
        "import keras\n",
        "from keras.models import Sequential\n",
        "from keras.layers import Input, concatenate, UpSampling3D, Dense, Flatten, Conv3D, MaxPooling3D, Dropout, BatchNormalization\n",
        "from keras.utils import to_categorical\n",
        "import numpy as np\n",
        "import matplotlib.pyplot as plt"
      ],
      "execution_count": 20,
      "outputs": []
    },
    {
      "cell_type": "code",
      "metadata": {
        "id": "emOhXtDuLg1V"
      },
      "source": [
        "img_input = Input(shape=(seg_size,seg_size,seg_size,1 ))\n",
        "\n",
        "conv1 = Conv3D(32, (3, 3,3), activation='relu', padding='same')(img_input)\n",
        "conv1 = Dropout(0.2)(conv1)\n",
        "conv1 = Conv3D(32, (3, 3,3), activation='relu', padding='same')(conv1)\n",
        "pool1 = MaxPooling3D((2, 2,2))(conv1)\n",
        "\n",
        "conv2 = Conv3D(64, (3, 3,3), activation='relu', padding='same')(pool1)\n",
        "conv2 = Dropout(0.2)(conv2)\n",
        "conv2 = Conv3D(64, (3, 3,3), activation='relu', padding='same')(conv2)\n",
        "pool2 = MaxPooling3D((2, 2,2))(conv2) \n",
        "\n",
        "conv3 = Conv3D(128, (3, 3, 3), activation='relu', padding='same')(pool2)\n",
        "conv3 = Dropout(0.2)(conv3)\n",
        "conv3 = Conv3D(128, (3, 3, 3), activation='relu', padding='same')(conv3)\n",
        "\n",
        "up1 = concatenate([UpSampling3D((2, 2,2))(conv3), conv2], axis=-1)\n",
        "conv4 = Conv3D(64, (3, 3,3), activation='relu', padding='same')(up1)\n",
        "conv4 = Dropout(0.2)(conv4)\n",
        "conv4 = Conv3D(64, (3, 3,3), activation='relu', padding='same')(conv4)\n",
        "\n",
        "up2 = concatenate([UpSampling3D((2, 2,2))(conv4), conv1], axis=-1)\n",
        "conv5 = Conv3D(32, (3, 3,3), activation='relu', padding='same')(up2)\n",
        "conv5 = Dropout(0.2)(conv5)\n",
        "conv5 = Conv3D(32, (3, 3,3), activation='relu', padding='same')(conv5)\n",
        "\n",
        "n_classes = targets_train.shape[-1]\n",
        "out = Conv3D( n_classes, (1, 1,1) , padding='same')(conv5)"
      ],
      "execution_count": 21,
      "outputs": []
    },
    {
      "cell_type": "markdown",
      "metadata": {
        "id": "tdp8Ta222d8j"
      },
      "source": [
        "## compile"
      ]
    },
    {
      "cell_type": "code",
      "metadata": {
        "colab": {
          "base_uri": "https://localhost:8080/"
        },
        "id": "7jMPvUaqLPuk",
        "outputId": "b4c135c5-79d1-4073-e416-1e03ad4a23cc"
      },
      "source": [
        "model = keras.Model(img_input, out, name=\"3dcnn\")\n",
        "model.compile(loss='categorical_crossentropy',\n",
        "              optimizer=keras.optimizers.Adam(lr=0.001),\n",
        "              metrics=['accuracy'],\n",
        "              sample_weight_mode=\"temporal\"\n",
        "              )\n",
        "model.summary()\n"
      ],
      "execution_count": 75,
      "outputs": [
        {
          "output_type": "stream",
          "text": [
            "Model: \"3dcnn\"\n",
            "__________________________________________________________________________________________________\n",
            "Layer (type)                    Output Shape         Param #     Connected to                     \n",
            "==================================================================================================\n",
            "input_1 (InputLayer)            [(None, 32, 32, 32,  0                                            \n",
            "__________________________________________________________________________________________________\n",
            "conv3d (Conv3D)                 (None, 32, 32, 32, 3 896         input_1[0][0]                    \n",
            "__________________________________________________________________________________________________\n",
            "dropout (Dropout)               (None, 32, 32, 32, 3 0           conv3d[0][0]                     \n",
            "__________________________________________________________________________________________________\n",
            "conv3d_1 (Conv3D)               (None, 32, 32, 32, 3 27680       dropout[0][0]                    \n",
            "__________________________________________________________________________________________________\n",
            "max_pooling3d (MaxPooling3D)    (None, 16, 16, 16, 3 0           conv3d_1[0][0]                   \n",
            "__________________________________________________________________________________________________\n",
            "conv3d_2 (Conv3D)               (None, 16, 16, 16, 6 55360       max_pooling3d[0][0]              \n",
            "__________________________________________________________________________________________________\n",
            "dropout_1 (Dropout)             (None, 16, 16, 16, 6 0           conv3d_2[0][0]                   \n",
            "__________________________________________________________________________________________________\n",
            "conv3d_3 (Conv3D)               (None, 16, 16, 16, 6 110656      dropout_1[0][0]                  \n",
            "__________________________________________________________________________________________________\n",
            "max_pooling3d_1 (MaxPooling3D)  (None, 8, 8, 8, 64)  0           conv3d_3[0][0]                   \n",
            "__________________________________________________________________________________________________\n",
            "conv3d_4 (Conv3D)               (None, 8, 8, 8, 128) 221312      max_pooling3d_1[0][0]            \n",
            "__________________________________________________________________________________________________\n",
            "dropout_2 (Dropout)             (None, 8, 8, 8, 128) 0           conv3d_4[0][0]                   \n",
            "__________________________________________________________________________________________________\n",
            "conv3d_5 (Conv3D)               (None, 8, 8, 8, 128) 442496      dropout_2[0][0]                  \n",
            "__________________________________________________________________________________________________\n",
            "up_sampling3d (UpSampling3D)    (None, 16, 16, 16, 1 0           conv3d_5[0][0]                   \n",
            "__________________________________________________________________________________________________\n",
            "concatenate (Concatenate)       (None, 16, 16, 16, 1 0           up_sampling3d[0][0]              \n",
            "                                                                 conv3d_3[0][0]                   \n",
            "__________________________________________________________________________________________________\n",
            "conv3d_6 (Conv3D)               (None, 16, 16, 16, 6 331840      concatenate[0][0]                \n",
            "__________________________________________________________________________________________________\n",
            "dropout_3 (Dropout)             (None, 16, 16, 16, 6 0           conv3d_6[0][0]                   \n",
            "__________________________________________________________________________________________________\n",
            "conv3d_7 (Conv3D)               (None, 16, 16, 16, 6 110656      dropout_3[0][0]                  \n",
            "__________________________________________________________________________________________________\n",
            "up_sampling3d_1 (UpSampling3D)  (None, 32, 32, 32, 6 0           conv3d_7[0][0]                   \n",
            "__________________________________________________________________________________________________\n",
            "concatenate_1 (Concatenate)     (None, 32, 32, 32, 9 0           up_sampling3d_1[0][0]            \n",
            "                                                                 conv3d_1[0][0]                   \n",
            "__________________________________________________________________________________________________\n",
            "conv3d_8 (Conv3D)               (None, 32, 32, 32, 3 82976       concatenate_1[0][0]              \n",
            "__________________________________________________________________________________________________\n",
            "dropout_4 (Dropout)             (None, 32, 32, 32, 3 0           conv3d_8[0][0]                   \n",
            "__________________________________________________________________________________________________\n",
            "conv3d_9 (Conv3D)               (None, 32, 32, 32, 3 27680       dropout_4[0][0]                  \n",
            "__________________________________________________________________________________________________\n",
            "conv3d_10 (Conv3D)              (None, 32, 32, 32, 8 264         conv3d_9[0][0]                   \n",
            "==================================================================================================\n",
            "Total params: 1,411,816\n",
            "Trainable params: 1,411,816\n",
            "Non-trainable params: 0\n",
            "__________________________________________________________________________________________________\n"
          ],
          "name": "stdout"
        }
      ]
    },
    {
      "cell_type": "markdown",
      "metadata": {
        "id": "PWv3i5_BWiSr"
      },
      "source": [
        "## balance classes\n",
        "* https://github.com/keras-team/keras/issues/3653\n",
        "  * https://github.com/keras-team/keras/issues/3653#issuecomment-564478335\n",
        "  * https://github.com/keras-team/keras/issues/3653#issuecomment-312231324\n",
        "    * https://medium.com/@First350/tensorflow-dealing-with-imbalanced-data-eb0108b10701\n",
        "  * https://github.com/keras-team/keras/issues/3653#issuecomment-557844450\n",
        "    * TODO: ignore empty"
      ]
    },
    {
      "cell_type": "code",
      "metadata": {
        "id": "2U60HMG5QkdS"
      },
      "source": [
        "#not_mask_idx = targets_train.reshape(-1,8).argmax(1) != 0\n"
      ],
      "execution_count": 52,
      "outputs": []
    },
    {
      "cell_type": "code",
      "metadata": {
        "colab": {
          "base_uri": "https://localhost:8080/"
        },
        "id": "CiwJCQNqWo-q",
        "outputId": "9f029234-5f09-488d-b55c-bc7019dbce23"
      },
      "source": [
        "#freqs = targets_train.reshape(-1,8)[not_mask_idx].sum(0)\n",
        "freqs = targets_train.reshape(-1,8).sum(0)\n",
        "reweight = np.median(freqs)/freqs\n",
        "#reweight[0] = 0\n",
        "reweight"
      ],
      "execution_count": 78,
      "outputs": [
        {
          "output_type": "execute_result",
          "data": {
            "text/plain": [
              "array([9.6441768e-03, 8.4285808e-01, 7.1293396e-01, 3.0477953e-01,\n",
              "       1.2291647e+00, 2.1156127e+00, 2.1553692e+01, 1.4507058e+01],\n",
              "      dtype=float32)"
            ]
          },
          "metadata": {
            "tags": []
          },
          "execution_count": 78
        }
      ]
    },
    {
      "cell_type": "code",
      "metadata": {
        "colab": {
          "base_uri": "https://localhost:8080/"
        },
        "id": "v7RttdMwZSYx",
        "outputId": "6bd10e86-d253-4259-ccef-6c1a366aee4e"
      },
      "source": [
        "pd.Series((targets_train.reshape(-1,8)*reweight).sum(-1).flatten()).value_counts()"
      ],
      "execution_count": 79,
      "outputs": [
        {
          "output_type": "execute_result",
          "data": {
            "text/plain": [
              "0.009644     2663991\n",
              "0.304780       84297\n",
              "0.712934       36037\n",
              "0.842858       30482\n",
              "1.229165       20902\n",
              "2.115613       12144\n",
              "14.507058       1771\n",
              "21.553692       1192\n",
              "dtype: int64"
            ]
          },
          "metadata": {
            "tags": []
          },
          "execution_count": 79
        }
      ]
    },
    {
      "cell_type": "code",
      "metadata": {
        "colab": {
          "base_uri": "https://localhost:8080/"
        },
        "id": "LWgkBYI8Z7UK",
        "outputId": "b702e318-38ec-489d-84c8-3bd80cfc2bc1"
      },
      "source": [
        "targets_train_balanced = (targets_train.reshape(-1,8)*reweight).reshape(targets_train.shape)\n",
        "targets_train_balanced.shape"
      ],
      "execution_count": 80,
      "outputs": [
        {
          "output_type": "execute_result",
          "data": {
            "text/plain": [
              "(87, 32, 32, 32, 8)"
            ]
          },
          "metadata": {
            "tags": []
          },
          "execution_count": 80
        }
      ]
    },
    {
      "cell_type": "code",
      "metadata": {
        "colab": {
          "base_uri": "https://localhost:8080/"
        },
        "id": "V98haXtTcnA1",
        "outputId": "647ecd0e-7ee0-439e-8e25-6a14fce70129"
      },
      "source": [
        "\n",
        "sample_weights = np.squeeze(np.sum(targets_train_balanced, axis=-1))\n",
        "sample_weights.shape"
      ],
      "execution_count": 81,
      "outputs": [
        {
          "output_type": "execute_result",
          "data": {
            "text/plain": [
              "(87, 32, 32, 32)"
            ]
          },
          "metadata": {
            "tags": []
          },
          "execution_count": 81
        }
      ]
    },
    {
      "cell_type": "markdown",
      "metadata": {
        "id": "KH_xQGfi2juC"
      },
      "source": [
        "## fit"
      ]
    },
    {
      "cell_type": "code",
      "metadata": {
        "colab": {
          "base_uri": "https://localhost:8080/"
        },
        "id": "ybobvtl32g0m",
        "outputId": "bf7f90dd-f4b4-442d-bfee-f623982feece"
      },
      "source": [
        "# Fit data to model\n",
        "history = model.fit(X_train, targets_train, \n",
        "                    sample_weight=sample_weights,\n",
        "            batch_size=20,\n",
        "            epochs=10,\n",
        "            verbose=1,\n",
        "            validation_split=0.3)"
      ],
      "execution_count": 82,
      "outputs": [
        {
          "output_type": "stream",
          "text": [
            "Epoch 1/10\n",
            "2/3 [===================>..........] - ETA: 0s - loss: 1.1680e-08 - accuracy: 0.9202WARNING:tensorflow:Callbacks method `on_train_batch_end` is slow compared to the batch time (batch time: 0.0186s vs `on_train_batch_end` time: 0.1239s). Check your callbacks.\n",
            "3/3 [==============================] - 1s 226ms/step - loss: 9.5486e-09 - accuracy: 0.9349 - val_loss: 6.4749e-09 - val_accuracy: 0.9335\n",
            "Epoch 2/10\n",
            "3/3 [==============================] - 0s 161ms/step - loss: 9.5486e-09 - accuracy: 0.9349 - val_loss: 6.4749e-09 - val_accuracy: 0.9335\n",
            "Epoch 3/10\n",
            "3/3 [==============================] - 0s 160ms/step - loss: 9.5486e-09 - accuracy: 0.9349 - val_loss: 6.4749e-09 - val_accuracy: 0.9335\n",
            "Epoch 4/10\n",
            "3/3 [==============================] - 0s 159ms/step - loss: 9.5486e-09 - accuracy: 0.9349 - val_loss: 6.4749e-09 - val_accuracy: 0.9335\n",
            "Epoch 5/10\n",
            "3/3 [==============================] - 0s 162ms/step - loss: 9.5486e-09 - accuracy: 0.9349 - val_loss: 6.4749e-09 - val_accuracy: 0.9335\n",
            "Epoch 6/10\n",
            "3/3 [==============================] - 0s 161ms/step - loss: 9.5486e-09 - accuracy: 0.9349 - val_loss: 6.4749e-09 - val_accuracy: 0.9335\n",
            "Epoch 7/10\n",
            "3/3 [==============================] - 0s 162ms/step - loss: 9.5486e-09 - accuracy: 0.9349 - val_loss: 6.4749e-09 - val_accuracy: 0.9335\n",
            "Epoch 8/10\n",
            "3/3 [==============================] - 0s 161ms/step - loss: 9.5486e-09 - accuracy: 0.9349 - val_loss: 6.4749e-09 - val_accuracy: 0.9335\n",
            "Epoch 9/10\n",
            "3/3 [==============================] - 0s 161ms/step - loss: 9.5486e-09 - accuracy: 0.9349 - val_loss: 6.4749e-09 - val_accuracy: 0.9335\n",
            "Epoch 10/10\n",
            "3/3 [==============================] - 0s 160ms/step - loss: 9.5486e-09 - accuracy: 0.9349 - val_loss: 6.4749e-09 - val_accuracy: 0.9335\n"
          ],
          "name": "stdout"
        }
      ]
    },
    {
      "cell_type": "code",
      "metadata": {
        "colab": {
          "base_uri": "https://localhost:8080/"
        },
        "id": "Cn08xHD9PXWm",
        "outputId": "001a6e7b-2fbe-4d74-c371-53f4d2a7d210"
      },
      "source": [
        "n_sub=X_train.shape[0]\n",
        "predict_train = model.predict(X_train[:n_sub])\n",
        "predict_train.reshape(-1,8).argmax(1).shape, targets_train[:n_sub].reshape(-1,8).argmax(1).shape\n",
        "pd.Series(predict_train.reshape(-1,8).argmax(1)).value_counts()\n"
      ],
      "execution_count": 83,
      "outputs": [
        {
          "output_type": "execute_result",
          "data": {
            "text/plain": [
              "0    2850816\n",
              "dtype: int64"
            ]
          },
          "metadata": {
            "tags": []
          },
          "execution_count": 83
        }
      ]
    },
    {
      "cell_type": "code",
      "metadata": {
        "colab": {
          "base_uri": "https://localhost:8080/"
        },
        "id": "FcQPWYGSUW8g",
        "outputId": "258d2494-f2d6-4565-96bd-c51dbb0bc2a2"
      },
      "source": [
        "from sklearn.metrics import confusion_matrix\n",
        "cm = confusion_matrix(predict_train.reshape(-1,8).argmax(1), targets_train[:n_sub].reshape(-1,8).argmax(1))\n",
        "cm"
      ],
      "execution_count": 85,
      "outputs": [
        {
          "output_type": "execute_result",
          "data": {
            "text/plain": [
              "array([[2663991,   30482,   36037,   84297,   20902,   12144,    1192,\n",
              "           1771],\n",
              "       [      0,       0,       0,       0,       0,       0,       0,\n",
              "              0],\n",
              "       [      0,       0,       0,       0,       0,       0,       0,\n",
              "              0],\n",
              "       [      0,       0,       0,       0,       0,       0,       0,\n",
              "              0],\n",
              "       [      0,       0,       0,       0,       0,       0,       0,\n",
              "              0],\n",
              "       [      0,       0,       0,       0,       0,       0,       0,\n",
              "              0],\n",
              "       [      0,       0,       0,       0,       0,       0,       0,\n",
              "              0],\n",
              "       [      0,       0,       0,       0,       0,       0,       0,\n",
              "              0]])"
            ]
          },
          "metadata": {
            "tags": []
          },
          "execution_count": 85
        }
      ]
    },
    {
      "cell_type": "markdown",
      "metadata": {
        "id": "Mh26GXYpUkb6"
      },
      "source": [
        "Despite re-weighting the class imbalance, everthing is still getting predicted as the \"empty\" class."
      ]
    },
    {
      "cell_type": "markdown",
      "metadata": {
        "id": "esZgp0EIUuQL"
      },
      "source": [
        "# scratch"
      ]
    },
    {
      "cell_type": "code",
      "metadata": {
        "id": "SQtcCRx_RfoQ"
      },
      "source": [
        "# Fit data to model\n",
        "model = keras.Model(img_input, out, name=\"3dcnn\")\n",
        "model.compile(loss='categorical_crossentropy',\n",
        "              optimizer=keras.optimizers.Adam(lr=0.001),\n",
        "              metrics=['accuracy'],\n",
        "              )\n",
        "history = model.fit(X_train, targets_train_balanced, \n",
        "            batch_size=20,\n",
        "            epochs=10,\n",
        "            verbose=1,\n",
        "            validation_split=0.3)"
      ],
      "execution_count": null,
      "outputs": []
    },
    {
      "cell_type": "code",
      "metadata": {
        "id": "ERhIwwLxOu6B"
      },
      "source": [
        "from sklearn.metrics import confusion_matrix\n",
        "\n",
        "cm = confusion_matrix(predict_train.reshape(-1,8)[not_mask_idx].argmax(1), targets_train[:n_sub].reshape(-1,8)[not_mask_idx].argmax(1))\n",
        "cm"
      ],
      "execution_count": null,
      "outputs": []
    }
  ]
}