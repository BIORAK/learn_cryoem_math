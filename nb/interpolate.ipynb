{
  "nbformat": 4,
  "nbformat_minor": 0,
  "metadata": {
    "colab": {
      "name": "interpolate.ipynb",
      "provenance": [],
      "collapsed_sections": [],
      "toc_visible": true,
      "machine_shape": "hm",
      "authorship_tag": "ABX9TyPAKR+TglODdWCxXduWIaq/",
      "include_colab_link": true
    },
    "kernelspec": {
      "name": "python3",
      "display_name": "Python 3"
    }
  },
  "cells": [
    {
      "cell_type": "markdown",
      "metadata": {
        "id": "view-in-github",
        "colab_type": "text"
      },
      "source": [
        "<a href=\"https://colab.research.google.com/github/geoffwoollard/learn_cryoem_math/blob/master/nb/interpolate.ipynb\" target=\"_parent\"><img src=\"https://colab.research.google.com/assets/colab-badge.svg\" alt=\"Open In Colab\"/></a>"
      ]
    },
    {
      "cell_type": "markdown",
      "metadata": {
        "id": "JCrqqZoNDIEB"
      },
      "source": [
        "# Goal\n",
        "Explore bottlenecks for interpolation, in terms of the size of input and size of the grid onto which to interpolate"
      ]
    },
    {
      "cell_type": "markdown",
      "metadata": {
        "id": "JnldKtpYDQeL"
      },
      "source": [
        "# Setup\n"
      ]
    },
    {
      "cell_type": "code",
      "metadata": {
        "colab": {
          "base_uri": "https://localhost:8080/"
        },
        "id": "PWgNEn9_DPgM",
        "outputId": "c54c9669-80dc-4286-ba97-4b0575e1220f"
      },
      "source": [
        "import numpy as np\n",
        "import pandas as pd\n",
        "from scipy.interpolate import griddata\n",
        "!wget https://raw.githubusercontent.com/geoffwoollard/learn_cryoem_math/master/src/coords.py\n",
        "import coords"
      ],
      "execution_count": 2,
      "outputs": [
        {
          "output_type": "stream",
          "text": [
            "--2021-03-18 00:49:11--  https://raw.githubusercontent.com/geoffwoollard/learn_cryoem_math/master/src/coords.py\n",
            "Resolving raw.githubusercontent.com (raw.githubusercontent.com)... 185.199.110.133, 185.199.109.133, 185.199.111.133, ...\n",
            "Connecting to raw.githubusercontent.com (raw.githubusercontent.com)|185.199.110.133|:443... connected.\n",
            "HTTP request sent, awaiting response... 200 OK\n",
            "Length: 1681 (1.6K) [text/plain]\n",
            "Saving to: ‘coords.py’\n",
            "\n",
            "coords.py           100%[===================>]   1.64K  --.-KB/s    in 0s      \n",
            "\n",
            "2021-03-18 00:49:11 (36.6 MB/s) - ‘coords.py’ saved [1681/1681]\n",
            "\n"
          ],
          "name": "stdout"
        }
      ]
    },
    {
      "cell_type": "code",
      "metadata": {
        "id": "TTD6pGELG9iE"
      },
      "source": [
        "import matplotlib.pyplot as plt\n",
        "def doplt(arr2d): return(plt.imshow(arr2d,cmap='gray'))"
      ],
      "execution_count": 3,
      "outputs": []
    },
    {
      "cell_type": "markdown",
      "metadata": {
        "id": "EhT8SzjpLxG8"
      },
      "source": [
        "# 2D Gaussian"
      ]
    },
    {
      "cell_type": "code",
      "metadata": {
        "colab": {
          "base_uri": "https://localhost:8080/"
        },
        "id": "oKZVsXj9DGtC",
        "outputId": "0bb29ece-1913-49d9-f771-172e6cbb9ee6"
      },
      "source": [
        "n_values=500\n",
        "np.random.seed(0)\n",
        "XY = np.random.multivariate_normal(mean=(0,0),cov=np.eye(2),size=n_values)\n",
        "percentile = np.percentile(np.abs(XY.flatten()),q=95)\n",
        "good_idx = (np.abs(XY) > percentile).sum(1)==0\n",
        "abs_max = np.abs(XY[good_idx]).max()\n",
        "# XY = XY[good_idx]\n",
        "Z = np.exp(-(XY**2).sum(1)/2)\n",
        "abs_max"
      ],
      "execution_count": 140,
      "outputs": [
        {
          "output_type": "execute_result",
          "data": {
            "text/plain": [
              "1.9559123082506942"
            ]
          },
          "metadata": {
            "tags": []
          },
          "execution_count": 140
        }
      ]
    },
    {
      "cell_type": "code",
      "metadata": {
        "colab": {
          "base_uri": "https://localhost:8080/",
          "height": 285
        },
        "id": "NdaYVGx_LZ47",
        "outputId": "77ada04c-bbdd-47ea-ccdd-45edc384e450"
      },
      "source": [
        "n_grid = 128\n",
        "xi = coords.coords_n_by_d(np.arange(start=-n_grid//2,stop=n_grid//2),d=2) #/ (n_grid//2)\n",
        "xi_match = xi / (n_grid//2) * abs_max # [-1,1)\n",
        "Z_grid = griddata(points=XY,values=Z,xi=xi_match,method='cubic')\n",
        "\n",
        "doplt(Z_grid.reshape(n_grid,n_grid))"
      ],
      "execution_count": 141,
      "outputs": [
        {
          "output_type": "execute_result",
          "data": {
            "text/plain": [
              "<matplotlib.image.AxesImage at 0x7fb08bbb3590>"
            ]
          },
          "metadata": {
            "tags": []
          },
          "execution_count": 141
        },
        {
          "output_type": "display_data",
          "data": {
            "image/png": "[encoded data removed]",
            "text/plain": [
              "<Figure size 432x288 with 1 Axes>"
            ]
          },
          "metadata": {
            "tags": [],
            "needs_background": "light"
          }
        }
      ]
    },
    {
      "cell_type": "markdown",
      "metadata": {
        "id": "RQT6ve8GLgAe"
      },
      "source": [
        "# $O(?)$ in `len(xi)`\n",
        "\n",
        "With fixed number of `points` from `XY`, and of course matching fixed number of `values` from `Z`, let's see how the runtime scales with different sized query points `xi`"
      ]
    },
    {
      "cell_type": "code",
      "metadata": {
        "colab": {
          "base_uri": "https://localhost:8080/"
        },
        "id": "fO9PET6RDu_p",
        "outputId": "3427ac0d-5b61-4026-b886-40521d3d2df5"
      },
      "source": [
        "for n_grid in [64,128,256,512,1024]:\n",
        "  xi = coords.coords_n_by_d(np.arange(start=-n_grid//2,stop=n_grid//2),d=2) #/ (n_grid//2)\n",
        "  xi_match = xi / (n_grid//2) * abs_max # [-1,1)\n",
        "  %timeit griddata(points=XY,values=Z,xi=xi_match)\n",
        "Z_grid = griddata(points=XY,values=Z,xi=xi_match)"
      ],
      "execution_count": 108,
      "outputs": [
        {
          "output_type": "stream",
          "text": [
            "10 loops, best of 5: 137 ms per loop\n",
            "10 loops, best of 5: 136 ms per loop\n",
            "10 loops, best of 5: 140 ms per loop\n",
            "10 loops, best of 5: 155 ms per loop\n",
            "1 loop, best of 5: 204 ms per loop\n"
          ],
          "name": "stdout"
        }
      ]
    },
    {
      "cell_type": "markdown",
      "metadata": {
        "id": "03YEW4MdLDpM"
      },
      "source": [
        "These doesn't seem to be much dependence on the grid size, perhaps a log scale dependence."
      ]
    },
    {
      "cell_type": "markdown",
      "metadata": {
        "id": "cjbs77FiL1VZ"
      },
      "source": [
        "# $O(?)$ in `len(values)`\n",
        "\n",
        "Now with fixed number of query points `xi`, let's see how the runtime scales with different number of `points` from `XY`, and of course matching number of `values` from `Z`."
      ]
    },
    {
      "cell_type": "code",
      "metadata": {
        "colab": {
          "base_uri": "https://localhost:8080/"
        },
        "id": "qcNnKBCyHZfY",
        "outputId": "1dc8096c-e175-4545-ef3d-b5eb02169b4d"
      },
      "source": [
        "n_values_li = [10**x for x in [2,3,4,5,6]]\n",
        "timings = np.zeros(len(n_values_li))\n",
        "for idx,n_values in enumerate(n_values_li):\n",
        "  np.random.seed(0)\n",
        "  XY = np.random.multivariate_normal(mean=(0,0),cov=np.eye(2),size=n_values)\n",
        "  percentile = np.percentile(np.abs(XY.flatten()),q=95)\n",
        "  good_idx = (np.abs(XY) > percentile).sum(1)==0\n",
        "  abs_max = np.abs(XY[good_idx]).max()\n",
        "  Z = np.exp(-(XY**2).sum(1)/2)\n",
        "\n",
        "  n_grid = 64\n",
        "  xi = coords.coords_n_by_d(np.arange(start=-n_grid//2,stop=n_grid//2),d=2) #/ (n_grid//2)\n",
        "  xi_match = xi / (n_grid//2) * abs_max # [-1,1)\n",
        "  func1_time = %timeit -o griddata(points=XY,values=Z,xi=xi_match,method='linear')\n",
        "  timings[idx] = func1_time.best"
      ],
      "execution_count": 109,
      "outputs": [
        {
          "output_type": "stream",
          "text": [
            "1000 loops, best of 5: 1.59 ms per loop\n",
            "100 loops, best of 5: 12.8 ms per loop\n",
            "10 loops, best of 5: 136 ms per loop\n",
            "1 loop, best of 5: 1.82 s per loop\n",
            "1 loop, best of 5: 19.7 s per loop\n"
          ],
          "name": "stdout"
        }
      ]
    },
    {
      "cell_type": "code",
      "metadata": {
        "colab": {
          "base_uri": "https://localhost:8080/",
          "height": 317
        },
        "id": "awP5fKZyM5Zm",
        "outputId": "79ed46f2-4875-405f-f6cc-6436cfa06d44"
      },
      "source": [
        "sr = pd.Series(timings)\n",
        "sr.index = n_values_li\n",
        "ax = sr.plot(marker='o',logx=True,logy=True)\n",
        "ax.set_xlabel('n_values')\n",
        "ax.set_ylabel('%timeit griddata (s)')\n",
        "slope = (timings[-1] - timings[-3]) / (n_values_li[-1]-n_values_li[-3])\n",
        "ax.set_title('O(const * n_values) ; const = %.1f us/value '%(slope*1e6))"
      ],
      "execution_count": 110,
      "outputs": [
        {
          "output_type": "execute_result",
          "data": {
            "text/plain": [
              "Text(0.5, 1.0, 'O(const * n_values) ; const = 19.8 us/value ')"
            ]
          },
          "metadata": {
            "tags": []
          },
          "execution_count": 110
        },
        {
          "output_type": "display_data",
          "data": {
            "image/png": "[encoded data removed]",
            "text/plain": [
              "<Figure size 432x288 with 1 Axes>"
            ]
          },
          "metadata": {
            "tags": [],
            "needs_background": "light"
          }
        }
      ]
    },
    {
      "cell_type": "markdown",
      "metadata": {
        "id": "UqmAeotAPo8L"
      },
      "source": [
        "For every extra value, griddata will take 24 to 27 us more. The trend it sublinear up to a few thousand for larger n_grid (256,512), but then become linear after that. And this is independent of the size of the grid onto which to sample it, which can be fine or coarse.\n",
        "\n",
        "|d|n_grid|%timeit griddata (us/value)|\n",
        "|-|-|-|\n",
        "|2|64|26.5 |\n",
        "|2| 128|25 |\n",
        "|2|256|24.1|\n",
        "|2|512|26.6|"
      ]
    },
    {
      "cell_type": "markdown",
      "metadata": {
        "id": "mSG_mkeCRu1-"
      },
      "source": [
        "# 3D Gaussian"
      ]
    },
    {
      "cell_type": "code",
      "metadata": {
        "colab": {
          "base_uri": "https://localhost:8080/"
        },
        "id": "T4QAx5dvRxJO",
        "outputId": "a9f6512b-bca7-48e0-ceaf-e64c60de8178"
      },
      "source": [
        "n_values=10**6\n",
        "d=3\n",
        "np.random.seed(0)\n",
        "XYZ = np.random.multivariate_normal(mean=np.zeros(d),cov=np.eye(d),size=n_values)\n",
        "percentile = np.percentile(np.abs(XYZ.flatten()),q=95)\n",
        "good_idx = (np.abs(XYZ) > percentile).sum(1)==0\n",
        "abs_max = np.abs(XYZ[good_idx]).max()\n",
        "# XY = XY[good_idx]\n",
        "F = np.exp(-(XYZ**2).sum(1)/2)\n",
        "\n",
        "abs_max"
      ],
      "execution_count": 111,
      "outputs": [
        {
          "output_type": "execute_result",
          "data": {
            "text/plain": [
              "1.9581565358354729"
            ]
          },
          "metadata": {
            "tags": []
          },
          "execution_count": 111
        }
      ]
    },
    {
      "cell_type": "code",
      "metadata": {
        "id": "WOMTDYBISoHI"
      },
      "source": [
        "n_grid = 512\n",
        "xi = coords.coords_n_by_d(np.arange(start=-n_grid//2,stop=n_grid//2),d=d) #/ (n_grid//2)\n",
        "xi_match = xi / (n_grid//2) * abs_max # [-1,1)\n",
        "F_grid = griddata(points=XYZ,values=F,xi=xi_match)\n",
        "\n"
      ],
      "execution_count": 112,
      "outputs": []
    },
    {
      "cell_type": "code",
      "metadata": {
        "colab": {
          "base_uri": "https://localhost:8080/",
          "height": 286
        },
        "id": "LIYye0BlSsJe",
        "outputId": "7bade9e3-c177-4d14-b880-c0f588cd4e83"
      },
      "source": [
        "doplt(np.nanmean(F_grid.reshape(n_grid,n_grid,n_grid),0))"
      ],
      "execution_count": 113,
      "outputs": [
        {
          "output_type": "execute_result",
          "data": {
            "text/plain": [
              "<matplotlib.image.AxesImage at 0x7fb08c6b7c50>"
            ]
          },
          "metadata": {
            "tags": []
          },
          "execution_count": 113
        },
        {
          "output_type": "display_data",
          "data": {
            "image/png": "[encoded data removed]",
            "text/plain": [
              "<Figure size 432x288 with 1 Axes>"
            ]
          },
          "metadata": {
            "tags": [],
            "needs_background": "light"
          }
        }
      ]
    },
    {
      "cell_type": "markdown",
      "metadata": {
        "id": "wstEGg7PTmvF"
      },
      "source": [
        "The 3D interpolation is working. Let's see how this scales."
      ]
    },
    {
      "cell_type": "code",
      "metadata": {
        "colab": {
          "base_uri": "https://localhost:8080/"
        },
        "id": "Z4HWSOqaTQyG",
        "outputId": "b302962d-3e05-445d-99f9-267174facdf2"
      },
      "source": [
        "n_values_li = [10**x for x in [2,3,4,5,6]]\n",
        "timings = np.zeros(len(n_values_li))\n",
        "for idx,n_values in enumerate(n_values_li):\n",
        "  np.random.seed(0)\n",
        "  XYZ = np.random.multivariate_normal(mean=np.zeros(d),cov=np.eye(d),size=n_values)\n",
        "  percentile = np.percentile(np.abs(XYZ.flatten()),q=95)\n",
        "  good_idx = (np.abs(XYZ) > percentile).sum(1)==0\n",
        "  abs_max = np.abs(XYZ[good_idx]).max()\n",
        "  F = np.exp(-(XYZ**2).sum(1)/2)\n",
        "\n",
        "  n_grid = 512\n",
        "  xi = coords.coords_n_by_d(np.arange(start=-n_grid//2,stop=n_grid//2),d=d) #/ (n_grid//2)\n",
        "  xi_match = xi / (n_grid//2) * abs_max # [-1,1)\n",
        "  griddata_time = %timeit -o griddata(points=XYZ,values=F,xi=xi_match,method='linear')\n",
        "  timings[idx] = griddata_time.best"
      ],
      "execution_count": 114,
      "outputs": [
        {
          "output_type": "stream",
          "text": [
            "1 loop, best of 5: 8.87 s per loop\n",
            "1 loop, best of 5: 10.8 s per loop\n",
            "1 loop, best of 5: 12.4 s per loop\n",
            "1 loop, best of 5: 22.6 s per loop\n",
            "1 loop, best of 5: 1min 57s per loop\n"
          ],
          "name": "stdout"
        }
      ]
    },
    {
      "cell_type": "code",
      "metadata": {
        "colab": {
          "base_uri": "https://localhost:8080/",
          "height": 317
        },
        "id": "YtS4rlrmTtwu",
        "outputId": "40fbd056-b7eb-49f8-dea3-a7ca92dde761"
      },
      "source": [
        "sr = pd.Series(timings)\n",
        "sr.index = n_values_li\n",
        "ax = sr.plot(marker='o',logx=True,logy=True)\n",
        "ax.set_xlabel('n_values')\n",
        "ax.set_ylabel('%timeit griddata (s)')\n",
        "slope = (timings[-1] - timings[-2]) / (n_values_li[-1]-n_values_li[-2])\n",
        "ax.set_title('O(const * n_values) ; const = %.1f us/value '%(slope*1e6))"
      ],
      "execution_count": 130,
      "outputs": [
        {
          "output_type": "execute_result",
          "data": {
            "text/plain": [
              "Text(0.5, 1.0, 'O(const * n_values) ; const = 105.4 us/value ')"
            ]
          },
          "metadata": {
            "tags": []
          },
          "execution_count": 130
        },
        {
          "output_type": "display_data",
          "data": {
            "image/png": "[encoded data removed]",
            "text/plain": [
              "<Figure size 432x288 with 1 Axes>"
            ]
          },
          "metadata": {
            "tags": [],
            "needs_background": "light"
          }
        }
      ]
    },
    {
      "cell_type": "code",
      "metadata": {
        "colab": {
          "base_uri": "https://localhost:8080/"
        },
        "id": "h0PcDTiugiZP",
        "outputId": "bf9b6e0f-850a-406a-cc4e-4c2b68acd150"
      },
      "source": [
        "timings[-1]/n_values_li[-1]"
      ],
      "execution_count": 116,
      "outputs": [
        {
          "output_type": "execute_result",
          "data": {
            "text/plain": [
              "0.0001174606974060007"
            ]
          },
          "metadata": {
            "tags": []
          },
          "execution_count": 116
        }
      ]
    },
    {
      "cell_type": "markdown",
      "metadata": {
        "id": "b9jSA-yhUOeS"
      },
      "source": [
        "For every extra value, griddata will take 100 to 111 us more. The trend it sublinear up to a few thousand for larger n_grid (256,512), but then become linear after that. And this is independent of the size of the grid onto which to sample it, which can be fine or coarse.\n",
        "\n",
        "|n_grid|%timeit griddata (us/value)|\n",
        "|-|-|\n",
        "| 64|100.5|\n",
        "| 128| |\n",
        "|256||\n",
        "|512|108-111|"
      ]
    },
    {
      "cell_type": "markdown",
      "metadata": {
        "id": "3x7n4oKhT9hc"
      },
      "source": [
        "We can see now in 3D, the trend is the same, but the constant is larger. There still is practically no dependence on `n_grid`.\n",
        "\n"
      ]
    },
    {
      "cell_type": "markdown",
      "metadata": {
        "id": "zyuJExGeWwaI"
      },
      "source": [
        "# Parralelization\n",
        "\n",
        "When we are doing Fourier inversion, for a box size of N, and $n_p$ particles we would have $N^2n_p$ (complex) values on an $N^3$ sized grid. For 10k particles and $N \\in \\{64,126,256,512\\}$ this would be \\{41,163,655,2621\\} million complex numbers to interpolate. Surely something parralelized and fast is doing this, and not griddata, which would take \\{1.1,4.6,18,73\\} hours.\n",
        "\n",
        "Parralelization could be leveraged if the interpolated slices can just be added to each other. We could do the interpolations in batches in parallel, and then bring them together at the end. Essentially doing averages step by step.\n",
        "\n",
        "* https://stackoverflow.com/questions/14015114/scipy-interpolate-griddata-equivalent-in-cuda\n",
        "* https://dypy.readthedocs.io/en/latest/intergrid.html"
      ]
    },
    {
      "cell_type": "markdown",
      "metadata": {
        "id": "9NMXBst7xpeZ"
      },
      "source": [
        "# Bicubic interpolation\n",
        "The section *Bicubic interpolation polynomial* [here](https://www.paulinternet.nl/?page=bicubic) gives the coefficients $a_{ij}$ for \n",
        "$$\n",
        "g(x,y) = \\sum_{ij}a_{ij}x^iy^j = a_{00} + a_{10}x + a_{11}xy + ... + a_{32}x^3y^2 + a_{33}x^3y^3 \n",
        "$$\n",
        "\n",
        "$a_{ij}$ is given in terms of the \"16 points pij, with i and j going from 0 to 3 and with pij located at (i-1, j-1)\"\n",
        "\n",
        "We can hard code this and try out a simple example and compare the function to the bicubic interpolated estimate"
      ]
    },
    {
      "cell_type": "markdown",
      "metadata": {
        "id": "2zORlAvVy4dH"
      },
      "source": [
        "Function: a simple gaussian"
      ]
    },
    {
      "cell_type": "code",
      "metadata": {
        "id": "6DKhbPXvy3yI"
      },
      "source": [
        "N=16\n",
        "xv,yv = np.meshgrid(np.arange(-N//2,N//2),np.arange(-N//2,N//2))\n",
        "\n",
        "def gauss(x,y,mux=0,muy=0,sigma=4):\n",
        "  r2 = (x-mux)**2+(y-muy)**2\n",
        "  g = np.exp(-r2/(2*sigma**2))\n",
        "  return(g)\n",
        "\n",
        "sigma=4\n",
        "f = gauss(xv,yv,sigma=sigma)"
      ],
      "execution_count": 87,
      "outputs": []
    },
    {
      "cell_type": "code",
      "metadata": {
        "colab": {
          "base_uri": "https://localhost:8080/",
          "height": 282
        },
        "id": "6cGMnCWLzygJ",
        "outputId": "bf709abc-2e8f-439c-c363-d8c943588ce0"
      },
      "source": [
        "doplt(f)"
      ],
      "execution_count": 80,
      "outputs": [
        {
          "output_type": "execute_result",
          "data": {
            "text/plain": [
              "<matplotlib.image.AxesImage at 0x7fb099052e50>"
            ]
          },
          "metadata": {
            "tags": []
          },
          "execution_count": 80
        },
        {
          "output_type": "display_data",
          "data": {
            "image/png": "[encoded data removed]",
            "text/plain": [
              "<Figure size 432x288 with 1 Axes>"
            ]
          },
          "metadata": {
            "tags": [],
            "needs_background": "light"
          }
        }
      ]
    },
    {
      "cell_type": "markdown",
      "metadata": {
        "id": "4yGxKG0y0LN2"
      },
      "source": [
        "We are going to interpolate based on the 16 points from the inner 4x4 array "
      ]
    },
    {
      "cell_type": "code",
      "metadata": {
        "colab": {
          "base_uri": "https://localhost:8080/",
          "height": 286
        },
        "id": "TGkxIIUK0EQa",
        "outputId": "e6fc331a-c374-4b46-fa26-f752ff96fbb2"
      },
      "source": [
        "mid=N//2 # 8\n",
        "p = f[mid-2:mid+2,mid-2:mid+2] # -2,-1,0,1\n",
        "doplt(p)"
      ],
      "execution_count": 65,
      "outputs": [
        {
          "output_type": "execute_result",
          "data": {
            "text/plain": [
              "<matplotlib.image.AxesImage at 0x7fb09974cb10>"
            ]
          },
          "metadata": {
            "tags": []
          },
          "execution_count": 65
        },
        {
          "output_type": "display_data",
          "data": {
            "image/png": "[encoded data removed]",
            "text/plain": [
              "<Figure size 432x288 with 1 Axes>"
            ]
          },
          "metadata": {
            "tags": [],
            "needs_background": "light"
          }
        }
      ]
    },
    {
      "cell_type": "code",
      "metadata": {
        "colab": {
          "base_uri": "https://localhost:8080/"
        },
        "id": "gJA80HMS0ddE",
        "outputId": "fb6fae70-7be2-48f3-95eb-8ad4a9f2730e"
      },
      "source": [
        "xv[mid-2:mid+2,mid-2:mid+2], yv[mid-2:mid+2,mid-2:mid+2]"
      ],
      "execution_count": 66,
      "outputs": [
        {
          "output_type": "execute_result",
          "data": {
            "text/plain": [
              "(array([[-2, -1,  0,  1],\n",
              "        [-2, -1,  0,  1],\n",
              "        [-2, -1,  0,  1],\n",
              "        [-2, -1,  0,  1]]), array([[-2, -2, -2, -2],\n",
              "        [-1, -1, -1, -1],\n",
              "        [ 0,  0,  0,  0],\n",
              "        [ 1,  1,  1,  1]]))"
            ]
          },
          "metadata": {
            "tags": []
          },
          "execution_count": 66
        }
      ]
    },
    {
      "cell_type": "markdown",
      "metadata": {
        "id": "82m-ngFC0-oI"
      },
      "source": [
        "Thankfully I can copy/paste the code from the link"
      ]
    },
    {
      "cell_type": "code",
      "metadata": {
        "id": "jDyY0uPJ0wE0"
      },
      "source": [
        "def bicubic_coeff(p):\n",
        "  a00 = p[1][1];\n",
        "  a01 = -.5*p[1][0] + .5*p[1][2];\n",
        "  a02 = p[1][0] - 2.5*p[1][1] + 2*p[1][2] - .5*p[1][3];\n",
        "  a03 = -.5*p[1][0] + 1.5*p[1][1] - 1.5*p[1][2] + .5*p[1][3];\n",
        "  a10 = -.5*p[0][1] + .5*p[2][1];\n",
        "  a11 = .25*p[0][0] - .25*p[0][2] - .25*p[2][0] + .25*p[2][2];\n",
        "  a12 = -.5*p[0][0] + 1.25*p[0][1] - p[0][2] + .25*p[0][3] + .5*p[2][0] - 1.25*p[2][1] + p[2][2] - .25*p[2][3];\n",
        "  a13 = .25*p[0][0] - .75*p[0][1] + .75*p[0][2] - .25*p[0][3] - .25*p[2][0] + .75*p[2][1] - .75*p[2][2] + .25*p[2][3];\n",
        "  a20 = p[0][1] - 2.5*p[1][1] + 2*p[2][1] - .5*p[3][1];\n",
        "  a21 = -.5*p[0][0] + .5*p[0][2] + 1.25*p[1][0] - 1.25*p[1][2] - p[2][0] + p[2][2] + .25*p[3][0] - .25*p[3][2];\n",
        "  a22 = p[0][0] - 2.5*p[0][1] + 2*p[0][2] - .5*p[0][3] - 2.5*p[1][0] + 6.25*p[1][1] - 5*p[1][2] + 1.25*p[1][3] + 2*p[2][0] - 5*p[2][1] + 4*p[2][2] - p[2][3] - .5*p[3][0] + 1.25*p[3][1] - p[3][2] + .25*p[3][3];\n",
        "  a23 = -.5*p[0][0] + 1.5*p[0][1] - 1.5*p[0][2] + .5*p[0][3] + 1.25*p[1][0] - 3.75*p[1][1] + 3.75*p[1][2] - 1.25*p[1][3] - p[2][0] + 3*p[2][1] - 3*p[2][2] + p[2][3] + .25*p[3][0] - .75*p[3][1] + .75*p[3][2] - .25*p[3][3];\n",
        "  a30 = -.5*p[0][1] + 1.5*p[1][1] - 1.5*p[2][1] + .5*p[3][1];\n",
        "  a31 = .25*p[0][0] - .25*p[0][2] - .75*p[1][0] + .75*p[1][2] + .75*p[2][0] - .75*p[2][2] - .25*p[3][0] + .25*p[3][2];\n",
        "  a32 = -.5*p[0][0] + 1.25*p[0][1] - p[0][2] + .25*p[0][3] + 1.5*p[1][0] - 3.75*p[1][1] + 3*p[1][2] - .75*p[1][3] - 1.5*p[2][0] + 3.75*p[2][1] - 3*p[2][2] + .75*p[2][3] + .5*p[3][0] - 1.25*p[3][1] + p[3][2] - .25*p[3][3];\n",
        "  a33 = .25*p[0][0] - .75*p[0][1] + .75*p[0][2] - .25*p[0][3] - .75*p[1][0] + 2.25*p[1][1] - 2.25*p[1][2] + .75*p[1][3] + .75*p[2][0] - 2.25*p[2][1] + 2.25*p[2][2] - .75*p[2][3] - .25*p[3][0] + .75*p[3][1] - .75*p[3][2] + .25*p[3][3];\n",
        "  a = np.array([a00,a01,a02,a03,a10,a11,a12,a13,a20,a21,a22,a23,a30,a31,a32,a33])\n",
        "  return(a00,a01,a02,a03,a10,a11,a12,a13,a20,a21,a22,a23,a30,a31,a32,a33)\n",
        "a = bicubic_coeff(p)"
      ],
      "execution_count": 97,
      "outputs": []
    },
    {
      "cell_type": "markdown",
      "metadata": {
        "id": "sEEflbxw1xdN"
      },
      "source": [
        "Now I want to interpolate at many values on $[-2,1] \\text{x} [-2,1]$"
      ]
    },
    {
      "cell_type": "code",
      "metadata": {
        "colab": {
          "base_uri": "https://localhost:8080/"
        },
        "id": "FmWH-d8s1SbF",
        "outputId": "51c00fed-7175-409a-a017-ad3155c14c27"
      },
      "source": [
        "step_interp = 1\n",
        "offset=1\n",
        "vals_interp = np.arange(-2+offset,1+offset+step_interp,step=step_interp) # many points\n",
        "vals_interp\n",
        "x, y = np.meshgrid(vals_interp,vals_interp)\n",
        "x.shape"
      ],
      "execution_count": 99,
      "outputs": [
        {
          "output_type": "execute_result",
          "data": {
            "text/plain": [
              "(4, 4)"
            ]
          },
          "metadata": {
            "tags": []
          },
          "execution_count": 99
        }
      ]
    },
    {
      "cell_type": "code",
      "metadata": {
        "colab": {
          "base_uri": "https://localhost:8080/",
          "height": 286
        },
        "id": "rprv49QN1Icy",
        "outputId": "06d9f8f0-07ae-4001-9a31-2ceeace56962"
      },
      "source": [
        "def bicubic_interp(a,x,y):\n",
        "  x2 = x * x;\n",
        "  x3 = x2 * x2;\n",
        "  y2 = y * y;\n",
        "  y3 = y2 * y;\n",
        "\n",
        "  g = (a00 + a01 * y + a02 * y2 + a03 * y3) + \\\n",
        "            (a10 + a11 * y + a12 * y2 + a13 * y3) * x + \\\n",
        "            (a20 + a21 * y + a22 * y2 + a23 * y3) * x2 + \\\n",
        "            (a30 + a31 * y + a32 * y2 + a33 * y3) * x3\n",
        "  return(g)\n",
        "g = bicubic_interp(a,x,y)\n",
        "doplt(g)"
      ],
      "execution_count": 100,
      "outputs": [
        {
          "output_type": "execute_result",
          "data": {
            "text/plain": [
              "<matplotlib.image.AxesImage at 0x7fb098b67750>"
            ]
          },
          "metadata": {
            "tags": []
          },
          "execution_count": 100
        },
        {
          "output_type": "display_data",
          "data": {
            "image/png": "[encoded data removed]",
            "text/plain": [
              "<Figure size 432x288 with 1 Axes>"
            ]
          },
          "metadata": {
            "tags": [],
            "needs_background": "light"
          }
        }
      ]
    },
    {
      "cell_type": "code",
      "metadata": {
        "colab": {
          "base_uri": "https://localhost:8080/"
        },
        "id": "X70U9nRBui-A",
        "outputId": "c8cdb941-155d-4b6b-a229-44f61817ce16"
      },
      "source": [
        "g"
      ],
      "execution_count": 101,
      "outputs": [
        {
          "output_type": "execute_result",
          "data": {
            "text/plain": [
              "array([[0.78371096, 0.86073811, 0.88806087, 0.83603241],\n",
              "       [0.85534533, 0.93941306, 0.96923323, 0.91244917],\n",
              "       [0.8824969 , 0.96923323, 1.        , 0.94141341],\n",
              "       [0.85043515, 0.93402028, 0.96366927, 0.90721117]])"
            ]
          },
          "metadata": {
            "tags": []
          },
          "execution_count": 101
        }
      ]
    },
    {
      "cell_type": "code",
      "metadata": {
        "colab": {
          "base_uri": "https://localhost:8080/"
        },
        "id": "nKu5MpVAumAw",
        "outputId": "de0ebd82-4a59-47e8-8fe6-590e1a608622"
      },
      "source": [
        "p"
      ],
      "execution_count": 102,
      "outputs": [
        {
          "output_type": "execute_result",
          "data": {
            "text/plain": [
              "array([[0.77880078, 0.85534533, 0.8824969 , 0.85534533],\n",
              "       [0.85534533, 0.93941306, 0.96923323, 0.93941306],\n",
              "       [0.8824969 , 0.96923323, 1.        , 0.96923323],\n",
              "       [0.85534533, 0.93941306, 0.96923323, 0.93941306]])"
            ]
          },
          "metadata": {
            "tags": []
          },
          "execution_count": 102
        }
      ]
    },
    {
      "cell_type": "markdown",
      "metadata": {
        "id": "9gIQyjscxC_3"
      },
      "source": [
        "Let's try with a finder grid. Note that we do not recomptue the coefficients, just change the points we want to compute the inerpolated function at"
      ]
    },
    {
      "cell_type": "code",
      "metadata": {
        "colab": {
          "base_uri": "https://localhost:8080/"
        },
        "id": "B6dNfxZfxEV3",
        "outputId": "5bcb7974-96f7-47c4-d441-2c2406fe9225"
      },
      "source": [
        "step_interp = .1\n",
        "offset=1\n",
        "vals_interp = np.arange(-2+offset,1+offset+step_interp,step=step_interp) # many points\n",
        "vals_interp\n",
        "x, y = np.meshgrid(vals_interp,vals_interp)\n",
        "x.shape"
      ],
      "execution_count": 104,
      "outputs": [
        {
          "output_type": "execute_result",
          "data": {
            "text/plain": [
              "(31, 31)"
            ]
          },
          "metadata": {
            "tags": []
          },
          "execution_count": 104
        }
      ]
    },
    {
      "cell_type": "code",
      "metadata": {
        "colab": {
          "base_uri": "https://localhost:8080/",
          "height": 284
        },
        "id": "VBPpfoVCxIIC",
        "outputId": "422bce20-49b6-47ba-d754-7a638d04c0e6"
      },
      "source": [
        "g = bicubic_interp(a,x,y)\n",
        "doplt(g)"
      ],
      "execution_count": 105,
      "outputs": [
        {
          "output_type": "execute_result",
          "data": {
            "text/plain": [
              "<matplotlib.image.AxesImage at 0x7fb0994dffd0>"
            ]
          },
          "metadata": {
            "tags": []
          },
          "execution_count": 105
        },
        {
          "output_type": "display_data",
          "data": {
            "image/png": "[encoded data removed]",
            "text/plain": [
              "<Figure size 432x288 with 1 Axes>"
            ]
          },
          "metadata": {
            "tags": [],
            "needs_background": "light"
          }
        }
      ]
    },
    {
      "cell_type": "markdown",
      "metadata": {
        "id": "gF0j-6dLu0YU"
      },
      "source": [
        "We can compare the interpolated values on this finer grid, with the actual function values (we know the function, it's the gaussian). This will tell us how well bicubic interpolations works for this function, which depends on how fast the gaussian is decaying and how many terms are needed to approx it over the 16 points used in the bicibic interpolation)"
      ]
    },
    {
      "cell_type": "code",
      "metadata": {
        "colab": {
          "base_uri": "https://localhost:8080/",
          "height": 284
        },
        "id": "2DU9qht6u6j-",
        "outputId": "ddf62e86-149c-4a2c-d01d-38452fec825e"
      },
      "source": [
        "g_fine = gauss(x-offset,y-offset,sigma=sigma)\n",
        "doplt(g_fine)"
      ],
      "execution_count": 94,
      "outputs": [
        {
          "output_type": "execute_result",
          "data": {
            "text/plain": [
              "<matplotlib.image.AxesImage at 0x7fb098c8e190>"
            ]
          },
          "metadata": {
            "tags": []
          },
          "execution_count": 94
        },
        {
          "output_type": "display_data",
          "data": {
            "image/png": "[encoded data removed]",
            "text/plain": [
              "<Figure size 432x288 with 1 Axes>"
            ]
          },
          "metadata": {
            "tags": [],
            "needs_background": "light"
          }
        }
      ]
    },
    {
      "cell_type": "markdown",
      "metadata": {
        "id": "yghvIpOrxSTt"
      },
      "source": [
        "Error"
      ]
    },
    {
      "cell_type": "code",
      "metadata": {
        "colab": {
          "base_uri": "https://localhost:8080/",
          "height": 284
        },
        "id": "56Nb3NWpv5-D",
        "outputId": "83a5f257-0a8b-4f7f-df51-eb9e4a029813"
      },
      "source": [
        "doplt(g_fine-g)"
      ],
      "execution_count": 95,
      "outputs": [
        {
          "output_type": "execute_result",
          "data": {
            "text/plain": [
              "<matplotlib.image.AxesImage at 0x7fb098c472d0>"
            ]
          },
          "metadata": {
            "tags": []
          },
          "execution_count": 95
        },
        {
          "output_type": "display_data",
          "data": {
            "image/png": "[encoded data removed]",
            "text/plain": [
              "<Figure size 432x288 with 1 Axes>"
            ]
          },
          "metadata": {
            "tags": [],
            "needs_background": "light"
          }
        }
      ]
    },
    {
      "cell_type": "markdown",
      "metadata": {
        "id": "gX6GGM5Exh8R"
      },
      "source": [
        "# Source of `scipy.interpolate.griddata`\n",
        "* https://github.com/scipy/scipy/blob/v1.5.4/scipy/interpolate/interpnd.pyx\n",
        "  * in linear interpolation qhull is used. a likey bottleneck is computing the convex hull of the points http://media.steampowered.com/apps/valve/2014/DirkGregorius_ImplementingQuickHull.pdf"
      ]
    }
  ]
}