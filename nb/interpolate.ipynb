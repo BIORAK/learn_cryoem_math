{
  "nbformat": 4,
  "nbformat_minor": 0,
  "metadata": {
    "colab": {
      "name": "interpolate.ipynb",
      "provenance": [],
      "collapsed_sections": [],
      "toc_visible": true,
      "machine_shape": "hm",
      "authorship_tag": "ABX9TyNi1O3j/L1zTKSvSwXksfdM",
      "include_colab_link": true
    },
    "kernelspec": {
      "name": "python3",
      "display_name": "Python 3"
    }
  },
  "cells": [
    {
      "cell_type": "markdown",
      "metadata": {
        "id": "view-in-github",
        "colab_type": "text"
      },
      "source": [
        "<a href=\"https://colab.research.google.com/github/geoffwoollard/learn_cryoem_math/blob/master/nb/interpolate.ipynb\" target=\"_parent\"><img src=\"https://colab.research.google.com/assets/colab-badge.svg\" alt=\"Open In Colab\"/></a>"
      ]
    },
    {
      "cell_type": "markdown",
      "metadata": {
        "id": "JCrqqZoNDIEB"
      },
      "source": [
        "# Goal\n",
        "Explore bottlenecks for interpolation, in terms of the size of input and size of the grid onto which to interpolate"
      ]
    },
    {
      "cell_type": "markdown",
      "metadata": {
        "id": "JnldKtpYDQeL"
      },
      "source": [
        "# Setup\n"
      ]
    },
    {
      "cell_type": "code",
      "metadata": {
        "colab": {
          "base_uri": "https://localhost:8080/"
        },
        "id": "PWgNEn9_DPgM",
        "outputId": "b9c2ef90-d872-43c3-d59c-6a716c944486"
      },
      "source": [
        "import numpy as np\n",
        "import pandas as pd\n",
        "from scipy.interpolate import griddata\n",
        "!wget https://raw.githubusercontent.com/geoffwoollard/learn_cryoem_math/master/src/coords.py\n",
        "import coords"
      ],
      "execution_count": null,
      "outputs": [
        {
          "output_type": "stream",
          "text": [
            "--2021-02-16 14:58:16--  https://raw.githubusercontent.com/geoffwoollard/learn_cryoem_math/master/src/coords.py\n",
            "Resolving raw.githubusercontent.com (raw.githubusercontent.com)... 185.199.108.133, 185.199.109.133, 185.199.110.133, ...\n",
            "Connecting to raw.githubusercontent.com (raw.githubusercontent.com)|185.199.108.133|:443... connected.\n",
            "HTTP request sent, awaiting response... 200 OK\n",
            "Length: 1634 (1.6K) [text/plain]\n",
            "Saving to: ‘coords.py’\n",
            "\n",
            "coords.py           100%[===================>]   1.60K  --.-KB/s    in 0s      \n",
            "\n",
            "2021-02-16 14:58:16 (29.9 MB/s) - ‘coords.py’ saved [1634/1634]\n",
            "\n"
          ],
          "name": "stdout"
        }
      ]
    },
    {
      "cell_type": "code",
      "metadata": {
        "id": "TTD6pGELG9iE"
      },
      "source": [
        "import matplotlib.pyplot as plt\n",
        "def doplt(arr2d): return(plt.imshow(arr2d,cmap='gray'))"
      ],
      "execution_count": null,
      "outputs": []
    },
    {
      "cell_type": "markdown",
      "metadata": {
        "id": "EhT8SzjpLxG8"
      },
      "source": [
        "# 2D Gaussian"
      ]
    },
    {
      "cell_type": "code",
      "metadata": {
        "colab": {
          "base_uri": "https://localhost:8080/"
        },
        "id": "oKZVsXj9DGtC",
        "outputId": "6d0b089d-1909-4f45-aae3-4dcfd9f1321e"
      },
      "source": [
        "n_values=10**4\n",
        "np.random.seed(0)\n",
        "XY = np.random.multivariate_normal(mean=(0,0),cov=np.eye(2),size=n_values)\n",
        "percentile = np.percentile(np.abs(XY.flatten()),q=95)\n",
        "good_idx = (np.abs(XY) > percentile).sum(1)==0\n",
        "abs_max = np.abs(XY[good_idx]).max()\n",
        "# XY = XY[good_idx]\n",
        "Z = np.exp(-(XY**2).sum(1)/2)\n",
        "\n",
        "abs_max"
      ],
      "execution_count": null,
      "outputs": [
        {
          "output_type": "execute_result",
          "data": {
            "text/plain": [
              "1.9375974094192778"
            ]
          },
          "metadata": {
            "tags": []
          },
          "execution_count": 3
        }
      ]
    },
    {
      "cell_type": "code",
      "metadata": {
        "colab": {
          "base_uri": "https://localhost:8080/",
          "height": 285
        },
        "id": "NdaYVGx_LZ47",
        "outputId": "7f047ac4-9eb3-448d-8ed9-dad4be0f08dd"
      },
      "source": [
        "n_grid = 128\n",
        "xi = coords.coords_n_by_d(np.arange(start=-n_grid//2,stop=n_grid//2),d=2) #/ (n_grid//2)\n",
        "xi_match = xi / (n_grid//2) * abs_max # [-1,1)\n",
        "Z_grid = griddata(points=XY,values=Z,xi=xi_match)\n",
        "\n",
        "doplt(Z_grid.reshape(n_grid,n_grid))"
      ],
      "execution_count": null,
      "outputs": [
        {
          "output_type": "execute_result",
          "data": {
            "text/plain": [
              "<matplotlib.image.AxesImage at 0x7f93d40710f0>"
            ]
          },
          "metadata": {
            "tags": []
          },
          "execution_count": 4
        },
        {
          "output_type": "display_data",
          "data": {
            "image/png": "[encoded data removed]",
            "text/plain": [
              "<Figure size 432x288 with 1 Axes>"
            ]
          },
          "metadata": {
            "tags": [],
            "needs_background": "light"
          }
        }
      ]
    },
    {
      "cell_type": "markdown",
      "metadata": {
        "id": "RQT6ve8GLgAe"
      },
      "source": [
        "# $O(?)$ in `len(xi)`"
      ]
    },
    {
      "cell_type": "code",
      "metadata": {
        "colab": {
          "base_uri": "https://localhost:8080/"
        },
        "id": "fO9PET6RDu_p",
        "outputId": "b5794635-bff6-439c-ef8a-3b2d88be8d75"
      },
      "source": [
        "for n_grid in [64,128,256,512,1024]:\n",
        "  xi = coords.coords_n_by_d(np.arange(start=-n_grid//2,stop=n_grid//2),d=2) #/ (n_grid//2)\n",
        "  xi_match = xi / (n_grid//2) * abs_max # [-1,1)\n",
        "  %timeit griddata(points=XY,values=Z,xi=xi_match)\n",
        "Z_grid = griddata(points=XY,values=Z,xi=xi_match)"
      ],
      "execution_count": null,
      "outputs": [
        {
          "output_type": "stream",
          "text": [
            "10 loops, best of 3: 190 ms per loop\n",
            "10 loops, best of 3: 193 ms per loop\n",
            "10 loops, best of 3: 199 ms per loop\n",
            "1 loop, best of 3: 220 ms per loop\n",
            "1 loop, best of 3: 284 ms per loop\n"
          ],
          "name": "stdout"
        }
      ]
    },
    {
      "cell_type": "markdown",
      "metadata": {
        "id": "03YEW4MdLDpM"
      },
      "source": [
        "These doesn't seem to be much dependence on the grid size, perhaps a log scale dependence."
      ]
    },
    {
      "cell_type": "markdown",
      "metadata": {
        "id": "cjbs77FiL1VZ"
      },
      "source": [
        "# $O(?)$ in `len(values)`"
      ]
    },
    {
      "cell_type": "code",
      "metadata": {
        "colab": {
          "base_uri": "https://localhost:8080/"
        },
        "id": "qcNnKBCyHZfY",
        "outputId": "c33e25f4-beba-47bb-a112-f81d0d8afc6c"
      },
      "source": [
        "n_values_li = [10**x for x in [2,3,4,5,6]]\n",
        "timings = np.zeros(len(n_values_li))\n",
        "for idx,n_values in enumerate(n_values_li):\n",
        "  np.random.seed(0)\n",
        "  XY = np.random.multivariate_normal(mean=(0,0),cov=np.eye(2),size=n_values)\n",
        "  percentile = np.percentile(np.abs(XY.flatten()),q=95)\n",
        "  good_idx = (np.abs(XY) > percentile).sum(1)==0\n",
        "  abs_max = np.abs(XY[good_idx]).max()\n",
        "  Z = np.exp(-(XY**2).sum(1)/2)\n",
        "\n",
        "  n_grid = 64\n",
        "  xi = coords.coords_n_by_d(np.arange(start=-n_grid//2,stop=n_grid//2),d=2) #/ (n_grid//2)\n",
        "  xi_match = xi / (n_grid//2) * abs_max # [-1,1)\n",
        "  func1_time = %timeit -o griddata(points=XY,values=Z,xi=xi_match,method='linear')\n",
        "  timings[idx] = func1_time.best"
      ],
      "execution_count": 21,
      "outputs": [
        {
          "output_type": "stream",
          "text": [
            "1000 loops, best of 3: 1.62 ms per loop\n",
            "100 loops, best of 3: 12.9 ms per loop\n",
            "10 loops, best of 3: 139 ms per loop\n",
            "1 loop, best of 3: 1.76 s per loop\n",
            "1 loop, best of 3: 20 s per loop\n"
          ],
          "name": "stdout"
        }
      ]
    },
    {
      "cell_type": "code",
      "metadata": {
        "colab": {
          "base_uri": "https://localhost:8080/",
          "height": 317
        },
        "id": "awP5fKZyM5Zm",
        "outputId": "9ac5581c-2003-42ea-9798-1f6995e336f9"
      },
      "source": [
        "sr = pd.Series(timings)\n",
        "sr.index = n_values_li\n",
        "ax = sr.plot(marker='o',logx=True,logy=True)\n",
        "ax.set_xlabel('n_values')\n",
        "ax.set_ylabel('%timeit griddata (s)')\n",
        "slope = (timings[-1] - timings[-3]) / (n_values_li[-1]-n_values_li[-3])\n",
        "ax.set_title('O(const * n_values) ; const = %.1f us/value '%(slope*1e6))"
      ],
      "execution_count": 22,
      "outputs": [
        {
          "output_type": "execute_result",
          "data": {
            "text/plain": [
              "Text(0.5, 1.0, 'O(const * n_values) ; const = 20.1 us/value ')"
            ]
          },
          "metadata": {
            "tags": []
          },
          "execution_count": 22
        },
        {
          "output_type": "display_data",
          "data": {
            "image/png": "[encoded data removed]",
            "text/plain": [
              "<Figure size 432x288 with 1 Axes>"
            ]
          },
          "metadata": {
            "tags": [],
            "needs_background": "light"
          }
        }
      ]
    },
    {
      "cell_type": "markdown",
      "metadata": {
        "id": "UqmAeotAPo8L"
      },
      "source": [
        "For every extra value, griddata will take 24 to 27 us more. The trend it sublinear up to a few thousand for larger n_grid (256,512), but then become linear after that. And this is independent of the size of the grid onto which to sample it, which can be fine or coarse.\n",
        "\n",
        "|d|n_grid|%timeit griddata (us/value)|\n",
        "|-|-|-|\n",
        "|2|64|26.5 |\n",
        "|2| 128|25 |\n",
        "|2|256|24.1|\n",
        "|2|512|26.6|"
      ]
    },
    {
      "cell_type": "markdown",
      "metadata": {
        "id": "mSG_mkeCRu1-"
      },
      "source": [
        "# 3D Gaussian"
      ]
    },
    {
      "cell_type": "code",
      "metadata": {
        "colab": {
          "base_uri": "https://localhost:8080/"
        },
        "id": "T4QAx5dvRxJO",
        "outputId": "c59c8014-c957-4a58-bdbc-3be71ee05050"
      },
      "source": [
        "n_values=10**6\n",
        "d=3\n",
        "np.random.seed(0)\n",
        "XYZ = np.random.multivariate_normal(mean=np.zeros(d),cov=np.eye(d),size=n_values)\n",
        "percentile = np.percentile(np.abs(XYZ.flatten()),q=95)\n",
        "good_idx = (np.abs(XYZ) > percentile).sum(1)==0\n",
        "abs_max = np.abs(XYZ[good_idx]).max()\n",
        "# XY = XY[good_idx]\n",
        "F = np.exp(-(XYZ**2).sum(1)/2)\n",
        "\n",
        "abs_max"
      ],
      "execution_count": null,
      "outputs": [
        {
          "output_type": "execute_result",
          "data": {
            "text/plain": [
              "1.9581565358354729"
            ]
          },
          "metadata": {
            "tags": []
          },
          "execution_count": 3
        }
      ]
    },
    {
      "cell_type": "code",
      "metadata": {
        "id": "WOMTDYBISoHI"
      },
      "source": [
        "n_grid = 512\n",
        "xi = coords.coords_n_by_d(np.arange(start=-n_grid//2,stop=n_grid//2),d=d) #/ (n_grid//2)\n",
        "xi_match = xi / (n_grid//2) * abs_max # [-1,1)\n",
        "F_grid = griddata(points=XYZ,values=F,xi=xi_match)\n",
        "\n"
      ],
      "execution_count": null,
      "outputs": []
    },
    {
      "cell_type": "code",
      "metadata": {
        "colab": {
          "base_uri": "https://localhost:8080/",
          "height": 286
        },
        "id": "LIYye0BlSsJe",
        "outputId": "72999936-9788-48e3-b17d-ba93e90f2cee"
      },
      "source": [
        "doplt(np.nanmean(F_grid.reshape(n_grid,n_grid,n_grid),0))"
      ],
      "execution_count": null,
      "outputs": [
        {
          "output_type": "execute_result",
          "data": {
            "text/plain": [
              "<matplotlib.image.AxesImage at 0x7fda8e6816a0>"
            ]
          },
          "metadata": {
            "tags": []
          },
          "execution_count": 6
        },
        {
          "output_type": "display_data",
          "data": {
            "image/png": "[encoded data removed]",
            "text/plain": [
              "<Figure size 432x288 with 1 Axes>"
            ]
          },
          "metadata": {
            "tags": [],
            "needs_background": "light"
          }
        }
      ]
    },
    {
      "cell_type": "markdown",
      "metadata": {
        "id": "wstEGg7PTmvF"
      },
      "source": [
        "The 3D interpolation is working. Let's see how this scales."
      ]
    },
    {
      "cell_type": "code",
      "metadata": {
        "colab": {
          "base_uri": "https://localhost:8080/"
        },
        "id": "Z4HWSOqaTQyG",
        "outputId": "d566b55e-90db-48c3-aaba-398b1c59f64b"
      },
      "source": [
        "n_values_li = [10**x for x in [2,3,4,5,6]]\n",
        "timings = np.zeros(len(n_values_li))\n",
        "for idx,n_values in enumerate(n_values_li):\n",
        "  np.random.seed(0)\n",
        "  XYZ = np.random.multivariate_normal(mean=np.zeros(d),cov=np.eye(d),size=n_values)\n",
        "  percentile = np.percentile(np.abs(XYZ.flatten()),q=95)\n",
        "  good_idx = (np.abs(XYZ) > percentile).sum(1)==0\n",
        "  abs_max = np.abs(XYZ[good_idx]).max()\n",
        "  F = np.exp(-(XYZ**2).sum(1)/2)\n",
        "\n",
        "  n_grid = 512\n",
        "  xi = coords.coords_n_by_d(np.arange(start=-n_grid//2,stop=n_grid//2),d=d) #/ (n_grid//2)\n",
        "  xi_match = xi / (n_grid//2) * abs_max # [-1,1)\n",
        "  griddata_time = %timeit -o griddata(points=XYZ,values=F,xi=xi_match,method='linear')\n",
        "  timings[idx] = griddata_time.best"
      ],
      "execution_count": null,
      "outputs": [
        {
          "output_type": "stream",
          "text": [
            "1 loop, best of 3: 7.59 s per loop\n",
            "1 loop, best of 3: 9.01 s per loop\n",
            "1 loop, best of 3: 10.8 s per loop\n",
            "1 loop, best of 3: 21.8 s per loop\n",
            "1 loop, best of 3: 1min 58s per loop\n"
          ],
          "name": "stdout"
        }
      ]
    },
    {
      "cell_type": "code",
      "metadata": {
        "colab": {
          "base_uri": "https://localhost:8080/",
          "height": 317
        },
        "id": "YtS4rlrmTtwu",
        "outputId": "9409b02b-b04c-4d0d-ea82-5bfb03031fec"
      },
      "source": [
        "sr = pd.Series(timings)\n",
        "sr.index = n_values_li\n",
        "ax = sr.plot(marker='o',logx=True,logy=True)\n",
        "ax.set_xlabel('n_values')\n",
        "ax.set_ylabel('%timeit griddata (s)')\n",
        "slope = (timings[-1] - timings[-2]) / (n_values_li[-1]-n_values_li[-2])\n",
        "ax.set_title('O(const * n_values) ; const = %.1f us/value '%(slope*1e6))"
      ],
      "execution_count": 20,
      "outputs": [
        {
          "output_type": "execute_result",
          "data": {
            "text/plain": [
              "Text(0.5, 1.0, 'O(const * n_values) ; const = 108.0 us/value ')"
            ]
          },
          "metadata": {
            "tags": []
          },
          "execution_count": 20
        },
        {
          "output_type": "display_data",
          "data": {
            "image/png": "[encoded data removed]",
            "text/plain": [
              "<Figure size 432x288 with 1 Axes>"
            ]
          },
          "metadata": {
            "tags": [],
            "needs_background": "light"
          }
        }
      ]
    },
    {
      "cell_type": "code",
      "metadata": {
        "colab": {
          "base_uri": "https://localhost:8080/"
        },
        "id": "h0PcDTiugiZP",
        "outputId": "32c13bb1-5f76-4ccb-cd14-a7da22eff37e"
      },
      "source": [
        "timings[-1]/n_values_li[-1]"
      ],
      "execution_count": 19,
      "outputs": [
        {
          "output_type": "execute_result",
          "data": {
            "text/plain": [
              "118.9763155339997"
            ]
          },
          "metadata": {
            "tags": []
          },
          "execution_count": 19
        }
      ]
    },
    {
      "cell_type": "markdown",
      "metadata": {
        "id": "b9jSA-yhUOeS"
      },
      "source": [
        "For every extra value, griddata will take 100 to 111 us more. The trend it sublinear up to a few thousand for larger n_grid (256,512), but then become linear after that. And this is independent of the size of the grid onto which to sample it, which can be fine or coarse.\n",
        "\n",
        "|n_grid|%timeit griddata (us/value)|\n",
        "|-|-|\n",
        "| 64|100.5|\n",
        "| 128| |\n",
        "|256||\n",
        "|512|108-111|"
      ]
    },
    {
      "cell_type": "markdown",
      "metadata": {
        "id": "3x7n4oKhT9hc"
      },
      "source": [
        "We can see now in 3D, the trend is the same, but the constant is larger. There still is practically no dependence on `n_grid`.\n",
        "\n"
      ]
    },
    {
      "cell_type": "markdown",
      "metadata": {
        "id": "zyuJExGeWwaI"
      },
      "source": [
        "# Parralelization\n",
        "\n",
        "When we are doing Fourier inversion, for a box size of N, and $n_p$ particles we would have $N^2n_p$ (complex) values on an $N^3$ sized grid. For 10k particles and $N \\in \\{64,126,256,512\\}$ this would be \\{41,163,655,2621\\} million complex numbers to interpolate. Surely something parralelized and fast is doing this, and not griddata, which would take \\{1.1,4.6,18,73\\} hours.\n",
        "\n",
        "Parralelization could be leveraged if the interpolated slices can just be added to each other. We could do the interpolations in batches in parallel, and then bring them together at the end. Essentially doing averages step by step.\n",
        "\n",
        "* https://stackoverflow.com/questions/14015114/scipy-interpolate-griddata-equivalent-in-cuda\n",
        "* https://dypy.readthedocs.io/en/latest/intergrid.html"
      ]
    }
  ]
}